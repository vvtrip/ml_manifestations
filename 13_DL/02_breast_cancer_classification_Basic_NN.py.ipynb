{
 "cells": [
  {
   "cell_type": "code",
   "execution_count": 1,
   "metadata": {
    "executionInfo": {
     "elapsed": 1900,
     "status": "ok",
     "timestamp": 1603374451217,
     "user": {
      "displayName": "KRITHIKA RAVICHANDRAN",
      "photoUrl": "https://lh3.googleusercontent.com/a-/AOh14GhRtNeUUcu0-DB4HFBeZny6UwE_CwAAUzhgVXSorw=s64",
      "userId": "05010535168312002796"
     },
     "user_tz": -330
    },
    "id": "0zQIrieYs0N9"
   },
   "outputs": [],
   "source": [
    "import numpy as np\n",
    "import pandas as pd\n",
    "from sklearn.model_selection import train_test_split\n",
    "from sklearn.datasets import load_breast_cancer"
   ]
  },
  {
   "cell_type": "code",
   "execution_count": 2,
   "metadata": {
    "id": "i-wLAlQb2Drk"
   },
   "outputs": [],
   "source": [
    "def initialiseNetwork(num_features):\n",
    "  W = np.zeros((num_features,1))\n",
    "  b = 0\n",
    "  parameters = {\"W\": W, \"b\": b}\n",
    "  return parameters"
   ]
  },
  {
   "cell_type": "code",
   "execution_count": 3,
   "metadata": {
    "id": "a_KB1o_e9S8F"
   },
   "outputs": [],
   "source": [
    "def sigmoid(z):\n",
    "  a =  1/ (1 + np.exp(-z))\n",
    "  return a"
   ]
  },
  {
   "cell_type": "code",
   "execution_count": 28,
   "metadata": {
    "id": "l6FZS2nj92ev"
   },
   "outputs": [],
   "source": [
    "def forwardPropagation(X, parameters):\n",
    "  W = parameters['W']\n",
    "  b = parameters['b']\n",
    "  Z = np.dot(W.T, X) + b\n",
    "  A = sigmoid(Z)\n",
    "  return A"
   ]
  },
  {
   "cell_type": "code",
   "execution_count": 5,
   "metadata": {
    "id": "n52Rl7oCBj1L"
   },
   "outputs": [],
   "source": [
    "def cost(A, Y, num_samples):\n",
    "  cost = -1/num_samples * np.sum(Y *np.log(A)+ (1 - Y)*np.log(1- A))\n",
    "  return cost"
   ]
  },
  {
   "cell_type": "code",
   "execution_count": 6,
   "metadata": {
    "id": "U0ijyoESSGRT"
   },
   "outputs": [],
   "source": [
    "def backPropagration(X, Y, A, num_samples):\n",
    "  dZ = A - Y                          \n",
    "  dW = (np.dot(X, dZ.T))/num_samples\n",
    "  db =  np.sum(dZ)/num_samples\n",
    "  return dW, db"
   ]
  },
  {
   "cell_type": "code",
   "execution_count": 7,
   "metadata": {
    "id": "9K1ubERjUdKj"
   },
   "outputs": [],
   "source": [
    "def updateParameters(parameters, dW, db, learning_rate):\n",
    "  W = parameters['W'] - (learning_rate * dW)\n",
    "  b = parameters['b'] - (learning_rate * db)\n",
    "  return {\"W\": W, \"b\": b}"
   ]
  },
  {
   "cell_type": "code",
   "execution_count": 31,
   "metadata": {
    "id": "_QP4zvtoWkzw"
   },
   "outputs": [],
   "source": [
    "def model(X, Y, num_iter, learning_rate):\n",
    "  num_features = X.shape[0]\n",
    "  num_samples = X.shape[1]\n",
    "  parameters = initialiseNetwork(num_features)\n",
    "  for i in range(num_iter):\n",
    "    A = forwardPropagation(X, parameters)\n",
    "    if(i%100 == 0):\n",
    "      print(\"cost after {} iteration: {}\".format(i, cost(A, Y, num_samples)))\n",
    "    dW, db = backPropagration(X, Y, A, num_samples)\n",
    "    parameters =  updateParameters(parameters, dW, db, learning_rate)\n",
    "  return parameters"
   ]
  },
  {
   "cell_type": "code",
   "execution_count": 9,
   "metadata": {
    "id": "RdK-4V8dZWmZ"
   },
   "outputs": [],
   "source": [
    "def predict(W, b, X):\n",
    "  Z = np.dot(W.T,X) + b\n",
    "  Y = np.array([1 if y > 0.5 else 0 for y in sigmoid(Z[0])]).reshape(1,len(Z[0]))\n",
    "  return Y"
   ]
  },
  {
   "cell_type": "markdown",
   "metadata": {
    "id": "RN1AAlHbo7XF"
   },
   "source": [
    "- The code in the below cell loads the breast cancer data set from sklearn.\n",
    "- The input variable(X_cancer) is about the dimensions of tumor cell and target variable(y_cancer) classifies tumor as malignant(0) or benign(1)"
   ]
  },
  {
   "cell_type": "code",
   "execution_count": 10,
   "metadata": {
    "id": "ai5s9pFFgG5g"
   },
   "outputs": [],
   "source": [
    "(X_cancer, y_cancer) = load_breast_cancer(return_X_y = True)\n"
   ]
  },
  {
   "cell_type": "code",
   "execution_count": 11,
   "metadata": {
    "id": "nw_FdO__3dsF"
   },
   "outputs": [],
   "source": [
    "X_train, X_test, y_train, y_test = train_test_split(X_cancer, y_cancer,\n",
    "                                                   random_state = 25)"
   ]
  },
  {
   "cell_type": "markdown",
   "metadata": {
    "id": "t-ZRhhx0sGR7"
   },
   "source": [
    "Since the dimensions of tumor is not uniform, need to normalize the data before feeding to the network\n",
    "- The below function is used to normalize the input data."
   ]
  },
  {
   "cell_type": "code",
   "execution_count": 12,
   "metadata": {
    "id": "VR2PXnUDXtNd"
   },
   "outputs": [],
   "source": [
    "def normalize(data):\n",
    "  col_max = np.max(data, axis = 0)\n",
    "  col_min = np.min(data, axis = 0)\n",
    "  return np.divide(data - col_min, col_max - col_min)"
   ]
  },
  {
   "cell_type": "markdown",
   "metadata": {
    "id": "39IvMOIzt_fS"
   },
   "source": [
    "- Normalize X_train and X_test and assign it to X_train_n and X_test_n respectively"
   ]
  },
  {
   "cell_type": "code",
   "execution_count": 15,
   "metadata": {
    "id": "ZgXdiH5QIAjV"
   },
   "outputs": [],
   "source": [
    "X_train_n = normalize(X_train)\n",
    "X_test_n = normalize(X_test)"
   ]
  },
  {
   "cell_type": "markdown",
   "metadata": {
    "id": "agS5nYAtuUng"
   },
   "source": [
    "- Transpose X_train_n and X_test_n so that rows represents features and column represents the samples\n",
    "- Reshape Y_train and y_test into row vector whose length is equal to number of samples\n",
    "\n"
   ]
  },
  {
   "cell_type": "code",
   "execution_count": 22,
   "metadata": {
    "id": "yNFw2Gos9zZe"
   },
   "outputs": [],
   "source": [
    "X_trainT = X_train_n.T\n",
    "X_testT = X_test_n.T\n",
    "y_trainT = y_train.reshape(1, X_train_n.shape[0]) \n",
    "y_testT = y_test.reshape(1, X_test_n.shape[0])"
   ]
  },
  {
   "cell_type": "markdown",
   "metadata": {
    "id": "GP3WCFJbv-xE"
   },
   "source": [
    "Train the network using X_trainT,y_trainT with number of iterations 4000 and learning rate 0.75"
   ]
  },
  {
   "cell_type": "code",
   "execution_count": 32,
   "metadata": {
    "id": "6mGd_FK7GqHu"
   },
   "outputs": [
    {
     "name": "stdout",
     "output_type": "stream",
     "text": [
      "cost after 0 iteration: 0.6931471805599453\n",
      "cost after 100 iteration: 0.24382767353051085\n",
      "cost after 200 iteration: 0.18414919195134818\n",
      "cost after 300 iteration: 0.1565873493485997\n",
      "cost after 400 iteration: 0.1396752246321806\n",
      "cost after 500 iteration: 0.1278729526958286\n",
      "cost after 600 iteration: 0.1190088775113677\n",
      "cost after 700 iteration: 0.11202667072700777\n",
      "cost after 800 iteration: 0.10633924623930976\n",
      "cost after 900 iteration: 0.10158933661241838\n",
      "cost after 1000 iteration: 0.09754476494426205\n",
      "cost after 1100 iteration: 0.09404694336475469\n",
      "cost after 1200 iteration: 0.09098323338346236\n",
      "cost after 1300 iteration: 0.08827107206470108\n",
      "cost after 1400 iteration: 0.08584834873491792\n",
      "cost after 1500 iteration: 0.0836673076013795\n",
      "cost after 1600 iteration: 0.08169053991796828\n",
      "cost after 1700 iteration: 0.07988826663984763\n",
      "cost after 1800 iteration: 0.0782364464730404\n",
      "cost after 1900 iteration: 0.07671542796224082\n",
      "cost after 2000 iteration: 0.07530896965280097\n",
      "cost after 2100 iteration: 0.0740035150406475\n",
      "cost after 2200 iteration: 0.07278764749502993\n",
      "cost after 2300 iteration: 0.07165167461890912\n",
      "cost after 2400 iteration: 0.07058730721875792\n",
      "cost after 2500 iteration: 0.0695874084434528\n",
      "cost after 2600 iteration: 0.06864579565976345\n",
      "cost after 2700 iteration: 0.06775708244509038\n",
      "cost after 2800 iteration: 0.06691655143817629\n",
      "cost after 2900 iteration: 0.06612005116932484\n",
      "cost after 3000 iteration: 0.06536391170175201\n",
      "cost after 3100 iteration: 0.06464487515951275\n",
      "cost after 3200 iteration: 0.06396003813267388\n",
      "cost after 3300 iteration: 0.06330680363111521\n",
      "cost after 3400 iteration: 0.06268284076971896\n",
      "cost after 3500 iteration: 0.062086050755468594\n",
      "cost after 3600 iteration: 0.061514538043587336\n",
      "cost after 3700 iteration: 0.06096658575859407\n",
      "cost after 3800 iteration: 0.060440634653931374\n",
      "cost after 3900 iteration: 0.05993526502299061\n"
     ]
    }
   ],
   "source": [
    "parameters = model(X_trainT, y_trainT, 4000, 0.75)"
   ]
  },
  {
   "cell_type": "markdown",
   "metadata": {
    "id": "_YEgmlbxx11F"
   },
   "source": [
    "Predict the output of test and train data using X_trainT and X_testT using predict() method> Use the parametes returned from the trained model\n"
   ]
  },
  {
   "cell_type": "code",
   "execution_count": 33,
   "metadata": {
    "id": "2GMgr9M8LqTn"
   },
   "outputs": [],
   "source": [
    "yPredTrain = predict(parameters['W'], parameters['b'], X_trainT)\n",
    "yPredTest = predict(parameters['W'], parameters['b'], X_testT)"
   ]
  },
  {
   "cell_type": "code",
   "execution_count": 34,
   "metadata": {
    "cellView": "both",
    "executionInfo": {
     "elapsed": 1137,
     "status": "ok",
     "timestamp": 1603376740055,
     "user": {
      "displayName": "KRITHIKA RAVICHANDRAN",
      "photoUrl": "https://lh3.googleusercontent.com/a-/AOh14GhRtNeUUcu0-DB4HFBeZny6UwE_CwAAUzhgVXSorw=s64",
      "userId": "05010535168312002796"
     },
     "user_tz": -330
    },
    "id": "6RDW0GQbGWcU"
   },
   "outputs": [
    {
     "name": "stdout",
     "output_type": "stream",
     "text": [
      "train accuracy: 98.59 %\n",
      "test accuracy: 93.01 %\n"
     ]
    }
   ],
   "source": [
    "a1=round(100 - np.mean(np.abs(yPredTrain - y_train)) * 100,2)\n",
    "a2=round(100 - np.mean(np.abs(yPredTest - y_test) * 100),2)\n",
    "print(\"train accuracy: {} %\".format(a1))\n",
    "print(\"test accuracy: {} %\".format(a2))"
   ]
  },
  {
   "cell_type": "code",
   "execution_count": null,
   "metadata": {},
   "outputs": [],
   "source": []
  }
 ],
 "metadata": {
  "celltoolbar": "Edit Metadata",
  "colab": {
   "collapsed_sections": [],
   "name": "Basic_hands_on.ipynb",
   "provenance": [
    {
     "file_id": "1TvidTe-M5zDO1MDKJCBMnkMGgXbCxYA4",
     "timestamp": 1525431729338
    }
   ]
  },
  "kernelspec": {
   "display_name": "Python 3",
   "language": "python",
   "name": "python3"
  },
  "language_info": {
   "codemirror_mode": {
    "name": "ipython",
    "version": 3
   },
   "file_extension": ".py",
   "mimetype": "text/x-python",
   "name": "python",
   "nbconvert_exporter": "python",
   "pygments_lexer": "ipython3",
   "version": "3.5.2"
  }
 },
 "nbformat": 4,
 "nbformat_minor": 1
}
