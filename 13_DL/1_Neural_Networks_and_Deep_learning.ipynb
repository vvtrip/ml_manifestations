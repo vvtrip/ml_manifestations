{
  "nbformat": 4,
  "nbformat_minor": 0,
  "metadata": {
    "colab": {
      "provenance": [],
      "authorship_tag": "ABX9TyMElse8q1IrIZVojrUJBu0H",
      "include_colab_link": true
    },
    "kernelspec": {
      "name": "python3",
      "display_name": "Python 3"
    },
    "language_info": {
      "name": "python"
    }
  },
  "cells": [
    {
      "cell_type": "markdown",
      "metadata": {
        "id": "view-in-github",
        "colab_type": "text"
      },
      "source": [
        "<a href=\"https://colab.research.google.com/github/vvtrip/ml_manifestations/blob/master/17_DL/1_Neural_Networks_and_Deep_learning.ipynb\" target=\"_parent\"><img src=\"https://colab.research.google.com/assets/colab-badge.svg\" alt=\"Open In Colab\"/></a>"
      ]
    },
    {
      "cell_type": "markdown",
      "source": [
        "# Matrices and operations"
      ],
      "metadata": {
        "id": "VrSYncWdXlPP"
      }
    },
    {
      "cell_type": "code",
      "execution_count": 1,
      "metadata": {
        "colab": {
          "base_uri": "https://localhost:8080/"
        },
        "id": "_-qx9q4xQc89",
        "outputId": "84e5ddce-56f8-4d5d-dc3e-30a2d14ac429"
      },
      "outputs": [
        {
          "output_type": "stream",
          "name": "stdout",
          "text": [
            "data\n",
            " [100  16 157 138 149  76  23  72 163 119  41  27  17 191 145 106 102   8\n",
            "   7  27 142 187  26 132  62  84 186 111  33  11   7  76  19   4 146  44\n",
            " 145  19  80 188  76 119 158 174   7 192  79  25 147  94]\n",
            "\n",
            " [0.5106383  0.06382979 0.81382979 0.71276596 0.7712766  0.38297872\n",
            " 0.10106383 0.36170213 0.84574468 0.61170213 0.19680851 0.12234043\n",
            " 0.06914894 0.99468085 0.75       0.54255319 0.5212766  0.0212766\n",
            " 0.01595745 0.12234043 0.73404255 0.97340426 0.11702128 0.68085106\n",
            " 0.30851064 0.42553191 0.96808511 0.56914894 0.15425532 0.03723404\n",
            " 0.01595745 0.38297872 0.07978723 0.         0.75531915 0.21276596\n",
            " 0.75       0.07978723 0.40425532 0.9787234  0.38297872 0.61170213\n",
            " 0.81914894 0.90425532 0.01595745 1.         0.39893617 0.11170213\n",
            " 0.7606383  0.4787234 ]\n",
            "\n",
            " [array([0.5106383]), array([0.06382979]), array([0.81382979]), array([0.71276596]), array([0.7712766]), array([0.38297872]), array([0.10106383]), array([0.36170213]), array([0.84574468]), array([0.61170213]), array([0.19680851]), array([0.12234043]), array([0.06914894]), array([0.99468085]), array([0.75]), array([0.54255319]), array([0.5212766]), array([0.0212766]), array([0.01595745]), array([0.12234043]), array([0.73404255]), array([0.97340426]), array([0.11702128]), array([0.68085106]), array([0.30851064]), array([0.42553191]), array([0.96808511]), array([0.56914894]), array([0.15425532]), array([0.03723404]), array([0.01595745]), array([0.38297872]), array([0.07978723]), array([0.]), array([0.75531915]), array([0.21276596]), array([0.75]), array([0.07978723]), array([0.40425532]), array([0.9787234]), array([0.38297872]), array([0.61170213]), array([0.81914894]), array([0.90425532]), array([0.01595745]), array([1.]), array([0.39893617]), array([0.11170213]), array([0.7606383]), array([0.4787234])]\n"
          ]
        }
      ],
      "source": [
        "# behind the scenes of Min max scaler\n",
        "\n",
        "import numpy as np\n",
        "from sklearn.preprocessing import MinMaxScaler\n",
        "\n",
        "#generating 50 random data points between 1 to 200\n",
        "np.random.seed(20)\n",
        "data = np.random.randint(1,200, 50)\n",
        "print('data\\n',data)\n",
        "\n",
        "def normalize(data):\n",
        "\n",
        "  max_val = np.max(data)\n",
        "\n",
        "  min_val = np.min(data)\n",
        "\n",
        "  return np.divide(data - min_val, max_val - min_val)\n",
        "\n",
        "X_norm = normalize(data)\n",
        "print('\\n',X_norm)\n",
        "\n",
        "print('\\n', list(MinMaxScaler().fit_transform(data.reshape(-1, 1))))"
      ]
    },
    {
      "cell_type": "code",
      "source": [
        "a = np.array([[1,2],[3,4]])\n",
        "print(\"matrix a dimension \", a.shape)\n",
        "\n",
        "b = np.array([[5,6,7],[8,9, 10]])\n",
        "print(\"matrix b dimension \", b.shape)\n",
        "\n",
        "# The dot product greatly reduces the computation time especially when we have a large number of independent equations to solve.c\n",
        "c = np.dot(a,b)\n",
        "print(\"dot product of a and b stroing in c: \\n\", c)\n",
        "print(\"matrix c dimension \", c.shape)\n",
        "\n",
        "d = np.array([[1,2],[3,4]])\n",
        "e = np.multiply(a,d)\n",
        "\n",
        "f = a * d\n",
        "print('elementwise product of a and d storing in e: \\n', e)\n",
        "print(\"matrix e dimension \", e.shape)\n",
        "\n",
        "print('elementwise product of a and d storing in f: \\n', f)\n",
        "print(\"matrix e dimension \", f.shape)"
      ],
      "metadata": {
        "id": "IuPs_GlyTZly",
        "colab": {
          "base_uri": "https://localhost:8080/"
        },
        "outputId": "ed9e352b-6c30-461a-baae-79fb4a8b6494"
      },
      "execution_count": 10,
      "outputs": [
        {
          "output_type": "stream",
          "name": "stdout",
          "text": [
            "matrix a dimension  (2, 2)\n",
            "matrix b dimension  (2, 3)\n",
            "dot product of a and b stroing in c: \n",
            " [[21 24 27]\n",
            " [47 54 61]]\n",
            "matrix c dimension  (2, 3)\n",
            "elementwise product of a and d storing in e: \n",
            " [[ 1  4]\n",
            " [ 9 16]]\n",
            "matrix e dimension  (2, 2)\n",
            "elementwise product of a and d storing in f: \n",
            " [[ 1  4]\n",
            " [ 9 16]]\n",
            "matrix e dimension  (2, 2)\n"
          ]
        }
      ]
    },
    {
      "cell_type": "markdown",
      "source": [
        "**BROADCASTING**\n",
        "\n",
        "- NumPy operations are carried out on pairs of arrays (or vectors) on an element-by-element basis. Thus it is important that dimensions of two arrays must be same (or for dot product the inner dimension should match).\n",
        "\n",
        "- This constraint is relaxed in Python when one of the matrices is of shape (m x n). The other one has to be of a shape (1 x n) or (m X 1) or just a scalar number.\n",
        "\n",
        "  - When it is (1 x n) matrix (row vector), then it gets replicated itself column-wise to become (m x n) matrix.\n",
        "\n",
        "  - When it is (m x 1) matrix (column vector), it gets replicated row-wise to become (m x n) matrix.\n",
        "\n",
        "  - If it is a scalar number, then it gets converted to (m x n) matrix where each of the element is equal to the scalar number.\n",
        "\n",
        "- Broadcasting also works when you want to apply the same function to each of the elements of a matrix or a vector. All you need to do is to just pass the matrix as an argument to the function."
      ],
      "metadata": {
        "id": "HhhTF92_31S5"
      }
    },
    {
      "cell_type": "code",
      "source": [
        "#broadcasting example - (1 x n) matrix\n",
        "a = np.array([[10, 10, 10], [20, 20, 20], [30, 30, 30]])\n",
        "b = np.array([1, 2, 3])\n",
        "c = a * b\n",
        "\n",
        "print(c)\n",
        "\n",
        "# additona of a matric and scaler\n",
        "d = 1\n",
        "print('\\n',a + d)\n",
        "\n",
        "# elementwise function call\n",
        "def exp(x, n):\n",
        "  return x ** n\n",
        "\n",
        "print('\\n', exp(a, 2))"
      ],
      "metadata": {
        "colab": {
          "base_uri": "https://localhost:8080/"
        },
        "id": "U5bt7cZa1na5",
        "outputId": "95c816ef-9c2d-48c9-9e12-d6770dfc2cc6"
      },
      "execution_count": 16,
      "outputs": [
        {
          "output_type": "stream",
          "name": "stdout",
          "text": [
            "[[10 20 30]\n",
            " [20 40 60]\n",
            " [30 60 90]]\n",
            "\n",
            " [[11 11 11]\n",
            " [21 21 21]\n",
            " [31 31 31]]\n",
            "\n",
            " [[100 100 100]\n",
            " [400 400 400]\n",
            " [900 900 900]]\n"
          ]
        }
      ]
    },
    {
      "cell_type": "code",
      "source": [
        "A = np.array([[1,2,3], [4,5,6], [7,8,9]])\n",
        "b = np.sum(A, axis= 0) #row wise, summing all row values and storing in corresponding column\n",
        "print(A)\n",
        "print()\n",
        "print(b)\n",
        "print(np.shape(b))\n",
        "print()\n",
        "print(A/b)\n",
        "print()\n",
        "print(A/b.reshape(1,3)) # b is already of shape (3,) and generates same result as  (1 x 3) but for certainity it is better to reshape explicitly"
      ],
      "metadata": {
        "colab": {
          "base_uri": "https://localhost:8080/"
        },
        "id": "Drjibwft4akl",
        "outputId": "8f622c0d-4e0b-4c6d-9f35-2e2969c5080c"
      },
      "execution_count": 27,
      "outputs": [
        {
          "output_type": "stream",
          "name": "stdout",
          "text": [
            "[[1 2 3]\n",
            " [4 5 6]\n",
            " [7 8 9]]\n",
            "\n",
            "[12 15 18]\n",
            "(3,)\n",
            "\n",
            "[[0.08333333 0.13333333 0.16666667]\n",
            " [0.33333333 0.33333333 0.33333333]\n",
            " [0.58333333 0.53333333 0.5       ]]\n",
            "\n",
            "[[0.08333333 0.13333333 0.16666667]\n",
            " [0.33333333 0.33333333 0.33333333]\n",
            " [0.58333333 0.53333333 0.5       ]]\n"
          ]
        }
      ]
    },
    {
      "cell_type": "markdown",
      "source": [
        "if a matrix has one dimension (m x 1) or (1 x m), it is called rank 1 matrix. If it has two dimensions of shape (m x n), where m > 1and n > 1, it's called rank 2 matrix. In general, if a matrix has n dimensions, it's called rank n matrix."
      ],
      "metadata": {
        "id": "htAo8cIk_Qu8"
      }
    },
    {
      "cell_type": "code",
      "source": [
        "array1d = np.array([1,2,3,4])\n",
        "print(\"shape of array1d before reshaping: \", array1d.shape)\n",
        "array1d = array1d.reshape(1,4)\n",
        "print(\"shape of array1d after reshaping: \", array1d.shape)\n",
        "#rank of matrix can be found using np.linalg.matrix_rank() function\n",
        "print(\"array1d is a martrix of rank {}\".format(np.linalg.matrix_rank(array1d)))"
      ],
      "metadata": {
        "colab": {
          "base_uri": "https://localhost:8080/"
        },
        "id": "MEE85YhL901b",
        "outputId": "67a57191-a19c-41d1-cf3a-29428be50e10"
      },
      "execution_count": 28,
      "outputs": [
        {
          "output_type": "stream",
          "name": "stdout",
          "text": [
            "shape of array1d before reshaping:  (4,)\n",
            "shape of array1d after reshaping:  (1, 4)\n",
            "array1d is a martrix of rank 1\n"
          ]
        }
      ]
    },
    {
      "cell_type": "code",
      "source": [],
      "metadata": {
        "id": "sIcgvkm8_aSk"
      },
      "execution_count": null,
      "outputs": []
    }
  ]
}