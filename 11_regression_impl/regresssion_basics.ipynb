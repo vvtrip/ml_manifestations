{
  "nbformat": 4,
  "nbformat_minor": 0,
  "metadata": {
    "colab": {
      "provenance": [],
      "collapsed_sections": [],
      "authorship_tag": "ABX9TyOq/RKgjy9tJbA4Bf65wB5W"
    },
    "kernelspec": {
      "name": "python3",
      "display_name": "Python 3"
    },
    "language_info": {
      "name": "python"
    }
  },
  "cells": [
    {
      "cell_type": "markdown",
      "source": [
        "# Intro"
      ],
      "metadata": {
        "id": "F9Xw1j4ab54t"
      }
    },
    {
      "cell_type": "markdown",
      "source": [
        "Regression is a technique to determine the relationship between two or more variables.\n",
        "\n",
        "You can apply regression to scenarios that require prediction or causal inference.\n",
        "\n",
        "You can use regression to understand the extent to which the area of a house affects the housing prices.\n",
        "\n",
        "Regress means predicting one variable from another.\n",
        "\n",
        "What can Regression Show ?\n",
        " - Regression can show how one variable varies with respect to another variable.\n",
        "\n",
        " - For example, the price of a wine bottle can vary depending on the average growing season temperature.\n",
        "\n",
        "What Regression cannot show ?\n",
        " - Regression cannot show any causal relationship between two variables.\n",
        "\n",
        " - For example, if the area of the house is an independent variable and the price of the house is a dependent variable, you cannot conclude that houses with larger areas will increase the price of the house.\n",
        "\n",
        "\n",
        " Correlation is a measure that describes the strength of relationship between two variables .\n",
        " \n",
        "Regression explains in more detail about this strength"
      ],
      "metadata": {
        "id": "gjcP_FCYb8CS"
      }
    },
    {
      "cell_type": "markdown",
      "source": [
        "**ERRORS**\n",
        "\n",
        "y - Dependent variable\n",
        "\n",
        "x - Independent variable\n",
        "\n",
        "e - Error measure\n",
        "\n",
        "B0 and B1 Parameters that best fit the model\n",
        "\n",
        "The actual values are scattered and the predicted values are along the line.\n",
        "\n",
        "The difference between actual and predicted values gives the error. This is also called the residual error (e).\n",
        "\n",
        "The parameters (Beta0 and Beta1) are chosen to minimize the total error between the actual and predicted values.\n",
        "\n",
        "You have seen how to fit a model that best describes the data. However, you can never get a perfect fit.\n",
        "\n",
        "**How will you measure the error/deviation in a model that is fit to the data ?**\n",
        "\n",
        "\n",
        "**SSE**\n",
        "\n",
        "Sum of Squared Errors (SSE) is a measure of the quality of the Regression Line .\n",
        "\n",
        "If there are n data points, then the SSE is the sum of square of the residual errors .\n",
        "\n",
        "SSE is small for the Line of Best Fit and big for the baseline model.\n",
        "\n",
        "The line with the minimum SSE is the Regression Line. SSE is sometimes difficult to interpret because,\n",
        "\n",
        "It depends on the number of values (n)\n",
        "\n",
        "The units are hard to comprehend\n",
        "\n",
        "So, is there a better way to gauge the quality of the Regression Model ?\n",
        "\n",
        "**RMSE**\n",
        "\n",
        "At times, the SSE is difficult to interpret and the units are difficult to comprehend. So, the alternative measure of quality is the Root Mean Square Error (RMSE).\n",
        "\n",
        "RMSE shrinks the magnitude of error by taking the square root of SSE divided by the number of observations (n).\n",
        "\n",
        "\n",
        "**Best Model Vs Baseline Model**\n",
        "\n",
        "\n",
        "The baseline model gives the Average value.\n",
        "\n",
        "The SSE values for baseline model is the Total Sum of Square values(SST)\n",
        "\n",
        "RSquare = 1 - ((SSE) / (SST))\n",
        "\n",
        "\n",
        "**R Square(R Sq) Properties**\n",
        "\n",
        "\n",
        "SSE and SST values should be greater than zero.\n",
        "\n",
        "R Sq lies between 0 and 1.\n",
        "\n",
        "R Sq is a unit less quantity.\n",
        "\n",
        "R Sq = 0 means the model is just as good as the base line and there is no improvement from the baseline model.\n",
        "\n",
        "R Sq = 1 means it is a perfect model. Ideally, you should strive towards getting the R Sq close to 1 . But some models with R Sq = 0 are also accepted depending on the scenario.\n",
        "\n",
        "\n",
        "**Model Interpretation**\n",
        "\n",
        "\n",
        "This is the equation for line of best fit\n",
        "\n",
        "y = 249.85714 - 0.7928571x\n",
        "\n",
        "For a unit change in X there is a .793 decrease in Y\n",
        "\n",
        "For a unit increase in price of the house, .793 lesser houses are sold .\n",
        "\n",
        "B0 is 249.85714\n",
        "\n",
        "B1 is -0.7928571"
      ],
      "metadata": {
        "id": "nsqHhOXpcWuC"
      }
    },
    {
      "cell_type": "markdown",
      "source": [
        "# Regression"
      ],
      "metadata": {
        "id": "kEzmehk7dYpN"
      }
    },
    {
      "cell_type": "code",
      "source": [
        "import pandas as pd\n",
        "\n",
        "price = [160,180,200,220,240,260,280]\n",
        "\n",
        "sale = [126,103,82,75,82,40,20]\n",
        "\n",
        "priceDF = pd.DataFrame(price, columns=list('x'))\n",
        "\n",
        "saleDF = pd.DataFrame(sale, columns=list('y'))\n",
        "\n",
        "houseDf = pd.concat((priceDF, saleDF),axis=1)\n",
        "\n",
        "print(houseDf)\n",
        "\n",
        "print(priceDF)"
      ],
      "metadata": {
        "colab": {
          "base_uri": "https://localhost:8080/"
        },
        "id": "chrvxfVRdWyL",
        "outputId": "43d5e370-2e61-4064-c24f-0cedcb9473c5"
      },
      "execution_count": 3,
      "outputs": [
        {
          "output_type": "stream",
          "name": "stdout",
          "text": [
            "     x    y\n",
            "0  160  126\n",
            "1  180  103\n",
            "2  200   82\n",
            "3  220   75\n",
            "4  240   82\n",
            "5  260   40\n",
            "6  280   20\n",
            "     x\n",
            "0  160\n",
            "1  180\n",
            "2  200\n",
            "3  220\n",
            "4  240\n",
            "5  260\n",
            "6  280\n"
          ]
        }
      ]
    },
    {
      "cell_type": "code",
      "source": [
        "# Statsmodel can take input similar to R (Pass the variables with the dataframe) or take input as arrays.\n",
        "\n",
        "import statsmodels.api as sm\n",
        "\n",
        "import statsmodels.formula.api as smf\n",
        "\n",
        "smfModel = smf.ols('y~x',data=houseDf).fit()\n",
        "\n",
        "print(smfModel.summary())\n"
      ],
      "metadata": {
        "colab": {
          "base_uri": "https://localhost:8080/"
        },
        "id": "1n_CA0M7da_s",
        "outputId": "888305d3-34f3-4036-9fd6-919d209b419c"
      },
      "execution_count": 4,
      "outputs": [
        {
          "output_type": "stream",
          "name": "stdout",
          "text": [
            "                            OLS Regression Results                            \n",
            "==============================================================================\n",
            "Dep. Variable:                      y   R-squared:                       0.911\n",
            "Model:                            OLS   Adj. R-squared:                  0.893\n",
            "Method:                 Least Squares   F-statistic:                     50.93\n",
            "Date:                Sun, 30 Oct 2022   Prob (F-statistic):           0.000838\n",
            "Time:                        17:30:36   Log-Likelihood:                -26.006\n",
            "No. Observations:                   7   AIC:                             56.01\n",
            "Df Residuals:                       5   BIC:                             55.90\n",
            "Df Model:                           1                                         \n",
            "Covariance Type:            nonrobust                                         \n",
            "==============================================================================\n",
            "                 coef    std err          t      P>|t|      [0.025      0.975]\n",
            "------------------------------------------------------------------------------\n",
            "Intercept    249.8571     24.841     10.058      0.000     186.000     313.714\n",
            "x             -0.7929      0.111     -7.137      0.001      -1.078      -0.507\n",
            "==============================================================================\n",
            "Omnibus:                          nan   Durbin-Watson:                   1.995\n",
            "Prob(Omnibus):                    nan   Jarque-Bera (JB):                2.652\n",
            "Skew:                           1.442   Prob(JB):                        0.266\n",
            "Kurtosis:                       3.881   Cond. No.                     1.25e+03\n",
            "==============================================================================\n",
            "\n",
            "Notes:\n",
            "[1] Standard Errors assume that the covariance matrix of the errors is correctly specified.\n",
            "[2] The condition number is large, 1.25e+03. This might indicate that there are\n",
            "strong multicollinearity or other numerical problems.\n"
          ]
        },
        {
          "output_type": "stream",
          "name": "stderr",
          "text": [
            "/usr/local/lib/python3.7/dist-packages/statsmodels/stats/stattools.py:75: ValueWarning: omni_normtest is not valid with less than 8 observations; 7 samples were given.\n",
            "  \"samples were given.\" % int(n), ValueWarning)\n"
          ]
        }
      ]
    },
    {
      "cell_type": "markdown",
      "source": [
        "**Understanding the Output**\n",
        "\n",
        "Dep. Variable: The Dependent Variable\n",
        "\n",
        "Model: Algorithm used. Here, it is Ordinary Least Squares\n",
        "\n",
        "Method: Parameter Fitting method. Here, it is Least Squares\n",
        "\n",
        "No. Observations: Number of rows used for model fitting.\n",
        "\n",
        "DF Residuals: The degrees of freedom of the residuals (Difference between the number of observations and parameters).\n",
        "\n",
        "DF Model: The degrees of freedom of the model (The number of parameters estimated in the model excluding the constant term) .\n",
        "\n",
        "R-squared: Measure that says how well the model has performed with respect to the baseline model."
      ],
      "metadata": {
        "id": "ufM1VJJYdtOw"
      }
    },
    {
      "cell_type": "code",
      "source": [
        "# Data prep\n",
        "\n",
        "from sklearn.datasets import fetch_california_housing\n",
        "from sklearn.datasets import load_boston\n",
        "import pandas as pd \n",
        "boston = load_boston()\n",
        "california = fetch_california_housing()\n",
        "dataset = pd.DataFrame(boston.data, columns=boston.feature_names)\n",
        "dataset['target'] = boston.target\n",
        "print(dataset.head()) "
      ],
      "metadata": {
        "colab": {
          "base_uri": "https://localhost:8080/"
        },
        "id": "rdDxH5wUdnhZ",
        "outputId": "bb56931d-78ef-4b1a-f037-d3ad63e6b5e2"
      },
      "execution_count": 5,
      "outputs": [
        {
          "output_type": "stream",
          "name": "stderr",
          "text": [
            "/usr/local/lib/python3.7/dist-packages/sklearn/utils/deprecation.py:87: FutureWarning: Function load_boston is deprecated; `load_boston` is deprecated in 1.0 and will be removed in 1.2.\n",
            "\n",
            "    The Boston housing prices dataset has an ethical problem. You can refer to\n",
            "    the documentation of this function for further details.\n",
            "\n",
            "    The scikit-learn maintainers therefore strongly discourage the use of this\n",
            "    dataset unless the purpose of the code is to study and educate about\n",
            "    ethical issues in data science and machine learning.\n",
            "\n",
            "    In this special case, you can fetch the dataset from the original\n",
            "    source::\n",
            "\n",
            "        import pandas as pd\n",
            "        import numpy as np\n",
            "\n",
            "\n",
            "        data_url = \"http://lib.stat.cmu.edu/datasets/boston\"\n",
            "        raw_df = pd.read_csv(data_url, sep=\"\\s+\", skiprows=22, header=None)\n",
            "        data = np.hstack([raw_df.values[::2, :], raw_df.values[1::2, :2]])\n",
            "        target = raw_df.values[1::2, 2]\n",
            "\n",
            "    Alternative datasets include the California housing dataset (i.e.\n",
            "    :func:`~sklearn.datasets.fetch_california_housing`) and the Ames housing\n",
            "    dataset. You can load the datasets as follows::\n",
            "\n",
            "        from sklearn.datasets import fetch_california_housing\n",
            "        housing = fetch_california_housing()\n",
            "\n",
            "    for the California housing dataset and::\n",
            "\n",
            "        from sklearn.datasets import fetch_openml\n",
            "        housing = fetch_openml(name=\"house_prices\", as_frame=True)\n",
            "\n",
            "    for the Ames housing dataset.\n",
            "    \n",
            "  warnings.warn(msg, category=FutureWarning)\n"
          ]
        },
        {
          "output_type": "stream",
          "name": "stdout",
          "text": [
            "      CRIM    ZN  INDUS  CHAS    NOX     RM   AGE     DIS  RAD    TAX  \\\n",
            "0  0.00632  18.0   2.31   0.0  0.538  6.575  65.2  4.0900  1.0  296.0   \n",
            "1  0.02731   0.0   7.07   0.0  0.469  6.421  78.9  4.9671  2.0  242.0   \n",
            "2  0.02729   0.0   7.07   0.0  0.469  7.185  61.1  4.9671  2.0  242.0   \n",
            "3  0.03237   0.0   2.18   0.0  0.458  6.998  45.8  6.0622  3.0  222.0   \n",
            "4  0.06905   0.0   2.18   0.0  0.458  7.147  54.2  6.0622  3.0  222.0   \n",
            "\n",
            "   PTRATIO       B  LSTAT  target  \n",
            "0     15.3  396.90   4.98    24.0  \n",
            "1     17.8  396.90   9.14    21.6  \n",
            "2     17.8  392.83   4.03    34.7  \n",
            "3     18.7  394.63   2.94    33.4  \n",
            "4     18.7  396.90   5.33    36.2  \n"
          ]
        }
      ]
    },
    {
      "cell_type": "markdown",
      "source": [
        "# Multiple Linear Regression"
      ],
      "metadata": {
        "id": "4v_ur7Td7fDo"
      }
    },
    {
      "cell_type": "markdown",
      "source": [
        "The MLR model is represented as,\n",
        "\n",
        "y - Dependent variable\n",
        "\n",
        "x - Independent variable\n",
        "\n",
        "e - Error measure\n",
        "\n",
        "B0 , B1 ,B2 ... Bk Parameters that best fit the model\n",
        "\n",
        "**MLR**\n",
        "\n",
        "Multiple Regression helps in predicting a single variable using multiple independent variables. This improves the model by increasing the accuracy\n",
        "\n",
        "In today's complex world a given phenomenon(variable) is affected by more than one variable. Hence it is advised to opt for a Multiple Regression Model\n",
        "\n",
        "During this model fitting process, some variables will contribute significantly to the model but some might not. It is better to remove variables that are not of significance to the model. -So, how do we check if a variable is significant for the output?\n",
        "\n",
        "**Law of Diminishing Returns**\n",
        "\n",
        "More variables can increase the accuracy of the model. But sometimes the incremental value of adding each new variable might decrease.\n",
        "\n",
        "According to the Law of Diminishing Returns, the marginal improvement decreases as new variables are added.\n",
        "\n",
        "For example,\n",
        "\n",
        " - When you include x1 and x2 variables the R Sq = .8\n",
        " - When you add x3 to the model the R Sq might become .85 \n",
        " - Finally when you add x4 to this model the R Sq might become .87.\n",
        "In this process the incremental value has reduced from .05 to .02\n",
        "\n",
        "EXAMPLE\n",
        "\n",
        "Price(thousands of $) x\n",
        "\n",
        "Sales of new homes y\n",
        "\n",
        "Number of red cars z\n",
        "\n",
        "Data Source : http://www.yale.edu/statlab\n",
        "\n",
        "\n",
        "MLR Equation\n",
        "The MLR equation is, y = 252.85965 - .824935 x 1 + .3592748 x 2\n",
        "\n",
        "The number of houses sold is a linear function of both the price of a house and number of cars sold\n",
        "\n",
        "A unit increase in the number of cars sold increases the number of houses sold by a proportion of .35\n",
        "\n",
        "A unit increase in price of a house decreases the number of houses sold by a proportion of .82\n",
        "\n",
        "B0 252.85965\n",
        "\n",
        "B1 -0.824935\n",
        "\n",
        "B2 0.3592748\n",
        "\n",
        "\n",
        "**What is Multi Collinearity ?**\n",
        "\n",
        "Multi collinearity happens when two independent variables in a Multiple Regression model are correlated to each other. This will affect the outcome of your regression model.\n",
        "\n",
        "The best way to avoid multi collinearity is to omit one of the independent variables that is highly correlated with the other. The variable to omit depends on how the variable behaves in the presence of other variables.\n",
        "\n",
        "\n",
        "**Best Practices while Fitting MLR**\n",
        "\n",
        "Determine the correlation matrix of all the independent variables .\n",
        "\n",
        "Omit the terms that has high correlation with another.\n",
        "\n",
        "Remove the terms that do not predict the output significantly."
      ],
      "metadata": {
        "id": "MQbb6e8X7m7v"
      }
    },
    {
      "cell_type": "code",
      "source": [
        "# Input Data Load\n",
        "# Let us consider the dataset available in the previous topic.\n",
        "# Price of the House , Number of units sold and the number of cars sold.\n",
        "# Let us create a dataframe from the list using the following code.\n",
        "\n",
        "import pandas as pd\n",
        "price = [160,180,200,220,240,260,280]\n",
        "sale = [126,103,82,75,82,40,20]\n",
        "cars = [0,9,19,5,25,1,20]\n",
        "priceDF = pd.DataFrame(price, columns=list('x'))\n",
        "saleDF = pd.DataFrame(sale, columns=list('y'))\n",
        "carsDf = pd.DataFrame(cars, columns=list('z'))\n",
        "houseDf = pd.concat([priceDF,saleDF,carsDf],axis=1)"
      ],
      "metadata": {
        "id": "qp2yll1D7jLr"
      },
      "execution_count": 6,
      "outputs": []
    },
    {
      "cell_type": "code",
      "source": [
        "# Fitting the Model\n",
        "# Here we fit the model by giving the dependent (number of units sold) and independent variables (price of the house, number of cars sold).\n",
        "\n",
        "X = houseDf.drop(['y'], axis=1)\n",
        "y = houseDf.y\n",
        "Xc = sm.add_constant(X)\n",
        "linear_regression = sm.OLS(y,Xc)\n",
        "fitted_model = linear_regression.fit()\n",
        "fitted_model.summary()"
      ],
      "metadata": {
        "colab": {
          "base_uri": "https://localhost:8080/",
          "height": 589
        },
        "id": "WrVpqNFO8T1U",
        "outputId": "5373e244-5b37-4a4b-a56b-5182adb20e54"
      },
      "execution_count": 7,
      "outputs": [
        {
          "output_type": "stream",
          "name": "stderr",
          "text": [
            "/usr/local/lib/python3.7/dist-packages/statsmodels/tsa/tsatools.py:142: FutureWarning: In a future version of pandas all arguments of concat except for the argument 'objs' will be keyword-only\n",
            "  x = pd.concat(x[::order], 1)\n",
            "/usr/local/lib/python3.7/dist-packages/statsmodels/stats/stattools.py:75: ValueWarning: omni_normtest is not valid with less than 8 observations; 7 samples were given.\n",
            "  \"samples were given.\" % int(n), ValueWarning)\n"
          ]
        },
        {
          "output_type": "execute_result",
          "data": {
            "text/plain": [
              "<class 'statsmodels.iolib.summary.Summary'>\n",
              "\"\"\"\n",
              "                            OLS Regression Results                            \n",
              "==============================================================================\n",
              "Dep. Variable:                      y   R-squared:                       0.919\n",
              "Model:                            OLS   Adj. R-squared:                  0.879\n",
              "Method:                 Least Squares   F-statistic:                     22.74\n",
              "Date:                Sun, 30 Oct 2022   Prob (F-statistic):            0.00654\n",
              "Time:                        17:30:38   Log-Likelihood:                -25.654\n",
              "No. Observations:                   7   AIC:                             57.31\n",
              "Df Residuals:                       4   BIC:                             57.15\n",
              "Df Model:                           2                                         \n",
              "Covariance Type:            nonrobust                                         \n",
              "==============================================================================\n",
              "                 coef    std err          t      P>|t|      [0.025      0.975]\n",
              "------------------------------------------------------------------------------\n",
              "const        252.8597     26.812      9.431      0.001     178.417     327.302\n",
              "x             -0.8249      0.128     -6.445      0.003      -1.180      -0.470\n",
              "z              0.3593      0.552      0.650      0.551      -1.174       1.893\n",
              "==============================================================================\n",
              "Omnibus:                          nan   Durbin-Watson:                   1.646\n",
              "Prob(Omnibus):                    nan   Jarque-Bera (JB):                0.407\n",
              "Skew:                           0.546   Prob(JB):                        0.816\n",
              "Kurtosis:                       2.549   Cond. No.                     1.27e+03\n",
              "==============================================================================\n",
              "\n",
              "Notes:\n",
              "[1] Standard Errors assume that the covariance matrix of the errors is correctly specified.\n",
              "[2] The condition number is large, 1.27e+03. This might indicate that there are\n",
              "strong multicollinearity or other numerical problems.\n",
              "\"\"\""
            ],
            "text/html": [
              "<table class=\"simpletable\">\n",
              "<caption>OLS Regression Results</caption>\n",
              "<tr>\n",
              "  <th>Dep. Variable:</th>            <td>y</td>        <th>  R-squared:         </th> <td>   0.919</td>\n",
              "</tr>\n",
              "<tr>\n",
              "  <th>Model:</th>                   <td>OLS</td>       <th>  Adj. R-squared:    </th> <td>   0.879</td>\n",
              "</tr>\n",
              "<tr>\n",
              "  <th>Method:</th>             <td>Least Squares</td>  <th>  F-statistic:       </th> <td>   22.74</td>\n",
              "</tr>\n",
              "<tr>\n",
              "  <th>Date:</th>             <td>Sun, 30 Oct 2022</td> <th>  Prob (F-statistic):</th>  <td>0.00654</td>\n",
              "</tr>\n",
              "<tr>\n",
              "  <th>Time:</th>                 <td>17:30:38</td>     <th>  Log-Likelihood:    </th> <td> -25.654</td>\n",
              "</tr>\n",
              "<tr>\n",
              "  <th>No. Observations:</th>      <td>     7</td>      <th>  AIC:               </th> <td>   57.31</td>\n",
              "</tr>\n",
              "<tr>\n",
              "  <th>Df Residuals:</th>          <td>     4</td>      <th>  BIC:               </th> <td>   57.15</td>\n",
              "</tr>\n",
              "<tr>\n",
              "  <th>Df Model:</th>              <td>     2</td>      <th>                     </th>     <td> </td>   \n",
              "</tr>\n",
              "<tr>\n",
              "  <th>Covariance Type:</th>      <td>nonrobust</td>    <th>                     </th>     <td> </td>   \n",
              "</tr>\n",
              "</table>\n",
              "<table class=\"simpletable\">\n",
              "<tr>\n",
              "    <td></td>       <th>coef</th>     <th>std err</th>      <th>t</th>      <th>P>|t|</th>  <th>[0.025</th>    <th>0.975]</th>  \n",
              "</tr>\n",
              "<tr>\n",
              "  <th>const</th> <td>  252.8597</td> <td>   26.812</td> <td>    9.431</td> <td> 0.001</td> <td>  178.417</td> <td>  327.302</td>\n",
              "</tr>\n",
              "<tr>\n",
              "  <th>x</th>     <td>   -0.8249</td> <td>    0.128</td> <td>   -6.445</td> <td> 0.003</td> <td>   -1.180</td> <td>   -0.470</td>\n",
              "</tr>\n",
              "<tr>\n",
              "  <th>z</th>     <td>    0.3593</td> <td>    0.552</td> <td>    0.650</td> <td> 0.551</td> <td>   -1.174</td> <td>    1.893</td>\n",
              "</tr>\n",
              "</table>\n",
              "<table class=\"simpletable\">\n",
              "<tr>\n",
              "  <th>Omnibus:</th>       <td>   nan</td> <th>  Durbin-Watson:     </th> <td>   1.646</td>\n",
              "</tr>\n",
              "<tr>\n",
              "  <th>Prob(Omnibus):</th> <td>   nan</td> <th>  Jarque-Bera (JB):  </th> <td>   0.407</td>\n",
              "</tr>\n",
              "<tr>\n",
              "  <th>Skew:</th>          <td> 0.546</td> <th>  Prob(JB):          </th> <td>   0.816</td>\n",
              "</tr>\n",
              "<tr>\n",
              "  <th>Kurtosis:</th>      <td> 2.549</td> <th>  Cond. No.          </th> <td>1.27e+03</td>\n",
              "</tr>\n",
              "</table><br/><br/>Notes:<br/>[1] Standard Errors assume that the covariance matrix of the errors is correctly specified.<br/>[2] The condition number is large, 1.27e+03. This might indicate that there are<br/>strong multicollinearity or other numerical problems."
            ]
          },
          "metadata": {},
          "execution_count": 7
        }
      ]
    },
    {
      "cell_type": "markdown",
      "source": [
        "**Interpreting the Coef of the Model**\n",
        "\n",
        "The final equation is\n",
        "\n",
        "y = 126.45 - 0.55 * x - 0.322 * z\n",
        "\n",
        "the P(>|t|) values for each parameter is\n",
        "\n",
        "Constant Term 252.85965 is 0.001 - meaning - this term is significant in predicting the output\n",
        "\n",
        "x - House Price - -0.8249 is 0.003 - this term is also significant in predicting the output.\n",
        "\n",
        "z - car sales - 0.3593 is 0.551 this term is not so significant in predicting the output.\n",
        "\n",
        "We do not have to omit the third variable.\n",
        "\n",
        "\n",
        "\n",
        "**Interpreting the terms**\n",
        "\n",
        "Coef column gives the value of estimated coefficients (B0, B1, B2 etc.) .\n",
        "\n",
        "If the coef is zero then that independent variable does not predict the dependent variable correctly.\n",
        "\n",
        "Std err denotes how much each coefficient varies from the estimated value\n",
        "\n",
        "t-value - = Estimated coef/stderr\n",
        "\n",
        "P(>|t|) how likely the estimated value is zero\n",
        "\n",
        "- This value also indicates how significant a variable is to a model.\n",
        "- The smaller the value, the more significant a given variable is to the model.\n",
        "- it is better to remove variables with higher values of `P(>|t|)\n",
        "\n",
        "\n",
        "**MLR Model Building**\n",
        "\n",
        "- Consider that for a given dependent variable y, there are 4 independent variables x1,x2,x3 and x4 that affect the outcome. A possible way of building a Multiple Regression Model is to first use each independent variable separately against the dependent variable and measure the R-squared value.\n",
        "- Another way of doing this is by incrementally adding each independent variable and measuring the R-squared value for each combination.\n",
        "\n",
        "\n",
        "**Handling Multicollinearity**\n",
        "\n",
        "- A good practice while fitting multiple regression model is to check if there is any correlation among the independent variables.\n",
        "- In python, for a random array X the command to find correlation is X.corr().\n",
        "\n",
        "**Tips**\n",
        "\n",
        "Choose the coef with low Pr(>|t|) value.\n",
        "\n",
        "Reject that variable with correlation outside the range -0.7 and 0.7 with any other variable.\n",
        "\n"
      ],
      "metadata": {
        "id": "nHreYKSB8lTv"
      }
    },
    {
      "cell_type": "code",
      "source": [
        "# Data Prep\n",
        "# Hope you've understood how to deal with multiple variables and perform multiple regressions. \n",
        "# Let us consider the dataset created using the following code for further practice.\n",
        "\n",
        "from sklearn.datasets import fetch_california_housing\n",
        "from sklearn.datasets import load_boston\n",
        "boston = load_boston()\n",
        "california = fetch_california_housing()\n",
        "dataset = pd.DataFrame(boston.data, columns=boston.feature_names)\n",
        "dataset['target'] = boston.target"
      ],
      "metadata": {
        "id": "Rj0MiEDd8Zvt"
      },
      "execution_count": 9,
      "outputs": []
    },
    {
      "cell_type": "markdown",
      "source": [
        "Hands On Prep\n",
        "\n",
        "From the previous card load all the variables other than target into a variable named X\n",
        "\n",
        "Run a correlation among all independent variables to check for multi collinearity"
      ],
      "metadata": {
        "id": "6NOYVgNp9InL"
      }
    },
    {
      "cell_type": "code",
      "source": [],
      "metadata": {
        "id": "je1mEj7i9Etd"
      },
      "execution_count": null,
      "outputs": []
    }
  ]
}