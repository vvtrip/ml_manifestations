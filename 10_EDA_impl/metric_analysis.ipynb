{
 "cells": [
  {
   "cell_type": "code",
   "execution_count": 74,
   "id": "25837c1d",
   "metadata": {},
   "outputs": [],
   "source": [
    "import pandas as pd\n",
    "import numpy as np\n",
    "import matplotlib.pyplot as plt\n",
    "import seaborn as sns"
   ]
  },
  {
   "cell_type": "code",
   "execution_count": 75,
   "id": "aeeadc53",
   "metadata": {},
   "outputs": [
    {
     "data": {
      "text/html": [
       "<div>\n",
       "<style scoped>\n",
       "    .dataframe tbody tr th:only-of-type {\n",
       "        vertical-align: middle;\n",
       "    }\n",
       "\n",
       "    .dataframe tbody tr th {\n",
       "        vertical-align: top;\n",
       "    }\n",
       "\n",
       "    .dataframe thead th {\n",
       "        text-align: right;\n",
       "    }\n",
       "</style>\n",
       "<table border=\"1\" class=\"dataframe\">\n",
       "  <thead>\n",
       "    <tr style=\"text-align: right;\">\n",
       "      <th></th>\n",
       "      <th>Server name</th>\n",
       "      <th>Timestamp</th>\n",
       "      <th>DoM</th>\n",
       "      <th>CPU value</th>\n",
       "      <th>Memory value</th>\n",
       "    </tr>\n",
       "  </thead>\n",
       "  <tbody>\n",
       "    <tr>\n",
       "      <th>0</th>\n",
       "      <td>Server1</td>\n",
       "      <td>01-Sep-22</td>\n",
       "      <td>1</td>\n",
       "      <td>0.07</td>\n",
       "      <td>0.86</td>\n",
       "    </tr>\n",
       "    <tr>\n",
       "      <th>1</th>\n",
       "      <td>Server1</td>\n",
       "      <td>02-Sep-22</td>\n",
       "      <td>2</td>\n",
       "      <td>0.25</td>\n",
       "      <td>0.89</td>\n",
       "    </tr>\n",
       "    <tr>\n",
       "      <th>2</th>\n",
       "      <td>Server1</td>\n",
       "      <td>03-Sep-22</td>\n",
       "      <td>3</td>\n",
       "      <td>0.17</td>\n",
       "      <td>0.91</td>\n",
       "    </tr>\n",
       "    <tr>\n",
       "      <th>3</th>\n",
       "      <td>Server1</td>\n",
       "      <td>04-Sep-22</td>\n",
       "      <td>4</td>\n",
       "      <td>0.15</td>\n",
       "      <td>0.97</td>\n",
       "    </tr>\n",
       "    <tr>\n",
       "      <th>4</th>\n",
       "      <td>Server1</td>\n",
       "      <td>05-Sep-22</td>\n",
       "      <td>5</td>\n",
       "      <td>0.01</td>\n",
       "      <td>0.95</td>\n",
       "    </tr>\n",
       "  </tbody>\n",
       "</table>\n",
       "</div>"
      ],
      "text/plain": [
       "  Server name  Timestamp  DoM  CPU value  Memory value\n",
       "0     Server1  01-Sep-22    1       0.07          0.86\n",
       "1     Server1  02-Sep-22    2       0.25          0.89\n",
       "2     Server1  03-Sep-22    3       0.17          0.91\n",
       "3     Server1  04-Sep-22    4       0.15          0.97\n",
       "4     Server1  05-Sep-22    5       0.01          0.95"
      ]
     },
     "execution_count": 75,
     "metadata": {},
     "output_type": "execute_result"
    }
   ],
   "source": [
    "df = pd.read_csv('../data/metric_data.csv')\n",
    "df.head()"
   ]
  },
  {
   "cell_type": "code",
   "execution_count": 76,
   "id": "0e7fa582",
   "metadata": {},
   "outputs": [
    {
     "data": {
      "text/plain": [
       "Server name\n",
       "Server1     0.126\n",
       "Server10    0.248\n",
       "Server11    0.257\n",
       "Server12    0.236\n",
       "Server13    0.234\n",
       "Server14    0.287\n",
       "Server15    0.158\n",
       "Server16    0.131\n",
       "Server17    0.131\n",
       "Server18    0.117\n",
       "Server19    0.112\n",
       "Server2     0.145\n",
       "Server20    0.106\n",
       "Server21    0.108\n",
       "Server22    0.121\n",
       "Server23    0.124\n",
       "Server24    0.105\n",
       "Server25    0.116\n",
       "Server26    0.131\n",
       "Server27    0.180\n",
       "Server28    0.559\n",
       "Server29    0.524\n",
       "Server3     0.116\n",
       "Server30    0.539\n",
       "Server31    0.573\n",
       "Server32    0.430\n",
       "Server33    0.456\n",
       "Server34    0.527\n",
       "Server35    0.511\n",
       "Server36    0.547\n",
       "Server37    0.510\n",
       "Server38    0.810\n",
       "Server39    0.843\n",
       "Server4     0.146\n",
       "Server40    0.815\n",
       "Server41    0.778\n",
       "Server42    0.769\n",
       "Server43    0.781\n",
       "Server44    0.798\n",
       "Server45    0.844\n",
       "Server46    0.913\n",
       "Server47    0.889\n",
       "Server48    0.895\n",
       "Server49    0.930\n",
       "Server5     0.180\n",
       "Server50    0.925\n",
       "Server6     0.068\n",
       "Server7     0.164\n",
       "Server8     0.142\n",
       "Server9     0.244\n",
       "Name: CPU value, dtype: float64"
      ]
     },
     "execution_count": 76,
     "metadata": {},
     "output_type": "execute_result"
    }
   ],
   "source": [
    "df.groupby('Server name')['CPU value'].mean()"
   ]
  },
  {
   "cell_type": "code",
   "execution_count": 77,
   "id": "f46fb534",
   "metadata": {},
   "outputs": [
    {
     "data": {
      "text/plain": [
       "Server name\n",
       "Server1     0.912\n",
       "Server10    0.765\n",
       "Server11    0.757\n",
       "Server12    0.786\n",
       "Server13    0.782\n",
       "Name: Memory value, dtype: float64"
      ]
     },
     "execution_count": 77,
     "metadata": {},
     "output_type": "execute_result"
    }
   ],
   "source": [
    "df.groupby('Server name')['Memory value'].mean()[:5]"
   ]
  },
  {
   "cell_type": "code",
   "execution_count": 78,
   "id": "928d8dc1",
   "metadata": {},
   "outputs": [
    {
     "data": {
      "text/plain": [
       "<matplotlib.collections.PathCollection at 0x1fc3141acd0>"
      ]
     },
     "execution_count": 78,
     "metadata": {},
     "output_type": "execute_result"
    },
    {
     "data": {
      "image/png": "[encoded data removed]",
      "text/plain": [
       "<Figure size 432x288 with 1 Axes>"
      ]
     },
     "metadata": {
      "needs_background": "light"
     },
     "output_type": "display_data"
    }
   ],
   "source": [
    "plt.scatter(df.groupby('Server name')['CPU value'].mean(),df.groupby('Server name')['Memory value'].mean())"
   ]
  },
  {
   "cell_type": "code",
   "execution_count": 79,
   "id": "c6239c28",
   "metadata": {},
   "outputs": [
    {
     "data": {
      "text/html": [
       "<div>\n",
       "<style scoped>\n",
       "    .dataframe tbody tr th:only-of-type {\n",
       "        vertical-align: middle;\n",
       "    }\n",
       "\n",
       "    .dataframe tbody tr th {\n",
       "        vertical-align: top;\n",
       "    }\n",
       "\n",
       "    .dataframe thead th {\n",
       "        text-align: right;\n",
       "    }\n",
       "</style>\n",
       "<table border=\"1\" class=\"dataframe\">\n",
       "  <thead>\n",
       "    <tr style=\"text-align: right;\">\n",
       "      <th></th>\n",
       "      <th>server_name</th>\n",
       "      <th>mem_val</th>\n",
       "      <th>cpu_val</th>\n",
       "    </tr>\n",
       "  </thead>\n",
       "  <tbody>\n",
       "    <tr>\n",
       "      <th>0</th>\n",
       "      <td>Server1</td>\n",
       "      <td>0.912</td>\n",
       "      <td>0.126</td>\n",
       "    </tr>\n",
       "    <tr>\n",
       "      <th>1</th>\n",
       "      <td>Server10</td>\n",
       "      <td>0.765</td>\n",
       "      <td>0.248</td>\n",
       "    </tr>\n",
       "    <tr>\n",
       "      <th>2</th>\n",
       "      <td>Server11</td>\n",
       "      <td>0.757</td>\n",
       "      <td>0.257</td>\n",
       "    </tr>\n",
       "    <tr>\n",
       "      <th>3</th>\n",
       "      <td>Server12</td>\n",
       "      <td>0.786</td>\n",
       "      <td>0.236</td>\n",
       "    </tr>\n",
       "    <tr>\n",
       "      <th>4</th>\n",
       "      <td>Server13</td>\n",
       "      <td>0.782</td>\n",
       "      <td>0.234</td>\n",
       "    </tr>\n",
       "  </tbody>\n",
       "</table>\n",
       "</div>"
      ],
      "text/plain": [
       "  server_name  mem_val  cpu_val\n",
       "0     Server1    0.912    0.126\n",
       "1    Server10    0.765    0.248\n",
       "2    Server11    0.757    0.257\n",
       "3    Server12    0.786    0.236\n",
       "4    Server13    0.782    0.234"
      ]
     },
     "execution_count": 79,
     "metadata": {},
     "output_type": "execute_result"
    }
   ],
   "source": [
    "server_name = list(df.groupby('Server name')['Memory value'].mean().index)\n",
    "mem_val = list(df.groupby('Server name')['Memory value'].mean().values)\n",
    "cpu_val = list(df.groupby('Server name')['CPU value'].mean().values)\n",
    "cldf = pd.DataFrame({'server_name':server_name,\n",
    "                    'mem_val':mem_val,\n",
    "                    'cpu_val':cpu_val})\n",
    "cldf.head()"
   ]
  },
  {
   "cell_type": "code",
   "execution_count": 80,
   "id": "fdc6ffd7",
   "metadata": {},
   "outputs": [],
   "source": [
    "from sklearn.cluster import KMeans, AgglomerativeClustering"
   ]
  },
  {
   "cell_type": "code",
   "execution_count": 81,
   "id": "2316803a",
   "metadata": {},
   "outputs": [],
   "source": [
    "agg_cls = AgglomerativeClustering(n_clusters=3)\n",
    "\n",
    "agg_cls = agg_cls.fit(cldf.iloc[:,1:])\n"
   ]
  },
  {
   "cell_type": "code",
   "execution_count": 82,
   "id": "1b4238c5",
   "metadata": {},
   "outputs": [
    {
     "data": {
      "text/plain": [
       "array([0, 0, 0, 0, 0, 0, 0, 0, 0, 0, 0, 0, 0, 0, 0, 0, 0, 0, 0, 0, 2, 2,\n",
       "       0, 2, 2, 2, 2, 2, 2, 2, 2, 1, 1, 0, 1, 1, 1, 1, 1, 1, 1, 1, 1, 1,\n",
       "       0, 1, 0, 0, 0, 0], dtype=int64)"
      ]
     },
     "execution_count": 82,
     "metadata": {},
     "output_type": "execute_result"
    }
   ],
   "source": [
    "agg_cls.labels_"
   ]
  },
  {
   "cell_type": "code",
   "execution_count": 73,
   "id": "d98160e1",
   "metadata": {},
   "outputs": [],
   "source": []
  },
  {
   "cell_type": "code",
   "execution_count": null,
   "id": "2eb64697",
   "metadata": {},
   "outputs": [],
   "source": []
  }
 ],
 "metadata": {
  "kernelspec": {
   "display_name": "Python 3 (ipykernel)",
   "language": "python",
   "name": "python3"
  },
  "language_info": {
   "codemirror_mode": {
    "name": "ipython",
    "version": 3
   },
   "file_extension": ".py",
   "mimetype": "text/x-python",
   "name": "python",
   "nbconvert_exporter": "python",
   "pygments_lexer": "ipython3",
   "version": "3.9.7"
  }
 },
 "nbformat": 4,
 "nbformat_minor": 5
}
