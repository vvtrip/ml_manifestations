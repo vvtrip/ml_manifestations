{
  "nbformat": 4,
  "nbformat_minor": 0,
  "metadata": {
    "colab": {
      "provenance": [],
      "collapsed_sections": [],
      "authorship_tag": "ABX9TyMPEO/UJAkFT6Odal42xJts",
      "include_colab_link": true
    },
    "kernelspec": {
      "name": "python3",
      "display_name": "Python 3"
    },
    "language_info": {
      "name": "python"
    }
  },
  "cells": [
    {
      "cell_type": "markdown",
      "metadata": {
        "id": "view-in-github",
        "colab_type": "text"
      },
      "source": [
        "<a href=\"https://colab.research.google.com/github/vvtrip/ml_tryouts/blob/master/stats/2-probability_basics.ipynb\" target=\"_parent\"><img src=\"https://colab.research.google.com/assets/colab-badge.svg\" alt=\"Open In Colab\"/></a>"
      ]
    },
    {
      "cell_type": "markdown",
      "source": [
        "# Permutation & Combinations"
      ],
      "metadata": {
        "id": "yXIZ_I4DeTxD"
      }
    },
    {
      "cell_type": "code",
      "execution_count": 1,
      "metadata": {
        "colab": {
          "base_uri": "https://localhost:8080/"
        },
        "id": "JwrcWPL_8rbQ",
        "outputId": "794f09d9-9d4a-410e-c7a7-dbe7e6564f9f"
      },
      "outputs": [
        {
          "output_type": "stream",
          "name": "stdout",
          "text": [
            "(36, 72)\n"
          ]
        }
      ],
      "source": [
        "import math\n",
        "\n",
        "# Given an array, calculate permutations and combinations possible from the array when 2 elemenst taken at a time without replacement.\n",
        "\n",
        "#sol - permutation = n!/(n-r)!\n",
        "#      combination = n!/(n - r)! * r!\n",
        "\n",
        "arr = ['a','b','f','g','h','j','e','r','t']\n",
        "length = len(arr)\n",
        "\n",
        "no_of_perm = int(math.factorial(length)/math.factorial(length - 2))\n",
        "no_of_comb = int(math.factorial(length)/(math.factorial(length - 2) * math.factorial(2)))\n",
        "\n",
        "print((no_of_comb,no_of_perm))"
      ]
    },
    {
      "cell_type": "code",
      "source": [
        "#if a group of 5 students were to be made from a group of 6 boys and 5 girls, in how many ways it can be done by selecting 3 boys and 2 girls?\n",
        "\n",
        "boys = int(math.factorial(6)/(math.factorial(3) * math.factorial(3)))\n",
        "girls = int(math.factorial(5)/(math.factorial(2) * math.factorial(3)))\n",
        "\n",
        "no_of_ways = boys * girls\n",
        "print(no_of_ways)"
      ],
      "metadata": {
        "colab": {
          "base_uri": "https://localhost:8080/"
        },
        "id": "tMHwK-Bp9XZT",
        "outputId": "82ca5f8c-bb7c-448d-9de8-647b0238205d"
      },
      "execution_count": 2,
      "outputs": [
        {
          "output_type": "stream",
          "name": "stdout",
          "text": [
            "200\n"
          ]
        }
      ]
    },
    {
      "cell_type": "markdown",
      "source": [
        "# Binomial Distribtion"
      ],
      "metadata": {
        "id": "e618JKHjeFSx"
      }
    },
    {
      "cell_type": "code",
      "source": [
        "# In each of 4 different competitions, Jin has 60% chance of winning. Assuming that the competitions are independent of each other, \n",
        "# what is the probability that: Jin will win at least 1 race.\n",
        "\n",
        "#SOL -  The Probability that Jin will win atleast 1 race = 1 - Jin will win NO race\n",
        "#       In each of the 4 races Jin has 60 percent chance of winning. That means he has 40 percent chance of losing.\n",
        "#       If the probability of success on an individual trial is p, then the binomial probability of n repeated trials with x successes is nCx⋅p^x⋅(1−p)^n−x\n",
        "\n",
        "#stats.binom.pmf(r, n, p) can be used for fiding probability of a binomial distribution where 'r' is number of times expecting success, 'n' is total number of trials and\n",
        "# 'p' is probability of success in a single  experiment.\n",
        "\n",
        "from scipy import stats\n",
        "\n",
        "prob_of_wining_no_race = round(stats.binom.pmf(0,4,0.6),2)\n",
        "prob_of_wining_atleast_one_race = 1 - prob_of_wining_no_race\n",
        "print(prob_of_wining_atleast_one_race)"
      ],
      "metadata": {
        "colab": {
          "base_uri": "https://localhost:8080/"
        },
        "id": "_iSfYgHT-bbn",
        "outputId": "17f57c42-5650-4078-e806-2a669f96e5f0"
      },
      "execution_count": 3,
      "outputs": [
        {
          "output_type": "stream",
          "name": "stdout",
          "text": [
            "0.97\n"
          ]
        }
      ]
    },
    {
      "cell_type": "markdown",
      "source": [
        "# Poisson Distribution"
      ],
      "metadata": {
        "id": "MVcqKmExeN4A"
      }
    },
    {
      "cell_type": "code",
      "source": [
        "#Average number of flowers sold in a day is 10. What is the probability that on a given day 15 flowers will be sold?\n",
        "#SOL- use scipy.stats.poison.pmf(k, mu) fpr poisson distribution\n",
        "\n",
        "from scipy.stats import poisson\n",
        "\n",
        "print(poisson.pmf(15, 10))"
      ],
      "metadata": {
        "id": "b_hQ90KFDIeM",
        "colab": {
          "base_uri": "https://localhost:8080/"
        },
        "outputId": "1254ca58-b6a5-40c2-bcf6-9e1b4b62bf57"
      },
      "execution_count": 4,
      "outputs": [
        {
          "output_type": "stream",
          "name": "stdout",
          "text": [
            "0.034718069630684245\n"
          ]
        }
      ]
    },
    {
      "cell_type": "markdown",
      "source": [
        "# Events and Conditional Probability definition"
      ],
      "metadata": {
        "id": "Hkwm81JJghxY"
      }
    },
    {
      "cell_type": "code",
      "source": [
        "# Simple Event\n",
        "# Any event containing a single element of a sample space.\n",
        "\n",
        "# Compound Event\n",
        "# Any event containing two or more elements of a sample space.\n",
        "\n",
        "# Dependent Event\n",
        "# If the occurrence of an event is influenced by another event, it is called a 'Dependent Event'.\n",
        "\n",
        "# Independent Event\n",
        "# If the occurrence of an event is not influenced by another event, it is called an 'Independent Event'.\n",
        "\n",
        "# Exhaustive Events\n",
        "# A set of events devouring the entire sample space.\n",
        "\n",
        "# Mutually Exclusive\n",
        "# Two events are said to be mutually exclusive events when both cannot occur at the same time.\n",
        "# i.e. P(A∩B) = 0\n",
        "\n",
        "# Joint Probability is a measure of two events happening at the same time, \n",
        "# and can only be applied to situations where more than one observation can occur at the same time.\n",
        "# P(A∩B)\n",
        "\n",
        "# P(A|B) = P(A∩B) / P(B). Probability of A given thast B has taken place.\n",
        "# Independent events can be identified by following 2 condtions:\n",
        "# 1) if P(A|B) = P(A)        then A is an independent event otherwise A is dependent on B\n",
        "# 2) if P(A∩B) = P(A) * P(B) then A is an independent event otherwise A is dependent on B\n",
        "\n",
        "#-----ADDITION RULE----------\n",
        "# Mutually Exclusive Events\n",
        "# If A and B are mutually exclusive events,\n",
        "# P(A∪B) = P(A) + P(B)\n",
        "\n",
        "# Non-mutually Exclusive Events\n",
        "# If A and B are non-mutually exclusive events,\n",
        "# P(A∪B) = P(A) + P(B) − P(A∩B)\n",
        "\n",
        "#-----MULTIPLICATION RULE----------\n",
        "# Independent Events\n",
        "# If A and B are two Independent Events,\n",
        "# P(A∩B) = P(A) * P(B)\n",
        "\n",
        "# Dependent Events\n",
        "# If A and B are two Dependent Events,\n",
        "# P(A∩B) = P(A) * P(B|A)"
      ],
      "metadata": {
        "id": "8YVb20uEdm_M"
      },
      "execution_count": 5,
      "outputs": []
    },
    {
      "cell_type": "markdown",
      "source": [
        "# Bayes Theorem"
      ],
      "metadata": {
        "id": "i913C4zWluAF"
      }
    },
    {
      "cell_type": "code",
      "source": [
        "# From the multiplication and addition probability rules, Bayes theorem can be formed.\n",
        "# From Product rule\n",
        "#  1.P(X∩Y) = P(X∣Y) * P(Y)\n",
        "#  2.P(X∩Y) = P(Y∣X) * P(X)\n",
        "# then\n",
        "\n",
        "# P(Y|X) = (​P(X∣Y)∗P(Y)) / P(X)\n",
        "# where\n",
        "# P(X) = P(X∩Y) + P(X∩Y) (Addition Rule) (intersection of x and y + intersection of x, and all except y)"
      ],
      "metadata": {
        "id": "iJBPPw02ltJz"
      },
      "execution_count": 6,
      "outputs": []
    },
    {
      "cell_type": "code",
      "source": [],
      "metadata": {
        "id": "vOF7T2YonWwL"
      },
      "execution_count": 6,
      "outputs": []
    }
  ]
}