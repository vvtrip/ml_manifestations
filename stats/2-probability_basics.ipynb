{
  "nbformat": 4,
  "nbformat_minor": 0,
  "metadata": {
    "colab": {
      "provenance": [],
      "collapsed_sections": [],
      "authorship_tag": "ABX9TyO5khhFZ8WjCEcH0HedEfdo",
      "include_colab_link": true
    },
    "kernelspec": {
      "name": "python3",
      "display_name": "Python 3"
    },
    "language_info": {
      "name": "python"
    }
  },
  "cells": [
    {
      "cell_type": "markdown",
      "metadata": {
        "id": "view-in-github",
        "colab_type": "text"
      },
      "source": [
        "<a href=\"https://colab.research.google.com/github/vvtrip/ml_tryouts/blob/master/stats/2-probability_basics.ipynb\" target=\"_parent\"><img src=\"https://colab.research.google.com/assets/colab-badge.svg\" alt=\"Open In Colab\"/></a>"
      ]
    },
    {
      "cell_type": "code",
      "execution_count": 8,
      "metadata": {
        "colab": {
          "base_uri": "https://localhost:8080/"
        },
        "id": "JwrcWPL_8rbQ",
        "outputId": "fead0e71-e08e-4e43-8dc7-76a08cea606d"
      },
      "outputs": [
        {
          "output_type": "stream",
          "name": "stdout",
          "text": [
            "(36, 72)\n"
          ]
        }
      ],
      "source": [
        "import math\n",
        "\n",
        "# Given an array, calculate permutations and combinations possible from the array when 2 elemenst taken at a time without replacement.\n",
        "\n",
        "#sol - permutation = n!/(n-r)!\n",
        "#      combination = n!/(n - r)! * r!\n",
        "\n",
        "arr = ['a','b','f','g','h','j','e','r','t']\n",
        "length = len(arr)\n",
        "\n",
        "no_of_perm = int(math.factorial(length)/math.factorial(length - 2))\n",
        "no_of_comb = int(math.factorial(length)/(math.factorial(length - 2) * math.factorial(2)))\n",
        "\n",
        "print((no_of_comb,no_of_perm))"
      ]
    },
    {
      "cell_type": "code",
      "source": [
        "#if a group of 5 students were to be made from a group of 6 boys and 5 girls, in how many ways it can be done by selecting 3 boys and 2 girls?\n",
        "\n",
        "boys = int(math.factorial(6)/(math.factorial(3) * math.factorial(3)))\n",
        "girls = int(math.factorial(5)/(math.factorial(2) * math.factorial(3)))\n",
        "\n",
        "no_of_ways = boys * girls\n",
        "print(no_of_ways)"
      ],
      "metadata": {
        "colab": {
          "base_uri": "https://localhost:8080/"
        },
        "id": "tMHwK-Bp9XZT",
        "outputId": "fb2d1c95-455c-49cc-8799-8449d04fb9f6"
      },
      "execution_count": 9,
      "outputs": [
        {
          "output_type": "stream",
          "name": "stdout",
          "text": [
            "200\n"
          ]
        }
      ]
    },
    {
      "cell_type": "code",
      "source": [
        "# In each of 4 different competitions, Jin has 60% chance of winning. Assuming that the competitions are independent of each other, \n",
        "# what is the probability that: Jin will win at least 1 race.\n",
        "\n",
        "#SOL -  The Probability that Jin will win atleast 1 race = 1 - Jin will win NO race\n",
        "#       In each of the 4 races Jin has 60 percent chance of winning. That means he has 40 percent chance of losing.\n",
        "#       If the probability of success on an individual trial is p, then the binomial probability of n repeated trials with x successes is nCx⋅p^x⋅(1−p)^n−x\n",
        "\n",
        "#stats.binom.pmf(r, n, p) can be used for fiding probability of a binomial distribution where 'r' is number of times expecting success, 'n' is total number of trials and\n",
        "# 'p' is probability of success in a single  experiment.\n",
        "\n",
        "from scipy import stats\n",
        "\n",
        "prob_of_wining_no_race = round(stats.binom.pmf(0,4,0.6),2)\n",
        "prob_of_wining_atleast_one_race = 1 - prob_of_wining_no_race\n",
        "print(prob_of_wining_atleast_one_race)"
      ],
      "metadata": {
        "colab": {
          "base_uri": "https://localhost:8080/"
        },
        "id": "_iSfYgHT-bbn",
        "outputId": "09dad543-fd60-4010-90be-7d5e15b01427"
      },
      "execution_count": 12,
      "outputs": [
        {
          "output_type": "stream",
          "name": "stdout",
          "text": [
            "0.97\n"
          ]
        }
      ]
    },
    {
      "cell_type": "code",
      "source": [],
      "metadata": {
        "id": "b_hQ90KFDIeM"
      },
      "execution_count": null,
      "outputs": []
    }
  ]
}