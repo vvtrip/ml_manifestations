{
  "nbformat": 4,
  "nbformat_minor": 0,
  "metadata": {
    "colab": {
      "provenance": [],
      "collapsed_sections": [
        "A7lj9v8Nx5n5",
        "5oE1QWfjyC3N",
        "a6XgFy-H3VoM"
      ],
      "authorship_tag": "ABX9TyMnOBmTRswBLiTvMLsFYGc1",
      "include_colab_link": true
    },
    "kernelspec": {
      "name": "python3",
      "display_name": "Python 3"
    },
    "language_info": {
      "name": "python"
    }
  },
  "cells": [
    {
      "cell_type": "markdown",
      "metadata": {
        "id": "view-in-github",
        "colab_type": "text"
      },
      "source": [
        "<a href=\"https://colab.research.google.com/github/vvtrip/ml_manifestations/blob/master/stats/4_stats_with_python.ipynb\" target=\"_parent\"><img src=\"https://colab.research.google.com/assets/colab-badge.svg\" alt=\"Open In Colab\"/></a>"
      ]
    },
    {
      "cell_type": "code",
      "execution_count": 1,
      "metadata": {
        "id": "ukp4c4WCrXv4"
      },
      "outputs": [],
      "source": [
        "import numpy as np\n",
        "from scipy import stats\n",
        "import statistics"
      ]
    },
    {
      "cell_type": "markdown",
      "source": [
        "# Basics"
      ],
      "metadata": {
        "id": "A7lj9v8Nx5n5"
      }
    },
    {
      "cell_type": "markdown",
      "source": [
        "**Descriptive Statistics** \n",
        " - it summaries a dataset, which helps in gaining insights, and making inferences about a dataset.\n",
        " - In general, we compute statistical measures of one or more samples, related to a population, and draw conclusions about the population.\n",
        " - Descriptive Statistics involves estimating centrality measures and measures of dispersion.\n",
        "\n",
        "**Centrality Measures**\n",
        " - It determine the center of a dataset.\n",
        " - The three major centrality measures are: mean, median, and mode.\n",
        "\n",
        "**Mean**\n",
        " - it is the sum of all values divided by a total number of values, of a data set.\n",
        " - mean function of numpy is used to compute mean of an array of numbers\n",
        "\n",
        "**Median**\n",
        " - it is the value that separates the given data set into two halves.\n",
        " - median function of numpy library can be used to compute median of a data set.\n",
        "\n",
        "**Mode**\n",
        " - it is the value that appears most often in a dataset is called the mode value.\n",
        " - mode function of scipy.stats module can be used for computing mode of a given data set.\n",
        "\n",
        "**Measures of Dispersion**\n",
        " - it provides insights on the spread of given dataset.\n",
        " - Major measures of dispersion are: range, percentile, inter-quartile range, standard deviation, variance, skewness, and kurtosis.\n",
        "\n",
        "\n",
        "**Range**\n",
        " - it is the difference between maximum and minimum values of the dataset.\n",
        "- import numpy as np\n",
        "- s1 = np.array([86, 47, 45, 47, 40])\n",
        "- print(np.ptp(s1))\n",
        "\n",
        "**Percentile**\n",
        " - it refers to a value, below which lies given the percentage of data points.\n",
        "\n",
        " - E.g., 45th percentile refers to a value below which 45% of data points are found.\n",
        " - percentile function of numpy can be used to compute a single or multiple percentiles.\n",
        "\n",
        "**Quartiles**\n",
        " - Three Quartiles namely, Q1 Q2 and Q3, split the entire dataset into four equal parts.\n",
        " - Each part contains 25% of data.\n",
        "\n",
        "**Inter Quartile Range (IQR)**\n",
        " - it refers to difference between third quartile (Q3) and first quartile (Q1).\n",
        " - iqr method from scipy.stats can be used for calculating it.\n",
        "\n",
        "**Variance**\n",
        " - it is defined as the average of squared differences, of each data point from dataset's mean.\n",
        "\n",
        "**Standard Deviation**\n",
        " - it is square root of variance.\n",
        " - var and std functions of numpy can be used for computing variance and standard deviation respectively.\n",
        " - By default, the functions assume that the dataset represents entire population.\n",
        "-  To represent a sample, derived from a population, ddof parameter(delta degree of freedom is set to 1.\n",
        "\n",
        "**Skewness**\n",
        "- it determines whether the majority of data points are present on one side of the distribution.\n",
        " - A positive value represents right skewed distribution; a negative value represents left skewed one, zero represent unskewed distribution.\n",
        "\n",
        "**Kurtosis**\n",
        " - Kurtosis indicates how much of data is concentrated around mean or shape of the probability distribution.\n",
        " - It can be estimated using kurtosis function of scipy.stats module.\n",
        " - By default, it uses Fisher’s definition. This can be changed to Pearson by setting fisher parameter to False."
      ],
      "metadata": {
        "id": "9-lByFuEtQBs"
      }
    },
    {
      "cell_type": "code",
      "source": [
        "s = [26, 15, 8, 44, 26, 13, 38, 24, 17, 29]\n",
        "print(f\"Mean is {np.mean(s)}\")\n",
        "print(f\"Meadian is {np.median(s)}\")\n",
        "print(f\"Mode is {stats.mode(s)}, {stats.mode(s)[0][0]}\")\n",
        "print(f\"without interpolation 1st and 3rd quartiles are {np.percentile(s,[25,75])}\")\n",
        "print(f\"without interpolation IQR through scipy.stats is {stats.iqr(s, rng=(25,75))}\")\n",
        "print(f\"with interpolation 1st and 3rd quartiles are {np.percentile(s,[25,75], interpolation='lower')}\")\n",
        "print(f\"with interpolation IQR through scipy.stats is {stats.iqr(s, rng=(25,75), interpolation='lower')}\")\n",
        "print(f\"Skewness is {round(stats.skew(s),2)}\")\n",
        "print(f\"Kurtosis is {round(stats.kurtosis(s),2)}\")"
      ],
      "metadata": {
        "colab": {
          "base_uri": "https://localhost:8080/"
        },
        "id": "KWtF5lShrg3Y",
        "outputId": "6ef12721-fa62-41ec-dbd5-98323e93bcdd"
      },
      "execution_count": 2,
      "outputs": [
        {
          "output_type": "stream",
          "name": "stdout",
          "text": [
            "Mean is 24.0\n",
            "Meadian is 25.0\n",
            "Mode is ModeResult(mode=array([26]), count=array([2])), 26\n",
            "without interpolation 1st and 3rd quartiles are [15.5  28.25]\n",
            "without interpolation IQR through scipy.stats is 12.75\n",
            "with interpolation 1st and 3rd quartiles are [15 26]\n",
            "with interpolation IQR through scipy.stats is 11\n",
            "Skewness is 0.36\n",
            "Kurtosis is -0.77\n"
          ]
        }
      ]
    },
    {
      "cell_type": "markdown",
      "source": [
        "# Random Variables, Random Numbers and Random Distributions"
      ],
      "metadata": {
        "id": "5oE1QWfjyC3N"
      }
    },
    {
      "cell_type": "markdown",
      "source": [
        "A random number is a number, chosen by chance from a distribution.\n",
        "Python provides a lot of modules, which deal with random numbers.\n",
        "- random module of python standard library.\n",
        "- random module of Numpy\n",
        "- stats module of Scipy\n",
        "\n",
        "random module of numpy has utilities, which generate arrays of random numbers.\n",
        "- E.g.: rand function generates uniformly distributed numbers from range [0, 1]\n",
        "\n",
        "- rand function with no arguments generate a single random value.\n",
        "\n",
        "- By passing arguments, it generates a random array of specified size."
      ],
      "metadata": {
        "id": "zmG7zgHJpsQZ"
      }
    },
    {
      "cell_type": "code",
      "source": [
        "import numpy as np\n",
        "print(np.random.rand())\n",
        "# generates a 2*3 array\n",
        "print(np.random.rand(2,3))"
      ],
      "metadata": {
        "colab": {
          "base_uri": "https://localhost:8080/"
        },
        "id": "2JA0aUpPplBw",
        "outputId": "b01e3257-b333-44f2-f699-35954d9d55c5"
      },
      "execution_count": 3,
      "outputs": [
        {
          "output_type": "stream",
          "name": "stdout",
          "text": [
            "0.8431032824112108\n",
            "[[0.47596183 0.56323604 0.6357884 ]\n",
            " [0.90152453 0.12532934 0.45534898]]\n"
          ]
        }
      ]
    },
    {
      "cell_type": "markdown",
      "source": [
        "- In statistics, you select items randomly from a population, either with or without a replacement.\n",
        "- This can be achieved with choice method"
      ],
      "metadata": {
        "id": "l_7l0eVQqRQk"
      }
    },
    {
      "cell_type": "code",
      "source": [
        "import numpy as np\n",
        "print(np.random.choice([11, 22, 33], 2, replace=False))"
      ],
      "metadata": {
        "colab": {
          "base_uri": "https://localhost:8080/"
        },
        "id": "jby34IGHqCO7",
        "outputId": "b637fc6c-3452-4b24-b5a9-a23c93c51976"
      },
      "execution_count": 4,
      "outputs": [
        {
          "output_type": "stream",
          "name": "stdout",
          "text": [
            "[33 22]\n"
          ]
        }
      ]
    },
    {
      "cell_type": "markdown",
      "source": [
        "**Random Seeding**\n",
        "- Seed is an important concept when it comes to reproducibility. If you are working with random numbers and you would want to peers to validate your results, i.e., they should also get the same random sequence as you did, you can set the seed to a particular value and send the seed value to your peers.\n",
        "- seed is a number that sets the initial state of random number generator.\n",
        "- Setting a seed, helps in generating the same sequence of random numbers, repeatedly.\n",
        "- seed method of a random module can be used to set a seed as shown in below example."
      ],
      "metadata": {
        "id": "ZCBMWVo2qaYU"
      }
    },
    {
      "cell_type": "code",
      "source": [
        "import numpy as np\n",
        "\n",
        "np.random.seed(100)\n",
        "print(np.random.rand())\n",
        "\n",
        "np.random.seed(100)\n",
        "print(np.random.rand())"
      ],
      "metadata": {
        "colab": {
          "base_uri": "https://localhost:8080/"
        },
        "id": "H5hIZcRVqVyy",
        "outputId": "79f34b2a-36de-476d-eb11-66a407d5f151"
      },
      "execution_count": 5,
      "outputs": [
        {
          "output_type": "stream",
          "name": "stdout",
          "text": [
            "0.5434049417909654\n",
            "0.5434049417909654\n"
          ]
        }
      ]
    },
    {
      "cell_type": "markdown",
      "source": [
        "**Random Variables**\n",
        " - In probability theory, the set of all possible outcomes of a random experiment is known as sample space.\n",
        " - Probabilities of all outcomes of the experiment define the probability distribution.\n",
        " - A random variable is a variable that takes real numbers or integers and map each value to one of the outcomes of sample space. \n",
        " - E.g.: In an experiment of tossing a coin, the sample space is {'Head', 'Tail'} and a possible random variable takes the value 0 for head and 1 for the tail.\n",
        "\n",
        "**Probability Distributions**\n",
        " - There are two types of probability distributions namely discrete and continuous that take integer and real values, respectively.\n",
        " - scipy.stats module provides classes that represent random variables, corresponding to a large number of probability distributions.\n",
        " - E.g: the class norm represent normal continuous random variable, and binom represent binomial discrete random variable.\n",
        "\n",
        "- scipy.stats module provide a lot of methods for created discrete and continuous random variables.\n",
        "- Commonly used methods are :\n",
        "- pdf / pmf : Probability distribution function (continuous) or probability mass function (discrete).\n",
        "- cdf : Cumulative distribution function.\n",
        "- sf : Survival function (1 – cdf).\n",
        "- rvs : Creating random samples from a distribution.\n",
        "- The following example defines a normal continuous random variable of mean 1.0 and std 2.5.\n",
        "- It also estimates probabilities and cumulative probabilities at -1, 0 and 1.\n",
        "- The example also generates six random numbers from defined normal distribution."
      ],
      "metadata": {
        "id": "_PWgsoymqrZ8"
      }
    },
    {
      "cell_type": "code",
      "source": [
        "from scipy import stats\n",
        "\n",
        "x = stats.norm(loc=1.0, scale=2.5)\n",
        "\n",
        "print(x.pdf([-1, 0, 1]))\n",
        "\n",
        "print(x.cdf([-1, 0, 1]))\n",
        "\n",
        "print(x.rvs((2,3)))"
      ],
      "metadata": {
        "colab": {
          "base_uri": "https://localhost:8080/"
        },
        "id": "a4zJEZkqqmyb",
        "outputId": "aa6655a9-f8ce-49f2-f2e0-f245481efd4a"
      },
      "execution_count": 6,
      "outputs": [
        {
          "output_type": "stream",
          "name": "stdout",
          "text": [
            "[0.11587662 0.14730806 0.15957691]\n",
            "[0.2118554  0.34457826 0.5       ]\n",
            "[[-0.40409689 -3.12269376  1.88668613]\n",
            " [-0.96516083  0.42031951  1.5199392 ]]\n"
          ]
        }
      ]
    },
    {
      "cell_type": "code",
      "source": [
        "# create a normal distribution with mean 32 and standard deviation 4.5\n",
        "# set the random seed to 1, and create a random sample of 100 elements from the above distribution\n",
        "# compute aboslute difference between the sample mean and distribution mean\n",
        "\n",
        "import numpy as np\n",
        "from scipy import stats\n",
        "np.random.seed(1)\n",
        "\n",
        "x = stats.norm.rvs(loc=32, scale=4.5, size=100)\n",
        "print(round(abs(np.mean(x)-32),2))"
      ],
      "metadata": {
        "colab": {
          "base_uri": "https://localhost:8080/"
        },
        "id": "9P3MbJc0r4NL",
        "outputId": "00b08d64-729e-4ac7-d2d7-1e062b50a71d"
      },
      "execution_count": 7,
      "outputs": [
        {
          "output_type": "stream",
          "name": "stdout",
          "text": [
            "0.27\n"
          ]
        }
      ]
    },
    {
      "cell_type": "code",
      "source": [
        "# Simulate a random experiment of tossing a coin 10000 times and determine the count of Heads.\n",
        "# Hint: Define a binomial distribution with n = 1 and p = 0.5\n",
        "\n",
        "import numpy as np\n",
        "from scipy import stats\n",
        "np.random.seed(1)\n",
        "\n",
        "x = stats.binom(1, 0.5)\n",
        "y = x.rvs(10000)\n",
        "print(np.bincount(y)[0])"
      ],
      "metadata": {
        "colab": {
          "base_uri": "https://localhost:8080/"
        },
        "id": "QSgfly3wu1Sb",
        "outputId": "b619d412-627d-4e75-fec6-00a367e46115"
      },
      "execution_count": 8,
      "outputs": [
        {
          "output_type": "stream",
          "name": "stdout",
          "text": [
            "4990\n"
          ]
        }
      ]
    },
    {
      "cell_type": "markdown",
      "source": [
        "# Hypothesis testing with scipy\n"
      ],
      "metadata": {
        "id": "a6XgFy-H3VoM"
      }
    },
    {
      "cell_type": "markdown",
      "source": [
        "- Hypothesis Testing is a methodology for evaluating if a claim is acceptable or not, based on data.\n",
        "- In a Hypothesis Testing, a Null Hypothesis (Ho) represents currently accepted the state of knowledge, and an Alternative Hypothesis (Ha) represents a new claim which challenges the currently accepted state of knowledge.\n",
        "- The null hypothesis and the alternative hypothesis are mutually exclusive.\n",
        "\n",
        "**Steps Involved in Hypothesis Testing**\n",
        "- The following steps are involved in a Hypothesis Testing:\n",
        " - Define the null hypothesis and the alternative hypothesis.\n",
        " - Select a test statistics whose probability distribution function can be found under the null hypothesis.\n",
        " - Collect data.\n",
        " - Compute the test statistics from the data and calculate its p-value under the null hypothesis.\n",
        " - Null hypothesis is rejected if the p-value is lower than predetermined significance value.\n",
        "\n",
        "**Choosing Test Statistics**\n",
        " - In hypothesis testing, selecting a test statistics is the most difficult part.\n",
        " - The methods used for performing t-test are shown below.\n",
        " - stats.ttest_1samp: Tests if the mean of a population is a given value.\n",
        " - stats.ttest_ind: Tests if the means of two independent samples are equal.\n",
        " - stats.ttest_rel: Tests if the means of two paired samples are equal.\n",
        "\n",
        "**Example 1**\n",
        " - Let's consider a common hypothesis: Mean of a population is equal to certain value.\n",
        " - In reality, we estimate mean and variance of a sample and calculate the test statistic.\n",
        " - If population variance is identified, then it is reasonable to consider that test statistic is normally distributed.\n",
        " - If population variance is unknown, sample variance is used, and test statistic follows t distribution."
      ],
      "metadata": {
        "id": "YO8xubA2DpTw"
      }
    },
    {
      "cell_type": "code",
      "source": [
        "# Consider a normal population with mean 0.8 and standard deviation 0.5.\n",
        "# Define the null hypothesis as Mean of the population is 1.0.\n",
        "# Let's calculate t-statistic and p-value\n",
        "\n",
        "from scipy import stats\n",
        "import numpy as np\n",
        "np.random.seed(1)\n",
        "\n",
        "mu, sigma = 0.8, 0.5\n",
        "X = stats.norm(mu, sigma)\n",
        "\n",
        "# Deriving a sample\n",
        "n = 100\n",
        "X_sample = X.rvs(n)\n",
        "\n",
        "# Computing test statistic\n",
        "t, p = stats.ttest_1samp(X_sample, 1.0)\n",
        "print(round(t,2), p)"
      ],
      "metadata": {
        "id": "DVJCobIg3aoZ",
        "colab": {
          "base_uri": "https://localhost:8080/"
        },
        "outputId": "3a95bf7b-f303-4d9c-dc1f-73c520d9aa20"
      },
      "execution_count": 9,
      "outputs": [
        {
          "output_type": "stream",
          "name": "stdout",
          "text": [
            "-3.82 0.00023686273495632666\n"
          ]
        }
      ]
    },
    {
      "cell_type": "markdown",
      "source": [
        "In previous example, the obtained t-statistic value is 3.82 and p-value is 0.0000023686....\n",
        "\n",
        "Since p-value is very low and less than the significance level 0.05, you can reject the null hypothesis and infer that the mean of the population is not 1."
      ],
      "metadata": {
        "id": "9SY2As7hdApA"
      }
    },
    {
      "cell_type": "code",
      "source": [
        "# Let's consider another problem, where the null hypothesis states \n",
        "# that the population means of two random variables are equal.\n",
        "\n",
        "# The below example derives two samples from different populations \n",
        "# and verifies the claim that their population means are equal.\n",
        "\n",
        "X1 = stats.norm(0.25, 1.0)\n",
        "X2 = stats.norm(0.50, 1.0)\n",
        "np.random.seed(1)\n",
        "\n",
        "X1_sample = X1.rvs(100)\n",
        "X2_sample = X2.rvs(100)\n",
        "\n",
        "t, p = stats.ttest_ind(X1_sample, X2_sample)\n",
        "print(round(t,2), p)"
      ],
      "metadata": {
        "colab": {
          "base_uri": "https://localhost:8080/"
        },
        "id": "neiUwgITcwI-",
        "outputId": "cf853782-ea4e-458f-f1c6-3f324e527549"
      },
      "execution_count": 10,
      "outputs": [
        {
          "output_type": "stream",
          "name": "stdout",
          "text": [
            "-2.65 0.008722880782836376\n"
          ]
        }
      ]
    },
    {
      "cell_type": "markdown",
      "source": [
        "In previous example, the obtained t-statistic value is -2.65 and p-value is 0.008722...\n",
        "\n",
        "Since p-value is very low and less than the significance level 0.05, you can reject the null hypothesis and state that population means of both samples differ."
      ],
      "metadata": {
        "id": "9OX195iEejt6"
      }
    },
    {
      "cell_type": "code",
      "source": [
        "import numpy as np\n",
        "from scipy import stats\n",
        "\n",
        "# The following are samples represent life satisfaction score(through a methodology)\n",
        "# of older adults and younger adults respectively. Compute t-statistics amnd display the\n",
        "# t-score and p-value \n",
        "# sol - these are independent samples\n",
        "\n",
        "s1 = [45, 38, 52, 48, 25, 39, 51, 46, 55, 46]\n",
        "s2 = [34, 22, 15, 27, 37, 41, 24, 19, 26, 36]\n",
        "\n",
        "t, p = stats.ttest_ind(s1, s2)\n",
        "\n",
        "print(t, p)"
      ],
      "metadata": {
        "colab": {
          "base_uri": "https://localhost:8080/"
        },
        "id": "v6Gm10QDecyL",
        "outputId": "4d92007e-b3f9-4e02-eb58-a4b4bcab8f25"
      },
      "execution_count": 11,
      "outputs": [
        {
          "output_type": "stream",
          "name": "stdout",
          "text": [
            "4.257546665558161 0.0004736633119019225\n"
          ]
        }
      ]
    },
    {
      "cell_type": "code",
      "source": [
        "#Write your code here\n",
        "\n",
        "import numpy as np\n",
        "from scipy import stats\n",
        "\n",
        "# following are samples of chocolate chip consumption by 10 rats with and \n",
        "#  without electrical simulation. calculate t-statistics and provide t-score and p-value\n",
        "# sol - these are related samples\n",
        "\n",
        "s1 = [12, 7, 3, 11, 8, 5, 14, 7, 9, 10]\n",
        "s2 = [8, 7, 4, 14, 6, 7, 12, 5, 5, 8]\n",
        "\n",
        "t, p = stats.ttest_rel(s1, s2)\n",
        "\n",
        "print(t, p)"
      ],
      "metadata": {
        "colab": {
          "base_uri": "https://localhost:8080/"
        },
        "id": "lDsVcC3_hLqG",
        "outputId": "eaa66a36-4cbe-4d73-9947-e8744cc0defa"
      },
      "execution_count": 12,
      "outputs": [
        {
          "output_type": "stream",
          "name": "stdout",
          "text": [
            "1.315587028960544 0.2208380130273219\n"
          ]
        }
      ]
    },
    {
      "cell_type": "markdown",
      "source": [
        "# Statistical Modelling"
      ],
      "metadata": {
        "id": "hsuDqnzPl3Js"
      }
    },
    {
      "cell_type": "markdown",
      "source": [
        " - A Statistical Model is a mathematical equation, which explains the relationship between dependent variables (Y) and independent variables (X).\n",
        " - In general, a model is written as Y = f(X)\n",
        "However, in reality, an element of uncertainty is expected due to factors such as measurement noise. Hence the aforementioned equation can be rewritten as Y = f(X) + e   'e' is residual error\n",
        "\n",
        "**Statistical Modelling**\n",
        "- Statistical Modelling deals with creating models that attempt to explain the data best.\n",
        "- The simplest model is a linear model represented as Y = B0 + B1*X + e, where the coefficients, B0 and B1 are the parameters of the model and e is normally distributed residual error.\n",
        "- A linear regression model assumes that residuals are independent and normally distributed.\n",
        "- The model is fitted to data using ordinary least squares approach.\n",
        "\n",
        "**Linear Models**\n",
        " - In most of the linear regression models, a dependent variable y is written as :\n",
        " - a linear combination of the response variables X i.e y = B0 + B1*X1 + ... + Bn*Xn, or\n",
        "functions of the response variables i.e y = B0 + B1*X + B2*x^2 + ... + Bn*X^n, or\n",
        " - models that have a linear component i.e y = B0 + B1*sin(X1) + B2*cos(X2)\n",
        "\n",
        "**Non-Linear Models**\n",
        " - Other than linear regression models, statistical modeling can be used to build non-linear models.\n",
        "\n",
        " - Errors of dependent variable follow a distribution other than normal distribution.\n",
        "\n",
        " - Examples of non-linear models are: Binomial Regression and Poisson Regression.\n",
        "\n",
        " - In most of the cases, the non-linear models are generalized to linear models.\n",
        "\n",
        "**Design Matrices**\n",
        " - In reality, you choose a model and fit the available data to it.\n",
        "\n",
        " - Once a model is chosen, design matrices y and X are constructed, and the regression problem is written, in matrix form, as y = XB + e.\n",
        "\n",
        " - where y is the vector of dependent variables, X is the vector of independent variables, B is a vector of coefficients, and e is the residual (error).\n",
        "\n",
        " - Thus obtained design matrices are passed as inputs to the chosen model.\n",
        "\n",
        "**Statistical Modelling with StatsModels**\n",
        " - statsmodels library supports several types of statistical models.\n",
        "\n",
        " - All of them follow a similar usage pattern.\n",
        "\n",
        " - A Statistical model is represented by a model class.\n",
        "\n",
        " - A model can be initiated with,\n",
        "\n",
        "  - given design matrices of dependent and independent variables, or with\n",
        "  - given patsy formula and data frame or dictionary-like object.\n",
        "\n",
        "**Step 1: Creating a Model**\n",
        " - An instance of a model class is created in either of the following ways.\n",
        "\n",
        " - model = sm.MODEL(y, X) or\n",
        " - model = smf.model(patsy_formula, data)\n",
        " \n",
        " where MODEL and model refer to model names such as OLS, GLM, ols, glm, etc.\n",
        "\n",
        " Uppercase names take design matrices as arguments, and lowercase names take Patsy formulas and data frames as arguments.\n",
        "\n",
        "**Step 2: Fitting a Model**\n",
        "\n",
        "In order to fit the model with data, fit method is invoked on the created model, as shown below.\n",
        "\n",
        " - result = model.fit()\n",
        "\n",
        "The fit method returns a result object, which has methods and attributes for further analysis.\n",
        "\n",
        "\n",
        "**Step 3: Viewing Model Summary**\n",
        " - The summary method of result object produces a summary text that describes the result of the fit, as shown below.\n",
        "\n",
        " - print(result.summary())\n",
        "\n",
        " - The displayed summary text varies for each statistical model and provides information of various statistical parameters.\n",
        "\n",
        "**Step 4: Analyzing the Model Further**\n",
        "Other than viewing summary statistics, you can perform activities like,\n",
        "\n",
        " - Determining fitted values,\n",
        " - Predicting the dependent variable values for new independent variable values.\n",
        " - Checking if residuals of fitted models follow a normal distribution or not."
      ],
      "metadata": {
        "id": "g6zwJURWKUZW"
      }
    },
    {
      "cell_type": "markdown",
      "source": [
        "# Statistical modelling with Patsy"
      ],
      "metadata": {
        "id": "q1iUfPzGMFY8"
      }
    },
    {
      "cell_type": "markdown",
      "source": [
        "**Constructing Design Matrices**\n",
        "\n",
        "The below example shows calculation of design matrices, y, and X, for the considered linear model Y = B0 + B1*X1 + B2*X2 + B3*X1*X2."
      ],
      "metadata": {
        "id": "XUDQ2TTeMKWB"
      }
    },
    {
      "cell_type": "code",
      "source": [
        "import numpy as np\n",
        "\n",
        "y = np.array([1, 2, 3, 4, 5])\n",
        "x1 = np.array([6, 7, 8, 9, 10])\n",
        "x2 = np.array([11, 12, 13, 14, 15])\n",
        "X = np.vstack([np.ones(5), x1, x2, x1*x2]).T\n",
        "\n",
        "print(y)\n",
        "print(X)\n",
        "\n",
        "# Thus obtained design matrices (y and X) can be passed to regression methods for obtaining the coefficient vector."
      ],
      "metadata": {
        "colab": {
          "base_uri": "https://localhost:8080/"
        },
        "id": "24nKf8WXirNG",
        "outputId": "7a987cb6-252f-49d8-8c89-c9536db22a3f"
      },
      "execution_count": 13,
      "outputs": [
        {
          "output_type": "stream",
          "name": "stdout",
          "text": [
            "[1 2 3 4 5]\n",
            "[[  1.   6.  11.  66.]\n",
            " [  1.   7.  12.  84.]\n",
            " [  1.   8.  13. 104.]\n",
            " [  1.   9.  14. 126.]\n",
            " [  1.  10.  15. 150.]]\n"
          ]
        }
      ]
    },
    {
      "cell_type": "markdown",
      "source": [
        "**Design Matrices with patsy**\n",
        " - patsy, a  python library, allows defining a model in simpler easily.\n",
        "\n",
        " - It also constructs relevant design matrices, automatically, using patsy.dmatrices function.\n",
        "\n",
        " - patsy.dmatrices takes a formula (in string form) as a first argument, and a dictionary-like object with data arrays for the response variables as second arguments."
      ],
      "metadata": {
        "id": "Uu_qVorUMg8W"
      }
    },
    {
      "cell_type": "code",
      "source": [
        "import patsy\n",
        "import numpy as np\n",
        "\n",
        "y = np.array([1, 2, 3, 4, 5])\n",
        "x1 = np.array([6, 7, 8, 9, 10])\n",
        "x2 = np.array([11, 12, 13, 14, 15])\n",
        "data = {'y':y, 'x1':x1, 'x2':x2}\n",
        "\n",
        "y, X = patsy.dmatrices('y ~ 1 + x1 + x2 + x1*x2', data)\n",
        "\n",
        "print(y)\n",
        "print(X)"
      ],
      "metadata": {
        "colab": {
          "base_uri": "https://localhost:8080/"
        },
        "id": "G3H28KuYMUt2",
        "outputId": "ae0109f8-5c45-43ee-97fc-c885a9da0143"
      },
      "execution_count": 14,
      "outputs": [
        {
          "output_type": "stream",
          "name": "stdout",
          "text": [
            "[[1.]\n",
            " [2.]\n",
            " [3.]\n",
            " [4.]\n",
            " [5.]]\n",
            "[[  1.   6.  11.  66.]\n",
            " [  1.   7.  12.  84.]\n",
            " [  1.   8.  13. 104.]\n",
            " [  1.   9.  14. 126.]\n",
            " [  1.  10.  15. 150.]]\n"
          ]
        }
      ]
    },
    {
      "cell_type": "markdown",
      "source": [
        "**Understanding patsy Formulae**\n",
        "\n",
        "Let's understand few patsy formulae provided below.\n",
        "\n",
        " - 'y ~ x' : y is linearly dependent on x. ~ symbol separates dependent variable from independent variable terms. It is also equivalent to 'y ~ 1 + x'.\n",
        "\n",
        " - 'y ~ x1 + x2' : y is a linear combination of x1 and x2. + sign is used to denote the union of terms.\n",
        "\n",
        " - y ~ x1*x2 : x1*x2 is an interaction term that includes all lower order terms. Hence formula is equivalent to y ~ 1 + x1 + x2 + x1*x2.\n",
        "\n",
        "  - 'y ~ np.log(x1)': Often numpy functions can be used to transform terms in the expression.\n",
        "\n",
        " - 'y ~ I(x1 + x2)': I is the identify function, used to escape arithmetic expressions and are evaluated.\n",
        "\n",
        " - 'y ~ C(x1)': Treats the variable x1 as a categorical variable.\n",
        "\n",
        "**Example Datasets**\n",
        " - statsmodels contain few popular example datasets, which can be used to explore various utilities of the package.\n",
        "\n",
        " - The example data sets are available in datasets module.\n",
        "\n",
        " - Each dataset is associated with special variables like SOURCE, DESCSHORT, DESCLONG, that provide more info about the dataset.\n",
        "\n",
        " - A dataset can be loaded using load function, and its data can be accessed using data attribute in the form of Numpy's recarray.\n",
        "\n",
        "**Loading Example Datasets**\n",
        " - The below example shows loading of popular breast cancer dataset and accessing its data as numpy array."
      ],
      "metadata": {
        "id": "HnSG4oDCMrWW"
      }
    },
    {
      "cell_type": "code",
      "source": [
        "import statsmodels.api as sm\n",
        "\n",
        "bc_cancer_set = sm.datasets.cancer\n",
        "\n",
        "bc_cancer = bc_cancer_set.load()\n",
        "\n",
        "bc_cancer_data = bc_cancer.data\n",
        "\n",
        "print(type(bc_cancer_data))"
      ],
      "metadata": {
        "colab": {
          "base_uri": "https://localhost:8080/"
        },
        "id": "vfhNfUq3MofA",
        "outputId": "e475f9da-96eb-4ec3-e674-1946dc8616b1"
      },
      "execution_count": 15,
      "outputs": [
        {
          "output_type": "stream",
          "name": "stdout",
          "text": [
            "<class 'numpy.recarray'>\n"
          ]
        }
      ]
    },
    {
      "cell_type": "markdown",
      "source": [
        "**Loading R Datasets**\n",
        "\n",
        "statsmodels package provides access to many example datasets of R, listed at R Datasets repository (https://vincentarelbundock.github.io/Rdatasets/datasets.html)\n",
        "\n",
        "The below example loads Icecream dataset from Ecdat package.\n",
        "\n",
        "The data is accessible via data attribute, as a pandas data frame."
      ],
      "metadata": {
        "id": "0mujrDGlNM64"
      }
    },
    {
      "cell_type": "code",
      "source": [
        "import statsmodels.api as sm\n",
        "\n",
        "icecream_data = sm.datasets.get_rdataset('Icecream', 'Ecdat')\n",
        "data = icecream_data.data\n",
        "\n",
        "print(icecream_data.data.shape)"
      ],
      "metadata": {
        "colab": {
          "base_uri": "https://localhost:8080/"
        },
        "id": "86hVGk3yNJKS",
        "outputId": "52d682d1-8e8b-4ed3-ff86-268e31d763ae"
      },
      "execution_count": 16,
      "outputs": [
        {
          "output_type": "stream",
          "name": "stdout",
          "text": [
            "(30, 4)\n"
          ]
        }
      ]
    },
    {
      "cell_type": "code",
      "source": [],
      "metadata": {
        "id": "jrFwFspGNXAH"
      },
      "execution_count": 16,
      "outputs": []
    }
  ]
}