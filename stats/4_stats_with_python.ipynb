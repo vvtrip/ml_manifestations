{
  "nbformat": 4,
  "nbformat_minor": 0,
  "metadata": {
    "colab": {
      "provenance": [],
      "collapsed_sections": [],
      "authorship_tag": "ABX9TyN5fxW7s3hhhgEugwygpVIC",
      "include_colab_link": true
    },
    "kernelspec": {
      "name": "python3",
      "display_name": "Python 3"
    },
    "language_info": {
      "name": "python"
    }
  },
  "cells": [
    {
      "cell_type": "markdown",
      "metadata": {
        "id": "view-in-github",
        "colab_type": "text"
      },
      "source": [
        "<a href=\"https://colab.research.google.com/github/vvtrip/ml_manifestations/blob/master/stats/4_stats_with_python.ipynb\" target=\"_parent\"><img src=\"https://colab.research.google.com/assets/colab-badge.svg\" alt=\"Open In Colab\"/></a>"
      ]
    },
    {
      "cell_type": "code",
      "execution_count": 1,
      "metadata": {
        "id": "ukp4c4WCrXv4"
      },
      "outputs": [],
      "source": [
        "import numpy as np\n",
        "from scipy import stats\n",
        "import statistics"
      ]
    },
    {
      "cell_type": "markdown",
      "source": [
        "# Basics"
      ],
      "metadata": {
        "id": "A7lj9v8Nx5n5"
      }
    },
    {
      "cell_type": "markdown",
      "source": [
        "**Descriptive Statistics** \n",
        " - it summaries a dataset, which helps in gaining insights, and making inferences about a dataset.\n",
        " - In general, we compute statistical measures of one or more samples, related to a population, and draw conclusions about the population.\n",
        " - Descriptive Statistics involves estimating centrality measures and measures of dispersion.\n",
        "\n",
        "**Centrality Measures**\n",
        " - It determine the center of a dataset.\n",
        " - The three major centrality measures are: mean, median, and mode.\n",
        "\n",
        "**Mean**\n",
        " - it is the sum of all values divided by a total number of values, of a data set.\n",
        " - mean function of numpy is used to compute mean of an array of numbers\n",
        "\n",
        "**Median**\n",
        " - it is the value that separates the given data set into two halves.\n",
        " - median function of numpy library can be used to compute median of a data set.\n",
        "\n",
        "**Mode**\n",
        " - it is the value that appears most often in a dataset is called the mode value.\n",
        " - mode function of scipy.stats module can be used for computing mode of a given data set.\n",
        "\n",
        "**Measures of Dispersion**\n",
        " - it provides insights on the spread of given dataset.\n",
        " - Major measures of dispersion are: range, percentile, inter-quartile range, standard deviation, variance, skewness, and kurtosis.\n",
        "\n",
        "\n",
        "**Range**\n",
        " - it is the difference between maximum and minimum values of the dataset.\n",
        "- import numpy as np\n",
        "- s1 = np.array([86, 47, 45, 47, 40])\n",
        "- print(np.ptp(s1))\n",
        "\n",
        "**Percentile**\n",
        " - it refers to a value, below which lies given the percentage of data points.\n",
        "\n",
        " - E.g., 45th percentile refers to a value below which 45% of data points are found.\n",
        " - percentile function of numpy can be used to compute a single or multiple percentiles.\n",
        "\n",
        "**Quartiles**\n",
        " - Three Quartiles namely, Q1 Q2 and Q3, split the entire dataset into four equal parts.\n",
        " - Each part contains 25% of data.\n",
        "\n",
        "**Inter Quartile Range (IQR)**\n",
        " - it refers to difference between third quartile (Q3) and first quartile (Q1).\n",
        " - iqr method from scipy.stats can be used for calculating it.\n",
        "\n",
        "**Variance**\n",
        " - it is defined as the average of squared differences, of each data point from dataset's mean.\n",
        "\n",
        "**Standard Deviation**\n",
        " - it is square root of variance.\n",
        " - var and std functions of numpy can be used for computing variance and standard deviation respectively.\n",
        " - By default, the functions assume that the dataset represents entire population.\n",
        "-  To represent a sample, derived from a population, ddof parameter(delta degree of freedom is set to 1.\n",
        "\n",
        "**Skewness**\n",
        "- it determines whether the majority of data points are present on one side of the distribution.\n",
        " - A positive value represents right skewed distribution; a negative value represents left skewed one, zero represent unskewed distribution.\n",
        "\n",
        "**Kurtosis**\n",
        " - Kurtosis indicates how much of data is concentrated around mean or shape of the probability distribution.\n",
        " - It can be estimated using kurtosis function of scipy.stats module.\n",
        " - By default, it uses Fisher’s definition. This can be changed to Pearson by setting fisher parameter to False."
      ],
      "metadata": {
        "id": "9-lByFuEtQBs"
      }
    },
    {
      "cell_type": "code",
      "source": [
        "s = [26, 15, 8, 44, 26, 13, 38, 24, 17, 29]\n",
        "print(f\"Mean is {np.mean(s)}\")\n",
        "print(f\"Meadian is {np.median(s)}\")\n",
        "print(f\"Mode is {stats.mode(s)}, {stats.mode(s)[0][0]}\")\n",
        "print(f\"without interpolation 1st and 3rd quartiles are {np.percentile(s,[25,75])}\")\n",
        "print(f\"without interpolation IQR through scipy.stats is {stats.iqr(s, rng=(25,75))}\")\n",
        "print(f\"with interpolation 1st and 3rd quartiles are {np.percentile(s,[25,75], interpolation='lower')}\")\n",
        "print(f\"with interpolation IQR through scipy.stats is {stats.iqr(s, rng=(25,75), interpolation='lower')}\")\n",
        "print(f\"Skewness is {round(stats.skew(s),2)}\")\n",
        "print(f\"Kurtosis is {round(stats.kurtosis(s),2)}\")"
      ],
      "metadata": {
        "colab": {
          "base_uri": "https://localhost:8080/"
        },
        "id": "KWtF5lShrg3Y",
        "outputId": "c76522bf-ee8a-4940-c80a-20c935dc6bd0"
      },
      "execution_count": 24,
      "outputs": [
        {
          "output_type": "stream",
          "name": "stdout",
          "text": [
            "Mean is 24.0\n",
            "Meadian is 25.0\n",
            "Mode is ModeResult(mode=array([26]), count=array([2])), 26\n",
            "without interpolation 1st and 3rd quartiles are [15.5  28.25]\n",
            "without interpolation IQR through scipy.stats is 12.75\n",
            "with interpolation 1st and 3rd quartiles are [15 26]\n",
            "with interpolation IQR through scipy.stats is 11\n",
            "Skewness is 0.36\n",
            "Kurtosis is -0.77\n"
          ]
        }
      ]
    },
    {
      "cell_type": "code",
      "source": [],
      "metadata": {
        "id": "I_reblthsAy8"
      },
      "execution_count": null,
      "outputs": []
    },
    {
      "cell_type": "markdown",
      "source": [],
      "metadata": {
        "id": "5oE1QWfjyC3N"
      }
    }
  ]
}