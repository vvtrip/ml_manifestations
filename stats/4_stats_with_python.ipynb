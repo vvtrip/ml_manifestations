{
  "nbformat": 4,
  "nbformat_minor": 0,
  "metadata": {
    "colab": {
      "provenance": [],
      "collapsed_sections": [
        "A7lj9v8Nx5n5",
        "5oE1QWfjyC3N",
        "a6XgFy-H3VoM",
        "q1iUfPzGMFY8"
      ],
      "authorship_tag": "ABX9TyPQe/5lzIYUi99zL9TnX2XL",
      "include_colab_link": true
    },
    "kernelspec": {
      "name": "python3",
      "display_name": "Python 3"
    },
    "language_info": {
      "name": "python"
    }
  },
  "cells": [
    {
      "cell_type": "markdown",
      "metadata": {
        "id": "view-in-github",
        "colab_type": "text"
      },
      "source": [
        "<a href=\"https://colab.research.google.com/github/vvtrip/ml_manifestations/blob/master/stats/4_stats_with_python.ipynb\" target=\"_parent\"><img src=\"https://colab.research.google.com/assets/colab-badge.svg\" alt=\"Open In Colab\"/></a>"
      ]
    },
    {
      "cell_type": "code",
      "execution_count": 1,
      "metadata": {
        "id": "ukp4c4WCrXv4"
      },
      "outputs": [],
      "source": [
        "import numpy as np\n",
        "from scipy import stats\n",
        "import statistics"
      ]
    },
    {
      "cell_type": "markdown",
      "source": [
        "# Basics"
      ],
      "metadata": {
        "id": "A7lj9v8Nx5n5"
      }
    },
    {
      "cell_type": "markdown",
      "source": [
        "**Descriptive Statistics** \n",
        " - it summaries a dataset, which helps in gaining insights, and making inferences about a dataset.\n",
        " - In general, we compute statistical measures of one or more samples, related to a population, and draw conclusions about the population.\n",
        " - Descriptive Statistics involves estimating centrality measures and measures of dispersion.\n",
        "\n",
        "**Centrality Measures**\n",
        " - It determine the center of a dataset.\n",
        " - The three major centrality measures are: mean, median, and mode.\n",
        "\n",
        "**Mean**\n",
        " - it is the sum of all values divided by a total number of values, of a data set.\n",
        " - mean function of numpy is used to compute mean of an array of numbers\n",
        "\n",
        "**Median**\n",
        " - it is the value that separates the given data set into two halves.\n",
        " - median function of numpy library can be used to compute median of a data set.\n",
        "\n",
        "**Mode**\n",
        " - it is the value that appears most often in a dataset is called the mode value.\n",
        " - mode function of scipy.stats module can be used for computing mode of a given data set.\n",
        "\n",
        "**Measures of Dispersion**\n",
        " - it provides insights on the spread of given dataset.\n",
        " - Major measures of dispersion are: range, percentile, inter-quartile range, standard deviation, variance, skewness, and kurtosis.\n",
        "\n",
        "\n",
        "**Range**\n",
        " - it is the difference between maximum and minimum values of the dataset.\n",
        "- import numpy as np\n",
        "- s1 = np.array([86, 47, 45, 47, 40])\n",
        "- print(np.ptp(s1))\n",
        "\n",
        "**Percentile**\n",
        " - it refers to a value, below which lies given the percentage of data points.\n",
        "\n",
        " - E.g., 45th percentile refers to a value below which 45% of data points are found.\n",
        " - percentile function of numpy can be used to compute a single or multiple percentiles.\n",
        "\n",
        "**Quartiles**\n",
        " - Three Quartiles namely, Q1 Q2 and Q3, split the entire dataset into four equal parts.\n",
        " - Each part contains 25% of data.\n",
        "\n",
        "**Inter Quartile Range (IQR)**\n",
        " - it refers to difference between third quartile (Q3) and first quartile (Q1).\n",
        " - iqr method from scipy.stats can be used for calculating it.\n",
        "\n",
        "**Variance**\n",
        " - it is defined as the average of squared differences, of each data point from dataset's mean.\n",
        "\n",
        "**Standard Deviation**\n",
        " - it is square root of variance.\n",
        " - var and std functions of numpy can be used for computing variance and standard deviation respectively.\n",
        " - By default, the functions assume that the dataset represents entire population.\n",
        "-  To represent a sample, derived from a population, ddof parameter(delta degree of freedom is set to 1.\n",
        "\n",
        "**Skewness**\n",
        "- it determines whether the majority of data points are present on one side of the distribution.\n",
        " - A positive value represents right skewed distribution; a negative value represents left skewed one, zero represent unskewed distribution.\n",
        "\n",
        "**Kurtosis**\n",
        " - Kurtosis indicates how much of data is concentrated around mean or shape of the probability distribution.\n",
        " - It can be estimated using kurtosis function of scipy.stats module.\n",
        " - By default, it uses Fisher’s definition. This can be changed to Pearson by setting fisher parameter to False."
      ],
      "metadata": {
        "id": "9-lByFuEtQBs"
      }
    },
    {
      "cell_type": "code",
      "source": [
        "s = [26, 15, 8, 44, 26, 13, 38, 24, 17, 29]\n",
        "print(f\"Mean is {np.mean(s)}\")\n",
        "print(f\"Meadian is {np.median(s)}\")\n",
        "print(f\"Mode is {stats.mode(s)}, {stats.mode(s)[0][0]}\")\n",
        "print(f\"without interpolation 1st and 3rd quartiles are {np.percentile(s,[25,75])}\")\n",
        "print(f\"without interpolation IQR through scipy.stats is {stats.iqr(s, rng=(25,75))}\")\n",
        "print(f\"with interpolation 1st and 3rd quartiles are {np.percentile(s,[25,75], interpolation='lower')}\")\n",
        "print(f\"with interpolation IQR through scipy.stats is {stats.iqr(s, rng=(25,75), interpolation='lower')}\")\n",
        "print(f\"Skewness is {round(stats.skew(s),2)}\")\n",
        "print(f\"Kurtosis is {round(stats.kurtosis(s),2)}\")"
      ],
      "metadata": {
        "colab": {
          "base_uri": "https://localhost:8080/"
        },
        "id": "KWtF5lShrg3Y",
        "outputId": "e3a14423-91af-46d1-8f36-2f3dc7ed932b"
      },
      "execution_count": 2,
      "outputs": [
        {
          "output_type": "stream",
          "name": "stdout",
          "text": [
            "Mean is 24.0\n",
            "Meadian is 25.0\n",
            "Mode is ModeResult(mode=array([26]), count=array([2])), 26\n",
            "without interpolation 1st and 3rd quartiles are [15.5  28.25]\n",
            "without interpolation IQR through scipy.stats is 12.75\n",
            "with interpolation 1st and 3rd quartiles are [15 26]\n",
            "with interpolation IQR through scipy.stats is 11\n",
            "Skewness is 0.36\n",
            "Kurtosis is -0.77\n"
          ]
        }
      ]
    },
    {
      "cell_type": "markdown",
      "source": [
        "# Random Variables, Random Numbers and Random Distributions"
      ],
      "metadata": {
        "id": "5oE1QWfjyC3N"
      }
    },
    {
      "cell_type": "markdown",
      "source": [
        "A random number is a number, chosen by chance from a distribution.\n",
        "Python provides a lot of modules, which deal with random numbers.\n",
        "- random module of python standard library.\n",
        "- random module of Numpy\n",
        "- stats module of Scipy\n",
        "\n",
        "random module of numpy has utilities, which generate arrays of random numbers.\n",
        "- E.g.: rand function generates uniformly distributed numbers from range [0, 1]\n",
        "\n",
        "- rand function with no arguments generate a single random value.\n",
        "\n",
        "- By passing arguments, it generates a random array of specified size."
      ],
      "metadata": {
        "id": "zmG7zgHJpsQZ"
      }
    },
    {
      "cell_type": "code",
      "source": [
        "import numpy as np\n",
        "print(np.random.rand())\n",
        "# generates a 2*3 array\n",
        "print(np.random.rand(2,3))"
      ],
      "metadata": {
        "colab": {
          "base_uri": "https://localhost:8080/"
        },
        "id": "2JA0aUpPplBw",
        "outputId": "79901212-d65d-4643-ba1f-c6a10d72a850"
      },
      "execution_count": 3,
      "outputs": [
        {
          "output_type": "stream",
          "name": "stdout",
          "text": [
            "0.8947447978672337\n",
            "[[0.0256188  0.46978763 0.71970412]\n",
            " [0.34350112 0.63733897 0.46798065]]\n"
          ]
        }
      ]
    },
    {
      "cell_type": "markdown",
      "source": [
        "- In statistics, you select items randomly from a population, either with or without a replacement.\n",
        "- This can be achieved with choice method"
      ],
      "metadata": {
        "id": "l_7l0eVQqRQk"
      }
    },
    {
      "cell_type": "code",
      "source": [
        "import numpy as np\n",
        "print(np.random.choice([11, 22, 33], 2, replace=False))"
      ],
      "metadata": {
        "colab": {
          "base_uri": "https://localhost:8080/"
        },
        "id": "jby34IGHqCO7",
        "outputId": "62515da5-c383-4bef-e656-7e49d42d9cae"
      },
      "execution_count": 4,
      "outputs": [
        {
          "output_type": "stream",
          "name": "stdout",
          "text": [
            "[33 11]\n"
          ]
        }
      ]
    },
    {
      "cell_type": "markdown",
      "source": [
        "**Random Seeding**\n",
        "- Seed is an important concept when it comes to reproducibility. If you are working with random numbers and you would want to peers to validate your results, i.e., they should also get the same random sequence as you did, you can set the seed to a particular value and send the seed value to your peers.\n",
        "- seed is a number that sets the initial state of random number generator.\n",
        "- Setting a seed, helps in generating the same sequence of random numbers, repeatedly.\n",
        "- seed method of a random module can be used to set a seed as shown in below example."
      ],
      "metadata": {
        "id": "ZCBMWVo2qaYU"
      }
    },
    {
      "cell_type": "code",
      "source": [
        "import numpy as np\n",
        "\n",
        "np.random.seed(100)\n",
        "print(np.random.rand())\n",
        "\n",
        "np.random.seed(100)\n",
        "print(np.random.rand())"
      ],
      "metadata": {
        "colab": {
          "base_uri": "https://localhost:8080/"
        },
        "id": "H5hIZcRVqVyy",
        "outputId": "d2fdac87-f65f-4532-fc7f-e8c6e59fd65d"
      },
      "execution_count": 5,
      "outputs": [
        {
          "output_type": "stream",
          "name": "stdout",
          "text": [
            "0.5434049417909654\n",
            "0.5434049417909654\n"
          ]
        }
      ]
    },
    {
      "cell_type": "markdown",
      "source": [
        "**Random Variables**\n",
        " - In probability theory, the set of all possible outcomes of a random experiment is known as sample space.\n",
        " - Probabilities of all outcomes of the experiment define the probability distribution.\n",
        " - A random variable is a variable that takes real numbers or integers and map each value to one of the outcomes of sample space. \n",
        " - E.g.: In an experiment of tossing a coin, the sample space is {'Head', 'Tail'} and a possible random variable takes the value 0 for head and 1 for the tail.\n",
        "\n",
        "**Probability Distributions**\n",
        " - There are two types of probability distributions namely discrete and continuous that take integer and real values, respectively.\n",
        " - scipy.stats module provides classes that represent random variables, corresponding to a large number of probability distributions.\n",
        " - E.g: the class norm represent normal continuous random variable, and binom represent binomial discrete random variable.\n",
        "\n",
        "- scipy.stats module provide a lot of methods for created discrete and continuous random variables.\n",
        "- Commonly used methods are :\n",
        "- pdf / pmf : Probability distribution function (continuous) or probability mass function (discrete).\n",
        "- cdf : Cumulative distribution function.\n",
        "- sf : Survival function (1 – cdf).\n",
        "- rvs : Creating random samples from a distribution.\n",
        "- The following example defines a normal continuous random variable of mean 1.0 and std 2.5.\n",
        "- It also estimates probabilities and cumulative probabilities at -1, 0 and 1.\n",
        "- The example also generates six random numbers from defined normal distribution."
      ],
      "metadata": {
        "id": "_PWgsoymqrZ8"
      }
    },
    {
      "cell_type": "code",
      "source": [
        "from scipy import stats\n",
        "\n",
        "x = stats.norm(loc=1.0, scale=2.5)\n",
        "\n",
        "print(x.pdf([-1, 0, 1]))\n",
        "\n",
        "print(x.cdf([-1, 0, 1]))\n",
        "\n",
        "print(x.rvs((2,3)))"
      ],
      "metadata": {
        "colab": {
          "base_uri": "https://localhost:8080/"
        },
        "id": "a4zJEZkqqmyb",
        "outputId": "f8358201-db32-48a0-be8e-2752387e06ee"
      },
      "execution_count": 6,
      "outputs": [
        {
          "output_type": "stream",
          "name": "stdout",
          "text": [
            "[0.11587662 0.14730806 0.15957691]\n",
            "[0.2118554  0.34457826 0.5       ]\n",
            "[[-0.40409689 -3.12269376  1.88668613]\n",
            " [-0.96516083  0.42031951  1.5199392 ]]\n"
          ]
        }
      ]
    },
    {
      "cell_type": "code",
      "source": [
        "# create a normal distribution with mean 32 and standard deviation 4.5\n",
        "# set the random seed to 1, and create a random sample of 100 elements from the above distribution\n",
        "# compute aboslute difference between the sample mean and distribution mean\n",
        "\n",
        "import numpy as np\n",
        "from scipy import stats\n",
        "np.random.seed(1)\n",
        "\n",
        "x = stats.norm.rvs(loc=32, scale=4.5, size=100)\n",
        "print(round(abs(np.mean(x)-32),2))"
      ],
      "metadata": {
        "colab": {
          "base_uri": "https://localhost:8080/"
        },
        "id": "9P3MbJc0r4NL",
        "outputId": "8347e47c-fb3b-436a-93f3-572538e22402"
      },
      "execution_count": 7,
      "outputs": [
        {
          "output_type": "stream",
          "name": "stdout",
          "text": [
            "0.27\n"
          ]
        }
      ]
    },
    {
      "cell_type": "code",
      "source": [
        "# Simulate a random experiment of tossing a coin 10000 times and determine the count of Heads.\n",
        "# Hint: Define a binomial distribution with n = 1 and p = 0.5\n",
        "\n",
        "import numpy as np\n",
        "from scipy import stats\n",
        "np.random.seed(1)\n",
        "\n",
        "x = stats.binom(1, 0.5)\n",
        "y = x.rvs(10000)\n",
        "print(np.bincount(y)[0])"
      ],
      "metadata": {
        "colab": {
          "base_uri": "https://localhost:8080/"
        },
        "id": "QSgfly3wu1Sb",
        "outputId": "70ddcfa7-e6f0-4ceb-fcc0-18732a02a7f6"
      },
      "execution_count": 8,
      "outputs": [
        {
          "output_type": "stream",
          "name": "stdout",
          "text": [
            "4990\n"
          ]
        }
      ]
    },
    {
      "cell_type": "markdown",
      "source": [
        "# Hypothesis testing with scipy\n"
      ],
      "metadata": {
        "id": "a6XgFy-H3VoM"
      }
    },
    {
      "cell_type": "markdown",
      "source": [
        "- Hypothesis Testing is a methodology for evaluating if a claim is acceptable or not, based on data.\n",
        "- In a Hypothesis Testing, a Null Hypothesis (Ho) represents currently accepted the state of knowledge, and an Alternative Hypothesis (Ha) represents a new claim which challenges the currently accepted state of knowledge.\n",
        "- The null hypothesis and the alternative hypothesis are mutually exclusive.\n",
        "\n",
        "**Steps Involved in Hypothesis Testing**\n",
        "- The following steps are involved in a Hypothesis Testing:\n",
        " - Define the null hypothesis and the alternative hypothesis.\n",
        " - Select a test statistics whose probability distribution function can be found under the null hypothesis.\n",
        " - Collect data.\n",
        " - Compute the test statistics from the data and calculate its p-value under the null hypothesis.\n",
        " - Null hypothesis is rejected if the p-value is lower than predetermined significance value.\n",
        "\n",
        "**Choosing Test Statistics**\n",
        " - In hypothesis testing, selecting a test statistics is the most difficult part.\n",
        " - The methods used for performing t-test are shown below.\n",
        " - stats.ttest_1samp: Tests if the mean of a population is a given value.\n",
        " - stats.ttest_ind: Tests if the means of two independent samples are equal.\n",
        " - stats.ttest_rel: Tests if the means of two paired samples are equal.\n",
        "\n",
        "**Example 1**\n",
        " - Let's consider a common hypothesis: Mean of a population is equal to certain value.\n",
        " - In reality, we estimate mean and variance of a sample and calculate the test statistic.\n",
        " - If population variance is identified, then it is reasonable to consider that test statistic is normally distributed.\n",
        " - If population variance is unknown, sample variance is used, and test statistic follows t distribution."
      ],
      "metadata": {
        "id": "YO8xubA2DpTw"
      }
    },
    {
      "cell_type": "code",
      "source": [
        "# Consider a normal population with mean 0.8 and standard deviation 0.5.\n",
        "# Define the null hypothesis as Mean of the population is 1.0.\n",
        "# Let's calculate t-statistic and p-value\n",
        "\n",
        "from scipy import stats\n",
        "import numpy as np\n",
        "np.random.seed(1)\n",
        "\n",
        "mu, sigma = 0.8, 0.5\n",
        "X = stats.norm(mu, sigma)\n",
        "\n",
        "# Deriving a sample\n",
        "n = 100\n",
        "X_sample = X.rvs(n)\n",
        "\n",
        "# Computing test statistic\n",
        "t, p = stats.ttest_1samp(X_sample, 1.0)\n",
        "print(round(t,2), p)"
      ],
      "metadata": {
        "id": "DVJCobIg3aoZ",
        "colab": {
          "base_uri": "https://localhost:8080/"
        },
        "outputId": "94cbee22-6917-496c-add4-f8b777f697a1"
      },
      "execution_count": 9,
      "outputs": [
        {
          "output_type": "stream",
          "name": "stdout",
          "text": [
            "-3.82 0.00023686273495632666\n"
          ]
        }
      ]
    },
    {
      "cell_type": "markdown",
      "source": [
        "In previous example, the obtained t-statistic value is 3.82 and p-value is 0.0000023686....\n",
        "\n",
        "Since p-value is very low and less than the significance level 0.05, you can reject the null hypothesis and infer that the mean of the population is not 1."
      ],
      "metadata": {
        "id": "9SY2As7hdApA"
      }
    },
    {
      "cell_type": "code",
      "source": [
        "# Let's consider another problem, where the null hypothesis states \n",
        "# that the population means of two random variables are equal.\n",
        "\n",
        "# The below example derives two samples from different populations \n",
        "# and verifies the claim that their population means are equal.\n",
        "\n",
        "X1 = stats.norm(0.25, 1.0)\n",
        "X2 = stats.norm(0.50, 1.0)\n",
        "np.random.seed(1)\n",
        "\n",
        "X1_sample = X1.rvs(100)\n",
        "X2_sample = X2.rvs(100)\n",
        "\n",
        "t, p = stats.ttest_ind(X1_sample, X2_sample)\n",
        "print(round(t,2), p)"
      ],
      "metadata": {
        "colab": {
          "base_uri": "https://localhost:8080/"
        },
        "id": "neiUwgITcwI-",
        "outputId": "c1a4965a-66a0-4380-af74-9af39cfb58ff"
      },
      "execution_count": 10,
      "outputs": [
        {
          "output_type": "stream",
          "name": "stdout",
          "text": [
            "-2.65 0.008722880782836376\n"
          ]
        }
      ]
    },
    {
      "cell_type": "markdown",
      "source": [
        "In previous example, the obtained t-statistic value is -2.65 and p-value is 0.008722...\n",
        "\n",
        "Since p-value is very low and less than the significance level 0.05, you can reject the null hypothesis and state that population means of both samples differ."
      ],
      "metadata": {
        "id": "9OX195iEejt6"
      }
    },
    {
      "cell_type": "code",
      "source": [
        "import numpy as np\n",
        "from scipy import stats\n",
        "\n",
        "# The following are samples represent life satisfaction score(through a methodology)\n",
        "# of older adults and younger adults respectively. Compute t-statistics amnd display the\n",
        "# t-score and p-value \n",
        "# sol - these are independent samples\n",
        "\n",
        "s1 = [45, 38, 52, 48, 25, 39, 51, 46, 55, 46]\n",
        "s2 = [34, 22, 15, 27, 37, 41, 24, 19, 26, 36]\n",
        "\n",
        "t, p = stats.ttest_ind(s1, s2)\n",
        "\n",
        "print(t, p)"
      ],
      "metadata": {
        "colab": {
          "base_uri": "https://localhost:8080/"
        },
        "id": "v6Gm10QDecyL",
        "outputId": "910fcec5-f20f-482b-9b1c-e9c25b9e10a5"
      },
      "execution_count": 11,
      "outputs": [
        {
          "output_type": "stream",
          "name": "stdout",
          "text": [
            "4.257546665558161 0.0004736633119019225\n"
          ]
        }
      ]
    },
    {
      "cell_type": "code",
      "source": [
        "#Write your code here\n",
        "\n",
        "import numpy as np\n",
        "from scipy import stats\n",
        "\n",
        "# following are samples of chocolate chip consumption by 10 rats with and \n",
        "#  without electrical simulation. calculate t-statistics and provide t-score and p-value\n",
        "# sol - these are related samples\n",
        "\n",
        "s1 = [12, 7, 3, 11, 8, 5, 14, 7, 9, 10]\n",
        "s2 = [8, 7, 4, 14, 6, 7, 12, 5, 5, 8]\n",
        "\n",
        "t, p = stats.ttest_rel(s1, s2)\n",
        "\n",
        "print(t, p)"
      ],
      "metadata": {
        "colab": {
          "base_uri": "https://localhost:8080/"
        },
        "id": "lDsVcC3_hLqG",
        "outputId": "ecdec75e-7faf-4d44-9669-7efa103920dc"
      },
      "execution_count": 12,
      "outputs": [
        {
          "output_type": "stream",
          "name": "stdout",
          "text": [
            "1.315587028960544 0.2208380130273219\n"
          ]
        }
      ]
    },
    {
      "cell_type": "markdown",
      "source": [
        "# Statistical Modelling"
      ],
      "metadata": {
        "id": "hsuDqnzPl3Js"
      }
    },
    {
      "cell_type": "markdown",
      "source": [
        " - A Statistical Model is a mathematical equation, which explains the relationship between dependent variables (Y) and independent variables (X).\n",
        " - In general, a model is written as Y = f(X)\n",
        "However, in reality, an element of uncertainty is expected due to factors such as measurement noise. Hence the aforementioned equation can be rewritten as Y = f(X) + e   'e' is residual error\n",
        "\n",
        "**Statistical Modelling**\n",
        "- Statistical Modelling deals with creating models that attempt to explain the data best.\n",
        "- The simplest model is a linear model represented as Y = B0 + B1*X + e, where the coefficients, B0 and B1 are the parameters of the model and e is normally distributed residual error.\n",
        "- A linear regression model assumes that residuals are independent and normally distributed.\n",
        "- The model is fitted to data using ordinary least squares approach.\n",
        "\n",
        "**Linear Models**\n",
        " - In most of the linear regression models, a dependent variable y is written as :\n",
        " - a linear combination of the response variables X i.e y = B0 + B1*X1 + ... + Bn*Xn, or\n",
        "functions of the response variables i.e y = B0 + B1*X + B2*x^2 + ... + Bn*X^n, or\n",
        " - models that have a linear component i.e y = B0 + B1*sin(X1) + B2*cos(X2)\n",
        "\n",
        "**Non-Linear Models**\n",
        " - Other than linear regression models, statistical modeling can be used to build non-linear models.\n",
        "\n",
        " - Errors of dependent variable follow a distribution other than normal distribution.\n",
        "\n",
        " - Examples of non-linear models are: Binomial Regression and Poisson Regression.\n",
        "\n",
        " - In most of the cases, the non-linear models are generalized to linear models.\n",
        "\n",
        "**Design Matrices**\n",
        " - In reality, you choose a model and fit the available data to it.\n",
        "\n",
        " - Once a model is chosen, design matrices y and X are constructed, and the regression problem is written, in matrix form, as y = XB + e.\n",
        "\n",
        " - where y is the vector of dependent variables, X is the vector of independent variables, B is a vector of coefficients, and e is the residual (error).\n",
        "\n",
        " - Thus obtained design matrices are passed as inputs to the chosen model.\n",
        "\n",
        "**Statistical Modelling with StatsModels**\n",
        " - statsmodels library supports several types of statistical models.\n",
        "\n",
        " - All of them follow a similar usage pattern.\n",
        "\n",
        " - A Statistical model is represented by a model class.\n",
        "\n",
        " - A model can be initiated with,\n",
        "\n",
        "  - given design matrices of dependent and independent variables, or with\n",
        "  - given patsy formula and data frame or dictionary-like object.\n",
        "\n",
        "**Step 1: Creating a Model**\n",
        " - An instance of a model class is created in either of the following ways.\n",
        "\n",
        " - model = sm.MODEL(y, X) or\n",
        " - model = smf.model(patsy_formula, data)\n",
        " \n",
        " where MODEL and model refer to model names such as OLS, GLM, ols, glm, etc.\n",
        "\n",
        " Uppercase names take design matrices as arguments, and lowercase names take Patsy formulas and data frames as arguments.\n",
        "\n",
        "**Step 2: Fitting a Model**\n",
        "\n",
        "In order to fit the model with data, fit method is invoked on the created model, as shown below.\n",
        "\n",
        " - result = model.fit()\n",
        "\n",
        "The fit method returns a result object, which has methods and attributes for further analysis.\n",
        "\n",
        "\n",
        "**Step 3: Viewing Model Summary**\n",
        " - The summary method of result object produces a summary text that describes the result of the fit, as shown below.\n",
        "\n",
        " - print(result.summary())\n",
        "\n",
        " - The displayed summary text varies for each statistical model and provides information of various statistical parameters.\n",
        "\n",
        "**Step 4: Analyzing the Model Further**\n",
        "Other than viewing summary statistics, you can perform activities like,\n",
        "\n",
        " - Determining fitted values,\n",
        " - Predicting the dependent variable values for new independent variable values.\n",
        " - Checking if residuals of fitted models follow a normal distribution or not."
      ],
      "metadata": {
        "id": "g6zwJURWKUZW"
      }
    },
    {
      "cell_type": "markdown",
      "source": [
        "# Statistical modelling with Patsy"
      ],
      "metadata": {
        "id": "q1iUfPzGMFY8"
      }
    },
    {
      "cell_type": "markdown",
      "source": [
        "**Constructing Design Matrices**\n",
        "\n",
        "The below example shows calculation of design matrices, y, and X, for the considered linear model Y = B0 + B1*X1 + B2*X2 + B3*X1*X2."
      ],
      "metadata": {
        "id": "XUDQ2TTeMKWB"
      }
    },
    {
      "cell_type": "code",
      "source": [
        "import numpy as np\n",
        "\n",
        "y = np.array([1, 2, 3, 4, 5])\n",
        "x1 = np.array([6, 7, 8, 9, 10])\n",
        "x2 = np.array([11, 12, 13, 14, 15])\n",
        "X = np.vstack([np.ones(5), x1, x2, x1*x2]).T\n",
        "\n",
        "print(y)\n",
        "print(X)\n",
        "\n",
        "# Thus obtained design matrices (y and X) can be passed to regression methods for obtaining the coefficient vector."
      ],
      "metadata": {
        "colab": {
          "base_uri": "https://localhost:8080/"
        },
        "id": "24nKf8WXirNG",
        "outputId": "2a8dcaa5-aacd-4433-e1b7-657dba65d334"
      },
      "execution_count": 13,
      "outputs": [
        {
          "output_type": "stream",
          "name": "stdout",
          "text": [
            "[1 2 3 4 5]\n",
            "[[  1.   6.  11.  66.]\n",
            " [  1.   7.  12.  84.]\n",
            " [  1.   8.  13. 104.]\n",
            " [  1.   9.  14. 126.]\n",
            " [  1.  10.  15. 150.]]\n"
          ]
        }
      ]
    },
    {
      "cell_type": "markdown",
      "source": [
        "**Design Matrices with patsy**\n",
        " - patsy, a  python library, allows defining a model in simpler easily.\n",
        "\n",
        " - It also constructs relevant design matrices, automatically, using patsy.dmatrices function.\n",
        "\n",
        " - patsy.dmatrices takes a formula (in string form) as a first argument, and a dictionary-like object with data arrays for the response variables as second arguments."
      ],
      "metadata": {
        "id": "Uu_qVorUMg8W"
      }
    },
    {
      "cell_type": "code",
      "source": [
        "import patsy\n",
        "import numpy as np\n",
        "\n",
        "y = np.array([1, 2, 3, 4, 5])\n",
        "x1 = np.array([6, 7, 8, 9, 10])\n",
        "x2 = np.array([11, 12, 13, 14, 15])\n",
        "data = {'y':y, 'x1':x1, 'x2':x2}\n",
        "\n",
        "y, X = patsy.dmatrices('y ~ 1 + x1 + x2 + x1*x2', data)\n",
        "\n",
        "print(y)\n",
        "print(X)"
      ],
      "metadata": {
        "colab": {
          "base_uri": "https://localhost:8080/"
        },
        "id": "G3H28KuYMUt2",
        "outputId": "95274ac2-dac7-4ee8-ea79-99c493e9abf8"
      },
      "execution_count": 14,
      "outputs": [
        {
          "output_type": "stream",
          "name": "stdout",
          "text": [
            "[[1.]\n",
            " [2.]\n",
            " [3.]\n",
            " [4.]\n",
            " [5.]]\n",
            "[[  1.   6.  11.  66.]\n",
            " [  1.   7.  12.  84.]\n",
            " [  1.   8.  13. 104.]\n",
            " [  1.   9.  14. 126.]\n",
            " [  1.  10.  15. 150.]]\n"
          ]
        }
      ]
    },
    {
      "cell_type": "markdown",
      "source": [
        "**Understanding patsy Formulae**\n",
        "\n",
        "Let's understand few patsy formulae provided below.\n",
        "\n",
        " - 'y ~ x' : y is linearly dependent on x. ~ symbol separates dependent variable from independent variable terms. It is also equivalent to 'y ~ 1 + x'.\n",
        "\n",
        " - 'y ~ x1 + x2' : y is a linear combination of x1 and x2. + sign is used to denote the union of terms.\n",
        "\n",
        " - y ~ x1*x2 : x1*x2 is an interaction term that includes all lower order terms. Hence formula is equivalent to y ~ 1 + x1 + x2 + x1*x2.\n",
        "\n",
        "  - 'y ~ np.log(x1)': Often numpy functions can be used to transform terms in the expression.\n",
        "\n",
        " - 'y ~ I(x1 + x2)': I is the identify function, used to escape arithmetic expressions and are evaluated.\n",
        "\n",
        " - 'y ~ C(x1)': Treats the variable x1 as a categorical variable.\n",
        "\n",
        "**Example Datasets**\n",
        " - statsmodels contain few popular example datasets, which can be used to explore various utilities of the package.\n",
        "\n",
        " - The example data sets are available in datasets module.\n",
        "\n",
        " - Each dataset is associated with special variables like SOURCE, DESCSHORT, DESCLONG, that provide more info about the dataset.\n",
        "\n",
        " - A dataset can be loaded using load function, and its data can be accessed using data attribute in the form of Numpy's recarray.\n",
        "\n",
        "**Loading Example Datasets**\n",
        " - The below example shows loading of popular breast cancer dataset and accessing its data as numpy array."
      ],
      "metadata": {
        "id": "HnSG4oDCMrWW"
      }
    },
    {
      "cell_type": "code",
      "source": [
        "import statsmodels.api as sm\n",
        "\n",
        "bc_cancer_set = sm.datasets.cancer\n",
        "\n",
        "bc_cancer = bc_cancer_set.load()\n",
        "\n",
        "bc_cancer_data = bc_cancer.data\n",
        "\n",
        "print(type(bc_cancer_data))"
      ],
      "metadata": {
        "colab": {
          "base_uri": "https://localhost:8080/"
        },
        "id": "vfhNfUq3MofA",
        "outputId": "b1a518b4-9ff4-4285-b643-e31015aa43ab"
      },
      "execution_count": 15,
      "outputs": [
        {
          "output_type": "stream",
          "name": "stdout",
          "text": [
            "<class 'numpy.recarray'>\n"
          ]
        }
      ]
    },
    {
      "cell_type": "markdown",
      "source": [
        "**Loading R Datasets**\n",
        "\n",
        "statsmodels package provides access to many example datasets of R, listed at R Datasets repository (https://vincentarelbundock.github.io/Rdatasets/datasets.html)\n",
        "\n",
        "The below example loads Icecream dataset from Ecdat package.\n",
        "\n",
        "The data is accessible via data attribute, as a pandas data frame."
      ],
      "metadata": {
        "id": "0mujrDGlNM64"
      }
    },
    {
      "cell_type": "code",
      "source": [
        "import statsmodels.api as sm\n",
        "\n",
        "icecream_data = sm.datasets.get_rdataset('Icecream', 'Ecdat')\n",
        "data = icecream_data.data\n",
        "\n",
        "print(icecream_data.data.shape)"
      ],
      "metadata": {
        "colab": {
          "base_uri": "https://localhost:8080/"
        },
        "id": "86hVGk3yNJKS",
        "outputId": "e6050b6c-1897-4b33-b358-4f771cdb35fe"
      },
      "execution_count": 16,
      "outputs": [
        {
          "output_type": "stream",
          "name": "stdout",
          "text": [
            "(30, 4)\n"
          ]
        }
      ]
    },
    {
      "cell_type": "markdown",
      "source": [
        "# StatsModel"
      ],
      "metadata": {
        "id": "9f_uZ2_Ho41F"
      }
    },
    {
      "cell_type": "markdown",
      "source": [
        "Let's understand how to fit a linear regression model for Icecream dataset available from R Data Repository."
      ],
      "metadata": {
        "id": "vHocUrPDpCc8"
      }
    },
    {
      "cell_type": "code",
      "source": [
        "import statsmodels.api as sm\n",
        "\n",
        "icecream = sm.datasets.get_rdataset(\"Icecream\", \"Ecdat\")\n",
        "\n",
        "icecream_data = icecream.data\n",
        "\n",
        "print(icecream_data.columns)"
      ],
      "metadata": {
        "colab": {
          "base_uri": "https://localhost:8080/"
        },
        "id": "lMG59u_No8Gy",
        "outputId": "9748d45c-aaad-46b1-e553-8d2211fa68a2"
      },
      "execution_count": 17,
      "outputs": [
        {
          "output_type": "stream",
          "name": "stdout",
          "text": [
            "Index(['cons', 'income', 'price', 'temp'], dtype='object')\n"
          ]
        }
      ]
    },
    {
      "cell_type": "markdown",
      "source": [
        "The icecream_data dataset is a pandas data frame. It contains four variables: cons (consumption), income, price, and temp (temperature).\n",
        "\n",
        "**Choosing a Model**\n",
        "\n",
        "Initially, let's model consumption with price and temperature, as a linear model.\n",
        "\n",
        "The patsy formula for assumed model is: cons ~ price + temp\n",
        "\n",
        "**Creating, Fitting and viewing Summary of a Model**"
      ],
      "metadata": {
        "id": "a912MVC5pPIv"
      }
    },
    {
      "cell_type": "code",
      "source": [
        "import statsmodels.formula.api as smf\n",
        "\n",
        "linear_model1 = smf.ols('cons ~ price + temp', icecream_data)\n",
        "linear_result1 = linear_model1.fit()\n",
        "print(linear_result1.summary())"
      ],
      "metadata": {
        "colab": {
          "base_uri": "https://localhost:8080/"
        },
        "id": "gP7Io0LrpFm6",
        "outputId": "b7dd84ed-c926-47a9-e6fc-9927f45e57d5"
      },
      "execution_count": 18,
      "outputs": [
        {
          "output_type": "stream",
          "name": "stdout",
          "text": [
            "                            OLS Regression Results                            \n",
            "==============================================================================\n",
            "Dep. Variable:                   cons   R-squared:                       0.633\n",
            "Model:                            OLS   Adj. R-squared:                  0.606\n",
            "Method:                 Least Squares   F-statistic:                     23.27\n",
            "Date:                Wed, 21 Sep 2022   Prob (F-statistic):           1.34e-06\n",
            "Time:                        09:59:05   Log-Likelihood:                 54.607\n",
            "No. Observations:                  30   AIC:                            -103.2\n",
            "Df Residuals:                      27   BIC:                            -99.01\n",
            "Df Model:                           2                                         \n",
            "Covariance Type:            nonrobust                                         \n",
            "==============================================================================\n",
            "                 coef    std err          t      P>|t|      [0.025      0.975]\n",
            "------------------------------------------------------------------------------\n",
            "Intercept      0.5966      0.258      2.309      0.029       0.067       1.127\n",
            "price         -1.4018      0.925     -1.515      0.141      -3.300       0.496\n",
            "temp           0.0030      0.000      6.448      0.000       0.002       0.004\n",
            "==============================================================================\n",
            "Omnibus:                        0.991   Durbin-Watson:                   0.656\n",
            "Prob(Omnibus):                  0.609   Jarque-Bera (JB):                0.220\n",
            "Skew:                          -0.107   Prob(JB):                        0.896\n",
            "Kurtosis:                       3.361   Cond. No.                     6.58e+03\n",
            "==============================================================================\n",
            "\n",
            "Notes:\n",
            "[1] Standard Errors assume that the covariance matrix of the errors is correctly specified.\n",
            "[2] The condition number is large, 6.58e+03. This might indicate that there are\n",
            "strong multicollinearity or other numerical problems.\n"
          ]
        }
      ]
    },
    {
      "cell_type": "markdown",
      "source": [
        "**Analyzing the Model**\n",
        "\n",
        "The R-squared value of 0.633 suggests that model is not a proper fit.\n",
        "\n",
        "The probability value of coefficient price is high, i.e., 0.141. This accepts the null-hypothesis: the value of price coefficient is equal to zero.\n",
        "\n",
        "Hence, the variable price does not affect cons variable.\n",
        "\n",
        "**Model Recreation**\n",
        "\n",
        "Now let's create a new model by considered income and temp dependent variables.\n"
      ],
      "metadata": {
        "id": "r6Xj3HanqMgB"
      }
    },
    {
      "cell_type": "code",
      "source": [
        "linear_model2 = smf.ols('cons ~ income + temp', icecream_data)\n",
        "\n",
        "linear_result2 = linear_model2.fit()\n",
        "\n",
        "print(linear_result2.summary())"
      ],
      "metadata": {
        "colab": {
          "base_uri": "https://localhost:8080/"
        },
        "id": "rErE5d2pp1cI",
        "outputId": "35207b53-939f-410e-bbc9-9e0327e56240"
      },
      "execution_count": 19,
      "outputs": [
        {
          "output_type": "stream",
          "name": "stdout",
          "text": [
            "                            OLS Regression Results                            \n",
            "==============================================================================\n",
            "Dep. Variable:                   cons   R-squared:                       0.702\n",
            "Model:                            OLS   Adj. R-squared:                  0.680\n",
            "Method:                 Least Squares   F-statistic:                     31.81\n",
            "Date:                Wed, 21 Sep 2022   Prob (F-statistic):           7.96e-08\n",
            "Time:                        09:59:05   Log-Likelihood:                 57.742\n",
            "No. Observations:                  30   AIC:                            -109.5\n",
            "Df Residuals:                      27   BIC:                            -105.3\n",
            "Df Model:                           2                                         \n",
            "Covariance Type:            nonrobust                                         \n",
            "==============================================================================\n",
            "                 coef    std err          t      P>|t|      [0.025      0.975]\n",
            "------------------------------------------------------------------------------\n",
            "Intercept     -0.1132      0.108     -1.045      0.305      -0.335       0.109\n",
            "income         0.0035      0.001      3.017      0.006       0.001       0.006\n",
            "temp           0.0035      0.000      7.963      0.000       0.003       0.004\n",
            "==============================================================================\n",
            "Omnibus:                        2.264   Durbin-Watson:                   1.003\n",
            "Prob(Omnibus):                  0.322   Jarque-Bera (JB):                1.094\n",
            "Skew:                           0.386   Prob(JB):                        0.579\n",
            "Kurtosis:                       3.528   Cond. No.                     1.56e+03\n",
            "==============================================================================\n",
            "\n",
            "Notes:\n",
            "[1] Standard Errors assume that the covariance matrix of the errors is correctly specified.\n",
            "[2] The condition number is large, 1.56e+03. This might indicate that there are\n",
            "strong multicollinearity or other numerical problems.\n"
          ]
        }
      ]
    },
    {
      "cell_type": "markdown",
      "source": [
        "R-squared value improved to 0.702, suggesting this is a better model than previous one.\n",
        "\n",
        "Probability values of income and temp are low, indicating they are highly significant to cons.\n",
        "\n",
        "The probability value of Intercept is too high.\n",
        "\n",
        "Now let's create a new model without considering intercept term."
      ],
      "metadata": {
        "id": "-0slwi02q_fV"
      }
    },
    {
      "cell_type": "code",
      "source": [
        "linear_model3 = smf.ols('cons ~ -1 + income + temp', icecream_data)\n",
        "\n",
        "linear_result3 = linear_model3.fit()\n",
        "\n",
        "print(linear_result3.summary())"
      ],
      "metadata": {
        "colab": {
          "base_uri": "https://localhost:8080/"
        },
        "id": "BG37SHB-qxlS",
        "outputId": "724a441c-88e4-4d03-9d3d-371bba2f0d13"
      },
      "execution_count": 20,
      "outputs": [
        {
          "output_type": "stream",
          "name": "stdout",
          "text": [
            "                                 OLS Regression Results                                \n",
            "=======================================================================================\n",
            "Dep. Variable:                   cons   R-squared (uncentered):                   0.990\n",
            "Model:                            OLS   Adj. R-squared (uncentered):              0.990\n",
            "Method:                 Least Squares   F-statistic:                              1426.\n",
            "Date:                Wed, 21 Sep 2022   Prob (F-statistic):                    6.77e-29\n",
            "Time:                        09:59:05   Log-Likelihood:                          57.146\n",
            "No. Observations:                  30   AIC:                                     -110.3\n",
            "Df Residuals:                      28   BIC:                                     -107.5\n",
            "Df Model:                           2                                                  \n",
            "Covariance Type:            nonrobust                                                  \n",
            "==============================================================================\n",
            "                 coef    std err          t      P>|t|      [0.025      0.975]\n",
            "------------------------------------------------------------------------------\n",
            "income         0.0023      0.000      9.906      0.000       0.002       0.003\n",
            "temp           0.0033      0.000      8.571      0.000       0.003       0.004\n",
            "==============================================================================\n",
            "Omnibus:                        3.584   Durbin-Watson:                   0.887\n",
            "Prob(Omnibus):                  0.167   Jarque-Bera (JB):                2.089\n",
            "Skew:                           0.508   Prob(JB):                        0.352\n",
            "Kurtosis:                       3.798   Cond. No.                         6.45\n",
            "==============================================================================\n",
            "\n",
            "Notes:\n",
            "[1] R² is computed without centering (uncentered) since the model does not contain a constant.\n",
            "[2] Standard Errors assume that the covariance matrix of the errors is correctly specified.\n"
          ]
        }
      ]
    },
    {
      "cell_type": "code",
      "source": [
        "# Load the R dataset mtcars.\n",
        "# Capture the data as pandas dataframes.\n",
        "# Build a linear regression model with independent variable wt, and dependent variable mpg\n",
        "# Fit the model with data, and dispaly the R-Squared value\n",
        "\n",
        "import statsmodels.api as sm\n",
        "import statsmodels.formula.api as smf\n",
        "\n",
        "cars = sm.datasets.get_rdataset(\"mtcars\", \"datasets\")\n",
        "data = cars.data\n",
        "\n",
        "linear_model1 = smf.ols('mpg ~ wt', data)\n",
        "linear_result1 = linear_model1.fit()\n",
        "\n",
        "print(round(linear_result1.rsquared,3))\n"
      ],
      "metadata": {
        "colab": {
          "base_uri": "https://localhost:8080/"
        },
        "id": "MMeZoDZqrIhL",
        "outputId": "3b0b9ee9-9bc1-46b7-cbe0-739d802fa87b"
      },
      "execution_count": 21,
      "outputs": [
        {
          "output_type": "stream",
          "name": "stdout",
          "text": [
            "0.753\n"
          ]
        }
      ]
    },
    {
      "cell_type": "markdown",
      "source": [
        "To improve the rsquared values, taking log of both dependent and independent variable"
      ],
      "metadata": {
        "id": "RaaSSH3TvMCC"
      }
    },
    {
      "cell_type": "code",
      "source": [
        "import statsmodels.api as sm\n",
        "import statsmodels.formula.api as smf\n",
        "import numpy as np\n",
        "\n",
        "cars = sm.datasets.get_rdataset(\"mtcars\", \"datasets\")\n",
        "data = cars.data\n",
        "\n",
        "linear_model1 = smf.ols('np.log(mpg) ~ np.log(wt)', data)\n",
        "linear_result1 = linear_model1.fit()\n",
        "\n",
        "print(round(linear_result1.rsquared,3))"
      ],
      "metadata": {
        "colab": {
          "base_uri": "https://localhost:8080/"
        },
        "id": "ysM6nWuHuM67",
        "outputId": "daf3d601-f975-4194-fa53-3317338c0fc4"
      },
      "execution_count": 22,
      "outputs": [
        {
          "output_type": "stream",
          "name": "stdout",
          "text": [
            "0.806\n"
          ]
        }
      ]
    },
    {
      "cell_type": "markdown",
      "source": [
        "**Discrete Regression - Introduction**\n",
        "\n",
        "A discrete dependent variable takes few possible outcome values and is not normally distributed.\n",
        "\n",
        "Hence, linear regression cannot be applied to a discrete variable.\n",
        "\n",
        "**Discrete Regression models**\n",
        "\n",
        "statsmodels provide the following classes to work with discrete regression problems.\n",
        "\n",
        "Logit: for Logistic Regression\n",
        "MNLogit: for Multinomial Logistic Regression\n",
        "Poisson: for Poisson Regression\n"
      ],
      "metadata": {
        "id": "AIEJ2w1eBJQu"
      }
    },
    {
      "cell_type": "markdown",
      "source": [
        "Now, let's understand how to perform logistic regression using statsmodels with the following steps:\n",
        "\n",
        " - Download the popular iris data set (containing data of 3 species) from R repository.\n",
        " - Subset the data of only two species.\n",
        " - Perform transformations, if required.\n",
        " - Define a patsy formula and create a model using logit.\n",
        " - Fit the model with supplied data.\n",
        " - View summary of the model.\n",
        "\n",
        "\n",
        " **Loading the dataset**"
      ],
      "metadata": {
        "id": "BLhMumXFG1Vv"
      }
    },
    {
      "cell_type": "code",
      "source": [
        "import statsmodels.api as sm\n",
        "import statsmodels.formula.api as smf\n",
        "import numpy as np\n",
        "import pandas as pd\n",
        "\n",
        "iris = sm.datasets.get_rdataset(\"iris\").data \n",
        "iris.info()\n",
        "iris.Species.unique() "
      ],
      "metadata": {
        "colab": {
          "base_uri": "https://localhost:8080/"
        },
        "id": "7QdiAbsLHlx8",
        "outputId": "5c3bbf5d-a413-4b98-ee53-657bc9e4666d"
      },
      "execution_count": 23,
      "outputs": [
        {
          "output_type": "stream",
          "name": "stdout",
          "text": [
            "<class 'pandas.core.frame.DataFrame'>\n",
            "RangeIndex: 150 entries, 0 to 149\n",
            "Data columns (total 5 columns):\n",
            " #   Column        Non-Null Count  Dtype  \n",
            "---  ------        --------------  -----  \n",
            " 0   Sepal.Length  150 non-null    float64\n",
            " 1   Sepal.Width   150 non-null    float64\n",
            " 2   Petal.Length  150 non-null    float64\n",
            " 3   Petal.Width   150 non-null    float64\n",
            " 4   Species       150 non-null    object \n",
            "dtypes: float64(4), object(1)\n",
            "memory usage: 6.0+ KB\n"
          ]
        },
        {
          "output_type": "execute_result",
          "data": {
            "text/plain": [
              "array(['setosa', 'versicolor', 'virginica'], dtype=object)"
            ]
          },
          "metadata": {},
          "execution_count": 23
        }
      ]
    },
    {
      "cell_type": "markdown",
      "source": [
        "As seen in the previous example, iris dataset contains details of three types of species.\n",
        "\n",
        "In a logistic regression, the response variable refers to only two type of categories. Hence, data of two species is filtered and considered in further steps."
      ],
      "metadata": {
        "id": "ow0tvXg7HsJb"
      }
    },
    {
      "cell_type": "code",
      "source": [
        "# Sub setting\n",
        "iris_subset = iris[(iris.Species == \"versicolor\") | (iris.Species == \"virginica\")].copy()\n",
        "\n",
        "print(iris_subset.Species.unique())"
      ],
      "metadata": {
        "colab": {
          "base_uri": "https://localhost:8080/"
        },
        "id": "JiNBe24SHv8K",
        "outputId": "ea1c7369-824c-4a8a-9ab8-975ae4ca2a5c"
      },
      "execution_count": 24,
      "outputs": [
        {
          "output_type": "stream",
          "name": "stdout",
          "text": [
            "['versicolor' 'virginica']\n"
          ]
        }
      ]
    },
    {
      "cell_type": "markdown",
      "source": [
        "**Applying Transformations**\n",
        "\n",
        "A binary variable corresponding to two species is created using map function as shown below."
      ],
      "metadata": {
        "id": "65KVIWk2H9A0"
      }
    },
    {
      "cell_type": "code",
      "source": [
        "df_subset = iris[(iris.Species == \"versicolor\") | (iris.Species == \"virginica\" )].copy()\n",
        "# period characters, present in column names are replaced with underscore characters.\n",
        "\n",
        "df_subset.Species = df_subset.Species.map({\"versicolor\": 1, \"virginica\": 0}) \n",
        "\n",
        "df_subset.rename(columns={\"Sepal.Length\": \"Sepal_Length\", \"Sepal.Width\": \"Sepal_Width\",\t\n",
        "                          \"Petal.Length\": \"Petal_Length\", \"Petal.Width\": \"Petal_Width\"}, inplace=True) "
      ],
      "metadata": {
        "id": "_vAb-556IDQ7"
      },
      "execution_count": 25,
      "outputs": []
    },
    {
      "cell_type": "markdown",
      "source": [
        "A logistic regression model, explaining relationship of Species variable with Petal_Length and Petal_width is generated using logit function.\n",
        "\n",
        "The appropriate patsy formula is passed as argument to logit function."
      ],
      "metadata": {
        "id": "qtWOIXnjIVOs"
      }
    },
    {
      "cell_type": "code",
      "source": [
        "model = smf.logit(\"Species ~ Petal_Length + Petal_Width\", data=df_subset)\n",
        "result = model.fit()\n",
        "print(result.summary())"
      ],
      "metadata": {
        "colab": {
          "base_uri": "https://localhost:8080/"
        },
        "id": "8cglJj4kIZSj",
        "outputId": "94e2ec0a-bcc2-4440-a16a-777033ed766e"
      },
      "execution_count": 26,
      "outputs": [
        {
          "output_type": "stream",
          "name": "stdout",
          "text": [
            "Optimization terminated successfully.\n",
            "         Current function value: 0.102818\n",
            "         Iterations 10\n",
            "                           Logit Regression Results                           \n",
            "==============================================================================\n",
            "Dep. Variable:                Species   No. Observations:                  100\n",
            "Model:                          Logit   Df Residuals:                       97\n",
            "Method:                           MLE   Df Model:                            2\n",
            "Date:                Wed, 21 Sep 2022   Pseudo R-squ.:                  0.8517\n",
            "Time:                        09:59:06   Log-Likelihood:                -10.282\n",
            "converged:                       True   LL-Null:                       -69.315\n",
            "Covariance Type:            nonrobust   LLR p-value:                 2.303e-26\n",
            "================================================================================\n",
            "                   coef    std err          z      P>|z|      [0.025      0.975]\n",
            "--------------------------------------------------------------------------------\n",
            "Intercept       45.2723     13.612      3.326      0.001      18.594      71.951\n",
            "Petal_Length    -5.7545      2.306     -2.496      0.013     -10.274      -1.235\n",
            "Petal_Width    -10.4467      3.756     -2.782      0.005     -17.808      -3.086\n",
            "================================================================================\n",
            "\n",
            "Possibly complete quasi-separation: A fraction 0.34 of observations can be\n",
            "perfectly predicted. This might indicate that there is complete\n",
            "quasi-separation. In this case some parameters will not be identified.\n"
          ]
        }
      ]
    },
    {
      "cell_type": "markdown",
      "source": [
        "**Analyzing the Model**\n",
        "\n",
        "The model summary indicates that both Petal_Length and Petal_Width are statistically significant.\n",
        "\n",
        "For every unit change in Petal_Length, the log odds of being versicolor decreases by 5.75.\n",
        "\n",
        "For every unit change in Petal_Width, the log odds of being versicolor decreases by 10.44.\n",
        "\n",
        "Once satisfied with the model, it can be used to predict response variable value for new values of independent variables."
      ],
      "metadata": {
        "id": "IhcN1r1zInOU"
      }
    },
    {
      "cell_type": "markdown",
      "source": [
        "**Predicting Response Variable**\n",
        "\n",
        "Now, let's create 20 observations having random values of Petal_Length and Petal_Width.\n",
        "\n",
        "Use these 20 observations to predict values for Species."
      ],
      "metadata": {
        "id": "JQqDmgOqIyLz"
      }
    },
    {
      "cell_type": "code",
      "source": [
        "df_new = pd.DataFrame({\"Petal_Length\": np.random.randn(20)*0.5 + 5,\n",
        "                       \"Petal_Width\": np.random.randn(20)*0.5 + 1.7})\n",
        "df_new[\"P-Species\"] = result.predict(df_new)\n",
        "df_new[\"P-Species\"].head(3)\n",
        "\n",
        "df_new[\"Species\"] = (df_new[\"P-Species\"] > 0.5).astype(int)\n",
        "df_new.head()"
      ],
      "metadata": {
        "colab": {
          "base_uri": "https://localhost:8080/",
          "height": 206
        },
        "id": "BPDckIitI38z",
        "outputId": "57703c32-8c93-4c9c-d9af-dd3beecb8355"
      },
      "execution_count": 27,
      "outputs": [
        {
          "output_type": "execute_result",
          "data": {
            "text/plain": [
              "   Petal_Length  Petal_Width  P-Species  Species\n",
              "0      4.799561     2.508475   0.000193        0\n",
              "1      5.412003     1.951370   0.001914        0\n",
              "2      4.718847     2.479403   0.000416        0\n",
              "3      5.977439     1.754701   0.000578        0\n",
              "4      4.334024     1.090128   0.999869        1"
            ],
            "text/html": [
              "\n",
              "  <div id=\"df-7652f81e-4be5-4ac5-84d6-79e55cd38d3d\">\n",
              "    <div class=\"colab-df-container\">\n",
              "      <div>\n",
              "<style scoped>\n",
              "    .dataframe tbody tr th:only-of-type {\n",
              "        vertical-align: middle;\n",
              "    }\n",
              "\n",
              "    .dataframe tbody tr th {\n",
              "        vertical-align: top;\n",
              "    }\n",
              "\n",
              "    .dataframe thead th {\n",
              "        text-align: right;\n",
              "    }\n",
              "</style>\n",
              "<table border=\"1\" class=\"dataframe\">\n",
              "  <thead>\n",
              "    <tr style=\"text-align: right;\">\n",
              "      <th></th>\n",
              "      <th>Petal_Length</th>\n",
              "      <th>Petal_Width</th>\n",
              "      <th>P-Species</th>\n",
              "      <th>Species</th>\n",
              "    </tr>\n",
              "  </thead>\n",
              "  <tbody>\n",
              "    <tr>\n",
              "      <th>0</th>\n",
              "      <td>4.799561</td>\n",
              "      <td>2.508475</td>\n",
              "      <td>0.000193</td>\n",
              "      <td>0</td>\n",
              "    </tr>\n",
              "    <tr>\n",
              "      <th>1</th>\n",
              "      <td>5.412003</td>\n",
              "      <td>1.951370</td>\n",
              "      <td>0.001914</td>\n",
              "      <td>0</td>\n",
              "    </tr>\n",
              "    <tr>\n",
              "      <th>2</th>\n",
              "      <td>4.718847</td>\n",
              "      <td>2.479403</td>\n",
              "      <td>0.000416</td>\n",
              "      <td>0</td>\n",
              "    </tr>\n",
              "    <tr>\n",
              "      <th>3</th>\n",
              "      <td>5.977439</td>\n",
              "      <td>1.754701</td>\n",
              "      <td>0.000578</td>\n",
              "      <td>0</td>\n",
              "    </tr>\n",
              "    <tr>\n",
              "      <th>4</th>\n",
              "      <td>4.334024</td>\n",
              "      <td>1.090128</td>\n",
              "      <td>0.999869</td>\n",
              "      <td>1</td>\n",
              "    </tr>\n",
              "  </tbody>\n",
              "</table>\n",
              "</div>\n",
              "      <button class=\"colab-df-convert\" onclick=\"convertToInteractive('df-7652f81e-4be5-4ac5-84d6-79e55cd38d3d')\"\n",
              "              title=\"Convert this dataframe to an interactive table.\"\n",
              "              style=\"display:none;\">\n",
              "        \n",
              "  <svg xmlns=\"http://www.w3.org/2000/svg\" height=\"24px\"viewBox=\"0 0 24 24\"\n",
              "       width=\"24px\">\n",
              "    <path d=\"M0 0h24v24H0V0z\" fill=\"none\"/>\n",
              "    <path d=\"M18.56 5.44l.94 2.06.94-2.06 2.06-.94-2.06-.94-.94-2.06-.94 2.06-2.06.94zm-11 1L8.5 8.5l.94-2.06 2.06-.94-2.06-.94L8.5 2.5l-.94 2.06-2.06.94zm10 10l.94 2.06.94-2.06 2.06-.94-2.06-.94-.94-2.06-.94 2.06-2.06.94z\"/><path d=\"M17.41 7.96l-1.37-1.37c-.4-.4-.92-.59-1.43-.59-.52 0-1.04.2-1.43.59L10.3 9.45l-7.72 7.72c-.78.78-.78 2.05 0 2.83L4 21.41c.39.39.9.59 1.41.59.51 0 1.02-.2 1.41-.59l7.78-7.78 2.81-2.81c.8-.78.8-2.07 0-2.86zM5.41 20L4 18.59l7.72-7.72 1.47 1.35L5.41 20z\"/>\n",
              "  </svg>\n",
              "      </button>\n",
              "      \n",
              "  <style>\n",
              "    .colab-df-container {\n",
              "      display:flex;\n",
              "      flex-wrap:wrap;\n",
              "      gap: 12px;\n",
              "    }\n",
              "\n",
              "    .colab-df-convert {\n",
              "      background-color: #E8F0FE;\n",
              "      border: none;\n",
              "      border-radius: 50%;\n",
              "      cursor: pointer;\n",
              "      display: none;\n",
              "      fill: #1967D2;\n",
              "      height: 32px;\n",
              "      padding: 0 0 0 0;\n",
              "      width: 32px;\n",
              "    }\n",
              "\n",
              "    .colab-df-convert:hover {\n",
              "      background-color: #E2EBFA;\n",
              "      box-shadow: 0px 1px 2px rgba(60, 64, 67, 0.3), 0px 1px 3px 1px rgba(60, 64, 67, 0.15);\n",
              "      fill: #174EA6;\n",
              "    }\n",
              "\n",
              "    [theme=dark] .colab-df-convert {\n",
              "      background-color: #3B4455;\n",
              "      fill: #D2E3FC;\n",
              "    }\n",
              "\n",
              "    [theme=dark] .colab-df-convert:hover {\n",
              "      background-color: #434B5C;\n",
              "      box-shadow: 0px 1px 3px 1px rgba(0, 0, 0, 0.15);\n",
              "      filter: drop-shadow(0px 1px 2px rgba(0, 0, 0, 0.3));\n",
              "      fill: #FFFFFF;\n",
              "    }\n",
              "  </style>\n",
              "\n",
              "      <script>\n",
              "        const buttonEl =\n",
              "          document.querySelector('#df-7652f81e-4be5-4ac5-84d6-79e55cd38d3d button.colab-df-convert');\n",
              "        buttonEl.style.display =\n",
              "          google.colab.kernel.accessAllowed ? 'block' : 'none';\n",
              "\n",
              "        async function convertToInteractive(key) {\n",
              "          const element = document.querySelector('#df-7652f81e-4be5-4ac5-84d6-79e55cd38d3d');\n",
              "          const dataTable =\n",
              "            await google.colab.kernel.invokeFunction('convertToInteractive',\n",
              "                                                     [key], {});\n",
              "          if (!dataTable) return;\n",
              "\n",
              "          const docLinkHtml = 'Like what you see? Visit the ' +\n",
              "            '<a target=\"_blank\" href=https://colab.research.google.com/notebooks/data_table.ipynb>data table notebook</a>'\n",
              "            + ' to learn more about interactive tables.';\n",
              "          element.innerHTML = '';\n",
              "          dataTable['output_type'] = 'display_data';\n",
              "          await google.colab.output.renderOutput(dataTable, element);\n",
              "          const docLink = document.createElement('div');\n",
              "          docLink.innerHTML = docLinkHtml;\n",
              "          element.appendChild(docLink);\n",
              "        }\n",
              "      </script>\n",
              "    </div>\n",
              "  </div>\n",
              "  "
            ]
          },
          "metadata": {},
          "execution_count": 27
        }
      ]
    },
    {
      "cell_type": "code",
      "source": [
        "# Load r dataset biopsy from MASS package\n",
        "# Capture the data as pandas dataframe\n",
        "# Rename the column class to Class\n",
        "# Transform the Class coloumn values benign to 0 and malignant to 1.\n",
        "# Build a logistic regression model with independent variable V1 and dependent variable Class\n",
        "# Fit the model with data, and display the pseudo r squared value\n",
        "\n",
        "import statsmodels.api as sm\n",
        "import statsmodels.formula.api as smf\n",
        "import numpy as np\n",
        "import pandas as pd\n",
        "\n",
        "df = sm.datasets.get_rdataset(\"biopsy\", \"MASS\").data\n",
        "df.rename(columns = {'class':'Class'}, inplace = True)\n",
        "\n",
        "df.Class = df.Class.map({\"benign\":0, \"malignant\":1})\n",
        "\n",
        "model = smf.logit(\"Class ~ V1\", data=df)\n",
        "result = model.fit() \n",
        "print(round(result.prsquared,4))"
      ],
      "metadata": {
        "colab": {
          "base_uri": "https://localhost:8080/"
        },
        "id": "FcONSS9CvTYf",
        "outputId": "76071129-d392-4b4c-f93f-8b2b8cefbbdc"
      },
      "execution_count": 28,
      "outputs": [
        {
          "output_type": "stream",
          "name": "stdout",
          "text": [
            "Optimization terminated successfully.\n",
            "         Current function value: 0.331941\n",
            "         Iterations 7\n",
            "0.4847\n"
          ]
        }
      ]
    },
    {
      "cell_type": "markdown",
      "source": [
        "**Poisson Model**\n",
        "\n",
        "Poisson Model describes a process where dependent variable refers to success count of many attempts and each attempt has a very low probability of success.\n",
        "\n",
        "Let's understand how to fit a Poisson regression model for a data set available at UCLA repository.\n",
        "\n",
        "The dataset contains details of a number of awards earned, type of program enrolled, and score obtained in final math exam by students at a high school.\n",
        "\n",
        "**Loading the Dataset**\n",
        "The dataset is fetched as a pandas data frame as shown belo"
      ],
      "metadata": {
        "id": "_5UiHjwGJOfM"
      }
    },
    {
      "cell_type": "code",
      "source": [
        "import pandas as pd\n",
        "\n",
        "awards_df = pd.read_csv(\"https://stats.idre.ucla.edu/stat/data/poisson_sim.csv\")\n",
        "\n",
        "print(awards_df.head(3))\n",
        "\n",
        "# There are three type of programs enrolled by a student : 1 - \"General\", 2 - \"Academic\", 3 - \"Vocational\""
      ],
      "metadata": {
        "colab": {
          "base_uri": "https://localhost:8080/"
        },
        "id": "AhrPZInZGk8r",
        "outputId": "ee01bbc1-17cf-452a-fbe7-b54cb954a782"
      },
      "execution_count": 29,
      "outputs": [
        {
          "output_type": "stream",
          "name": "stdout",
          "text": [
            "    id  num_awards  prog  math\n",
            "0   45           0     3    41\n",
            "1  108           0     1    41\n",
            "2   15           0     3    44\n"
          ]
        }
      ]
    },
    {
      "cell_type": "code",
      "source": [
        "import statsmodels.formula.api as smf\n",
        "\n",
        "poisson_model = smf.poisson('num_awards ~ math + C(prog)', awards_df)\n",
        "poisson_model_result = poisson_model.fit()\n",
        "print(poisson_model_result.summary())"
      ],
      "metadata": {
        "colab": {
          "base_uri": "https://localhost:8080/"
        },
        "id": "fvgjyKQQNWi_",
        "outputId": "827f3e9d-ec07-4baa-fddf-500e03d1a855"
      },
      "execution_count": 30,
      "outputs": [
        {
          "output_type": "stream",
          "name": "stdout",
          "text": [
            "Optimization terminated successfully.\n",
            "         Current function value: 0.913761\n",
            "         Iterations 6\n",
            "                          Poisson Regression Results                          \n",
            "==============================================================================\n",
            "Dep. Variable:             num_awards   No. Observations:                  200\n",
            "Model:                        Poisson   Df Residuals:                      196\n",
            "Method:                           MLE   Df Model:                            3\n",
            "Date:                Wed, 21 Sep 2022   Pseudo R-squ.:                  0.2118\n",
            "Time:                        09:59:07   Log-Likelihood:                -182.75\n",
            "converged:                       True   LL-Null:                       -231.86\n",
            "Covariance Type:            nonrobust   LLR p-value:                 3.747e-21\n",
            "================================================================================\n",
            "                   coef    std err          z      P>|z|      [0.025      0.975]\n",
            "--------------------------------------------------------------------------------\n",
            "Intercept       -5.2471      0.658     -7.969      0.000      -6.538      -3.957\n",
            "C(prog)[T.2]     1.0839      0.358      3.025      0.002       0.382       1.786\n",
            "C(prog)[T.3]     0.3698      0.441      0.838      0.402      -0.495       1.234\n",
            "math             0.0702      0.011      6.619      0.000       0.049       0.091\n",
            "================================================================================\n"
          ]
        }
      ]
    },
    {
      "cell_type": "markdown",
      "source": [
        "**Analyzing Model Summary**\n",
        "\n",
        "\n",
        "The coefficient for math variable is 0.07, which means for every one unit increase in math, the log count increases by 0.07.\n",
        "\n",
        "Having enrolled for prog=2, i.e., \"Academic\", instead of \"Generic\" program, changes the log count by 1.08.\n",
        "\n",
        "Having enrolled for prog=3, i.e., \"Vocational\", instead of \"Generic\" program, changes the log count by 0.37."
      ],
      "metadata": {
        "id": "LNDh7fvcNn0W"
      }
    },
    {
      "cell_type": "code",
      "source": [
        "# Load r dataset Insurance from MASS package\n",
        "# Capture the data as pandas dataframe\n",
        "# Build a poisson regression model with log of an independent variable Holders and dependent variable Claims\n",
        "# Fit the model with data, and display the sum of residuals\n",
        "\n",
        "import statsmodels.api as sm\n",
        "import statsmodels.formula.api as smf\n",
        "import numpy as np\n",
        "import pandas as pd\n",
        "\n",
        "df = sm.datasets.get_rdataset(\"Insurance\", \"MASS\").data\n",
        "df = {'holders':df['Holders'],'claims':df['Claims']}\n",
        "model = smf.poisson(\"claims ~ np.log(holders)\", df)\n",
        "result = model.fit() \n",
        "print(np.cumsum(result.resid))\n"
      ],
      "metadata": {
        "colab": {
          "base_uri": "https://localhost:8080/"
        },
        "id": "_4gsulG7NeF_",
        "outputId": "7ceea228-47fb-44fb-e9d2-837a060e4ab8"
      },
      "execution_count": 31,
      "outputs": [
        {
          "output_type": "stream",
          "name": "stdout",
          "text": [
            "Optimization terminated successfully.\n",
            "         Current function value: 3.468160\n",
            "         Iterations 7\n",
            "0     5.224177e+00\n",
            "1    -1.766208e+00\n",
            "2    -2.132062e+01\n",
            "3    -6.637946e+01\n",
            "4    -4.804676e+01\n",
            "          ...     \n",
            "59   -1.579198e+01\n",
            "60   -1.674158e+01\n",
            "61   -1.465717e+01\n",
            "62   -1.236967e+01\n",
            "63    6.679102e-13\n",
            "Length: 64, dtype: float64\n"
          ]
        }
      ]
    },
    {
      "cell_type": "markdown",
      "source": [
        "**ANOVA Example**\n",
        "\n",
        "Let's now understand how to perform ANOVA of a fitted regression model.\n",
        "\n",
        "For this example, let's once again consider popular Icecream dataset, used in linear regression section."
      ],
      "metadata": {
        "id": "rkynKc9fVM4F"
      }
    },
    {
      "cell_type": "code",
      "source": [
        "# loading the model\n",
        "import statsmodels.api as sm\n",
        "\n",
        "icecream = sm.datasets.get_rdataset(\"Icecream\", \"Ecdat\")\n",
        "icecream_data = icecream.data\n",
        "\n",
        "# building the model\n",
        "\n",
        "import statsmodels.formula.api as smf\n",
        "\n",
        "model1 = smf.ols('cons ~ temp', icecream_data).fit()\n",
        "\n",
        "#A linear regression model of icecream consumption with temperature is built using ols method.\n",
        "\n",
        "# Now let's frame a null hypothesis: Value of B1, i.e., the coefficient of temp variable is zero."
      ],
      "metadata": {
        "id": "SR7vm2S3QqSw"
      },
      "execution_count": 32,
      "outputs": []
    },
    {
      "cell_type": "markdown",
      "source": [
        "**Creating ANOVA Table**\n",
        "\n",
        "anova_lm method from anova module of statsmodels library can be used for performing ANOVA."
      ],
      "metadata": {
        "id": "mrnu1jBKVkqb"
      }
    },
    {
      "cell_type": "code",
      "source": [
        "from statsmodels.stats import anova\n",
        "print(anova.anova_lm(model1))"
      ],
      "metadata": {
        "colab": {
          "base_uri": "https://localhost:8080/"
        },
        "id": "tYtCcw4SST4X",
        "outputId": "78678e23-b71b-420c-b475-e48828c4b7e2"
      },
      "execution_count": 33,
      "outputs": [
        {
          "output_type": "stream",
          "name": "stdout",
          "text": [
            "            df    sum_sq   mean_sq         F        PR(>F)\n",
            "temp       1.0  0.075514  0.075514  42.27997  4.789215e-07\n",
            "Residual  28.0  0.050009  0.001786       NaN           NaN\n"
          ]
        }
      ]
    },
    {
      "cell_type": "markdown",
      "source": [
        "The obtained F-statistic is 42.27 and has a very low probability.\n",
        "\n",
        "Hence, the null hypothesis can be rejected. i.e., B1 is not equal to zero.\n",
        "\n",
        "**Building New Model**\n",
        "\n",
        "Now let's create a new model with two independent variables and one response variable.\n",
        "\n",
        "With more that one independent variable, the null hypothesis is stated as Coefficients of all independent variables are zero. i.e B1 = 0, and B2 = 0.\n",
        "\n",
        "The alternative hypothesis will be that atleast one of the parameters Bj != 0 where j takes the values 1, 2, ..."
      ],
      "metadata": {
        "id": "fO12k5VeVzWV"
      }
    },
    {
      "cell_type": "code",
      "source": [
        "model2 = smf.ols('cons ~ income + temp', icecream_data).fit()\n",
        "print(anova.anova_lm(model2))"
      ],
      "metadata": {
        "colab": {
          "base_uri": "https://localhost:8080/"
        },
        "id": "six6RXTDVoG1",
        "outputId": "0e474673-f231-4e93-fa90-b84a09a680ad"
      },
      "execution_count": 34,
      "outputs": [
        {
          "output_type": "stream",
          "name": "stdout",
          "text": [
            "            df    sum_sq   mean_sq          F        PR(>F)\n",
            "income     1.0  0.000288  0.000288   0.208231  6.518069e-01\n",
            "temp       1.0  0.087836  0.087836  63.413711  1.470071e-08\n",
            "Residual  27.0  0.037399  0.001385        NaN           NaN\n"
          ]
        }
      ]
    },
    {
      "cell_type": "markdown",
      "source": [
        "The above table shows F-statistic corresponding to each independent variable.\n",
        "\n",
        "Calculation of F-statistic for the model is shown as following"
      ],
      "metadata": {
        "id": "b6JUe243WMN4"
      }
    },
    {
      "cell_type": "markdown",
      "source": [
        "**Determining F-Value**\n",
        "\n",
        "F-statistic is defined as Mean square of model/Mean square of residuals.\n",
        "\n",
        "Mean square of model is sum of squares values of all variables/degrees of freedom i.e (0.000288 + 0.087836)/2 = 0.044062.\n",
        "\n",
        "Hence, the F-statistic of model is (0.044062 / 0.001385) = 31.813.\n",
        "\n",
        "The probability of obtained F-statistic is 7.96*e-08 and is computed as shown below:"
      ],
      "metadata": {
        "id": "fdz9jye2WOit"
      }
    },
    {
      "cell_type": "code",
      "source": [
        "from scipy import stats\n",
        "\n",
        "print(stats.f.sf(31.81, 2, 27))"
      ],
      "metadata": {
        "colab": {
          "base_uri": "https://localhost:8080/"
        },
        "id": "ks_XtaqRWLWV",
        "outputId": "7fecc6ab-d943-4afb-a818-2a0b14927719"
      },
      "execution_count": 35,
      "outputs": [
        {
          "output_type": "stream",
          "name": "stdout",
          "text": [
            "7.959504548627583e-08\n"
          ]
        }
      ]
    },
    {
      "cell_type": "markdown",
      "source": [
        "Since the p-value is low, null hypothesis is rejected.\n",
        "\n",
        "**Comparing Two Models**\n",
        "\n",
        "ANOVA can also be used to compare two nested or related models.\n",
        "\n",
        "model1 regresses consumption with temperature and model2 with temperature and income.\n",
        "\n",
        "Below code verifies if the decrease in residuals sum of squares is significant or not"
      ],
      "metadata": {
        "id": "RakFETETWiXP"
      }
    },
    {
      "cell_type": "code",
      "source": [
        "print(anova.anova_lm(model1, model2))"
      ],
      "metadata": {
        "colab": {
          "base_uri": "https://localhost:8080/"
        },
        "id": "9E8jLw6oWaVq",
        "outputId": "0b5e28ea-d12e-45c5-95cb-26ee0a87924e"
      },
      "execution_count": 36,
      "outputs": [
        {
          "output_type": "stream",
          "name": "stdout",
          "text": [
            "   df_resid       ssr  df_diff   ss_diff         F    Pr(>F)\n",
            "0      28.0  0.050009      0.0       NaN       NaN       NaN\n",
            "1      27.0  0.037399      1.0  0.012611  9.104375  0.005506\n"
          ]
        }
      ]
    },
    {
      "cell_type": "markdown",
      "source": [
        "p-value i.e 0.005 from above table suggests the decrease in residual sum of squares in model2, compared to model1 is significant."
      ],
      "metadata": {
        "id": "QomzCztUXM0f"
      }
    },
    {
      "cell_type": "code",
      "source": [
        "# load the rdatasets mtcars\n",
        "# capture thre data as pandas dataframe\n",
        "# build a linear regresion model with independent variable wt and dependent variable mpg\n",
        "# fit the model with data\n",
        "# perform ANOVA on the linear model obtained in the previous step\n",
        "# display f-statistics value\n",
        "\n",
        "import statsmodels.api as sm\n",
        "import statsmodels.formula.api as smf\n",
        "import numpy as np\n",
        "import pandas as pd\n",
        "from statsmodels.stats import anova\n",
        "\n",
        "df = sm.datasets.get_rdataset(\"mtcars\", \"datasets\").data\n",
        "model = smf.ols(\"mpg ~ wt\", df)\n",
        "result = model.fit() \n",
        "print(round(anova.anova_lm(result).F[0],6))\n",
        "\n",
        "# using log on both dependednt and independent variable to  increase f-statistics\n",
        "model = smf.ols(\"np.log(mpg) ~ np.log(wt)\", df)\n",
        "result = model.fit() \n",
        "print(round(anova.anova_lm(result).F[0],6))"
      ],
      "metadata": {
        "colab": {
          "base_uri": "https://localhost:8080/"
        },
        "id": "Ri__MyltXDB_",
        "outputId": "3e70406e-09be-47be-8f5c-c37edc9cbfc3"
      },
      "execution_count": 37,
      "outputs": [
        {
          "output_type": "stream",
          "name": "stdout",
          "text": [
            "91.375325\n",
            "124.359619\n"
          ]
        }
      ]
    }
  ]
}