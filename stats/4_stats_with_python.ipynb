{
  "nbformat": 4,
  "nbformat_minor": 0,
  "metadata": {
    "colab": {
      "provenance": [],
      "collapsed_sections": [],
      "authorship_tag": "ABX9TyO0IaK5wiZ+uXt3XorGfKn8",
      "include_colab_link": true
    },
    "kernelspec": {
      "name": "python3",
      "display_name": "Python 3"
    },
    "language_info": {
      "name": "python"
    }
  },
  "cells": [
    {
      "cell_type": "markdown",
      "metadata": {
        "id": "view-in-github",
        "colab_type": "text"
      },
      "source": [
        "<a href=\"https://colab.research.google.com/github/vvtrip/ml_manifestations/blob/master/stats/4_stats_with_python.ipynb\" target=\"_parent\"><img src=\"https://colab.research.google.com/assets/colab-badge.svg\" alt=\"Open In Colab\"/></a>"
      ]
    },
    {
      "cell_type": "code",
      "execution_count": 1,
      "metadata": {
        "id": "ukp4c4WCrXv4"
      },
      "outputs": [],
      "source": [
        "import numpy as np\n",
        "from scipy import stats\n",
        "import statistics"
      ]
    },
    {
      "cell_type": "markdown",
      "source": [
        "# Basics"
      ],
      "metadata": {
        "id": "A7lj9v8Nx5n5"
      }
    },
    {
      "cell_type": "markdown",
      "source": [
        "**Descriptive Statistics** \n",
        " - it summaries a dataset, which helps in gaining insights, and making inferences about a dataset.\n",
        " - In general, we compute statistical measures of one or more samples, related to a population, and draw conclusions about the population.\n",
        " - Descriptive Statistics involves estimating centrality measures and measures of dispersion.\n",
        "\n",
        "**Centrality Measures**\n",
        " - It determine the center of a dataset.\n",
        " - The three major centrality measures are: mean, median, and mode.\n",
        "\n",
        "**Mean**\n",
        " - it is the sum of all values divided by a total number of values, of a data set.\n",
        " - mean function of numpy is used to compute mean of an array of numbers\n",
        "\n",
        "**Median**\n",
        " - it is the value that separates the given data set into two halves.\n",
        " - median function of numpy library can be used to compute median of a data set.\n",
        "\n",
        "**Mode**\n",
        " - it is the value that appears most often in a dataset is called the mode value.\n",
        " - mode function of scipy.stats module can be used for computing mode of a given data set.\n",
        "\n",
        "**Measures of Dispersion**\n",
        " - it provides insights on the spread of given dataset.\n",
        " - Major measures of dispersion are: range, percentile, inter-quartile range, standard deviation, variance, skewness, and kurtosis.\n",
        "\n",
        "\n",
        "**Range**\n",
        " - it is the difference between maximum and minimum values of the dataset.\n",
        "- import numpy as np\n",
        "- s1 = np.array([86, 47, 45, 47, 40])\n",
        "- print(np.ptp(s1))\n",
        "\n",
        "**Percentile**\n",
        " - it refers to a value, below which lies given the percentage of data points.\n",
        "\n",
        " - E.g., 45th percentile refers to a value below which 45% of data points are found.\n",
        " - percentile function of numpy can be used to compute a single or multiple percentiles.\n",
        "\n",
        "**Quartiles**\n",
        " - Three Quartiles namely, Q1 Q2 and Q3, split the entire dataset into four equal parts.\n",
        " - Each part contains 25% of data.\n",
        "\n",
        "**Inter Quartile Range (IQR)**\n",
        " - it refers to difference between third quartile (Q3) and first quartile (Q1).\n",
        " - iqr method from scipy.stats can be used for calculating it.\n",
        "\n",
        "**Variance**\n",
        " - it is defined as the average of squared differences, of each data point from dataset's mean.\n",
        "\n",
        "**Standard Deviation**\n",
        " - it is square root of variance.\n",
        " - var and std functions of numpy can be used for computing variance and standard deviation respectively.\n",
        " - By default, the functions assume that the dataset represents entire population.\n",
        "-  To represent a sample, derived from a population, ddof parameter(delta degree of freedom is set to 1.\n",
        "\n",
        "**Skewness**\n",
        "- it determines whether the majority of data points are present on one side of the distribution.\n",
        " - A positive value represents right skewed distribution; a negative value represents left skewed one, zero represent unskewed distribution.\n",
        "\n",
        "**Kurtosis**\n",
        " - Kurtosis indicates how much of data is concentrated around mean or shape of the probability distribution.\n",
        " - It can be estimated using kurtosis function of scipy.stats module.\n",
        " - By default, it uses Fisher’s definition. This can be changed to Pearson by setting fisher parameter to False."
      ],
      "metadata": {
        "id": "9-lByFuEtQBs"
      }
    },
    {
      "cell_type": "code",
      "source": [
        "s = [26, 15, 8, 44, 26, 13, 38, 24, 17, 29]\n",
        "print(f\"Mean is {np.mean(s)}\")\n",
        "print(f\"Meadian is {np.median(s)}\")\n",
        "print(f\"Mode is {stats.mode(s)}, {stats.mode(s)[0][0]}\")\n",
        "print(f\"without interpolation 1st and 3rd quartiles are {np.percentile(s,[25,75])}\")\n",
        "print(f\"without interpolation IQR through scipy.stats is {stats.iqr(s, rng=(25,75))}\")\n",
        "print(f\"with interpolation 1st and 3rd quartiles are {np.percentile(s,[25,75], interpolation='lower')}\")\n",
        "print(f\"with interpolation IQR through scipy.stats is {stats.iqr(s, rng=(25,75), interpolation='lower')}\")\n",
        "print(f\"Skewness is {round(stats.skew(s),2)}\")\n",
        "print(f\"Kurtosis is {round(stats.kurtosis(s),2)}\")"
      ],
      "metadata": {
        "colab": {
          "base_uri": "https://localhost:8080/"
        },
        "id": "KWtF5lShrg3Y",
        "outputId": "7098896a-af78-4594-c31a-a84e24a39e00"
      },
      "execution_count": 2,
      "outputs": [
        {
          "output_type": "stream",
          "name": "stdout",
          "text": [
            "Mean is 24.0\n",
            "Meadian is 25.0\n",
            "Mode is ModeResult(mode=array([26]), count=array([2])), 26\n",
            "without interpolation 1st and 3rd quartiles are [15.5  28.25]\n",
            "without interpolation IQR through scipy.stats is 12.75\n",
            "with interpolation 1st and 3rd quartiles are [15 26]\n",
            "with interpolation IQR through scipy.stats is 11\n",
            "Skewness is 0.36\n",
            "Kurtosis is -0.77\n"
          ]
        }
      ]
    },
    {
      "cell_type": "markdown",
      "source": [
        "# Random Variables, Random Numbers and Random Distributions"
      ],
      "metadata": {
        "id": "5oE1QWfjyC3N"
      }
    },
    {
      "cell_type": "markdown",
      "source": [
        "A random number is a number, chosen by chance from a distribution.\n",
        "Python provides a lot of modules, which deal with random numbers.\n",
        "- random module of python standard library.\n",
        "- random module of Numpy\n",
        "- stats module of Scipy\n",
        "\n",
        "random module of numpy has utilities, which generate arrays of random numbers.\n",
        "- E.g.: rand function generates uniformly distributed numbers from range [0, 1]\n",
        "\n",
        "- rand function with no arguments generate a single random value.\n",
        "\n",
        "- By passing arguments, it generates a random array of specified size."
      ],
      "metadata": {
        "id": "zmG7zgHJpsQZ"
      }
    },
    {
      "cell_type": "code",
      "source": [
        "import numpy as np\n",
        "print(np.random.rand())\n",
        "# generates a 2*3 array\n",
        "print(np.random.rand(2,3))"
      ],
      "metadata": {
        "colab": {
          "base_uri": "https://localhost:8080/"
        },
        "id": "2JA0aUpPplBw",
        "outputId": "af26f768-27ea-4b52-ff10-628ba7500004"
      },
      "execution_count": 3,
      "outputs": [
        {
          "output_type": "stream",
          "name": "stdout",
          "text": [
            "0.1534063485247239\n",
            "[[0.08962388 0.04007866 0.04149615]\n",
            " [0.6763176  0.65476664 0.90561844]]\n"
          ]
        }
      ]
    },
    {
      "cell_type": "markdown",
      "source": [
        "- In statistics, you select items randomly from a population, either with or without a replacement.\n",
        "- This can be achieved with choice method"
      ],
      "metadata": {
        "id": "l_7l0eVQqRQk"
      }
    },
    {
      "cell_type": "code",
      "source": [
        "import numpy as np\n",
        "print(np.random.choice([11, 22, 33], 2, replace=False))"
      ],
      "metadata": {
        "colab": {
          "base_uri": "https://localhost:8080/"
        },
        "id": "jby34IGHqCO7",
        "outputId": "440a9651-fd92-4211-8db6-454c91b97074"
      },
      "execution_count": 4,
      "outputs": [
        {
          "output_type": "stream",
          "name": "stdout",
          "text": [
            "[22 11]\n"
          ]
        }
      ]
    },
    {
      "cell_type": "markdown",
      "source": [
        "**Random Seeding**\n",
        "- Seed is an important concept when it comes to reproducibility. If you are working with random numbers and you would want to peers to validate your results, i.e., they should also get the same random sequence as you did, you can set the seed to a particular value and send the seed value to your peers.\n",
        "- seed is a number that sets the initial state of random number generator.\n",
        "- Setting a seed, helps in generating the same sequence of random numbers, repeatedly.\n",
        "- seed method of a random module can be used to set a seed as shown in below example."
      ],
      "metadata": {
        "id": "ZCBMWVo2qaYU"
      }
    },
    {
      "cell_type": "code",
      "source": [
        "import numpy as np\n",
        "\n",
        "np.random.seed(100)\n",
        "print(np.random.rand())\n",
        "\n",
        "np.random.seed(100)\n",
        "print(np.random.rand())"
      ],
      "metadata": {
        "colab": {
          "base_uri": "https://localhost:8080/"
        },
        "id": "H5hIZcRVqVyy",
        "outputId": "a29880d9-7e46-4b03-ef5c-ff2bc867e282"
      },
      "execution_count": 5,
      "outputs": [
        {
          "output_type": "stream",
          "name": "stdout",
          "text": [
            "0.5434049417909654\n",
            "0.5434049417909654\n"
          ]
        }
      ]
    },
    {
      "cell_type": "markdown",
      "source": [
        "**Random Variables**\n",
        " - In probability theory, the set of all possible outcomes of a random experiment is known as sample space.\n",
        " - Probabilities of all outcomes of the experiment define the probability distribution.\n",
        " - A random variable is a variable that takes real numbers or integers and map each value to one of the outcomes of sample space. \n",
        " - E.g.: In an experiment of tossing a coin, the sample space is {'Head', 'Tail'} and a possible random variable takes the value 0 for head and 1 for the tail.\n",
        "\n",
        "**Probability Distributions**\n",
        " - There are two types of probability distributions namely discrete and continuous that take integer and real values, respectively.\n",
        " - scipy.stats module provides classes that represent random variables, corresponding to a large number of probability distributions.\n",
        " - E.g: the class norm represent normal continuous random variable, and binom represent binomial discrete random variable.\n",
        "\n",
        "- scipy.stats module provide a lot of methods for created discrete and continuous random variables.\n",
        "- Commonly used methods are :\n",
        "- pdf / pmf : Probability distribution function (continuous) or probability mass function (discrete).\n",
        "- cdf : Cumulative distribution function.\n",
        "- sf : Survival function (1 – cdf).\n",
        "- rvs : Creating random samples from a distribution.\n",
        "- The following example defines a normal continuous random variable of mean 1.0 and std 2.5.\n",
        "- It also estimates probabilities and cumulative probabilities at -1, 0 and 1.\n",
        "- The example also generates six random numbers from defined normal distribution."
      ],
      "metadata": {
        "id": "_PWgsoymqrZ8"
      }
    },
    {
      "cell_type": "code",
      "source": [
        "from scipy import stats\n",
        "\n",
        "x = stats.norm(loc=1.0, scale=2.5)\n",
        "\n",
        "print(x.pdf([-1, 0, 1]))\n",
        "\n",
        "print(x.cdf([-1, 0, 1]))\n",
        "\n",
        "print(x.rvs((2,3)))"
      ],
      "metadata": {
        "colab": {
          "base_uri": "https://localhost:8080/"
        },
        "id": "a4zJEZkqqmyb",
        "outputId": "5ff5e9e1-6c61-4056-d179-2899509874aa"
      },
      "execution_count": 6,
      "outputs": [
        {
          "output_type": "stream",
          "name": "stdout",
          "text": [
            "[0.11587662 0.14730806 0.15957691]\n",
            "[0.2118554  0.34457826 0.5       ]\n",
            "[[-0.40409689 -3.12269376  1.88668613]\n",
            " [-0.96516083  0.42031951  1.5199392 ]]\n"
          ]
        }
      ]
    },
    {
      "cell_type": "code",
      "source": [
        "# create a normal distribution with mean 32 and standard deviation 4.5\n",
        "# set the random seed to 1, and create a random sample of 100 elements from the above distribution\n",
        "# compute aboslute difference between the sample mean and distribution mean\n",
        "\n",
        "import numpy as np\n",
        "from scipy import stats\n",
        "np.random.seed(1)\n",
        "\n",
        "x = stats.norm.rvs(loc=32, scale=4.5, size=100)\n",
        "print(round(abs(np.mean(x)-32),2))"
      ],
      "metadata": {
        "colab": {
          "base_uri": "https://localhost:8080/"
        },
        "id": "9P3MbJc0r4NL",
        "outputId": "6da5de2e-c133-425c-9053-501ba2c3ad81"
      },
      "execution_count": 7,
      "outputs": [
        {
          "output_type": "stream",
          "name": "stdout",
          "text": [
            "0.27\n"
          ]
        }
      ]
    },
    {
      "cell_type": "code",
      "source": [
        "# Simulate a random experiment of tossing a coin 10000 times and determine the count of Heads.\n",
        "# Hint: Define a binomial distribution with n = 1 and p = 0.5\n",
        "\n",
        "import numpy as np\n",
        "from scipy import stats\n",
        "np.random.seed(1)\n",
        "\n",
        "x = stats.binom(1, 0.5)\n",
        "y = x.rvs(10000)\n",
        "print(np.bincount(y)[0])"
      ],
      "metadata": {
        "colab": {
          "base_uri": "https://localhost:8080/"
        },
        "id": "QSgfly3wu1Sb",
        "outputId": "539180e0-16a8-4053-a531-1c6b163e7e19"
      },
      "execution_count": 8,
      "outputs": [
        {
          "output_type": "stream",
          "name": "stdout",
          "text": [
            "4990\n"
          ]
        }
      ]
    },
    {
      "cell_type": "markdown",
      "source": [
        "# Hypothesis testing with scipy"
      ],
      "metadata": {
        "id": "a6XgFy-H3VoM"
      }
    },
    {
      "cell_type": "code",
      "source": [],
      "metadata": {
        "id": "DVJCobIg3aoZ"
      },
      "execution_count": 8,
      "outputs": []
    }
  ]
}