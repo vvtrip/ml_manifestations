{
 "cells": [
  {
   "cell_type": "markdown",
   "id": "c898eb92",
   "metadata": {
    "papermill": {
     "duration": 0.007415,
     "end_time": "2022-09-22T06:39:16.666615",
     "exception": false,
     "start_time": "2022-09-22T06:39:16.659200",
     "status": "completed"
    },
    "tags": []
   },
   "source": [
    "**This notebook is an exercise in the [Intro to Programming](https://www.kaggle.com/learn/intro-to-programming) course.  You can reference the tutorial at [this link](https://www.kaggle.com/alexisbcook/functions).**\n",
    "\n",
    "---\n"
   ]
  },
  {
   "cell_type": "markdown",
   "id": "7e4c827c",
   "metadata": {
    "papermill": {
     "duration": 0.00588,
     "end_time": "2022-09-22T06:39:16.678794",
     "exception": false,
     "start_time": "2022-09-22T06:39:16.672914",
     "status": "completed"
    },
    "tags": []
   },
   "source": [
    "In the tutorial, you learned about functions. In this exercise, you'll write some of your own!\n",
    "\n",
    "# Set up the notebook\n",
    "\n",
    "Run the next code cell without changes to set up the notebook."
   ]
  },
  {
   "cell_type": "code",
   "execution_count": 1,
   "id": "f855a239",
   "metadata": {
    "execution": {
     "iopub.execute_input": "2022-09-22T06:39:16.694125Z",
     "iopub.status.busy": "2022-09-22T06:39:16.693627Z",
     "iopub.status.idle": "2022-09-22T06:39:16.755327Z",
     "shell.execute_reply": "2022-09-22T06:39:16.754283Z"
    },
    "papermill": {
     "duration": 0.073582,
     "end_time": "2022-09-22T06:39:16.758665",
     "exception": false,
     "start_time": "2022-09-22T06:39:16.685083",
     "status": "completed"
    },
    "tags": []
   },
   "outputs": [
    {
     "name": "stdout",
     "output_type": "stream",
     "text": [
      "Setup complete.\n"
     ]
    }
   ],
   "source": [
    "# Set up the exercise\n",
    "import math\n",
    "from learntools.core import binder\n",
    "binder.bind(globals())\n",
    "from learntools.intro_to_programming.ex2 import *\n",
    "print('Setup complete.')"
   ]
  },
  {
   "cell_type": "markdown",
   "id": "5c724444",
   "metadata": {
    "papermill": {
     "duration": 0.005931,
     "end_time": "2022-09-22T06:39:16.771588",
     "exception": false,
     "start_time": "2022-09-22T06:39:16.765657",
     "status": "completed"
    },
    "tags": []
   },
   "source": [
    "# Question 1\n",
    "\n",
    "In the [House Prices - Advanced Regression Techniques competition](https://www.kaggle.com/c/house-prices-advanced-regression-techniques/overview), you need to use information like the number of bedrooms and bathrooms to predict the price of a house.  Inspired by this competition, you'll write your own function to do this.\n",
    "\n",
    "In the next code cell, create a function `get_expected_cost()` that has two arguments:\n",
    "- `beds` - number of bedrooms \n",
    "- `baths` - number of bathrooms\n",
    "\n",
    "It should return the expected cost of a house with that number of bedrooms and bathrooms.  Assume that:\n",
    "- the expected cost for a house with 0 bedrooms and 0 bathrooms is `80000`.  \n",
    "- each bedroom adds `30000` to the expected cost\n",
    "- each bathroom adds `10000` to the expected cost.\n",
    "\n",
    "For instance, \n",
    "- a house with 1 bedroom and 1 bathroom has an expected cost of `120000`, and \n",
    "- a house with 2 bedrooms and 1 bathroom has an expected cost of `150000`."
   ]
  },
  {
   "cell_type": "code",
   "execution_count": 2,
   "id": "1719f350",
   "metadata": {
    "execution": {
     "iopub.execute_input": "2022-09-22T06:39:16.785708Z",
     "iopub.status.busy": "2022-09-22T06:39:16.785274Z",
     "iopub.status.idle": "2022-09-22T06:39:16.797266Z",
     "shell.execute_reply": "2022-09-22T06:39:16.796075Z"
    },
    "papermill": {
     "duration": 0.021759,
     "end_time": "2022-09-22T06:39:16.799505",
     "exception": false,
     "start_time": "2022-09-22T06:39:16.777746",
     "status": "completed"
    },
    "tags": []
   },
   "outputs": [
    {
     "data": {
      "application/javascript": [
       "parent.postMessage({\"jupyterEvent\": \"custom.exercise_interaction\", \"data\": {\"outcomeType\": 1, \"valueTowardsCompletion\": 0.2, \"interactionType\": 1, \"questionType\": 2, \"questionId\": \"1_GetExpectedCost\", \"learnToolsVersion\": \"0.3.4\", \"failureMessage\": \"\", \"exceptionClass\": \"\", \"trace\": \"\"}}, \"*\")"
      ],
      "text/plain": [
       "<IPython.core.display.Javascript object>"
      ]
     },
     "metadata": {},
     "output_type": "display_data"
    },
    {
     "data": {
      "text/markdown": [
       "<span style=\"color:#33cc33\">Correct</span>"
      ],
      "text/plain": [
       "Correct"
      ]
     },
     "metadata": {},
     "output_type": "display_data"
    }
   ],
   "source": [
    "# TODO: Complete the function\n",
    "def get_expected_cost(beds, baths):\n",
    "    value = 30000 * beds + 10000 * baths + 80000\n",
    "    return value\n",
    "\n",
    "# Check your answer \n",
    "q1.check()"
   ]
  },
  {
   "cell_type": "code",
   "execution_count": 3,
   "id": "587f26f0",
   "metadata": {
    "execution": {
     "iopub.execute_input": "2022-09-22T06:39:16.814008Z",
     "iopub.status.busy": "2022-09-22T06:39:16.813603Z",
     "iopub.status.idle": "2022-09-22T06:39:16.818169Z",
     "shell.execute_reply": "2022-09-22T06:39:16.816933Z"
    },
    "papermill": {
     "duration": 0.014392,
     "end_time": "2022-09-22T06:39:16.820345",
     "exception": false,
     "start_time": "2022-09-22T06:39:16.805953",
     "status": "completed"
    },
    "tags": []
   },
   "outputs": [],
   "source": [
    "# Uncomment to see a hint\n",
    "#q1.hint()\n",
    "\n",
    "# Uncomment to view the solution\n",
    "#q1.solution()"
   ]
  },
  {
   "cell_type": "markdown",
   "id": "9151ae7c",
   "metadata": {
    "papermill": {
     "duration": 0.005956,
     "end_time": "2022-09-22T06:39:16.832692",
     "exception": false,
     "start_time": "2022-09-22T06:39:16.826736",
     "status": "completed"
    },
    "tags": []
   },
   "source": [
    "# Question 2\n",
    "\n",
    "You are thinking about buying a home and want to get an idea of how much you will spend, based on the number of bedrooms and bathrooms.  You are trying to decide between four different options:\n",
    "- Option 1: house with two bedrooms and three bathrooms\n",
    "- Option 2: house with three bedrooms and two bathrooms\n",
    "- Option 3: house with three bedrooms and three bathrooms\n",
    "- Option 4: house with three bedrooms and four bathrooms\n",
    "\n",
    "Use the `get_expected_cost()` function you defined in question 1 to set `option_1`, `option_2`, `option_3`, and `option_4` to the expected cost of each option."
   ]
  },
  {
   "cell_type": "code",
   "execution_count": 4,
   "id": "88527228",
   "metadata": {
    "execution": {
     "iopub.execute_input": "2022-09-22T06:39:16.847459Z",
     "iopub.status.busy": "2022-09-22T06:39:16.846672Z",
     "iopub.status.idle": "2022-09-22T06:39:16.857329Z",
     "shell.execute_reply": "2022-09-22T06:39:16.856118Z"
    },
    "papermill": {
     "duration": 0.020972,
     "end_time": "2022-09-22T06:39:16.859875",
     "exception": false,
     "start_time": "2022-09-22T06:39:16.838903",
     "status": "completed"
    },
    "tags": []
   },
   "outputs": [
    {
     "name": "stdout",
     "output_type": "stream",
     "text": [
      "170000\n",
      "190000\n",
      "200000\n",
      "210000\n"
     ]
    },
    {
     "data": {
      "application/javascript": [
       "parent.postMessage({\"jupyterEvent\": \"custom.exercise_interaction\", \"data\": {\"outcomeType\": 1, \"valueTowardsCompletion\": 0.2, \"interactionType\": 1, \"questionType\": 1, \"questionId\": \"2_RunGetExpectedCost\", \"learnToolsVersion\": \"0.3.4\", \"failureMessage\": \"\", \"exceptionClass\": \"\", \"trace\": \"\"}}, \"*\")"
      ],
      "text/plain": [
       "<IPython.core.display.Javascript object>"
      ]
     },
     "metadata": {},
     "output_type": "display_data"
    },
    {
     "data": {
      "text/markdown": [
       "<span style=\"color:#33cc33\">Correct</span>"
      ],
      "text/plain": [
       "Correct"
      ]
     },
     "metadata": {},
     "output_type": "display_data"
    }
   ],
   "source": [
    "# TODO: Use the get_expected_cost function to fill in each value\n",
    "option_one = get_expected_cost(2,3)\n",
    "option_two = get_expected_cost(3,2)\n",
    "option_three = get_expected_cost(3,3)\n",
    "option_four = get_expected_cost(3,4)\n",
    "\n",
    "print(option_one)\n",
    "print(option_two)\n",
    "print(option_three)\n",
    "print(option_four)\n",
    "\n",
    "# Check your answer\n",
    "q2.check()"
   ]
  },
  {
   "cell_type": "code",
   "execution_count": 5,
   "id": "f030ddcc",
   "metadata": {
    "execution": {
     "iopub.execute_input": "2022-09-22T06:39:16.875285Z",
     "iopub.status.busy": "2022-09-22T06:39:16.874364Z",
     "iopub.status.idle": "2022-09-22T06:39:16.878746Z",
     "shell.execute_reply": "2022-09-22T06:39:16.877690Z"
    },
    "papermill": {
     "duration": 0.014781,
     "end_time": "2022-09-22T06:39:16.881357",
     "exception": false,
     "start_time": "2022-09-22T06:39:16.866576",
     "status": "completed"
    },
    "tags": []
   },
   "outputs": [],
   "source": [
    "# Uncomment to see a hint\n",
    "#q2.hint()\n",
    "\n",
    "# Uncomment to view the solution\n",
    "#q2.solution()"
   ]
  },
  {
   "cell_type": "markdown",
   "id": "b3b86bea",
   "metadata": {
    "papermill": {
     "duration": 0.006398,
     "end_time": "2022-09-22T06:39:16.894604",
     "exception": false,
     "start_time": "2022-09-22T06:39:16.888206",
     "status": "completed"
    },
    "tags": []
   },
   "source": [
    "# Question 3\n",
    "\n",
    "You're a home decorator, and you'd like to use Python to streamline some of your work.  Specifically, you're creating a tool that you intend to use to calculate the cost of painting a room.\n",
    "\n",
    "As a first step, define a function `get_cost()` that takes as input:\n",
    "- `sqft_walls` = total square feet of walls to be painted\n",
    "- `sqft_ceiling` = square feet of ceiling to be painted\n",
    "- `sqft_per_gallon` = number of square feet that you can cover with one gallon of paint\n",
    "- `cost_per_gallon` = cost (in dollars) of one gallon of paint\n",
    "\n",
    "It should return the cost (in dollars) of putting one coat of paint on all walls and the ceiling.  Assume you can buy the exact amount of paint that you need, so you can buy partial gallons (e.g., if you need 7.523 gallons, you can buy that exact amount, instead of needing to buy 8 gallons and waste some paint).  Do not round your answer."
   ]
  },
  {
   "cell_type": "code",
   "execution_count": 6,
   "id": "754bf5e2",
   "metadata": {
    "execution": {
     "iopub.execute_input": "2022-09-22T06:39:16.910262Z",
     "iopub.status.busy": "2022-09-22T06:39:16.909597Z",
     "iopub.status.idle": "2022-09-22T06:39:16.919363Z",
     "shell.execute_reply": "2022-09-22T06:39:16.918247Z"
    },
    "papermill": {
     "duration": 0.019916,
     "end_time": "2022-09-22T06:39:16.921457",
     "exception": false,
     "start_time": "2022-09-22T06:39:16.901541",
     "status": "completed"
    },
    "tags": []
   },
   "outputs": [
    {
     "data": {
      "application/javascript": [
       "parent.postMessage({\"jupyterEvent\": \"custom.exercise_interaction\", \"data\": {\"outcomeType\": 1, \"valueTowardsCompletion\": 0.2, \"interactionType\": 1, \"questionType\": 2, \"questionId\": \"3_GetCostPaint\", \"learnToolsVersion\": \"0.3.4\", \"failureMessage\": \"\", \"exceptionClass\": \"\", \"trace\": \"\"}}, \"*\")"
      ],
      "text/plain": [
       "<IPython.core.display.Javascript object>"
      ]
     },
     "metadata": {},
     "output_type": "display_data"
    },
    {
     "data": {
      "text/markdown": [
       "<span style=\"color:#33cc33\">Correct</span>"
      ],
      "text/plain": [
       "Correct"
      ]
     },
     "metadata": {},
     "output_type": "display_data"
    }
   ],
   "source": [
    "# TODO: Finish defining the function\n",
    "def get_cost(sqft_walls, sqft_ceiling, sqft_per_gallon, cost_per_gallon):\n",
    "    cost = ((sqft_walls + sqft_ceiling) / sqft_per_gallon) * cost_per_gallon\n",
    "    return cost\n",
    "\n",
    "# Check your answer\n",
    "q3.check()"
   ]
  },
  {
   "cell_type": "code",
   "execution_count": 7,
   "id": "59fd1d97",
   "metadata": {
    "execution": {
     "iopub.execute_input": "2022-09-22T06:39:16.938497Z",
     "iopub.status.busy": "2022-09-22T06:39:16.938064Z",
     "iopub.status.idle": "2022-09-22T06:39:16.943267Z",
     "shell.execute_reply": "2022-09-22T06:39:16.941840Z"
    },
    "papermill": {
     "duration": 0.015944,
     "end_time": "2022-09-22T06:39:16.945684",
     "exception": false,
     "start_time": "2022-09-22T06:39:16.929740",
     "status": "completed"
    },
    "tags": []
   },
   "outputs": [],
   "source": [
    "# Uncomment to see a hint\n",
    "#q3.hint()\n",
    "\n",
    "# Uncomment to view the solution\n",
    "#q3.solution()"
   ]
  },
  {
   "cell_type": "markdown",
   "id": "6d7b2baa",
   "metadata": {
    "papermill": {
     "duration": 0.006683,
     "end_time": "2022-09-22T06:39:16.959421",
     "exception": false,
     "start_time": "2022-09-22T06:39:16.952738",
     "status": "completed"
    },
    "tags": []
   },
   "source": [
    "# Question 4\n",
    "\n",
    "Use the `get_cost()` function you defined in Question 3 to calculate the cost of applying one coat of paint to a room with:\n",
    "- 432 square feet of walls, and\n",
    "- 144 square feet of ceiling.\n",
    "\n",
    "Assume that one gallon of paint covers 400 square feet and costs $15.  As in Question 3, assume you can buy partial gallons of paint.  Do not round your answer."
   ]
  },
  {
   "cell_type": "code",
   "execution_count": 8,
   "id": "a7fc1a58",
   "metadata": {
    "execution": {
     "iopub.execute_input": "2022-09-22T06:39:16.975175Z",
     "iopub.status.busy": "2022-09-22T06:39:16.974738Z",
     "iopub.status.idle": "2022-09-22T06:39:16.984252Z",
     "shell.execute_reply": "2022-09-22T06:39:16.983003Z"
    },
    "papermill": {
     "duration": 0.019771,
     "end_time": "2022-09-22T06:39:16.986356",
     "exception": false,
     "start_time": "2022-09-22T06:39:16.966585",
     "status": "completed"
    },
    "tags": []
   },
   "outputs": [
    {
     "data": {
      "application/javascript": [
       "parent.postMessage({\"jupyterEvent\": \"custom.exercise_interaction\", \"data\": {\"outcomeType\": 1, \"valueTowardsCompletion\": 0.2, \"interactionType\": 1, \"questionType\": 1, \"questionId\": \"4_GetCostPaintExample\", \"learnToolsVersion\": \"0.3.4\", \"failureMessage\": \"\", \"exceptionClass\": \"\", \"trace\": \"\"}}, \"*\")"
      ],
      "text/plain": [
       "<IPython.core.display.Javascript object>"
      ]
     },
     "metadata": {},
     "output_type": "display_data"
    },
    {
     "data": {
      "text/markdown": [
       "<span style=\"color:#33cc33\">Correct</span>"
      ],
      "text/plain": [
       "Correct"
      ]
     },
     "metadata": {},
     "output_type": "display_data"
    }
   ],
   "source": [
    "# TODO: Set the project_cost variable to the cost of the project\n",
    "project_cost = get_cost(432, 144, 400, 15)\n",
    "\n",
    "# Check your answer\n",
    "q4.check()"
   ]
  },
  {
   "cell_type": "code",
   "execution_count": 9,
   "id": "7931e26b",
   "metadata": {
    "execution": {
     "iopub.execute_input": "2022-09-22T06:39:17.002391Z",
     "iopub.status.busy": "2022-09-22T06:39:17.001731Z",
     "iopub.status.idle": "2022-09-22T06:39:17.006235Z",
     "shell.execute_reply": "2022-09-22T06:39:17.005461Z"
    },
    "papermill": {
     "duration": 0.015031,
     "end_time": "2022-09-22T06:39:17.008296",
     "exception": false,
     "start_time": "2022-09-22T06:39:16.993265",
     "status": "completed"
    },
    "tags": []
   },
   "outputs": [],
   "source": [
    "# Uncomment to see a hint\n",
    "#q4.hint()\n",
    "\n",
    "# Uncomment to view the solution\n",
    "#q4.solution()"
   ]
  },
  {
   "cell_type": "markdown",
   "id": "1fc89f91",
   "metadata": {
    "papermill": {
     "duration": 0.006598,
     "end_time": "2022-09-22T06:39:17.021907",
     "exception": false,
     "start_time": "2022-09-22T06:39:17.015309",
     "status": "completed"
    },
    "tags": []
   },
   "source": [
    "# 🌶️ Question 5\n",
    "\n",
    "Now say you can no longer buy fractions of a gallon.  (For instance, if you need 4.3 gallons to do a project, then you have to buy 5 gallons of paint.)\n",
    "\n",
    "With this new scenario, you will create a new function `get_actual_cost` that uses the same inputs and calculates the cost of your project.\n",
    "\n",
    "One function that you'll need to use to do this is `math.ceil()`.  We demonstrate usage of this function in the code cell below.  It takes as a number as input and rounds the number up to the nearest integer.  \n",
    "\n",
    "Run the next code cell to test this function for yourself.  Feel free to change the value of `test_value` and make sure `math.ceil()` returns the number you expect."
   ]
  },
  {
   "cell_type": "code",
   "execution_count": 10,
   "id": "1daf8cbe",
   "metadata": {
    "execution": {
     "iopub.execute_input": "2022-09-22T06:39:17.037602Z",
     "iopub.status.busy": "2022-09-22T06:39:17.037131Z",
     "iopub.status.idle": "2022-09-22T06:39:17.043220Z",
     "shell.execute_reply": "2022-09-22T06:39:17.041933Z"
    },
    "papermill": {
     "duration": 0.016962,
     "end_time": "2022-09-22T06:39:17.045751",
     "exception": false,
     "start_time": "2022-09-22T06:39:17.028789",
     "status": "completed"
    },
    "tags": []
   },
   "outputs": [
    {
     "name": "stdout",
     "output_type": "stream",
     "text": [
      "3\n"
     ]
    }
   ],
   "source": [
    "test_value = 2.17\n",
    "\n",
    "rounded_value = math.ceil(test_value)\n",
    "print(rounded_value)"
   ]
  },
  {
   "cell_type": "markdown",
   "id": "d11f9bb4",
   "metadata": {
    "papermill": {
     "duration": 0.0067,
     "end_time": "2022-09-22T06:39:17.059642",
     "exception": false,
     "start_time": "2022-09-22T06:39:17.052942",
     "status": "completed"
    },
    "tags": []
   },
   "source": [
    "Use the next code cell to define the function `get_actual_cost()`.  You'll need to use the `math.ceil()` function to do this.\n",
    "\n",
    "When answering this question, note that it's completely valid to define a function that makes use of another function.  For instance, we can define a function `round_up_and_divide_by_three` that makes use of the `math.ceil` function:\n",
    "```\n",
    "def round_up_and_divide_by_three(num):\n",
    "    new_value = math.ceil(num)\n",
    "    final_value = new_value / 3\n",
    "    return final_value\n",
    "```"
   ]
  },
  {
   "cell_type": "code",
   "execution_count": 11,
   "id": "d2e118cf",
   "metadata": {
    "execution": {
     "iopub.execute_input": "2022-09-22T06:39:17.075251Z",
     "iopub.status.busy": "2022-09-22T06:39:17.074804Z",
     "iopub.status.idle": "2022-09-22T06:39:17.085086Z",
     "shell.execute_reply": "2022-09-22T06:39:17.083911Z"
    },
    "papermill": {
     "duration": 0.020831,
     "end_time": "2022-09-22T06:39:17.087421",
     "exception": false,
     "start_time": "2022-09-22T06:39:17.066590",
     "status": "completed"
    },
    "tags": []
   },
   "outputs": [
    {
     "data": {
      "application/javascript": [
       "parent.postMessage({\"jupyterEvent\": \"custom.exercise_interaction\", \"data\": {\"outcomeType\": 1, \"valueTowardsCompletion\": 0.2, \"interactionType\": 1, \"questionType\": 2, \"questionId\": \"5_NoMoreFractions\", \"learnToolsVersion\": \"0.3.4\", \"failureMessage\": \"\", \"exceptionClass\": \"\", \"trace\": \"\"}}, \"*\")"
      ],
      "text/plain": [
       "<IPython.core.display.Javascript object>"
      ]
     },
     "metadata": {},
     "output_type": "display_data"
    },
    {
     "data": {
      "text/markdown": [
       "<span style=\"color:#33cc33\">Correct</span>"
      ],
      "text/plain": [
       "Correct"
      ]
     },
     "metadata": {},
     "output_type": "display_data"
    }
   ],
   "source": [
    "def get_actual_cost(sqft_walls, sqft_ceiling, sqft_per_gallon, cost_per_gallon):\n",
    "    cost = math.ceil((sqft_walls + sqft_ceiling) / sqft_per_gallon) * cost_per_gallon\n",
    "    return cost\n",
    "\n",
    "# Check your answer\n",
    "q5.check()"
   ]
  },
  {
   "cell_type": "code",
   "execution_count": 12,
   "id": "f56dfcca",
   "metadata": {
    "execution": {
     "iopub.execute_input": "2022-09-22T06:39:17.104247Z",
     "iopub.status.busy": "2022-09-22T06:39:17.103841Z",
     "iopub.status.idle": "2022-09-22T06:39:17.107864Z",
     "shell.execute_reply": "2022-09-22T06:39:17.106787Z"
    },
    "papermill": {
     "duration": 0.015219,
     "end_time": "2022-09-22T06:39:17.110270",
     "exception": false,
     "start_time": "2022-09-22T06:39:17.095051",
     "status": "completed"
    },
    "tags": []
   },
   "outputs": [],
   "source": [
    "# Uncomment to see a hint\n",
    "#q5.hint()\n",
    "\n",
    "# Uncomment to view the solution\n",
    "#q5.solution()"
   ]
  },
  {
   "cell_type": "markdown",
   "id": "d5dae48a",
   "metadata": {
    "papermill": {
     "duration": 0.007011,
     "end_time": "2022-09-22T06:39:17.124759",
     "exception": false,
     "start_time": "2022-09-22T06:39:17.117748",
     "status": "completed"
    },
    "tags": []
   },
   "source": [
    "Once your function is verified as correct, run the next code cell to calculate the updated cost of your project."
   ]
  },
  {
   "cell_type": "code",
   "execution_count": 13,
   "id": "39386b6a",
   "metadata": {
    "execution": {
     "iopub.execute_input": "2022-09-22T06:39:17.141367Z",
     "iopub.status.busy": "2022-09-22T06:39:17.140948Z",
     "iopub.status.idle": "2022-09-22T06:39:17.148062Z",
     "shell.execute_reply": "2022-09-22T06:39:17.146819Z"
    },
    "papermill": {
     "duration": 0.01833,
     "end_time": "2022-09-22T06:39:17.150461",
     "exception": false,
     "start_time": "2022-09-22T06:39:17.132131",
     "status": "completed"
    },
    "tags": []
   },
   "outputs": [
    {
     "data": {
      "text/plain": [
       "30"
      ]
     },
     "execution_count": 13,
     "metadata": {},
     "output_type": "execute_result"
    }
   ],
   "source": [
    "get_actual_cost(432, 144, 400, 15) "
   ]
  },
  {
   "cell_type": "markdown",
   "id": "f323a49e",
   "metadata": {
    "papermill": {
     "duration": 0.007211,
     "end_time": "2022-09-22T06:39:17.164975",
     "exception": false,
     "start_time": "2022-09-22T06:39:17.157764",
     "status": "completed"
    },
    "tags": []
   },
   "source": [
    "Say you're working with a slightly larger room.  Run the next code cell to calculate the cost of the project."
   ]
  },
  {
   "cell_type": "code",
   "execution_count": 14,
   "id": "2db97796",
   "metadata": {
    "execution": {
     "iopub.execute_input": "2022-09-22T06:39:17.182075Z",
     "iopub.status.busy": "2022-09-22T06:39:17.181268Z",
     "iopub.status.idle": "2022-09-22T06:39:17.188236Z",
     "shell.execute_reply": "2022-09-22T06:39:17.187333Z"
    },
    "papermill": {
     "duration": 0.017734,
     "end_time": "2022-09-22T06:39:17.190297",
     "exception": false,
     "start_time": "2022-09-22T06:39:17.172563",
     "status": "completed"
    },
    "tags": []
   },
   "outputs": [
    {
     "data": {
      "text/plain": [
       "45"
      ]
     },
     "execution_count": 14,
     "metadata": {},
     "output_type": "execute_result"
    }
   ],
   "source": [
    "get_actual_cost(594, 288, 400, 15) "
   ]
  },
  {
   "cell_type": "markdown",
   "id": "7c8a230f",
   "metadata": {
    "papermill": {
     "duration": 0.007148,
     "end_time": "2022-09-22T06:39:17.204991",
     "exception": false,
     "start_time": "2022-09-22T06:39:17.197843",
     "status": "completed"
    },
    "tags": []
   },
   "source": [
    "# Keep going\n",
    "\n",
    "Continue to learn about **[data types](https://www.kaggle.com/alexisbcook/data-types)**."
   ]
  },
  {
   "cell_type": "markdown",
   "id": "36ff7c17",
   "metadata": {
    "papermill": {
     "duration": 0.007267,
     "end_time": "2022-09-22T06:39:17.219890",
     "exception": false,
     "start_time": "2022-09-22T06:39:17.212623",
     "status": "completed"
    },
    "tags": []
   },
   "source": [
    "---\n",
    "\n",
    "\n",
    "\n",
    "\n",
    "*Have questions or comments? Visit the [course discussion forum](https://www.kaggle.com/learn/intro-to-programming/discussion) to chat with other learners.*"
   ]
  }
 ],
 "metadata": {
  "kernelspec": {
   "display_name": "Python 3",
   "language": "python",
   "name": "python3"
  },
  "language_info": {
   "codemirror_mode": {
    "name": "ipython",
    "version": 3
   },
   "file_extension": ".py",
   "mimetype": "text/x-python",
   "name": "python",
   "nbconvert_exporter": "python",
   "pygments_lexer": "ipython3",
   "version": "3.7.12"
  },
  "papermill": {
   "default_parameters": {},
   "duration": 12.37637,
   "end_time": "2022-09-22T06:39:17.951908",
   "environment_variables": {},
   "exception": null,
   "input_path": "__notebook__.ipynb",
   "output_path": "__notebook__.ipynb",
   "parameters": {},
   "start_time": "2022-09-22T06:39:05.575538",
   "version": "2.3.4"
  }
 },
 "nbformat": 4,
 "nbformat_minor": 5
}
