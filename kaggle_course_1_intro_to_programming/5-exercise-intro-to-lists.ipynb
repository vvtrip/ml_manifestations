{
 "cells": [
  {
   "cell_type": "markdown",
   "id": "f48c47e7",
   "metadata": {
    "papermill": {
     "duration": 0.007517,
     "end_time": "2022-09-22T06:50:31.518935",
     "exception": false,
     "start_time": "2022-09-22T06:50:31.511418",
     "status": "completed"
    },
    "tags": []
   },
   "source": [
    "**This notebook is an exercise in the [Intro to Programming](https://www.kaggle.com/learn/intro-to-programming) course.  You can reference the tutorial at [this link](https://www.kaggle.com/alexisbcook/intro-to-lists).**\n",
    "\n",
    "---\n"
   ]
  },
  {
   "cell_type": "markdown",
   "id": "69e37873",
   "metadata": {
    "papermill": {
     "duration": 0.006017,
     "end_time": "2022-09-22T06:50:31.531730",
     "exception": false,
     "start_time": "2022-09-22T06:50:31.525713",
     "status": "completed"
    },
    "tags": []
   },
   "source": [
    "In the tutorial, you learned how to define and modify Python lists.  In this exercise, you will use your new knowledge to solve several problems.\n",
    "\n",
    "# Set up the notebook\n",
    "\n",
    "Run the next code cell without changes to set up the notebook."
   ]
  },
  {
   "cell_type": "code",
   "execution_count": 1,
   "id": "767a932b",
   "metadata": {
    "execution": {
     "iopub.execute_input": "2022-09-22T06:50:31.546997Z",
     "iopub.status.busy": "2022-09-22T06:50:31.545593Z",
     "iopub.status.idle": "2022-09-22T06:50:31.609993Z",
     "shell.execute_reply": "2022-09-22T06:50:31.609138Z"
    },
    "papermill": {
     "duration": 0.074489,
     "end_time": "2022-09-22T06:50:31.612490",
     "exception": false,
     "start_time": "2022-09-22T06:50:31.538001",
     "status": "completed"
    },
    "tags": []
   },
   "outputs": [
    {
     "name": "stdout",
     "output_type": "stream",
     "text": [
      "Setup complete.\n"
     ]
    }
   ],
   "source": [
    "from learntools.core import binder\n",
    "binder.bind(globals())\n",
    "from learntools.intro_to_programming.ex5 import *\n",
    "print('Setup complete.')"
   ]
  },
  {
   "cell_type": "markdown",
   "id": "20bfd373",
   "metadata": {
    "papermill": {
     "duration": 0.006153,
     "end_time": "2022-09-22T06:50:31.625206",
     "exception": false,
     "start_time": "2022-09-22T06:50:31.619053",
     "status": "completed"
    },
    "tags": []
   },
   "source": [
    "# Question 1\n",
    "\n",
    "You own a restaurant with five food dishes, organized in the Python list `menu` below.  One day, you decide to:\n",
    "- remove bean soup (`'bean soup'`) from the menu, and\n",
    "- add roasted beet salad (`'roasted beet salad'`) to the menu.\n",
    "\n",
    "Implement this change to the list below.  While completing this task, \n",
    "- do not change the line that creates the `menu` list.  \n",
    "- your answer should use `.remove()` and `.append()`.  "
   ]
  },
  {
   "cell_type": "code",
   "execution_count": 2,
   "id": "befefa47",
   "metadata": {
    "execution": {
     "iopub.execute_input": "2022-09-22T06:50:31.639971Z",
     "iopub.status.busy": "2022-09-22T06:50:31.639544Z",
     "iopub.status.idle": "2022-09-22T06:50:31.650453Z",
     "shell.execute_reply": "2022-09-22T06:50:31.649649Z"
    },
    "papermill": {
     "duration": 0.020634,
     "end_time": "2022-09-22T06:50:31.652516",
     "exception": false,
     "start_time": "2022-09-22T06:50:31.631882",
     "status": "completed"
    },
    "tags": []
   },
   "outputs": [
    {
     "data": {
      "application/javascript": [
       "parent.postMessage({\"jupyterEvent\": \"custom.exercise_interaction\", \"data\": {\"outcomeType\": 1, \"valueTowardsCompletion\": 0.2, \"interactionType\": 1, \"questionType\": 2, \"questionId\": \"1_FoodMenu\", \"learnToolsVersion\": \"0.3.4\", \"failureMessage\": \"\", \"exceptionClass\": \"\", \"trace\": \"\"}}, \"*\")"
      ],
      "text/plain": [
       "<IPython.core.display.Javascript object>"
      ]
     },
     "metadata": {},
     "output_type": "display_data"
    },
    {
     "data": {
      "text/markdown": [
       "<span style=\"color:#33cc33\">Correct</span>"
      ],
      "text/plain": [
       "Correct"
      ]
     },
     "metadata": {},
     "output_type": "display_data"
    }
   ],
   "source": [
    "# Do not change: Initial menu for your restaurant\n",
    "menu = ['stewed meat with onions', 'bean soup', 'risotto with trout and shrimp',\n",
    "       'fish soup with cream and onion', 'gyro']\n",
    "\n",
    "# TODO: remove 'bean soup', and add 'roasted beet salad' to the end of the menu\n",
    "menu.remove('bean soup')\n",
    "menu.append('roasted beet salad')\n",
    "\n",
    "# Do not change: Check your answer\n",
    "q1.check()"
   ]
  },
  {
   "cell_type": "code",
   "execution_count": 3,
   "id": "adabf75e",
   "metadata": {
    "execution": {
     "iopub.execute_input": "2022-09-22T06:50:31.667693Z",
     "iopub.status.busy": "2022-09-22T06:50:31.666955Z",
     "iopub.status.idle": "2022-09-22T06:50:31.671263Z",
     "shell.execute_reply": "2022-09-22T06:50:31.670387Z"
    },
    "papermill": {
     "duration": 0.014477,
     "end_time": "2022-09-22T06:50:31.673538",
     "exception": false,
     "start_time": "2022-09-22T06:50:31.659061",
     "status": "completed"
    },
    "tags": []
   },
   "outputs": [],
   "source": [
    "# Uncomment to see a hint\n",
    "#q1.hint()\n",
    "\n",
    "# Uncomment to see the solution\n",
    "#q1.solution()"
   ]
  },
  {
   "cell_type": "markdown",
   "id": "c3993ae9",
   "metadata": {
    "papermill": {
     "duration": 0.006161,
     "end_time": "2022-09-22T06:50:31.686349",
     "exception": false,
     "start_time": "2022-09-22T06:50:31.680188",
     "status": "completed"
    },
    "tags": []
   },
   "source": [
    "# Question 2\n",
    "\n",
    "The list `num_customers` contains the number of customers who came into your restaurant every day over the last month (which lasted thirty days).  Fill in values for each of the following:\n",
    "- `avg_first_seven` - average number of customers who visited in the first seven days\n",
    "- `avg_last_seven` - average number of customers who visited in the last seven days\n",
    "- `max_month` - number of customers on the day that got the most customers in the last month\n",
    "- `min_month` - number of customers on the day that got the least customers in the last month\n",
    "\n",
    "Answer this question by writing code.  For instance, if you have to find the minimum value in a list, use `min()` instead of scanning for the smallest value and directly filling in a number."
   ]
  },
  {
   "cell_type": "code",
   "execution_count": 4,
   "id": "1ed3c577",
   "metadata": {
    "execution": {
     "iopub.execute_input": "2022-09-22T06:50:31.703091Z",
     "iopub.status.busy": "2022-09-22T06:50:31.701814Z",
     "iopub.status.idle": "2022-09-22T06:50:31.715875Z",
     "shell.execute_reply": "2022-09-22T06:50:31.714573Z"
    },
    "papermill": {
     "duration": 0.027618,
     "end_time": "2022-09-22T06:50:31.720469",
     "exception": false,
     "start_time": "2022-09-22T06:50:31.692851",
     "status": "completed"
    },
    "tags": []
   },
   "outputs": [
    {
     "data": {
      "application/javascript": [
       "parent.postMessage({\"jupyterEvent\": \"custom.exercise_interaction\", \"data\": {\"outcomeType\": 1, \"valueTowardsCompletion\": 0.2, \"interactionType\": 1, \"questionType\": 1, \"questionId\": \"2_NumCustomers\", \"learnToolsVersion\": \"0.3.4\", \"failureMessage\": \"\", \"exceptionClass\": \"\", \"trace\": \"\"}}, \"*\")"
      ],
      "text/plain": [
       "<IPython.core.display.Javascript object>"
      ]
     },
     "metadata": {},
     "output_type": "display_data"
    },
    {
     "data": {
      "text/markdown": [
       "<span style=\"color:#33cc33\">Correct</span>"
      ],
      "text/plain": [
       "Correct"
      ]
     },
     "metadata": {},
     "output_type": "display_data"
    }
   ],
   "source": [
    "# Do not change: Number of customers each day for the last month\n",
    "num_customers = [137, 147, 135, 128, 170, 174, 165, 146, 126, 159,\n",
    "                 141, 148, 132, 147, 168, 153, 170, 161, 148, 152,\n",
    "                 141, 151, 131, 149, 164, 163, 143, 143, 166, 171]\n",
    "\n",
    "# TODO: Fill in values for the variables below\n",
    "avg_first_seven = sum(num_customers[:7])  / 7\n",
    "avg_last_seven = sum(num_customers[-7:])  / 7\n",
    "max_month = max(num_customers)\n",
    "min_month = min(num_customers)\n",
    "\n",
    "# Do not change: Check your answer\n",
    "q2.check()"
   ]
  },
  {
   "cell_type": "code",
   "execution_count": 5,
   "id": "0c9fab67",
   "metadata": {
    "execution": {
     "iopub.execute_input": "2022-09-22T06:50:31.739179Z",
     "iopub.status.busy": "2022-09-22T06:50:31.738739Z",
     "iopub.status.idle": "2022-09-22T06:50:31.744676Z",
     "shell.execute_reply": "2022-09-22T06:50:31.742534Z"
    },
    "papermill": {
     "duration": 0.018795,
     "end_time": "2022-09-22T06:50:31.747131",
     "exception": false,
     "start_time": "2022-09-22T06:50:31.728336",
     "status": "completed"
    },
    "tags": []
   },
   "outputs": [],
   "source": [
    "# Uncomment to see a hint\n",
    "#q2.hint()\n",
    "\n",
    "# Uncomment to see the solution\n",
    "# q2.solution()"
   ]
  },
  {
   "cell_type": "markdown",
   "id": "c722febc",
   "metadata": {
    "papermill": {
     "duration": 0.006485,
     "end_time": "2022-09-22T06:50:31.760587",
     "exception": false,
     "start_time": "2022-09-22T06:50:31.754102",
     "status": "completed"
    },
    "tags": []
   },
   "source": [
    "# Question 3\n",
    "\n",
    "In the tutorial, we gave an example of a Python string with information that was better as a list."
   ]
  },
  {
   "cell_type": "code",
   "execution_count": 6,
   "id": "8c47775b",
   "metadata": {
    "execution": {
     "iopub.execute_input": "2022-09-22T06:50:31.776101Z",
     "iopub.status.busy": "2022-09-22T06:50:31.775586Z",
     "iopub.status.idle": "2022-09-22T06:50:31.781470Z",
     "shell.execute_reply": "2022-09-22T06:50:31.780251Z"
    },
    "papermill": {
     "duration": 0.016329,
     "end_time": "2022-09-22T06:50:31.783673",
     "exception": false,
     "start_time": "2022-09-22T06:50:31.767344",
     "status": "completed"
    },
    "tags": []
   },
   "outputs": [],
   "source": [
    "flowers = \"pink primrose,hard-leaved pocket orchid,canterbury bells,sweet pea,english marigold,tiger lily,moon orchid,bird of paradise,monkshood,globe thistle\""
   ]
  },
  {
   "cell_type": "markdown",
   "id": "fcbcde9e",
   "metadata": {
    "papermill": {
     "duration": 0.006424,
     "end_time": "2022-09-22T06:50:31.798005",
     "exception": false,
     "start_time": "2022-09-22T06:50:31.791581",
     "status": "completed"
    },
    "tags": []
   },
   "source": [
    "You can actually use Python to quickly turn this string into a list with `.split()`.  In the parentheses, we need to provide the character should be used to mark the end of one list item and the beginning of another, and enclose it in quotation marks.  In this case, that character is a comma."
   ]
  },
  {
   "cell_type": "code",
   "execution_count": 7,
   "id": "a8f86ab2",
   "metadata": {
    "execution": {
     "iopub.execute_input": "2022-09-22T06:50:31.815028Z",
     "iopub.status.busy": "2022-09-22T06:50:31.813493Z",
     "iopub.status.idle": "2022-09-22T06:50:31.821562Z",
     "shell.execute_reply": "2022-09-22T06:50:31.820032Z"
    },
    "papermill": {
     "duration": 0.019193,
     "end_time": "2022-09-22T06:50:31.823985",
     "exception": false,
     "start_time": "2022-09-22T06:50:31.804792",
     "status": "completed"
    },
    "tags": []
   },
   "outputs": [
    {
     "name": "stdout",
     "output_type": "stream",
     "text": [
      "['pink primrose', 'hard-leaved pocket orchid', 'canterbury bells', 'sweet pea', 'english marigold', 'tiger lily', 'moon orchid', 'bird of paradise', 'monkshood', 'globe thistle']\n"
     ]
    }
   ],
   "source": [
    " print(flowers.split(\",\"))"
   ]
  },
  {
   "cell_type": "markdown",
   "id": "0c136c4c",
   "metadata": {
    "papermill": {
     "duration": 0.00645,
     "end_time": "2022-09-22T06:50:31.837336",
     "exception": false,
     "start_time": "2022-09-22T06:50:31.830886",
     "status": "completed"
    },
    "tags": []
   },
   "source": [
    "Now it is your turn to try this out!  Create two Python lists:\n",
    "- `letters` should be a Python list where each entry is an uppercase letter of the English alphabet.  For instance, the first two entries should be `\"A\"` and `\"B\"`, and the final two entries should be `\"Y\"` and `\"Z\"`.  Use the string `alphabet` to create this list.\n",
    "- `address` should be a Python list where each row in `address` is a different item in the list.  Currently, each row in `address` is separated by a comma. "
   ]
  },
  {
   "cell_type": "code",
   "execution_count": 8,
   "id": "17df96a4",
   "metadata": {
    "execution": {
     "iopub.execute_input": "2022-09-22T06:50:31.853125Z",
     "iopub.status.busy": "2022-09-22T06:50:31.852166Z",
     "iopub.status.idle": "2022-09-22T06:50:31.861873Z",
     "shell.execute_reply": "2022-09-22T06:50:31.860697Z"
    },
    "papermill": {
     "duration": 0.020092,
     "end_time": "2022-09-22T06:50:31.864208",
     "exception": false,
     "start_time": "2022-09-22T06:50:31.844116",
     "status": "completed"
    },
    "tags": []
   },
   "outputs": [
    {
     "data": {
      "application/javascript": [
       "parent.postMessage({\"jupyterEvent\": \"custom.exercise_interaction\", \"data\": {\"outcomeType\": 1, \"valueTowardsCompletion\": 0.2, \"interactionType\": 1, \"questionType\": 1, \"questionId\": \"3_SplitString\", \"learnToolsVersion\": \"0.3.4\", \"failureMessage\": \"\", \"exceptionClass\": \"\", \"trace\": \"\"}}, \"*\")"
      ],
      "text/plain": [
       "<IPython.core.display.Javascript object>"
      ]
     },
     "metadata": {},
     "output_type": "display_data"
    },
    {
     "data": {
      "text/markdown": [
       "<span style=\"color:#33cc33\">Correct</span>"
      ],
      "text/plain": [
       "Correct"
      ]
     },
     "metadata": {},
     "output_type": "display_data"
    }
   ],
   "source": [
    "# DO not change: Define two Python strings\n",
    "alphabet = \"A.B.C.D.E.F.G.H.I.J.K.L.M.N.O.P.Q.R.S.T.U.V.W.X.Y.Z\"\n",
    "address = \"Mr. H. Potter,The cupboard under the Stairs,4 Privet Drive,Little Whinging,Surrey\"\n",
    "\n",
    "# TODO: Convert strings into Python lists\n",
    "letters = alphabet.split('.')\n",
    "formatted_address = address.split(',')\n",
    "\n",
    "# Do not change: Check your answer\n",
    "q3.check()"
   ]
  },
  {
   "cell_type": "code",
   "execution_count": 9,
   "id": "34c50707",
   "metadata": {
    "execution": {
     "iopub.execute_input": "2022-09-22T06:50:31.880768Z",
     "iopub.status.busy": "2022-09-22T06:50:31.880069Z",
     "iopub.status.idle": "2022-09-22T06:50:31.884566Z",
     "shell.execute_reply": "2022-09-22T06:50:31.883755Z"
    },
    "papermill": {
     "duration": 0.015232,
     "end_time": "2022-09-22T06:50:31.886715",
     "exception": false,
     "start_time": "2022-09-22T06:50:31.871483",
     "status": "completed"
    },
    "tags": []
   },
   "outputs": [],
   "source": [
    "# Uncomment to see a hint\n",
    "#q3.hint()\n",
    "\n",
    "# Uncomment to see the solution\n",
    "#q3.solution()"
   ]
  },
  {
   "cell_type": "markdown",
   "id": "9eabc325",
   "metadata": {
    "papermill": {
     "duration": 0.006818,
     "end_time": "2022-09-22T06:50:31.900594",
     "exception": false,
     "start_time": "2022-09-22T06:50:31.893776",
     "status": "completed"
    },
    "tags": []
   },
   "source": [
    "# Question 4\n",
    "\n",
    "In the Python course, you'll learn all about **list comprehensions**, which allow you to create a list based on the values in another list.  In this question, you'll get a brief preview of how they work.\n",
    "\n",
    "Say we're working with the list below."
   ]
  },
  {
   "cell_type": "code",
   "execution_count": 10,
   "id": "fb6da04f",
   "metadata": {
    "execution": {
     "iopub.execute_input": "2022-09-22T06:50:31.917237Z",
     "iopub.status.busy": "2022-09-22T06:50:31.916056Z",
     "iopub.status.idle": "2022-09-22T06:50:31.921733Z",
     "shell.execute_reply": "2022-09-22T06:50:31.920798Z"
    },
    "papermill": {
     "duration": 0.016124,
     "end_time": "2022-09-22T06:50:31.923928",
     "exception": false,
     "start_time": "2022-09-22T06:50:31.907804",
     "status": "completed"
    },
    "tags": []
   },
   "outputs": [],
   "source": [
    "test_ratings = [1, 2, 3, 4, 5]"
   ]
  },
  {
   "cell_type": "markdown",
   "id": "404ea4b4",
   "metadata": {
    "papermill": {
     "duration": 0.007221,
     "end_time": "2022-09-22T06:50:31.938276",
     "exception": false,
     "start_time": "2022-09-22T06:50:31.931055",
     "status": "completed"
    },
    "tags": []
   },
   "source": [
    "Then we can use this list (`test_ratings`) to create a new list (`test_liked`) where each item has been turned into a boolean, depending on whether or not the item is greater than or equal to four."
   ]
  },
  {
   "cell_type": "code",
   "execution_count": 11,
   "id": "2d072c03",
   "metadata": {
    "execution": {
     "iopub.execute_input": "2022-09-22T06:50:31.955255Z",
     "iopub.status.busy": "2022-09-22T06:50:31.954485Z",
     "iopub.status.idle": "2022-09-22T06:50:31.959950Z",
     "shell.execute_reply": "2022-09-22T06:50:31.958862Z"
    },
    "papermill": {
     "duration": 0.016548,
     "end_time": "2022-09-22T06:50:31.962133",
     "exception": false,
     "start_time": "2022-09-22T06:50:31.945585",
     "status": "completed"
    },
    "tags": []
   },
   "outputs": [
    {
     "name": "stdout",
     "output_type": "stream",
     "text": [
      "[False, False, False, True, True]\n"
     ]
    }
   ],
   "source": [
    "test_liked = [i>=4 for i in test_ratings]\n",
    "print(test_liked)"
   ]
  },
  {
   "cell_type": "markdown",
   "id": "7ceede58",
   "metadata": {
    "papermill": {
     "duration": 0.00793,
     "end_time": "2022-09-22T06:50:31.977319",
     "exception": false,
     "start_time": "2022-09-22T06:50:31.969389",
     "status": "completed"
    },
    "tags": []
   },
   "source": [
    "In this question, you'll use this list comprehension to define a function `percentage_liked()` that takes one argument as input:\n",
    "- `ratings`: list of ratings that people gave to a movie, where each rating is a number between 1-5, inclusive\n",
    "\n",
    "We say someone liked the movie, if they gave a rating of either 4 or 5.  Your function should return the percentage of people who liked the movie.\n",
    "\n",
    "For instance, if we supply a value of `[1, 2, 3, 4, 5, 4, 5, 1]`, then 50% (4/8) of the people liked the movie, and the function should return `0.5`.\n",
    "\n",
    "Part of the function has already been completed for you.  You need only use `list_liked` to calculate `percentage_liked`."
   ]
  },
  {
   "cell_type": "code",
   "execution_count": 12,
   "id": "ec5e4a45",
   "metadata": {
    "execution": {
     "iopub.execute_input": "2022-09-22T06:50:31.994694Z",
     "iopub.status.busy": "2022-09-22T06:50:31.993608Z",
     "iopub.status.idle": "2022-09-22T06:50:32.004878Z",
     "shell.execute_reply": "2022-09-22T06:50:32.003588Z"
    },
    "papermill": {
     "duration": 0.022688,
     "end_time": "2022-09-22T06:50:32.007460",
     "exception": false,
     "start_time": "2022-09-22T06:50:31.984772",
     "status": "completed"
    },
    "tags": []
   },
   "outputs": [
    {
     "data": {
      "application/javascript": [
       "parent.postMessage({\"jupyterEvent\": \"custom.exercise_interaction\", \"data\": {\"outcomeType\": 1, \"valueTowardsCompletion\": 0.2, \"interactionType\": 1, \"questionType\": 2, \"questionId\": \"4_PercentageLiked\", \"learnToolsVersion\": \"0.3.4\", \"failureMessage\": \"\", \"exceptionClass\": \"\", \"trace\": \"\"}}, \"*\")"
      ],
      "text/plain": [
       "<IPython.core.display.Javascript object>"
      ]
     },
     "metadata": {},
     "output_type": "display_data"
    },
    {
     "data": {
      "text/markdown": [
       "<span style=\"color:#33cc33\">Correct</span>"
      ],
      "text/plain": [
       "Correct"
      ]
     },
     "metadata": {},
     "output_type": "display_data"
    }
   ],
   "source": [
    "\n",
    "def percentage_liked(ratings):\n",
    "    list_liked = [i>=4 for i in ratings]\n",
    "    # TODO: Complete the function\n",
    "    percentage_liked = sum(list_liked) / len(list_liked)\n",
    "    return percentage_liked\n",
    "\n",
    "# Do not change: should return 0.5\n",
    "percentage_liked([1, 2, 3, 4, 5, 4, 5, 1])\n",
    "\n",
    "# Do not change: Check your answer\n",
    "q4.check()"
   ]
  },
  {
   "cell_type": "code",
   "execution_count": 13,
   "id": "997de089",
   "metadata": {
    "execution": {
     "iopub.execute_input": "2022-09-22T06:50:32.024601Z",
     "iopub.status.busy": "2022-09-22T06:50:32.023840Z",
     "iopub.status.idle": "2022-09-22T06:50:32.028609Z",
     "shell.execute_reply": "2022-09-22T06:50:32.027747Z"
    },
    "papermill": {
     "duration": 0.016044,
     "end_time": "2022-09-22T06:50:32.030932",
     "exception": false,
     "start_time": "2022-09-22T06:50:32.014888",
     "status": "completed"
    },
    "tags": []
   },
   "outputs": [],
   "source": [
    "# Uncomment to see a hint\n",
    "#q4.hint()\n",
    "\n",
    "# Uncomment to see the solution\n",
    "#q4.solution()"
   ]
  },
  {
   "cell_type": "markdown",
   "id": "d4fe912d",
   "metadata": {
    "papermill": {
     "duration": 0.007085,
     "end_time": "2022-09-22T06:50:32.045758",
     "exception": false,
     "start_time": "2022-09-22T06:50:32.038673",
     "status": "completed"
    },
    "tags": []
   },
   "source": [
    "# 🌶️ Question 5\n",
    " \n",
    "Say you're doing analytics for a website.  You need to write a function that returns the percentage growth in the total number of users relative to a specified number of years ago.\n",
    "\n",
    "Your function `percentage_growth()` should take two arguments as input:\n",
    "- `num_users` = Python list with the total number of users each year.  So `num_users[0]` is the total number of users in the first year, `num_users[1]` is the total number of users in the second year, and so on.  The final entry in the list gives the total number of users in the most recently completed year.\n",
    "- `yrs_ago` = number of years to go back in time when calculating the growth percentage\n",
    "\n",
    "For instance, say `num_users = [920344, 1043553, 1204334, 1458996, 1503323, 1593432, 1623463, 1843064, 1930992, 2001078]`.\n",
    "- if `yrs_ago = 1`, we want the function to return a value of about `0.036`. This corresponds to a percentage growth of approximately 3.6%, calculated as (2001078 - 1930992)/1930992.\n",
    "- if `years_ago = 7`, we would want to return approximately `0.66`.  This corresponds to a percentage growth of approximately 66%, calculated as (2001078 - 1204334)/1204334.\n",
    "\n",
    "Your coworker sent you a draft of a function, but it doesn't seem to be doing the correct calculation.  Can you figure out what has gone wrong and make the needed changes?"
   ]
  },
  {
   "cell_type": "code",
   "execution_count": 14,
   "id": "cec52547",
   "metadata": {
    "execution": {
     "iopub.execute_input": "2022-09-22T06:50:32.063659Z",
     "iopub.status.busy": "2022-09-22T06:50:32.062773Z",
     "iopub.status.idle": "2022-09-22T06:50:32.080033Z",
     "shell.execute_reply": "2022-09-22T06:50:32.078565Z"
    },
    "papermill": {
     "duration": 0.03252,
     "end_time": "2022-09-22T06:50:32.085670",
     "exception": false,
     "start_time": "2022-09-22T06:50:32.053150",
     "status": "completed"
    },
    "tags": []
   },
   "outputs": [
    {
     "name": "stdout",
     "output_type": "stream",
     "text": [
      "0.03629533421163837\n",
      "0.6615639847417742\n"
     ]
    },
    {
     "data": {
      "application/javascript": [
       "parent.postMessage({\"jupyterEvent\": \"custom.exercise_interaction\", \"data\": {\"outcomeType\": 1, \"valueTowardsCompletion\": 0.2, \"interactionType\": 1, \"questionType\": 2, \"questionId\": \"5_WebsiteAnalytics\", \"learnToolsVersion\": \"0.3.4\", \"failureMessage\": \"\", \"exceptionClass\": \"\", \"trace\": \"\"}}, \"*\")"
      ],
      "text/plain": [
       "<IPython.core.display.Javascript object>"
      ]
     },
     "metadata": {},
     "output_type": "display_data"
    },
    {
     "data": {
      "text/markdown": [
       "<span style=\"color:#33cc33\">Correct</span>"
      ],
      "text/plain": [
       "Correct"
      ]
     },
     "metadata": {},
     "output_type": "display_data"
    }
   ],
   "source": [
    "# TODO: Edit the function\n",
    "def percentage_growth(num_users, yrs_ago):\n",
    "    growth = (num_users[len(num_users)-1] - num_users[len(num_users)-yrs_ago-1])/num_users[len(num_users)-yrs_ago-1]\n",
    "    return growth\n",
    "\n",
    "# Do not change: Variable for calculating some test examples\n",
    "num_users_test = [920344, 1043553, 1204334, 1458996, 1503323, 1593432, 1623463, 1843064, 1930992, 2001078]\n",
    "\n",
    "# Do not change: Should return .036\n",
    "print(percentage_growth(num_users_test, 1))\n",
    "\n",
    "# Do not change: Should return 0.66\n",
    "print(percentage_growth(num_users_test, 7))\n",
    "\n",
    "# Do not change: Check your answer\n",
    "q5.check()"
   ]
  },
  {
   "cell_type": "code",
   "execution_count": 15,
   "id": "d2f4a02c",
   "metadata": {
    "execution": {
     "iopub.execute_input": "2022-09-22T06:50:32.109274Z",
     "iopub.status.busy": "2022-09-22T06:50:32.108375Z",
     "iopub.status.idle": "2022-09-22T06:50:32.113317Z",
     "shell.execute_reply": "2022-09-22T06:50:32.112249Z"
    },
    "papermill": {
     "duration": 0.019121,
     "end_time": "2022-09-22T06:50:32.115794",
     "exception": false,
     "start_time": "2022-09-22T06:50:32.096673",
     "status": "completed"
    },
    "tags": []
   },
   "outputs": [],
   "source": [
    "# Uncomment to see a hint\n",
    "#q5.hint()\n",
    "\n",
    "# Uncomment to see the solution\n",
    "#q5.solution()"
   ]
  },
  {
   "cell_type": "markdown",
   "id": "88451c49",
   "metadata": {
    "papermill": {
     "duration": 0.007501,
     "end_time": "2022-09-22T06:50:32.132044",
     "exception": false,
     "start_time": "2022-09-22T06:50:32.124543",
     "status": "completed"
    },
    "tags": []
   },
   "source": [
    "# Congratulations!\n",
    "\n",
    "Congratulations for finishing the Intro to Programming course!  You should be proud of your very first steps with learning programming.  As next steps, we recommend taking:\n",
    "- the **[Python course](http://www.kaggle.com/learn/python)**, and \n",
    "- the **[Intro to Machine Learning course](https://www.kaggle.com/learn/intro-to-machine-learning)**."
   ]
  },
  {
   "cell_type": "markdown",
   "id": "b16a81b9",
   "metadata": {
    "papermill": {
     "duration": 0.009949,
     "end_time": "2022-09-22T06:50:32.149941",
     "exception": false,
     "start_time": "2022-09-22T06:50:32.139992",
     "status": "completed"
    },
    "tags": []
   },
   "source": [
    "---\n",
    "\n",
    "\n",
    "\n",
    "\n",
    "*Have questions or comments? Visit the [course discussion forum](https://www.kaggle.com/learn/intro-to-programming/discussion) to chat with other learners.*"
   ]
  }
 ],
 "metadata": {
  "kernelspec": {
   "display_name": "Python 3",
   "language": "python",
   "name": "python3"
  },
  "language_info": {
   "codemirror_mode": {
    "name": "ipython",
    "version": 3
   },
   "file_extension": ".py",
   "mimetype": "text/x-python",
   "name": "python",
   "nbconvert_exporter": "python",
   "pygments_lexer": "ipython3",
   "version": "3.7.12"
  },
  "papermill": {
   "default_parameters": {},
   "duration": 11.119299,
   "end_time": "2022-09-22T06:50:32.881025",
   "environment_variables": {},
   "exception": null,
   "input_path": "__notebook__.ipynb",
   "output_path": "__notebook__.ipynb",
   "parameters": {},
   "start_time": "2022-09-22T06:50:21.761726",
   "version": "2.3.4"
  }
 },
 "nbformat": 4,
 "nbformat_minor": 5
}
