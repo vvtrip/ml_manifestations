{
  "nbformat": 4,
  "nbformat_minor": 0,
  "metadata": {
    "colab": {
      "provenance": [],
      "collapsed_sections": [
        "wWflbaJA8YwX",
        "o3Q-fuU68cZR",
        "igooQvLiG3Ei",
        "lL2olqeJNwuM",
        "w1d1SUYMOkIS",
        "7rbw7Zl8XRnG"
      ],
      "authorship_tag": "ABX9TyOY2X/4uuq1DKqdLQkU/3UX",
      "include_colab_link": true
    },
    "kernelspec": {
      "name": "python3",
      "display_name": "Python 3"
    },
    "language_info": {
      "name": "python"
    }
  },
  "cells": [
    {
      "cell_type": "markdown",
      "metadata": {
        "id": "view-in-github",
        "colab_type": "text"
      },
      "source": [
        "<a href=\"https://colab.research.google.com/github/vvtrip/ml_manifestations/blob/master/7_tools/7_numpy_misc.ipynb\" target=\"_parent\"><img src=\"https://colab.research.google.com/assets/colab-badge.svg\" alt=\"Open In Colab\"/></a>"
      ]
    },
    {
      "cell_type": "markdown",
      "source": [
        "# Intro"
      ],
      "metadata": {
        "id": "wWflbaJA8YwX"
      }
    },
    {
      "cell_type": "code",
      "execution_count": 1,
      "metadata": {
        "id": "EjSn9gM-g3jx"
      },
      "outputs": [],
      "source": [
        "import numpy as np"
      ]
    },
    {
      "cell_type": "code",
      "source": [
        "# N-dimensional array is an object, capable of holding data elements of same type and of a fixed size in multiple dimensions.\n",
        "x = np.array([5, 8, 9, 10, 11])\n",
        "type(x)"
      ],
      "metadata": {
        "colab": {
          "base_uri": "https://localhost:8080/"
        },
        "id": "_SfSLHxv45L6",
        "outputId": "2aa108fa-e61e-4105-c5ed-d73be7cd0bf8"
      },
      "execution_count": 2,
      "outputs": [
        {
          "output_type": "execute_result",
          "data": {
            "text/plain": [
              "numpy.ndarray"
            ]
          },
          "metadata": {},
          "execution_count": 2
        }
      ]
    },
    {
      "cell_type": "code",
      "source": [
        "# Creation of a 2-D array from a list of lists\n",
        "y = np.array([[6, 9, 5], [10, 82, 34]])  \n",
        "print(y)"
      ],
      "metadata": {
        "colab": {
          "base_uri": "https://localhost:8080/"
        },
        "id": "qvEpdtCl5FPQ",
        "outputId": "ed62ecc8-4239-43af-e281-5ab39ad060d5"
      },
      "execution_count": 3,
      "outputs": [
        {
          "output_type": "stream",
          "name": "stdout",
          "text": [
            "[[ 6  9  5]\n",
            " [10 82 34]]\n"
          ]
        }
      ]
    },
    {
      "cell_type": "code",
      "source": [
        "# Some of the important attributes of a ndarray are\n",
        "# ndim : Returns number of dimensions.\n",
        "# shape: Returns Shape in tuple.\n",
        "# size : Total number of elements.\n",
        "# dtype : Type of each element.\n",
        "# itemsize : Size of each element in Bytes.\n",
        "# nbytes : Total bytes consumed by all elements.\n",
        "\n",
        "print(y.ndim, y.shape, y.size, y.dtype, y.itemsize, y.nbytes)"
      ],
      "metadata": {
        "colab": {
          "base_uri": "https://localhost:8080/"
        },
        "id": "cY2vjgth5TVZ",
        "outputId": "4f54044e-5f11-43a2-9956-f671bd048a3b"
      },
      "execution_count": 4,
      "outputs": [
        {
          "output_type": "stream",
          "name": "stdout",
          "text": [
            "2 (2, 3) 6 int64 8 48\n"
          ]
        }
      ]
    },
    {
      "cell_type": "code",
      "source": [
        "y = np.array([3+4j, 0.4+7.8j])\n",
        "print(y.dtype)"
      ],
      "metadata": {
        "colab": {
          "base_uri": "https://localhost:8080/"
        },
        "id": "cFyLLE2A5cVo",
        "outputId": "6cc7994b-75c6-459f-8fe5-ac804df7056d"
      },
      "execution_count": 5,
      "outputs": [
        {
          "output_type": "stream",
          "name": "stdout",
          "text": [
            "complex128\n"
          ]
        }
      ]
    },
    {
      "cell_type": "code",
      "source": [
        "y.flags"
      ],
      "metadata": {
        "colab": {
          "base_uri": "https://localhost:8080/"
        },
        "id": "z35fHrKj5jzY",
        "outputId": "29f1dfa3-6f84-42a5-a83c-99923275e776"
      },
      "execution_count": 6,
      "outputs": [
        {
          "output_type": "execute_result",
          "data": {
            "text/plain": [
              "  C_CONTIGUOUS : True\n",
              "  F_CONTIGUOUS : True\n",
              "  OWNDATA : True\n",
              "  WRITEABLE : True\n",
              "  ALIGNED : True\n",
              "  WRITEBACKIFCOPY : False\n",
              "  UPDATEIFCOPY : False"
            ]
          },
          "metadata": {},
          "execution_count": 6
        }
      ]
    },
    {
      "cell_type": "code",
      "source": [
        "x = np.array([[3.2, 7.8, 9.2],\n",
        "             [4.5, 9.1, 1.2]], dtype='int64')\n",
        "print(x.itemsize)\n"
      ],
      "metadata": {
        "colab": {
          "base_uri": "https://localhost:8080/"
        },
        "id": "olQqQWOq6ADB",
        "outputId": "a27caea5-8b77-4a04-b6be-72b441ef0e6a"
      },
      "execution_count": 7,
      "outputs": [
        {
          "output_type": "stream",
          "name": "stdout",
          "text": [
            "8\n"
          ]
        }
      ]
    },
    {
      "cell_type": "markdown",
      "source": [
        "# Creation"
      ],
      "metadata": {
        "id": "o3Q-fuU68cZR"
      }
    },
    {
      "cell_type": "code",
      "source": [
        "# N-dimensional arrays or ndarray can be created in multiple ways in numpy.\n",
        "# Now let us focus on creating ndarray,\n",
        "\n",
        "# From Python built-in datatypes : lists or tuples\n",
        "# Using Numpy array creation methods like ones, ones_like, zeros, zeros_like\n",
        "# Using Numpy numeric sequence generators.\n",
        "# Using Numpy random module.\n",
        "# By reading data from a file.\n",
        "\n",
        "# 1\n",
        "# ndarrays from Lists\n",
        "# Data available in lists, or tuples can be converted into numpy arrays using array method.\n",
        "\n",
        "a = [[[4.1, 2.5], [1.1, 2.3], [9.1, 2.5]], \n",
        "     [[8.6, 9.9],[3.6, 4.3], [6.6, 0.3]]]\n",
        "\n",
        "x = np.array(a, dtype='float64')\n",
        "\n",
        "type(x), x.ndim, x.shape\n"
      ],
      "metadata": {
        "colab": {
          "base_uri": "https://localhost:8080/"
        },
        "id": "DdOfp-SS8hOK",
        "outputId": "fa20a855-25ed-4870-bc03-23377bb216db"
      },
      "execution_count": 8,
      "outputs": [
        {
          "output_type": "execute_result",
          "data": {
            "text/plain": [
              "(numpy.ndarray, 3, (2, 3, 2))"
            ]
          },
          "metadata": {},
          "execution_count": 8
        }
      ]
    },
    {
      "cell_type": "code",
      "source": [
        "# Numpy allows creation of arrays with default values like 0, 1, or another value.\n",
        "x = np.zeros(shape=(2,4))\n",
        "print(x)\n",
        "\n",
        "y = np.full(shape=(2,3), fill_value=10.5)\n",
        "print(y)"
      ],
      "metadata": {
        "colab": {
          "base_uri": "https://localhost:8080/"
        },
        "id": "f78w-Qyo85oV",
        "outputId": "56b780bd-9027-49e1-bb21-fc8b5b036e0d"
      },
      "execution_count": 9,
      "outputs": [
        {
          "output_type": "stream",
          "name": "stdout",
          "text": [
            "[[0. 0. 0. 0.]\n",
            " [0. 0. 0. 0.]]\n",
            "[[10.5 10.5 10.5]\n",
            " [10.5 10.5 10.5]]\n"
          ]
        }
      ]
    },
    {
      "cell_type": "code",
      "source": [
        "# Numeric Sequence Generators\n",
        "# Two major methods used in numpy for generating number sequences are,\n",
        "\n",
        "# arange : Numbers created based on step value.\n",
        "# Syntax - numpy.arange([start, ]stop, [step, ]dtype=None)\n",
        "\n",
        "# linspace : Numbers created based on size value.\n",
        "# Syntax - numpy.linspace(start, stop, #num inbetween, endpoint=True, retstep=False, dtype=None)\n",
        "\n",
        "x = np.arange(3, 15, 2.5) # 2.5 is step\n",
        "print(x)\n",
        "y = np.linspace(3, 15, 5) # 5 is size of array 'y'\n",
        "print(y)"
      ],
      "metadata": {
        "colab": {
          "base_uri": "https://localhost:8080/"
        },
        "id": "dWP0hg6W9F2x",
        "outputId": "0888e041-a533-45f1-bf3a-ff24807c5f1e"
      },
      "execution_count": 10,
      "outputs": [
        {
          "output_type": "stream",
          "name": "stdout",
          "text": [
            "[ 3.   5.5  8.  10.5 13. ]\n",
            "[ 3.  6.  9. 12. 15.]\n"
          ]
        }
      ]
    },
    {
      "cell_type": "code",
      "source": [
        "# Random Numbers Generator\n",
        "# random module of numpy is used to generate various random sequences.\n",
        "\n",
        "np.random.seed(100) # setting seed\n",
        "x = np.random.rand(2) # 2 random numbers between 0 and 1\n",
        "print(x)\n",
        "\n",
        "x = np.random.rand(2,2,2) # 8 random numbers between 0 and 1 for a 3d array of size 2*2*2\n",
        "print(x)\n",
        "\n",
        "y = np.random.randint(10, 50, 3) # 3 random integers between 10 and 50\n",
        "print(y)"
      ],
      "metadata": {
        "colab": {
          "base_uri": "https://localhost:8080/"
        },
        "id": "eEn8AAw89gPa",
        "outputId": "83a62db4-b73a-4a57-f62d-744e66851f50"
      },
      "execution_count": 20,
      "outputs": [
        {
          "output_type": "stream",
          "name": "stdout",
          "text": [
            "[0.54340494 0.27836939]\n",
            "[[[0.42451759 0.84477613]\n",
            "  [0.00471886 0.12156912]]\n",
            "\n",
            " [[0.67074908 0.82585276]\n",
            "  [0.13670659 0.57509333]]]\n",
            "[46 26 19]\n"
          ]
        }
      ]
    },
    {
      "cell_type": "code",
      "source": [
        "# Simulating Normal Distribution\n",
        "# randn is used to simulate standard normal distribution.\n",
        "np.random.seed(100)\n",
        "x = np.random.randn(3) # Standard normal distribution\n",
        "print(x)\n",
        "\n",
        "x = 10 + 2*np.random.randn(3) # normal distribution with mean 10 and sd 2\n",
        "print(x)"
      ],
      "metadata": {
        "colab": {
          "base_uri": "https://localhost:8080/"
        },
        "id": "BtR6ocH79yMT",
        "outputId": "2a059655-4035-4686-e80e-d9adb0774ade"
      },
      "execution_count": 21,
      "outputs": [
        {
          "output_type": "stream",
          "name": "stdout",
          "text": [
            "[-1.74976547  0.3426804   1.1530358 ]\n",
            "[ 9.49512793 11.96264157 11.02843768]\n"
          ]
        }
      ]
    },
    {
      "cell_type": "code",
      "source": [
        "# Reading Data from a file\n",
        "# loadtxt is used to read data from a text file or any input data stream.\n",
        "\n",
        "from io import StringIO\n",
        "\n",
        "x = StringIO('''88.25 93.45 72.60 90.90\n",
        "72.3 78.85 92.15 65.75\n",
        "90.5 92.45 89.25 94.50\n",
        "''')\n",
        "\n",
        "d = np.loadtxt(x,delimiter=' ')\n",
        "\n",
        "print(d)\n",
        "\n",
        "print(d.ndim, d.shape)"
      ],
      "metadata": {
        "colab": {
          "base_uri": "https://localhost:8080/"
        },
        "id": "cR-983i2-45y",
        "outputId": "62b2083f-5b9f-41f8-c192-b91bd50b6f1f"
      },
      "execution_count": 22,
      "outputs": [
        {
          "output_type": "stream",
          "name": "stdout",
          "text": [
            "[[88.25 93.45 72.6  90.9 ]\n",
            " [72.3  78.85 92.15 65.75]\n",
            " [90.5  92.45 89.25 94.5 ]]\n",
            "2 (3, 4)\n"
          ]
        }
      ]
    },
    {
      "cell_type": "code",
      "source": [
        "# trick question, it has both list and tuple\n",
        "print(np.array(([1, 2], (3,4))).shape)"
      ],
      "metadata": {
        "colab": {
          "base_uri": "https://localhost:8080/"
        },
        "id": "P16ZQLsz_Tun",
        "outputId": "74d728d3-f9f4-4b77-b4bd-f33bfcc66563"
      },
      "execution_count": 18,
      "outputs": [
        {
          "output_type": "stream",
          "name": "stdout",
          "text": [
            "(2, 2)\n"
          ]
        }
      ]
    },
    {
      "cell_type": "code",
      "source": [
        "#  identity matric of order 2\n",
        "z = np.eye(2)\n",
        "print(z)"
      ],
      "metadata": {
        "colab": {
          "base_uri": "https://localhost:8080/"
        },
        "id": "F2D_H0j__n3S",
        "outputId": "e76d82c0-d8df-4c53-b195-7f77f267bb84"
      },
      "execution_count": 17,
      "outputs": [
        {
          "output_type": "stream",
          "name": "stdout",
          "text": [
            "[[1. 0.]\n",
            " [0. 1.]]\n"
          ]
        }
      ]
    },
    {
      "cell_type": "markdown",
      "source": [
        "# Array shape manipulation"
      ],
      "metadata": {
        "id": "igooQvLiG3Ei"
      }
    },
    {
      "cell_type": "code",
      "source": [
        "# Reshaping ndarrays\n",
        "# Shape of an array can be changed using reshape.\n",
        "\n",
        "x = np.random.randint(10, 100, 8)\n",
        "print(x, end='\\n\\n')\n",
        "y = x.reshape(2,4)\n",
        "print(y, end='\\n\\n')\n",
        "z = x.reshape(2,2,2)\n",
        "print(z, '\\n\\n')"
      ],
      "metadata": {
        "colab": {
          "base_uri": "https://localhost:8080/"
        },
        "id": "caQSONkJ_0Dr",
        "outputId": "bc1bdfb9-0fa7-495d-a268-64750a9a39c5"
      },
      "execution_count": 32,
      "outputs": [
        {
          "output_type": "stream",
          "name": "stdout",
          "text": [
            "[63 76 24 44 34 25 70 68]\n",
            "\n",
            "[[63 76 24 44]\n",
            " [34 25 70 68]]\n",
            "\n",
            "[[[63 76]\n",
            "  [24 44]]\n",
            "\n",
            " [[34 25]\n",
            "  [70 68]]] \n",
            "\n",
            "\n"
          ]
        }
      ]
    },
    {
      "cell_type": "code",
      "source": [
        "# Stacking arrays vertically\n",
        "# Two or more arrays can be joined vertically using the generic vstack method.\n",
        "x = np.array([[-1, 1], [-3, 3]])\n",
        "y = np.array([[-2, 2], [-4, 4]])\n",
        "np.vstack((x,y))"
      ],
      "metadata": {
        "colab": {
          "base_uri": "https://localhost:8080/"
        },
        "id": "mKPJ1_iVHMBS",
        "outputId": "e3c6b081-feeb-498f-f16b-2b45379e9d47"
      },
      "execution_count": 26,
      "outputs": [
        {
          "output_type": "execute_result",
          "data": {
            "text/plain": [
              "array([[-1,  1],\n",
              "       [-3,  3],\n",
              "       [-2,  2],\n",
              "       [-4,  4]])"
            ]
          },
          "metadata": {},
          "execution_count": 26
        }
      ]
    },
    {
      "cell_type": "code",
      "source": [
        "# Two or more arrays can be joined horizontally using the generic hstack method.\n",
        "\n",
        "x = np.array([[-1, 1], [-3, 3]])\n",
        "y = np.array([[-2, 2], [-4, 4]])\n",
        "z = np.array([[-5, 5], [-6, 6]])\n",
        "np.hstack((x,y,z))\n"
      ],
      "metadata": {
        "colab": {
          "base_uri": "https://localhost:8080/"
        },
        "id": "agH1ewhNHqPr",
        "outputId": "97705298-3c71-4b4c-82c8-7b8558c9b7cc"
      },
      "execution_count": 27,
      "outputs": [
        {
          "output_type": "execute_result",
          "data": {
            "text/plain": [
              "array([[-1,  1, -2,  2, -5,  5],\n",
              "       [-3,  3, -4,  4, -6,  6]])"
            ]
          },
          "metadata": {},
          "execution_count": 27
        }
      ]
    },
    {
      "cell_type": "code",
      "source": [
        "# Arrays can be split vertically using the generic vsplit method.\n",
        "x = np.arange(30).reshape(6, 5)\n",
        "res = np.vsplit(x, 2)\n",
        "print(res[0], end='\\n\\n')\n",
        "print(res[1])"
      ],
      "metadata": {
        "colab": {
          "base_uri": "https://localhost:8080/"
        },
        "id": "qjifdUoNH25h",
        "outputId": "8d8b8d5e-17ad-4de7-a830-8acce10c9ecb"
      },
      "execution_count": 29,
      "outputs": [
        {
          "output_type": "stream",
          "name": "stdout",
          "text": [
            "[[ 0  1  2  3  4]\n",
            " [ 5  6  7  8  9]\n",
            " [10 11 12 13 14]]\n",
            "\n",
            "[[15 16 17 18 19]\n",
            " [20 21 22 23 24]\n",
            " [25 26 27 28 29]]\n"
          ]
        }
      ]
    },
    {
      "cell_type": "code",
      "source": [
        "# It is also possible to split at specific row numbers using vsplit\n",
        "\n",
        "res = np.vsplit(x, (2, 5))\n",
        "print(res[0], end='\\n\\n')\n",
        "print(res[1], end='\\n\\n')\n",
        "print(res[2])"
      ],
      "metadata": {
        "colab": {
          "base_uri": "https://localhost:8080/"
        },
        "id": "rQm6NuopH77z",
        "outputId": "3a6a2821-e84f-43e9-9947-24597d49d2db"
      },
      "execution_count": 30,
      "outputs": [
        {
          "output_type": "stream",
          "name": "stdout",
          "text": [
            "[[0 1 2 3 4]\n",
            " [5 6 7 8 9]]\n",
            "\n",
            "[[10 11 12 13 14]\n",
            " [15 16 17 18 19]\n",
            " [20 21 22 23 24]]\n",
            "\n",
            "[[25 26 27 28 29]]\n"
          ]
        }
      ]
    },
    {
      "cell_type": "code",
      "source": [
        "# Arrays can be split horizontally using the generic hsplit method.\n",
        "\n",
        "res = np.hsplit(x, (2,4))\n",
        "print(res[0], end='\\n\\n')\n",
        "print(res[1], end='\\n\\n')\n",
        "print(res[2])"
      ],
      "metadata": {
        "colab": {
          "base_uri": "https://localhost:8080/"
        },
        "id": "-xIpaNX8IC0b",
        "outputId": "ee8ffa84-9755-47a7-fe8b-940ed2ce03c9"
      },
      "execution_count": 31,
      "outputs": [
        {
          "output_type": "stream",
          "name": "stdout",
          "text": [
            "[[ 0  1]\n",
            " [ 5  6]\n",
            " [10 11]\n",
            " [15 16]\n",
            " [20 21]\n",
            " [25 26]]\n",
            "\n",
            "[[ 2  3]\n",
            " [ 7  8]\n",
            " [12 13]\n",
            " [17 18]\n",
            " [22 23]\n",
            " [27 28]]\n",
            "\n",
            "[[ 4]\n",
            " [ 9]\n",
            " [14]\n",
            " [19]\n",
            " [24]\n",
            " [29]]\n"
          ]
        }
      ]
    },
    {
      "cell_type": "code",
      "source": [
        "x = np.arange(90).reshape(3, 15, 2)\n",
        "x"
      ],
      "metadata": {
        "colab": {
          "base_uri": "https://localhost:8080/"
        },
        "id": "HBaW6mJ2IKIF",
        "outputId": "b16c95c5-11be-4350-a5aa-2021a57da2a1"
      },
      "execution_count": 35,
      "outputs": [
        {
          "output_type": "execute_result",
          "data": {
            "text/plain": [
              "array([[[ 0,  1],\n",
              "        [ 2,  3],\n",
              "        [ 4,  5],\n",
              "        [ 6,  7],\n",
              "        [ 8,  9],\n",
              "        [10, 11],\n",
              "        [12, 13],\n",
              "        [14, 15],\n",
              "        [16, 17],\n",
              "        [18, 19],\n",
              "        [20, 21],\n",
              "        [22, 23],\n",
              "        [24, 25],\n",
              "        [26, 27],\n",
              "        [28, 29]],\n",
              "\n",
              "       [[30, 31],\n",
              "        [32, 33],\n",
              "        [34, 35],\n",
              "        [36, 37],\n",
              "        [38, 39],\n",
              "        [40, 41],\n",
              "        [42, 43],\n",
              "        [44, 45],\n",
              "        [46, 47],\n",
              "        [48, 49],\n",
              "        [50, 51],\n",
              "        [52, 53],\n",
              "        [54, 55],\n",
              "        [56, 57],\n",
              "        [58, 59]],\n",
              "\n",
              "       [[60, 61],\n",
              "        [62, 63],\n",
              "        [64, 65],\n",
              "        [66, 67],\n",
              "        [68, 69],\n",
              "        [70, 71],\n",
              "        [72, 73],\n",
              "        [74, 75],\n",
              "        [76, 77],\n",
              "        [78, 79],\n",
              "        [80, 81],\n",
              "        [82, 83],\n",
              "        [84, 85],\n",
              "        [86, 87],\n",
              "        [88, 89]]])"
            ]
          },
          "metadata": {},
          "execution_count": 35
        }
      ]
    },
    {
      "cell_type": "markdown",
      "source": [
        "# Basic operation on np arrays"
      ],
      "metadata": {
        "id": "lL2olqeJNwuM"
      }
    },
    {
      "cell_type": "code",
      "source": [
        "# Operations in Numpy are carried out element wise.\n",
        "\n",
        "# Hence the expression x + 10, increases every element of array x by 10.\n",
        "\n",
        "x = np.arange(6).reshape(2,3)\n",
        "print(x + 10, end='\\n\\n')\n",
        "print(x * 3, end='\\n\\n')\n",
        "print(x % 2)"
      ],
      "metadata": {
        "colab": {
          "base_uri": "https://localhost:8080/"
        },
        "id": "WtwNn1kAKi9L",
        "outputId": "f50f8d1b-272a-4c41-9a84-7d168bb85aeb"
      },
      "execution_count": 36,
      "outputs": [
        {
          "output_type": "stream",
          "name": "stdout",
          "text": [
            "[[10 11 12]\n",
            " [13 14 15]]\n",
            "\n",
            "[[ 0  3  6]\n",
            " [ 9 12 15]]\n",
            "\n",
            "[[0 1 0]\n",
            " [1 0 1]]\n"
          ]
        }
      ]
    },
    {
      "cell_type": "code",
      "source": [
        "# Operations between arrays also happen element wise.\n",
        "\n",
        "x = np.array([[-1, 1], [-2, 2]])\n",
        "y = np.array([[4, -4], [5, -5]])\n",
        "print(x + y, end='\\n\\n')\n",
        "print(x * y)"
      ],
      "metadata": {
        "colab": {
          "base_uri": "https://localhost:8080/"
        },
        "id": "KwRxsECON47F",
        "outputId": "a81abda8-93cf-4540-8b5c-9b4b4fa9fe22"
      },
      "execution_count": 37,
      "outputs": [
        {
          "output_type": "stream",
          "name": "stdout",
          "text": [
            "[[ 3 -3]\n",
            " [ 3 -3]]\n",
            "\n",
            "[[ -4  -4]\n",
            " [-10 -10]]\n"
          ]
        }
      ]
    },
    {
      "cell_type": "code",
      "source": [
        "# It is also possible to perform operations on arrays with varying size and shape. This is due Broadcasting feature exhibited by numpy arrays.\n",
        "\n",
        "x = np.array([[-1, 1], [-2, 2]])\n",
        "y = np.array([-10, 10])\n",
        "print(x * y)"
      ],
      "metadata": {
        "colab": {
          "base_uri": "https://localhost:8080/"
        },
        "id": "B0JsV98aN9vs",
        "outputId": "489a8b19-a43d-4638-e479-378768564024"
      },
      "execution_count": 38,
      "outputs": [
        {
          "output_type": "stream",
          "name": "stdout",
          "text": [
            "[[10 10]\n",
            " [20 20]]\n"
          ]
        }
      ]
    },
    {
      "cell_type": "markdown",
      "source": [
        "**Broadcasting in NumPy**\n",
        "\n",
        "Element wise operations between arrays are possible only when they have the same shape or compatible for Broadcasting.\n",
        "\n",
        "\n",
        "Steps followed to verify the feasibility of Broadcasting between arrays are:\n",
        "\n",
        "\n",
        "1. Initially, compare the dimensions of all arrays.\n",
        "2. If dimensions do not match, prepend 1's to shape of a smaller array so that it matches dimensions of a larger array.\n",
        "3. Start comparing array shapes from the last dimension and move backward.\n",
        "4. If the shape of both arrays are equal or either of it has a shape of 1, continue the comparison.\n",
        "5. Else at any dimension, if step 4 fails, broadcasting between arrays is not feasible.\n",
        "\n",
        "\n",
        "Finally, the resulted broadcasting array shape would be maximum of two compared shapes in each dimension.\n",
        "\n",
        "Below examples show feasibility of broadcasting between two arrays, having shape s1 and s2 respectively.\n",
        "\n",
        "Given: s1 = (4, 3); s2 = (3,)\n",
        "\n",
        "Step 1 and 2: s1 = (4, 3); s2 = (1, 3)\n",
        "\n",
        "Step 3 and 4: pass in 2 dimensions\n",
        "\n",
        "Result : Broadcasting feasible;\n",
        "\n",
        "  resulted array shape - (4,3) \n",
        "\n",
        "\n",
        "\n",
        "Given: s1 = (5,); s2 = (5,4,3)\n",
        "\n",
        "Step 1 and 2: s1 = (1, 1, 5); s2 = (5, 4, 3)\n",
        "\n",
        "Step 3 and 4: fail in last dimension. ( 5 != 3)\n",
        "\n",
        "Result : Broadcasting not feasible. "
      ],
      "metadata": {
        "id": "w1d1SUYMOkIS"
      }
    },
    {
      "cell_type": "code",
      "source": [
        "# Numpy provides a lot of mathematical functions, in the form of Universal functions.\n",
        "\n",
        "x = np.array([[0,1], [2,3]])\n",
        "print(np.square(x), end='\\n\\n')\n",
        "print(np.sin(x))\n"
      ],
      "metadata": {
        "colab": {
          "base_uri": "https://localhost:8080/"
        },
        "id": "30uLX2cdOD0k",
        "outputId": "799df358-be39-4bc0-f131-caf701bc2339"
      },
      "execution_count": 39,
      "outputs": [
        {
          "output_type": "stream",
          "name": "stdout",
          "text": [
            "[[0 1]\n",
            " [4 9]]\n",
            "\n",
            "[[0.         0.84147098]\n",
            " [0.90929743 0.14112001]]\n"
          ]
        }
      ]
    },
    {
      "cell_type": "code",
      "source": [
        "# Many of the universal functions are available as methods of ndarray class.\n",
        "# By default sum method adds all array elements.\n",
        "# It is also possible to apply sum method on elements of a specific dimension, using axis argument.\n",
        "\n",
        "x = np.array([[0,1], [2, 3]])\n",
        "print(x.sum(), end='\\n\\n')\n",
        "print(x.sum(axis=0), end='\\n\\n')\n",
        "print(x.sum(axis=1))"
      ],
      "metadata": {
        "colab": {
          "base_uri": "https://localhost:8080/"
        },
        "id": "zL_o6WuJPZaM",
        "outputId": "d4c78884-1110-46f4-f137-8a1eeb738147"
      },
      "execution_count": 40,
      "outputs": [
        {
          "output_type": "stream",
          "name": "stdout",
          "text": [
            "6\n",
            "\n",
            "[2 4]\n",
            "\n",
            "[1 5]\n"
          ]
        }
      ]
    },
    {
      "cell_type": "code",
      "source": [
        "\n",
        "x = np.arange(30).reshape(5,6)\n",
        "print(x.argmax(axis=1))"
      ],
      "metadata": {
        "colab": {
          "base_uri": "https://localhost:8080/"
        },
        "id": "wBKB7OPHPjZU",
        "outputId": "211c63c4-78b1-4224-a117-bfad05567dab"
      },
      "execution_count": 41,
      "outputs": [
        {
          "output_type": "stream",
          "name": "stdout",
          "text": [
            "[5 5 5 5 5]\n"
          ]
        }
      ]
    },
    {
      "cell_type": "code",
      "source": [
        "x =  np.arange(20).reshape(4,5)\n",
        "print(x.mean(axis=1))"
      ],
      "metadata": {
        "colab": {
          "base_uri": "https://localhost:8080/"
        },
        "id": "EWkI1c_bQ5F8",
        "outputId": "ed86a89f-646e-4894-dba8-e5a46d534275"
      },
      "execution_count": 42,
      "outputs": [
        {
          "output_type": "stream",
          "name": "stdout",
          "text": [
            "[ 2.  7. 12. 17.]\n"
          ]
        }
      ]
    },
    {
      "cell_type": "code",
      "source": [
        "# cumulative sum\n",
        "\n",
        "x = np.array([[1,2,3], [4,5,6]])\n",
        "print(\"Original array: \")\n",
        "print(x)\n",
        "print(\"Cumulative sum of the elements along a given axis:\")\n",
        "r = np.cumsum(x)\n",
        "print(r)\n",
        "print(\"\\nSum over rows for each of the 3 columns:\")\n",
        "r = np.cumsum(x,axis=0) \n",
        "print(r)\n",
        "print(\"\\nSum over columns for each of the 2 rows:\")\n",
        "r = np.cumsum(x,axis=1) \n",
        "print(r)"
      ],
      "metadata": {
        "colab": {
          "base_uri": "https://localhost:8080/"
        },
        "id": "s1TqwvLGRCbF",
        "outputId": "c9484f06-84aa-4b3d-8122-29c244ec5aec"
      },
      "execution_count": 45,
      "outputs": [
        {
          "output_type": "stream",
          "name": "stdout",
          "text": [
            "Original array: \n",
            "[[1 2 3]\n",
            " [4 5 6]]\n",
            "Cumulative sum of the elements along a given axis:\n",
            "[ 1  3  6 10 15 21]\n",
            "\n",
            "Sum over rows for each of the 3 columns:\n",
            "[[1 2 3]\n",
            " [5 7 9]]\n",
            "\n",
            "Sum over columns for each of the 2 rows:\n",
            "[[ 1  3  6]\n",
            " [ 4  9 15]]\n"
          ]
        }
      ]
    },
    {
      "cell_type": "markdown",
      "source": [
        "# Indexing, slicing and Iterating"
      ],
      "metadata": {
        "id": "7rbw7Zl8XRnG"
      }
    },
    {
      "cell_type": "code",
      "source": [
        "# Slicing refers to extracting a portion of existing array.\n",
        "# This can be achieved with a slice object.\n",
        "# A slice object is of the form start:end:step. All three are optional.\n",
        "# Having only a single number inside square brackets refer to start ind\n",
        "\n",
        "x  = np.array([5, 10, 15, 20, 25, 30, 35])\n",
        "print(x[1])  # Indexing\n",
        "print(x[1:6]) # Slicing\n",
        "print(x[1:6:3]) # Slicing"
      ],
      "metadata": {
        "colab": {
          "base_uri": "https://localhost:8080/"
        },
        "id": "ONaOa_RvXQav",
        "outputId": "c7133446-12bd-4fda-a63a-201976b01c95"
      },
      "execution_count": 47,
      "outputs": [
        {
          "output_type": "stream",
          "name": "stdout",
          "text": [
            "10\n",
            "[10 15 20 25 30]\n",
            "[10 25]\n"
          ]
        }
      ]
    },
    {
      "cell_type": "code",
      "source": [
        "# Two slice objects, one for each dimension, are required to slice a 2-D array.\n",
        "# They are separated by a comma (,) and having only a single slice object inside square brackets refers to first dimension.\n",
        "# All elements of a single dimension can be referred with a colon (:).\n",
        "\n",
        "y = np.array([[0, 1, 2],\n",
        "              [3, 4, 5]])\n",
        "print(y[1:2, 1:3]) \n",
        "print(y[1])   \n",
        "print(y[:, 1]) \n"
      ],
      "metadata": {
        "colab": {
          "base_uri": "https://localhost:8080/"
        },
        "id": "J-K_bVAAXdWU",
        "outputId": "7fba5f83-ba84-40eb-cfe0-f3d08e4f8f45"
      },
      "execution_count": 48,
      "outputs": [
        {
          "output_type": "stream",
          "name": "stdout",
          "text": [
            "[[4 5]]\n",
            "[3 4 5]\n",
            "[1 4]\n"
          ]
        }
      ]
    },
    {
      "cell_type": "code",
      "source": [
        "# For slicing an n dimensional ndarray, n slice objects are required.\n",
        "# Having only a single slice object refers to first dimension.\n",
        "\n",
        "z = np.array([[[-1, 1], [-2, 2]],\n",
        "              [[-4, 4], [-5, 5]],\n",
        "              [[-7, 7], [-9, 9]]])\n",
        "print(z[1,:,1]) # index 1 element in row of index 1\n",
        "print(z[1:,1,:]) # From all outer rows except the first, select 1st index element (which itself is an array) completely.\n",
        "print(z[2]) # print 2nd index element"
      ],
      "metadata": {
        "colab": {
          "base_uri": "https://localhost:8080/"
        },
        "id": "14JLXmkGXpPs",
        "outputId": "4afcda8c-5929-43db-9893-e49198781f7c"
      },
      "execution_count": 49,
      "outputs": [
        {
          "output_type": "stream",
          "name": "stdout",
          "text": [
            "[4 5]\n",
            "[[-5  5]\n",
            " [-9  9]]\n",
            "[[-7  7]\n",
            " [-9  9]]\n"
          ]
        }
      ]
    },
    {
      "cell_type": "code",
      "source": [
        "# for loop can be used to iterate over every dimensional element.\n",
        "\n",
        "x = np.array([[-1, 1], [-2, 2]])\n",
        "for row in x:\n",
        "    print('Row :',row)"
      ],
      "metadata": {
        "colab": {
          "base_uri": "https://localhost:8080/"
        },
        "id": "nuxWufjzX0WE",
        "outputId": "622da3b4-5f0e-4798-e479-d5360415bfe9"
      },
      "execution_count": 50,
      "outputs": [
        {
          "output_type": "stream",
          "name": "stdout",
          "text": [
            "Row : [-1  1]\n",
            "Row : [-2  2]\n"
          ]
        }
      ]
    },
    {
      "cell_type": "code",
      "source": [
        "# nditer method of numpy creates an iterator, which enable accessing each element one after the other.\n",
        "\n",
        "x = np.array([[0,1], [2, 3]])\n",
        "for a in np.nditer(x):\n",
        "    print(a)"
      ],
      "metadata": {
        "colab": {
          "base_uri": "https://localhost:8080/"
        },
        "id": "B6mXcY7nX7b1",
        "outputId": "12b64776-f52e-4bb8-943c-3509c10ff394"
      },
      "execution_count": 51,
      "outputs": [
        {
          "output_type": "stream",
          "name": "stdout",
          "text": [
            "0\n",
            "1\n",
            "2\n",
            "3\n"
          ]
        }
      ]
    },
    {
      "cell_type": "code",
      "source": [
        "# Boolean Indexing\n",
        "# Checking if every element of an array satisfies a condition, results in a Boolean array.\n",
        "# This Boolean array can be used as index to filter elements that satisfy the condition.\n",
        "\n",
        "x = np.arange(10).reshape(2,5)\n",
        "condition = x % 2 == 0\n",
        "print(condition)\n",
        "print(x[condition])"
      ],
      "metadata": {
        "colab": {
          "base_uri": "https://localhost:8080/"
        },
        "id": "NEIOmqHFYAQ1",
        "outputId": "a1d92927-3065-4b7c-f525-cbf0f289ca40"
      },
      "execution_count": 52,
      "outputs": [
        {
          "output_type": "stream",
          "name": "stdout",
          "text": [
            "[[ True False  True False  True]\n",
            " [False  True False  True False]]\n",
            "[0 2 4 6 8]\n"
          ]
        }
      ]
    },
    {
      "cell_type": "code",
      "source": [],
      "metadata": {
        "id": "OwGlnpMZYFu0"
      },
      "execution_count": null,
      "outputs": []
    }
  ]
}