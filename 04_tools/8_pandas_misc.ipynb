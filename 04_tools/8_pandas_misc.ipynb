{
  "nbformat": 4,
  "nbformat_minor": 0,
  "metadata": {
    "colab": {
      "provenance": [],
      "collapsed_sections": [],
      "authorship_tag": "ABX9TyNkPwzi1pR04DGgM8ROohlm"
    },
    "kernelspec": {
      "name": "python3",
      "display_name": "Python 3"
    },
    "language_info": {
      "name": "python"
    }
  },
  "cells": [
    {
      "cell_type": "code",
      "execution_count": 2,
      "metadata": {
        "colab": {
          "base_uri": "https://localhost:8080/"
        },
        "id": "FuByJcY1gwVX",
        "outputId": "76de0247-377c-4cf1-b989-671bcfdf3307"
      },
      "outputs": [
        {
          "output_type": "stream",
          "name": "stdout",
          "text": [
            "12\n",
            "13\n"
          ]
        }
      ],
      "source": [
        "import pandas as pd\n",
        "import numpy as np\n",
        "z = np.arange(10, 16)\n",
        "s = pd.Series(z, index=list('abcdef'))\n",
        "print(s[2]) \n",
        "print(s['d'])"
      ]
    },
    {
      "cell_type": "code",
      "source": [
        "# A Series can be sliced in a way, very similar to slicing a python list.\n",
        "print(s[1:4])\n",
        "print(s['b':'e'])"
      ],
      "metadata": {
        "colab": {
          "base_uri": "https://localhost:8080/"
        },
        "id": "6r9W1fHEx7p-",
        "outputId": "ca462b4a-077d-4297-94cb-d224dacd4920"
      },
      "execution_count": 3,
      "outputs": [
        {
          "output_type": "stream",
          "name": "stdout",
          "text": [
            "b    11\n",
            "c    12\n",
            "d    13\n",
            "dtype: int64\n",
            "b    11\n",
            "c    12\n",
            "d    13\n",
            "e    14\n",
            "dtype: int64\n"
          ]
        }
      ]
    },
    {
      "cell_type": "code",
      "source": [
        "# Pandas allows .loc, .iloc methods for selecting rows.\n",
        "# Using square brackets ([]) is also allowed, especially for selecting columns.\n",
        "\n",
        "# It is possible to understand a Series better by using describe method.\n",
        "# The method provides details like mean, std, etc. about a series.\n",
        "\n",
        "temp = pd.Series(28 + 10*np.random.randn(10))\n",
        "print(temp.describe())"
      ],
      "metadata": {
        "colab": {
          "base_uri": "https://localhost:8080/"
        },
        "id": "FaW7XhVoyRc7",
        "outputId": "cf5bd4f1-0090-4021-d8f3-830c9c0af42c"
      },
      "execution_count": 4,
      "outputs": [
        {
          "output_type": "stream",
          "name": "stdout",
          "text": [
            "count    10.000000\n",
            "mean     27.606039\n",
            "std       7.303815\n",
            "min      15.603680\n",
            "25%      24.018772\n",
            "50%      27.258706\n",
            "75%      30.083322\n",
            "max      43.279691\n",
            "dtype: float64\n"
          ]
        }
      ]
    },
    {
      "cell_type": "code",
      "source": [
        "# Two methods majorly info and describe can be used to know about the data, present in a data frame.\n",
        "\n",
        "df = pd.DataFrame({'temp':pd.Series(28 + 10*np.random.randn(10)), \n",
        "                'rain':pd.Series(100 + 50*np.random.randn(10)),\n",
        "             'location':list('AAAAABBBBB')})\n",
        "print(df.info())"
      ],
      "metadata": {
        "colab": {
          "base_uri": "https://localhost:8080/"
        },
        "id": "Jbm1HV1ZyfFj",
        "outputId": "d81deb3f-a002-4652-9133-9648c2bc6475"
      },
      "execution_count": 6,
      "outputs": [
        {
          "output_type": "stream",
          "name": "stdout",
          "text": [
            "<class 'pandas.core.frame.DataFrame'>\n",
            "RangeIndex: 10 entries, 0 to 9\n",
            "Data columns (total 3 columns):\n",
            " #   Column    Non-Null Count  Dtype  \n",
            "---  ------    --------------  -----  \n",
            " 0   temp      10 non-null     float64\n",
            " 1   rain      10 non-null     float64\n",
            " 2   location  10 non-null     object \n",
            "dtypes: float64(2), object(1)\n",
            "memory usage: 368.0+ bytes\n",
            "None\n"
          ]
        }
      ]
    },
    {
      "cell_type": "code",
      "source": [
        "#  You can use include argument to white list data types that has to be included in the result.\n",
        "\n",
        "print(df.describe(include=['object']))"
      ],
      "metadata": {
        "colab": {
          "base_uri": "https://localhost:8080/"
        },
        "id": "9xd_eG9qylWc",
        "outputId": "64185130-de8d-43e4-bf20-d89d9418b90e"
      },
      "execution_count": 7,
      "outputs": [
        {
          "output_type": "stream",
          "name": "stdout",
          "text": [
            "       location\n",
            "count        10\n",
            "unique        2\n",
            "top           A\n",
            "freq          5\n"
          ]
        }
      ]
    },
    {
      "cell_type": "code",
      "source": [
        "# Reading Data from JSON\n",
        "\n",
        "import json\n",
        "\n",
        "EmployeeRecords = [{'EmployeeID':451621, 'EmployeeName':'Preeti Jain', 'DOJ':'30-Aug-2008'},\n",
        "{'EmployeeID':123621, 'EmployeeName':'Ashok Kumar', 'DOJ':'25-Sep-2016'},\n",
        "{'EmployeeID':451589, 'EmployeeName':'Johnty Rhodes', 'DOJ':'04-Nov-2016'}]\n",
        "\n",
        "emp_records_json_str = json.dumps(EmployeeRecords)\n",
        "df = pd.read_json(emp_records_json_str, orient='records', convert_dates=['DOJ'])\n",
        "print(df)"
      ],
      "metadata": {
        "colab": {
          "base_uri": "https://localhost:8080/"
        },
        "id": "epAMIPcryuUr",
        "outputId": "c6fcf793-27e8-4ead-b2ee-a91054f02b8e"
      },
      "execution_count": 9,
      "outputs": [
        {
          "output_type": "stream",
          "name": "stdout",
          "text": [
            "   EmployeeID   EmployeeName        DOJ\n",
            "0      451621    Preeti Jain 2008-08-30\n",
            "1      123621    Ashok Kumar 2016-09-25\n",
            "2      451589  Johnty Rhodes 2016-11-04\n"
          ]
        }
      ]
    },
    {
      "cell_type": "code",
      "source": [
        "# A single level index can be set to a data frame, by passing a list of values to either using index attribute or index argument of DataFrame function.\n",
        "\n",
        "df = pd.DataFrame(np.random.rand(5,2))\n",
        "df.index = [ 'row_' + str(i) for i in range(1, 6) ]\n",
        "df"
      ],
      "metadata": {
        "colab": {
          "base_uri": "https://localhost:8080/",
          "height": 206
        },
        "id": "cD_E3m9py6ux",
        "outputId": "8e4c4782-ee29-493c-eba8-6d34af3e2b0f"
      },
      "execution_count": 10,
      "outputs": [
        {
          "output_type": "execute_result",
          "data": {
            "text/plain": [
              "              0         1\n",
              "row_1  0.085019  0.097037\n",
              "row_2  0.030898  0.759178\n",
              "row_3  0.853104  0.863325\n",
              "row_4  0.038182  0.635454\n",
              "row_5  0.981913  0.728722"
            ],
            "text/html": [
              "\n",
              "  <div id=\"df-1bc81d25-1748-4c72-9a75-19c7beff4d54\">\n",
              "    <div class=\"colab-df-container\">\n",
              "      <div>\n",
              "<style scoped>\n",
              "    .dataframe tbody tr th:only-of-type {\n",
              "        vertical-align: middle;\n",
              "    }\n",
              "\n",
              "    .dataframe tbody tr th {\n",
              "        vertical-align: top;\n",
              "    }\n",
              "\n",
              "    .dataframe thead th {\n",
              "        text-align: right;\n",
              "    }\n",
              "</style>\n",
              "<table border=\"1\" class=\"dataframe\">\n",
              "  <thead>\n",
              "    <tr style=\"text-align: right;\">\n",
              "      <th></th>\n",
              "      <th>0</th>\n",
              "      <th>1</th>\n",
              "    </tr>\n",
              "  </thead>\n",
              "  <tbody>\n",
              "    <tr>\n",
              "      <th>row_1</th>\n",
              "      <td>0.085019</td>\n",
              "      <td>0.097037</td>\n",
              "    </tr>\n",
              "    <tr>\n",
              "      <th>row_2</th>\n",
              "      <td>0.030898</td>\n",
              "      <td>0.759178</td>\n",
              "    </tr>\n",
              "    <tr>\n",
              "      <th>row_3</th>\n",
              "      <td>0.853104</td>\n",
              "      <td>0.863325</td>\n",
              "    </tr>\n",
              "    <tr>\n",
              "      <th>row_4</th>\n",
              "      <td>0.038182</td>\n",
              "      <td>0.635454</td>\n",
              "    </tr>\n",
              "    <tr>\n",
              "      <th>row_5</th>\n",
              "      <td>0.981913</td>\n",
              "      <td>0.728722</td>\n",
              "    </tr>\n",
              "  </tbody>\n",
              "</table>\n",
              "</div>\n",
              "      <button class=\"colab-df-convert\" onclick=\"convertToInteractive('df-1bc81d25-1748-4c72-9a75-19c7beff4d54')\"\n",
              "              title=\"Convert this dataframe to an interactive table.\"\n",
              "              style=\"display:none;\">\n",
              "        \n",
              "  <svg xmlns=\"http://www.w3.org/2000/svg\" height=\"24px\"viewBox=\"0 0 24 24\"\n",
              "       width=\"24px\">\n",
              "    <path d=\"M0 0h24v24H0V0z\" fill=\"none\"/>\n",
              "    <path d=\"M18.56 5.44l.94 2.06.94-2.06 2.06-.94-2.06-.94-.94-2.06-.94 2.06-2.06.94zm-11 1L8.5 8.5l.94-2.06 2.06-.94-2.06-.94L8.5 2.5l-.94 2.06-2.06.94zm10 10l.94 2.06.94-2.06 2.06-.94-2.06-.94-.94-2.06-.94 2.06-2.06.94z\"/><path d=\"M17.41 7.96l-1.37-1.37c-.4-.4-.92-.59-1.43-.59-.52 0-1.04.2-1.43.59L10.3 9.45l-7.72 7.72c-.78.78-.78 2.05 0 2.83L4 21.41c.39.39.9.59 1.41.59.51 0 1.02-.2 1.41-.59l7.78-7.78 2.81-2.81c.8-.78.8-2.07 0-2.86zM5.41 20L4 18.59l7.72-7.72 1.47 1.35L5.41 20z\"/>\n",
              "  </svg>\n",
              "      </button>\n",
              "      \n",
              "  <style>\n",
              "    .colab-df-container {\n",
              "      display:flex;\n",
              "      flex-wrap:wrap;\n",
              "      gap: 12px;\n",
              "    }\n",
              "\n",
              "    .colab-df-convert {\n",
              "      background-color: #E8F0FE;\n",
              "      border: none;\n",
              "      border-radius: 50%;\n",
              "      cursor: pointer;\n",
              "      display: none;\n",
              "      fill: #1967D2;\n",
              "      height: 32px;\n",
              "      padding: 0 0 0 0;\n",
              "      width: 32px;\n",
              "    }\n",
              "\n",
              "    .colab-df-convert:hover {\n",
              "      background-color: #E2EBFA;\n",
              "      box-shadow: 0px 1px 2px rgba(60, 64, 67, 0.3), 0px 1px 3px 1px rgba(60, 64, 67, 0.15);\n",
              "      fill: #174EA6;\n",
              "    }\n",
              "\n",
              "    [theme=dark] .colab-df-convert {\n",
              "      background-color: #3B4455;\n",
              "      fill: #D2E3FC;\n",
              "    }\n",
              "\n",
              "    [theme=dark] .colab-df-convert:hover {\n",
              "      background-color: #434B5C;\n",
              "      box-shadow: 0px 1px 3px 1px rgba(0, 0, 0, 0.15);\n",
              "      filter: drop-shadow(0px 1px 2px rgba(0, 0, 0, 0.3));\n",
              "      fill: #FFFFFF;\n",
              "    }\n",
              "  </style>\n",
              "\n",
              "      <script>\n",
              "        const buttonEl =\n",
              "          document.querySelector('#df-1bc81d25-1748-4c72-9a75-19c7beff4d54 button.colab-df-convert');\n",
              "        buttonEl.style.display =\n",
              "          google.colab.kernel.accessAllowed ? 'block' : 'none';\n",
              "\n",
              "        async function convertToInteractive(key) {\n",
              "          const element = document.querySelector('#df-1bc81d25-1748-4c72-9a75-19c7beff4d54');\n",
              "          const dataTable =\n",
              "            await google.colab.kernel.invokeFunction('convertToInteractive',\n",
              "                                                     [key], {});\n",
              "          if (!dataTable) return;\n",
              "\n",
              "          const docLinkHtml = 'Like what you see? Visit the ' +\n",
              "            '<a target=\"_blank\" href=https://colab.research.google.com/notebooks/data_table.ipynb>data table notebook</a>'\n",
              "            + ' to learn more about interactive tables.';\n",
              "          element.innerHTML = '';\n",
              "          dataTable['output_type'] = 'display_data';\n",
              "          await google.colab.output.renderOutput(dataTable, element);\n",
              "          const docLink = document.createElement('div');\n",
              "          docLink.innerHTML = docLinkHtml;\n",
              "          element.appendChild(docLink);\n",
              "        }\n",
              "      </script>\n",
              "    </div>\n",
              "  </div>\n",
              "  "
            ]
          },
          "metadata": {},
          "execution_count": 10
        }
      ]
    },
    {
      "cell_type": "code",
      "source": [
        "# Consider the below defined data frame df, for understanding Data transformation.\n",
        "\n",
        "df = pd.DataFrame({'temp':pd.Series(28 + 10*np.random.randn(10)),\n",
        "                   'rain':pd.Series(100 + 50*np.random.randn(10)),\n",
        "                   'location':list('AAAAABBBBB')\n",
        "})\n",
        "print(df.head(2))\n",
        "\n",
        "# The below code replaces location names 'A' with 'Hyderabad' and 'B' with 'Mumbai'.\n",
        "\n",
        "replacements = {\n",
        "'location': {'A':'Hyderabad', 'B':'Mumbai'}\n",
        "}\n",
        "df = df.replace(replacements, regex=True)\n",
        "print(df.head(2))\n",
        "\n",
        "# It is also possible to filter rows, based on a column strings with a specific pattern and modify them.\n",
        "\n",
        "mumbai_data = df.loc[df.location.str.contains('umb'),:]\n",
        "print(mumbai_data.head(2))"
      ],
      "metadata": {
        "colab": {
          "base_uri": "https://localhost:8080/"
        },
        "id": "bxIreoczzIm5",
        "outputId": "33de5286-103f-4c9a-dc7d-15b4886d9578"
      },
      "execution_count": 12,
      "outputs": [
        {
          "output_type": "stream",
          "name": "stdout",
          "text": [
            "        temp        rain location\n",
            "0  18.489678  120.262364        A\n",
            "1  33.921486  100.575743        A\n",
            "        temp        rain   location\n",
            "0  18.489678  120.262364  Hyderabad\n",
            "1  33.921486  100.575743  Hyderabad\n",
            "        temp        rain location\n",
            "5  18.238409  161.043310   Mumbai\n",
            "6  17.010997   40.842217   Mumbai\n"
          ]
        }
      ]
    },
    {
      "cell_type": "code",
      "source": [
        "# groupby method can be used to group data and perform various function on each group\n",
        "\n",
        "regions = df.groupby('location')\n",
        "print(regions.mean())"
      ],
      "metadata": {
        "colab": {
          "base_uri": "https://localhost:8080/"
        },
        "id": "sLr6Mv75zcw0",
        "outputId": "5ea0fda5-2bec-44e8-8ce4-7b4e81adb4d2"
      },
      "execution_count": 13,
      "outputs": [
        {
          "output_type": "stream",
          "name": "stdout",
          "text": [
            "                temp       rain\n",
            "location                       \n",
            "Hyderabad  31.414220  89.604635\n",
            "Mumbai     25.730698  94.650765\n"
          ]
        }
      ]
    },
    {
      "cell_type": "code",
      "source": [],
      "metadata": {
        "id": "INuWiuzpzog8"
      },
      "execution_count": null,
      "outputs": []
    }
  ]
}