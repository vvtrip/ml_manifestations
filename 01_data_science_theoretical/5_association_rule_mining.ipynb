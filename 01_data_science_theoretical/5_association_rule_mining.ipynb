{
  "nbformat": 4,
  "nbformat_minor": 0,
  "metadata": {
    "colab": {
      "provenance": [],
      "collapsed_sections": [
        "_-k2fIu2pLD9"
      ],
      "authorship_tag": "ABX9TyOtdaMvDY3QKtEmLRZHp7E1",
      "include_colab_link": true
    },
    "kernelspec": {
      "name": "python3",
      "display_name": "Python 3"
    },
    "language_info": {
      "name": "python"
    }
  },
  "cells": [
    {
      "cell_type": "markdown",
      "metadata": {
        "id": "view-in-github",
        "colab_type": "text"
      },
      "source": [
        "<a href=\"https://colab.research.google.com/github/vvtrip/ml_manifestations/blob/master/1-data_science_theoretical/5_association_rule_mining.ipynb\" target=\"_parent\"><img src=\"https://colab.research.google.com/assets/colab-badge.svg\" alt=\"Open In Colab\"/></a>"
      ]
    },
    {
      "cell_type": "markdown",
      "source": [
        "# Introduction\n"
      ],
      "metadata": {
        "id": "_-k2fIu2pLD9"
      }
    },
    {
      "cell_type": "markdown",
      "source": [
        "- Discover associations between variables\n",
        "- ex - mine association in which products are bought together\n",
        "- create if-then rules to capture frequently occurring associations\n",
        "- If X(Antecedent) then Y(Consequent): X-> Y\n",
        "- captures co-occurence and not causality\n",
        "- If a cusotmer buys bread, then he/she is likely to buy milk\n",
        "\n",
        "\n",
        "**Examples**\n",
        "- Market basket analysis\n",
        "   - understanding associations in purchase behavior helps to plan store layouts and store catalog\n",
        "\n",
        "\n",
        "- Medical diagnosis\n",
        "   - understanding associations of factors and symptoms to illness helps physicians in diagnosing patients\n",
        "\n",
        "\n",
        "- Analyzing exceptions\n",
        "  - Understanding associations of various factors that lead to exceptions or fraudulent transactions\n",
        "\n",
        "\n",
        "- Insurance\n",
        " - Associations can be used to identify unusual group of insurance claims as potential frauds\n",
        "\n",
        "\n",
        "- Potential sequence analysis\n",
        " -  Understanding of associations of amino acids will be useful in synthesis of new proteins\n",
        "\n",
        "- Analyzing compliance\n",
        " -  Understanding of associations in events and system properties to find patterns in non-compliance and patch failures\n",
        "\n",
        "**Support**\n",
        " \n",
        " - measures how often the rule appears in the data!\n",
        " - Support(X->Y) = (Records containing both X and Y) / (Total number of records)\n",
        "\n",
        " ranges between 0 and 1\n",
        "\n",
        "\n",
        "\n",
        "**Confidence**\n",
        " \n",
        " - measures how reliable the rule is\n",
        " - Confidence(X->Y) = (Records containing both X and Y) / (Records containing X)\n",
        "\n",
        " ranges between 0 and 1 \n",
        "\n",
        "\n",
        "\n",
        " **Lift**\n",
        " \n",
        " - measures how important/interesting the rule is\n",
        " - Rise in \n",
        "    - the probability of Y with the knowledge f X being present \n",
        "       **over**\n",
        "    - the probability of Y without any knowledge of X being present\n",
        "\n",
        "    - Lift(X->Y) = ((records containing both X and Y)/ (Records containing X))/(records containing Y)/(total number of records)\n",
        "OR\n",
        "    - Lift(X->Y) =  = Confidence(X->Y)/(records containing Y)/(total number of records)\n",
        "\n",
        "    - Consider it as 'lift' that X provides to our confidence in Y\n",
        "\n",
        "    - Lift > 1: indicate positive correlation\n",
        "\n",
        "\n",
        "How are these metrics used?\n",
        "- Used to prune rules and look at the most interesting ones\n",
        "   - Suport = as high as possible (depends on number of items)\n",
        "   - confidence = close to 1\n",
        "   - Lift higher than 1(positive correlation)    \n",
        "  "
      ],
      "metadata": {
        "id": "-KdufyqEpOKC"
      }
    },
    {
      "cell_type": "markdown",
      "source": [
        "# How does it work?"
      ],
      "metadata": {
        "id": "_5SHHmZSBewA"
      }
    },
    {
      "cell_type": "markdown",
      "source": [
        "**How to deal with combinatorial explosion of itemsets**\n",
        "\n",
        "**APRIORI PRINCIPLE**\n",
        "\n",
        "if an itemset A is infrequent, then all other itemsets contain A must also be infrequent\n",
        "\n",
        "ex- If {Milk} is found to be infrequent then we can expect {Milk, cheese} to be infrequent as well\n",
        "\n",
        "- Step 1: Find frequent item sets\n",
        "  - compute item sets of size 1\n",
        "  - Retain only the item sets with support> min_support\n",
        "  - Using the remaining itemsets create item sets of size 2\n",
        "  - Retain only the item sets with support> min_support \n",
        "  - continue above 2 steps until no more sets are left\n",
        "\n",
        "- Step 2:Identify rules from frequent item sets\n",
        "  - partition the itemsets to create candidate rules\n",
        "  - retain only the rule with confidence> min_confidence\n",
        "  - continue above two steps to create rules with more consequences\n",
        "\n",
        "Confidence (A,B,C ->D) >= Confidence (B,C ->D) >= Confidence (C ->A,B,D)\n",
        "\n",
        "As numerator will be same in all but denominators increases from left to right as there will be less recrods with all A,B and C than with only C.\n",
        "\n",
        "\n",
        "\n",
        "**Limitations and workarounds**\n",
        "- Computationally Expensive\n",
        "  - The combinations can be huge when items are too many or support is set to low values\n",
        "  - Computations can be reduced by developing heuristic based approaches to rpune the search space\n",
        "\n",
        "\n",
        "- Spurious Assocaitions\n",
        "  - Mining certain rules might require setting lower support threshold, esp. in case of large numbers of item-sets; This can cause mining of spurious associations\n",
        "  - Different  forms of training and test data set validations can minimize spurious associations\n",
        "\n",
        "\n",
        "**Association rule mining and frequent itemset mining**\n",
        "- Association rule mining\n",
        "   - Looks for patterns of the form A,B -> C\n",
        "   - C tends to occur when A and B occur\n",
        "   - Considers both support and conifdence\n",
        "\n",
        "- Frequent itemset mining\n",
        "   - Looks for collections of co-occuring events(A,B,C)\n",
        "   - A,B,C co-occur\n",
        "   - Considers only support\n",
        "\n",
        "\n",
        "\n",
        "\n",
        "**Association rule mining and Classification**\n",
        "- Association rule mining\n",
        "   - Find associations between items with no particular focus on a target one\n",
        "\n",
        "- Classification\n",
        "   - Focuses on a target variables and find patterns in attributes to best classify the target variables"
      ],
      "metadata": {
        "id": "OoPlvk9aBhyw"
      }
    },
    {
      "cell_type": "code",
      "source": [],
      "metadata": {
        "id": "ebIoDU8ABghx"
      },
      "execution_count": null,
      "outputs": []
    }
  ]
}