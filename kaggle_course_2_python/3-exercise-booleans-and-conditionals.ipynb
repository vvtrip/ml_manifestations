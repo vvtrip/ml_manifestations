{
 "cells": [
  {
   "cell_type": "markdown",
   "id": "5482e4ef",
   "metadata": {
    "papermill": {
     "duration": 0.010937,
     "end_time": "2022-09-25T13:56:14.703453",
     "exception": false,
     "start_time": "2022-09-25T13:56:14.692516",
     "status": "completed"
    },
    "tags": []
   },
   "source": [
    "**This notebook is an exercise in the [Python](https://www.kaggle.com/learn/python) course.  You can reference the tutorial at [this link](https://www.kaggle.com/colinmorris/booleans-and-conditionals).**\n",
    "\n",
    "---\n"
   ]
  },
  {
   "cell_type": "markdown",
   "id": "93b4b2c4",
   "metadata": {
    "papermill": {
     "duration": 0.00938,
     "end_time": "2022-09-25T13:56:14.723028",
     "exception": false,
     "start_time": "2022-09-25T13:56:14.713648",
     "status": "completed"
    },
    "tags": []
   },
   "source": [
    "In this exercise, you'll put to work what you have learned about booleans and conditionals.\n",
    "\n",
    "To get started, **run the setup code below** before writing your own code (and if you leave this notebook and come back later, don't forget to run the setup code again)."
   ]
  },
  {
   "cell_type": "code",
   "execution_count": 1,
   "id": "4797a4e0",
   "metadata": {
    "execution": {
     "iopub.execute_input": "2022-09-25T13:56:14.744068Z",
     "iopub.status.busy": "2022-09-25T13:56:14.743497Z",
     "iopub.status.idle": "2022-09-25T13:56:14.802042Z",
     "shell.execute_reply": "2022-09-25T13:56:14.800456Z"
    },
    "papermill": {
     "duration": 0.073401,
     "end_time": "2022-09-25T13:56:14.805712",
     "exception": false,
     "start_time": "2022-09-25T13:56:14.732311",
     "status": "completed"
    },
    "tags": []
   },
   "outputs": [
    {
     "name": "stdout",
     "output_type": "stream",
     "text": [
      "Setup complete.\n"
     ]
    }
   ],
   "source": [
    "from learntools.core import binder; binder.bind(globals())\n",
    "from learntools.python.ex3 import *\n",
    "print('Setup complete.')"
   ]
  },
  {
   "cell_type": "markdown",
   "id": "33d776a1",
   "metadata": {
    "papermill": {
     "duration": 0.008954,
     "end_time": "2022-09-25T13:56:14.824205",
     "exception": false,
     "start_time": "2022-09-25T13:56:14.815251",
     "status": "completed"
    },
    "tags": []
   },
   "source": [
    "# 1.\n",
    "\n",
    "Many programming languages have [`sign`](https://en.wikipedia.org/wiki/Sign_function) available as a built-in function. Python doesn't, but we can define our own!\n",
    "\n",
    "In the cell below, define a function called `sign` which takes a numerical argument and returns -1 if it's negative, 1 if it's positive, and 0 if it's 0."
   ]
  },
  {
   "cell_type": "code",
   "execution_count": 2,
   "id": "dc421a4a",
   "metadata": {
    "execution": {
     "iopub.execute_input": "2022-09-25T13:56:14.844949Z",
     "iopub.status.busy": "2022-09-25T13:56:14.844535Z",
     "iopub.status.idle": "2022-09-25T13:56:14.857149Z",
     "shell.execute_reply": "2022-09-25T13:56:14.855747Z"
    },
    "papermill": {
     "duration": 0.02581,
     "end_time": "2022-09-25T13:56:14.859416",
     "exception": false,
     "start_time": "2022-09-25T13:56:14.833606",
     "status": "completed"
    },
    "tags": []
   },
   "outputs": [
    {
     "data": {
      "application/javascript": [
       "parent.postMessage({\"jupyterEvent\": \"custom.exercise_interaction\", \"data\": {\"outcomeType\": 1, \"valueTowardsCompletion\": 0.2, \"interactionType\": 1, \"questionType\": 2, \"questionId\": \"1_SignFunctionProblem\", \"learnToolsVersion\": \"0.3.4\", \"failureMessage\": \"\", \"exceptionClass\": \"\", \"trace\": \"\"}}, \"*\")"
      ],
      "text/plain": [
       "<IPython.core.display.Javascript object>"
      ]
     },
     "metadata": {},
     "output_type": "display_data"
    },
    {
     "data": {
      "text/markdown": [
       "<span style=\"color:#33cc33\">Correct</span>"
      ],
      "text/plain": [
       "Correct"
      ]
     },
     "metadata": {},
     "output_type": "display_data"
    }
   ],
   "source": [
    "# Your code goes here. Define a function called 'sign'\n",
    "def sign(num):\n",
    "    if num<0:\n",
    "        return -1\n",
    "    elif num>0:\n",
    "        return 1\n",
    "    else:\n",
    "        return 0\n",
    "    \n",
    "# Check your answer\n",
    "q1.check()"
   ]
  },
  {
   "cell_type": "code",
   "execution_count": 3,
   "id": "4a041b70",
   "metadata": {
    "execution": {
     "iopub.execute_input": "2022-09-25T13:56:14.882685Z",
     "iopub.status.busy": "2022-09-25T13:56:14.882252Z",
     "iopub.status.idle": "2022-09-25T13:56:14.887725Z",
     "shell.execute_reply": "2022-09-25T13:56:14.886806Z"
    },
    "papermill": {
     "duration": 0.019053,
     "end_time": "2022-09-25T13:56:14.889869",
     "exception": false,
     "start_time": "2022-09-25T13:56:14.870816",
     "status": "completed"
    },
    "tags": []
   },
   "outputs": [],
   "source": [
    "#q1.solution()"
   ]
  },
  {
   "cell_type": "markdown",
   "id": "cffc34c9",
   "metadata": {
    "papermill": {
     "duration": 0.009483,
     "end_time": "2022-09-25T13:56:14.909253",
     "exception": false,
     "start_time": "2022-09-25T13:56:14.899770",
     "status": "completed"
    },
    "tags": []
   },
   "source": [
    "# 2.\n",
    "\n",
    "We've decided to add \"logging\" to our `to_smash` function from the previous exercise."
   ]
  },
  {
   "cell_type": "code",
   "execution_count": 4,
   "id": "014a269f",
   "metadata": {
    "execution": {
     "iopub.execute_input": "2022-09-25T13:56:14.931120Z",
     "iopub.status.busy": "2022-09-25T13:56:14.930588Z",
     "iopub.status.idle": "2022-09-25T13:56:14.939882Z",
     "shell.execute_reply": "2022-09-25T13:56:14.938445Z"
    },
    "papermill": {
     "duration": 0.023228,
     "end_time": "2022-09-25T13:56:14.942656",
     "exception": false,
     "start_time": "2022-09-25T13:56:14.919428",
     "status": "completed"
    },
    "tags": []
   },
   "outputs": [
    {
     "name": "stdout",
     "output_type": "stream",
     "text": [
      "Splitting 91 candies\n"
     ]
    },
    {
     "data": {
      "text/plain": [
       "1"
      ]
     },
     "execution_count": 4,
     "metadata": {},
     "output_type": "execute_result"
    }
   ],
   "source": [
    "def to_smash(total_candies):\n",
    "    \"\"\"Return the number of leftover candies that must be smashed after distributing\n",
    "    the given number of candies evenly between 3 friends.\n",
    "    \n",
    "    >>> to_smash(91)\n",
    "    1\n",
    "    \"\"\"\n",
    "    print(\"Splitting\", total_candies, \"candies\")\n",
    "    return total_candies % 3\n",
    "\n",
    "to_smash(91)"
   ]
  },
  {
   "cell_type": "markdown",
   "id": "4e2c456d",
   "metadata": {
    "papermill": {
     "duration": 0.010352,
     "end_time": "2022-09-25T13:56:14.962880",
     "exception": false,
     "start_time": "2022-09-25T13:56:14.952528",
     "status": "completed"
    },
    "tags": []
   },
   "source": [
    "What happens if we call it with `total_candies = 1`?"
   ]
  },
  {
   "cell_type": "code",
   "execution_count": 5,
   "id": "dc2b101d",
   "metadata": {
    "execution": {
     "iopub.execute_input": "2022-09-25T13:56:14.987717Z",
     "iopub.status.busy": "2022-09-25T13:56:14.987244Z",
     "iopub.status.idle": "2022-09-25T13:56:14.994825Z",
     "shell.execute_reply": "2022-09-25T13:56:14.993751Z"
    },
    "papermill": {
     "duration": 0.021857,
     "end_time": "2022-09-25T13:56:14.997513",
     "exception": false,
     "start_time": "2022-09-25T13:56:14.975656",
     "status": "completed"
    },
    "tags": []
   },
   "outputs": [
    {
     "name": "stdout",
     "output_type": "stream",
     "text": [
      "Splitting 1 candies\n"
     ]
    },
    {
     "data": {
      "text/plain": [
       "1"
      ]
     },
     "execution_count": 5,
     "metadata": {},
     "output_type": "execute_result"
    }
   ],
   "source": [
    "to_smash(1)"
   ]
  },
  {
   "cell_type": "markdown",
   "id": "6a443a46",
   "metadata": {
    "papermill": {
     "duration": 0.010643,
     "end_time": "2022-09-25T13:56:15.022888",
     "exception": false,
     "start_time": "2022-09-25T13:56:15.012245",
     "status": "completed"
    },
    "tags": []
   },
   "source": [
    "That isn't great grammar!\n",
    "\n",
    "Modify the definition in the cell below to correct the grammar of our print statement. (If there's only one candy, we should use the singular \"candy\" instead of the plural \"candies\")"
   ]
  },
  {
   "cell_type": "code",
   "execution_count": 6,
   "id": "5ebd260c",
   "metadata": {
    "execution": {
     "iopub.execute_input": "2022-09-25T13:56:15.047297Z",
     "iopub.status.busy": "2022-09-25T13:56:15.046816Z",
     "iopub.status.idle": "2022-09-25T13:56:15.057815Z",
     "shell.execute_reply": "2022-09-25T13:56:15.055987Z"
    },
    "papermill": {
     "duration": 0.027205,
     "end_time": "2022-09-25T13:56:15.060612",
     "exception": false,
     "start_time": "2022-09-25T13:56:15.033407",
     "status": "completed"
    },
    "tags": []
   },
   "outputs": [
    {
     "name": "stdout",
     "output_type": "stream",
     "text": [
      "Splitting 91 candies\n",
      "Splitting 1 candy\n"
     ]
    },
    {
     "data": {
      "text/plain": [
       "1"
      ]
     },
     "execution_count": 6,
     "metadata": {},
     "output_type": "execute_result"
    }
   ],
   "source": [
    "def to_smash(total_candies):\n",
    "    \"\"\"Return the number of leftover candies that must be smashed after distributing\n",
    "    the given number of candies evenly between 3 friends.\n",
    "    \n",
    "    >>> to_smash(91)\n",
    "    1\n",
    "    \"\"\"\n",
    "    if total_candies ==1:\n",
    "        print(\"Splitting\", total_candies, \"candy\")\n",
    "    else:\n",
    "        print(\"Splitting\", total_candies, \"candies\")\n",
    "    return total_candies % 3\n",
    "\n",
    "to_smash(91)\n",
    "to_smash(1)"
   ]
  },
  {
   "cell_type": "markdown",
   "id": "f18e9c1c",
   "metadata": {
    "papermill": {
     "duration": 0.009471,
     "end_time": "2022-09-25T13:56:15.080451",
     "exception": false,
     "start_time": "2022-09-25T13:56:15.070980",
     "status": "completed"
    },
    "tags": []
   },
   "source": [
    "To get credit for completing this problem, and to see the official answer, run the code cell below."
   ]
  },
  {
   "cell_type": "code",
   "execution_count": 7,
   "id": "a9a846e1",
   "metadata": {
    "execution": {
     "iopub.execute_input": "2022-09-25T13:56:15.102881Z",
     "iopub.status.busy": "2022-09-25T13:56:15.101696Z",
     "iopub.status.idle": "2022-09-25T13:56:15.111835Z",
     "shell.execute_reply": "2022-09-25T13:56:15.110790Z"
    },
    "papermill": {
     "duration": 0.024252,
     "end_time": "2022-09-25T13:56:15.114506",
     "exception": false,
     "start_time": "2022-09-25T13:56:15.090254",
     "status": "completed"
    },
    "tags": []
   },
   "outputs": [
    {
     "data": {
      "application/javascript": [
       "parent.postMessage({\"jupyterEvent\": \"custom.exercise_interaction\", \"data\": {\"interactionType\": 3, \"questionType\": 4, \"questionId\": \"2_PluralizationProblem\", \"learnToolsVersion\": \"0.3.4\", \"valueTowardsCompletion\": 0.0, \"failureMessage\": \"\", \"exceptionClass\": \"\", \"trace\": \"\", \"outcomeType\": 4}}, \"*\")"
      ],
      "text/plain": [
       "<IPython.core.display.Javascript object>"
      ]
     },
     "metadata": {},
     "output_type": "display_data"
    },
    {
     "data": {
      "text/markdown": [
       "<span style=\"color:#33cc99\">Solution:</span> A straightforward (and totally fine) solution is to replace the original `print` call with:\n",
       "\n",
       "```python\n",
       "if total_candies == 1:\n",
       "    print(\"Splitting 1 candy\")\n",
       "else:\n",
       "    print(\"Splitting\", total_candies, \"candies\")\n",
       "```\n",
       "\n",
       "Here's a slightly more succinct solution using a conditional expression:\n",
       "\n",
       "```python\n",
       "print(\"Splitting\", total_candies, \"candy\" if total_candies == 1 else \"candies\")\n",
       "```"
      ],
      "text/plain": [
       "Solution: A straightforward (and totally fine) solution is to replace the original `print` call with:\n",
       "\n",
       "```python\n",
       "if total_candies == 1:\n",
       "    print(\"Splitting 1 candy\")\n",
       "else:\n",
       "    print(\"Splitting\", total_candies, \"candies\")\n",
       "```\n",
       "\n",
       "Here's a slightly more succinct solution using a conditional expression:\n",
       "\n",
       "```python\n",
       "print(\"Splitting\", total_candies, \"candy\" if total_candies == 1 else \"candies\")\n",
       "```"
      ]
     },
     "metadata": {},
     "output_type": "display_data"
    }
   ],
   "source": [
    "# Check your answer (Run this code cell to receive credit!)\n",
    "q2.solution()"
   ]
  },
  {
   "cell_type": "markdown",
   "id": "d8f362e9",
   "metadata": {
    "papermill": {
     "duration": 0.009842,
     "end_time": "2022-09-25T13:56:15.134870",
     "exception": false,
     "start_time": "2022-09-25T13:56:15.125028",
     "status": "completed"
    },
    "tags": []
   },
   "source": [
    "# 3. <span title=\"A bit spicy\" style=\"color: darkgreen \">🌶️</span>\n",
    "\n",
    "In the tutorial, we talked about deciding whether we're prepared for the weather. I said that I'm safe from today's weather if...\n",
    "- I have an umbrella...\n",
    "- or if the rain isn't too heavy and I have a hood...\n",
    "- otherwise, I'm still fine unless it's raining *and* it's a workday\n",
    "\n",
    "The function below uses our first attempt at turning this logic into a Python expression. I claimed that there was a bug in that code. Can you find it?\n",
    "\n",
    "To prove that `prepared_for_weather` is buggy, come up with a set of inputs where either:\n",
    "- the function returns `False` (but should have returned `True`), or\n",
    "- the function returned `True` (but should have returned `False`).\n",
    "\n",
    "To get credit for completing this question, your code should return a <font color='#33cc33'>Correct</font> result."
   ]
  },
  {
   "cell_type": "code",
   "execution_count": 8,
   "id": "4671b928",
   "metadata": {
    "execution": {
     "iopub.execute_input": "2022-09-25T13:56:15.157594Z",
     "iopub.status.busy": "2022-09-25T13:56:15.157116Z",
     "iopub.status.idle": "2022-09-25T13:56:15.171079Z",
     "shell.execute_reply": "2022-09-25T13:56:15.169867Z"
    },
    "papermill": {
     "duration": 0.028361,
     "end_time": "2022-09-25T13:56:15.173464",
     "exception": false,
     "start_time": "2022-09-25T13:56:15.145103",
     "status": "completed"
    },
    "tags": []
   },
   "outputs": [
    {
     "name": "stdout",
     "output_type": "stream",
     "text": [
      "False\n"
     ]
    },
    {
     "data": {
      "application/javascript": [
       "parent.postMessage({\"jupyterEvent\": \"custom.exercise_interaction\", \"data\": {\"outcomeType\": 1, \"valueTowardsCompletion\": 0.2, \"interactionType\": 1, \"questionType\": 1, \"questionId\": \"3_WeatherDebug\", \"learnToolsVersion\": \"0.3.4\", \"failureMessage\": \"\", \"exceptionClass\": \"\", \"trace\": \"\"}}, \"*\")"
      ],
      "text/plain": [
       "<IPython.core.display.Javascript object>"
      ]
     },
     "metadata": {},
     "output_type": "display_data"
    },
    {
     "data": {
      "text/markdown": [
       "<span style=\"color:#33cc33\">Correct:</span> \n",
       "\n",
       "One example of a failing test case is:\n",
       "\n",
       "```python\n",
       "have_umbrella = False\n",
       "rain_level = 0.0\n",
       "have_hood = False\n",
       "is_workday = False\n",
       "```\n",
       "\n",
       "Clearly we're prepared for the weather in this case. It's not raining. Not only that, it's not a workday, so we don't even need to leave the house! But our function will return False on these inputs.\n",
       "\n",
       "The key problem is that Python implictly parenthesizes the last part as:\n",
       "\n",
       "```python\n",
       "(not (rain_level > 0)) and is_workday\n",
       "```\n",
       "\n",
       "Whereas what we were trying to express would look more like:\n",
       "\n",
       "```python\n",
       "not (rain_level > 0 and is_workday)\n",
       "```\n"
      ],
      "text/plain": [
       "Correct: \n",
       "\n",
       "One example of a failing test case is:\n",
       "\n",
       "```python\n",
       "have_umbrella = False\n",
       "rain_level = 0.0\n",
       "have_hood = False\n",
       "is_workday = False\n",
       "```\n",
       "\n",
       "Clearly we're prepared for the weather in this case. It's not raining. Not only that, it's not a workday, so we don't even need to leave the house! But our function will return False on these inputs.\n",
       "\n",
       "The key problem is that Python implictly parenthesizes the last part as:\n",
       "\n",
       "```python\n",
       "(not (rain_level > 0)) and is_workday\n",
       "```\n",
       "\n",
       "Whereas what we were trying to express would look more like:\n",
       "\n",
       "```python\n",
       "not (rain_level > 0 and is_workday)\n",
       "```"
      ]
     },
     "metadata": {},
     "output_type": "display_data"
    }
   ],
   "source": [
    "def prepared_for_weather(have_umbrella, rain_level, have_hood, is_workday):\n",
    "    # Don't change this code. Our goal is just to find the bug, not fix it!\n",
    "    return have_umbrella or rain_level < 5 and have_hood or not rain_level > 0 and is_workday\n",
    "\n",
    "# Change the values of these inputs so they represent a case where prepared_for_weather\n",
    "# returns the wrong answer.\n",
    "have_umbrella = False\n",
    "rain_level = 6\n",
    "have_hood = True\n",
    "is_workday = False\n",
    "\n",
    "# Check what the function returns given the current values of the variables above\n",
    "actual = prepared_for_weather(have_umbrella, rain_level, have_hood, is_workday)\n",
    "print(actual)\n",
    "\n",
    "# Check your answer\n",
    "q3.check()"
   ]
  },
  {
   "cell_type": "code",
   "execution_count": 9,
   "id": "d19bc339",
   "metadata": {
    "execution": {
     "iopub.execute_input": "2022-09-25T13:56:15.196794Z",
     "iopub.status.busy": "2022-09-25T13:56:15.196331Z",
     "iopub.status.idle": "2022-09-25T13:56:15.211356Z",
     "shell.execute_reply": "2022-09-25T13:56:15.210087Z"
    },
    "papermill": {
     "duration": 0.029987,
     "end_time": "2022-09-25T13:56:15.213963",
     "exception": false,
     "start_time": "2022-09-25T13:56:15.183976",
     "status": "completed"
    },
    "tags": []
   },
   "outputs": [
    {
     "data": {
      "application/javascript": [
       "parent.postMessage({\"jupyterEvent\": \"custom.exercise_interaction\", \"data\": {\"interactionType\": 2, \"questionType\": 1, \"questionId\": \"3_WeatherDebug\", \"learnToolsVersion\": \"0.3.4\", \"valueTowardsCompletion\": 0.0, \"failureMessage\": \"\", \"exceptionClass\": \"\", \"trace\": \"\", \"outcomeType\": 4}}, \"*\")"
      ],
      "text/plain": [
       "<IPython.core.display.Javascript object>"
      ]
     },
     "metadata": {},
     "output_type": "display_data"
    },
    {
     "data": {
      "text/markdown": [
       "<span style=\"color:#3366cc\">Hint:</span> Take a look at how we fixed our original expression in the main lesson. We added parentheses around certain subexpressions. The bug in this code is caused by Python evaluating certain operations in the \"wrong\" order."
      ],
      "text/plain": [
       "Hint: Take a look at how we fixed our original expression in the main lesson. We added parentheses around certain subexpressions. The bug in this code is caused by Python evaluating certain operations in the \"wrong\" order."
      ]
     },
     "metadata": {},
     "output_type": "display_data"
    },
    {
     "data": {
      "application/javascript": [
       "parent.postMessage({\"jupyterEvent\": \"custom.exercise_interaction\", \"data\": {\"interactionType\": 3, \"questionType\": 1, \"questionId\": \"3_WeatherDebug\", \"learnToolsVersion\": \"0.3.4\", \"valueTowardsCompletion\": 0.0, \"failureMessage\": \"\", \"exceptionClass\": \"\", \"trace\": \"\", \"outcomeType\": 4}}, \"*\")"
      ],
      "text/plain": [
       "<IPython.core.display.Javascript object>"
      ]
     },
     "metadata": {},
     "output_type": "display_data"
    },
    {
     "data": {
      "text/markdown": [
       "<span style=\"color:#33cc99\">Solution:</span> One example of a failing test case is:\n",
       "\n",
       "```python\n",
       "have_umbrella = False\n",
       "rain_level = 0.0\n",
       "have_hood = False\n",
       "is_workday = False\n",
       "```\n",
       "\n",
       "Clearly we're prepared for the weather in this case. It's not raining. Not only that, it's not a workday, so we don't even need to leave the house! But our function will return False on these inputs.\n",
       "\n",
       "The key problem is that Python implictly parenthesizes the last part as:\n",
       "\n",
       "```python\n",
       "(not (rain_level > 0)) and is_workday\n",
       "```\n",
       "\n",
       "Whereas what we were trying to express would look more like:\n",
       "\n",
       "```python\n",
       "not (rain_level > 0 and is_workday)\n",
       "```\n"
      ],
      "text/plain": [
       "Solution: One example of a failing test case is:\n",
       "\n",
       "```python\n",
       "have_umbrella = False\n",
       "rain_level = 0.0\n",
       "have_hood = False\n",
       "is_workday = False\n",
       "```\n",
       "\n",
       "Clearly we're prepared for the weather in this case. It's not raining. Not only that, it's not a workday, so we don't even need to leave the house! But our function will return False on these inputs.\n",
       "\n",
       "The key problem is that Python implictly parenthesizes the last part as:\n",
       "\n",
       "```python\n",
       "(not (rain_level > 0)) and is_workday\n",
       "```\n",
       "\n",
       "Whereas what we were trying to express would look more like:\n",
       "\n",
       "```python\n",
       "not (rain_level > 0 and is_workday)\n",
       "```"
      ]
     },
     "metadata": {},
     "output_type": "display_data"
    }
   ],
   "source": [
    "q3.hint()\n",
    "q3.solution()"
   ]
  },
  {
   "cell_type": "markdown",
   "id": "f587dc80",
   "metadata": {
    "papermill": {
     "duration": 0.010948,
     "end_time": "2022-09-25T13:56:15.236006",
     "exception": false,
     "start_time": "2022-09-25T13:56:15.225058",
     "status": "completed"
    },
    "tags": []
   },
   "source": [
    "# 4.\n",
    "\n",
    "The function `is_negative` below is implemented correctly - it returns True if the given number is negative and False otherwise.\n",
    "\n",
    "However, it's more verbose than it needs to be. We can actually reduce the number of lines of code in this function by *75%* while keeping the same behaviour. \n",
    "\n",
    "See if you can come up with an equivalent body that uses just **one line** of code, and put it in the function `concise_is_negative`. (HINT: you don't even need Python's ternary syntax)"
   ]
  },
  {
   "cell_type": "code",
   "execution_count": 10,
   "id": "6c7d0bce",
   "metadata": {
    "execution": {
     "iopub.execute_input": "2022-09-25T13:56:15.259683Z",
     "iopub.status.busy": "2022-09-25T13:56:15.259298Z",
     "iopub.status.idle": "2022-09-25T13:56:15.268938Z",
     "shell.execute_reply": "2022-09-25T13:56:15.268054Z"
    },
    "papermill": {
     "duration": 0.024208,
     "end_time": "2022-09-25T13:56:15.271124",
     "exception": false,
     "start_time": "2022-09-25T13:56:15.246916",
     "status": "completed"
    },
    "tags": []
   },
   "outputs": [
    {
     "data": {
      "application/javascript": [
       "parent.postMessage({\"jupyterEvent\": \"custom.exercise_interaction\", \"data\": {\"outcomeType\": 1, \"valueTowardsCompletion\": 0.2, \"interactionType\": 1, \"questionType\": 2, \"questionId\": \"4_ConciseIsNegative\", \"learnToolsVersion\": \"0.3.4\", \"failureMessage\": \"\", \"exceptionClass\": \"\", \"trace\": \"\"}}, \"*\")"
      ],
      "text/plain": [
       "<IPython.core.display.Javascript object>"
      ]
     },
     "metadata": {},
     "output_type": "display_data"
    },
    {
     "data": {
      "text/markdown": [
       "<span style=\"color:#33cc33\">Correct</span>"
      ],
      "text/plain": [
       "Correct"
      ]
     },
     "metadata": {},
     "output_type": "display_data"
    }
   ],
   "source": [
    "def is_negative(number):\n",
    "    if number < 0:\n",
    "        return True\n",
    "    else:\n",
    "        return False\n",
    "\n",
    "def concise_is_negative(number):\n",
    "    return number < 0 # Your code goes here (try to keep it to one line!)\n",
    "\n",
    "# Check your answer\n",
    "q4.check()"
   ]
  },
  {
   "cell_type": "code",
   "execution_count": 11,
   "id": "922dca5d",
   "metadata": {
    "execution": {
     "iopub.execute_input": "2022-09-25T13:56:15.296377Z",
     "iopub.status.busy": "2022-09-25T13:56:15.295916Z",
     "iopub.status.idle": "2022-09-25T13:56:15.299874Z",
     "shell.execute_reply": "2022-09-25T13:56:15.298893Z"
    },
    "papermill": {
     "duration": 0.019468,
     "end_time": "2022-09-25T13:56:15.302081",
     "exception": false,
     "start_time": "2022-09-25T13:56:15.282613",
     "status": "completed"
    },
    "tags": []
   },
   "outputs": [],
   "source": [
    "#q4.hint()\n",
    "#q4.solution()"
   ]
  },
  {
   "cell_type": "markdown",
   "id": "8a0df5e7",
   "metadata": {
    "papermill": {
     "duration": 0.010707,
     "end_time": "2022-09-25T13:56:15.324149",
     "exception": false,
     "start_time": "2022-09-25T13:56:15.313442",
     "status": "completed"
    },
    "tags": []
   },
   "source": [
    "# 5a.\n",
    "\n",
    "The boolean variables `ketchup`, `mustard` and `onion` represent whether a customer wants a particular topping on their hot dog. We want to implement a number of boolean functions that correspond to some yes-or-no questions about the customer's order. For example:"
   ]
  },
  {
   "cell_type": "code",
   "execution_count": 12,
   "id": "3640cd6d",
   "metadata": {
    "execution": {
     "iopub.execute_input": "2022-09-25T13:56:15.348217Z",
     "iopub.status.busy": "2022-09-25T13:56:15.347844Z",
     "iopub.status.idle": "2022-09-25T13:56:15.353802Z",
     "shell.execute_reply": "2022-09-25T13:56:15.352179Z"
    },
    "papermill": {
     "duration": 0.020914,
     "end_time": "2022-09-25T13:56:15.356170",
     "exception": false,
     "start_time": "2022-09-25T13:56:15.335256",
     "status": "completed"
    },
    "tags": []
   },
   "outputs": [],
   "source": [
    "def onionless(ketchup, mustard, onion):\n",
    "    \"\"\"Return whether the customer doesn't want onions.\n",
    "    \"\"\"\n",
    "    return not onion"
   ]
  },
  {
   "cell_type": "code",
   "execution_count": 13,
   "id": "3bfb5cfc",
   "metadata": {
    "execution": {
     "iopub.execute_input": "2022-09-25T13:56:15.381133Z",
     "iopub.status.busy": "2022-09-25T13:56:15.380769Z",
     "iopub.status.idle": "2022-09-25T13:56:15.389970Z",
     "shell.execute_reply": "2022-09-25T13:56:15.389108Z"
    },
    "papermill": {
     "duration": 0.024139,
     "end_time": "2022-09-25T13:56:15.392234",
     "exception": false,
     "start_time": "2022-09-25T13:56:15.368095",
     "status": "completed"
    },
    "tags": []
   },
   "outputs": [
    {
     "data": {
      "application/javascript": [
       "parent.postMessage({\"jupyterEvent\": \"custom.exercise_interaction\", \"data\": {\"outcomeType\": 1, \"valueTowardsCompletion\": 0.2, \"interactionType\": 1, \"questionType\": 2, \"questionId\": \"5.1_AllToppings\", \"learnToolsVersion\": \"0.3.4\", \"failureMessage\": \"\", \"exceptionClass\": \"\", \"trace\": \"\"}}, \"*\")"
      ],
      "text/plain": [
       "<IPython.core.display.Javascript object>"
      ]
     },
     "metadata": {},
     "output_type": "display_data"
    },
    {
     "data": {
      "text/markdown": [
       "<span style=\"color:#33cc33\">Correct</span>"
      ],
      "text/plain": [
       "Correct"
      ]
     },
     "metadata": {},
     "output_type": "display_data"
    }
   ],
   "source": [
    "def wants_all_toppings(ketchup, mustard, onion):\n",
    "    \"\"\"Return whether the customer wants \"the works\" (all 3 toppings)\n",
    "    \"\"\"\n",
    "    return ketchup and mustard and onion\n",
    "\n",
    "# Check your answer\n",
    "q5.a.check()"
   ]
  },
  {
   "cell_type": "code",
   "execution_count": 14,
   "id": "cef8fb33",
   "metadata": {
    "execution": {
     "iopub.execute_input": "2022-09-25T13:56:15.417626Z",
     "iopub.status.busy": "2022-09-25T13:56:15.417145Z",
     "iopub.status.idle": "2022-09-25T13:56:15.422097Z",
     "shell.execute_reply": "2022-09-25T13:56:15.420682Z"
    },
    "papermill": {
     "duration": 0.020942,
     "end_time": "2022-09-25T13:56:15.424733",
     "exception": false,
     "start_time": "2022-09-25T13:56:15.403791",
     "status": "completed"
    },
    "tags": []
   },
   "outputs": [],
   "source": [
    "#q5.a.hint()\n",
    "#q5.a.solution()"
   ]
  },
  {
   "cell_type": "markdown",
   "id": "81a14511",
   "metadata": {
    "papermill": {
     "duration": 0.011246,
     "end_time": "2022-09-25T13:56:15.447545",
     "exception": false,
     "start_time": "2022-09-25T13:56:15.436299",
     "status": "completed"
    },
    "tags": []
   },
   "source": [
    "# 5b.\n",
    "\n",
    "For the next function, fill in the body to match the English description in the docstring. "
   ]
  },
  {
   "cell_type": "code",
   "execution_count": 15,
   "id": "d686cde3",
   "metadata": {
    "execution": {
     "iopub.execute_input": "2022-09-25T13:56:15.472215Z",
     "iopub.status.busy": "2022-09-25T13:56:15.471847Z",
     "iopub.status.idle": "2022-09-25T13:56:15.482379Z",
     "shell.execute_reply": "2022-09-25T13:56:15.481384Z"
    },
    "papermill": {
     "duration": 0.025506,
     "end_time": "2022-09-25T13:56:15.484518",
     "exception": false,
     "start_time": "2022-09-25T13:56:15.459012",
     "status": "completed"
    },
    "tags": []
   },
   "outputs": [
    {
     "data": {
      "application/javascript": [
       "parent.postMessage({\"jupyterEvent\": \"custom.exercise_interaction\", \"data\": {\"outcomeType\": 1, \"valueTowardsCompletion\": 0.2, \"interactionType\": 1, \"questionType\": 2, \"questionId\": \"5.2_PlainDog\", \"learnToolsVersion\": \"0.3.4\", \"failureMessage\": \"\", \"exceptionClass\": \"\", \"trace\": \"\"}}, \"*\")"
      ],
      "text/plain": [
       "<IPython.core.display.Javascript object>"
      ]
     },
     "metadata": {},
     "output_type": "display_data"
    },
    {
     "data": {
      "text/markdown": [
       "<span style=\"color:#33cc33\">Correct:</span> \n",
       "\n",
       "One solution looks like:\n",
       "```python\n",
       "return not ketchup and not mustard and not onion\n",
       "```\n",
       "\n",
       "We can also [\"factor out\" the nots](https://en.wikipedia.org/wiki/De_Morgan%27s_laws) to get:\n",
       "\n",
       "```python\n",
       "return not (ketchup or mustard or onion)\n",
       "```"
      ],
      "text/plain": [
       "Correct: \n",
       "\n",
       "One solution looks like:\n",
       "```python\n",
       "return not ketchup and not mustard and not onion\n",
       "```\n",
       "\n",
       "We can also [\"factor out\" the nots](https://en.wikipedia.org/wiki/De_Morgan%27s_laws) to get:\n",
       "\n",
       "```python\n",
       "return not (ketchup or mustard or onion)\n",
       "```"
      ]
     },
     "metadata": {},
     "output_type": "display_data"
    }
   ],
   "source": [
    "def wants_plain_hotdog(ketchup, mustard, onion):\n",
    "    \"\"\"Return whether the customer wants a plain hot dog with no toppings.\n",
    "    \"\"\"\n",
    "    return not ketchup and not mustard and not onion\n",
    "\n",
    "# Check your answer\n",
    "q5.b.check()"
   ]
  },
  {
   "cell_type": "code",
   "execution_count": 16,
   "id": "f50f5b13",
   "metadata": {
    "execution": {
     "iopub.execute_input": "2022-09-25T13:56:15.510647Z",
     "iopub.status.busy": "2022-09-25T13:56:15.510165Z",
     "iopub.status.idle": "2022-09-25T13:56:15.514893Z",
     "shell.execute_reply": "2022-09-25T13:56:15.513642Z"
    },
    "papermill": {
     "duration": 0.020897,
     "end_time": "2022-09-25T13:56:15.517382",
     "exception": false,
     "start_time": "2022-09-25T13:56:15.496485",
     "status": "completed"
    },
    "tags": []
   },
   "outputs": [],
   "source": [
    "#q5.b.hint()\n",
    "#q5.b.solution()"
   ]
  },
  {
   "cell_type": "markdown",
   "id": "1e63cb2f",
   "metadata": {
    "papermill": {
     "duration": 0.011366,
     "end_time": "2022-09-25T13:56:15.540774",
     "exception": false,
     "start_time": "2022-09-25T13:56:15.529408",
     "status": "completed"
    },
    "tags": []
   },
   "source": [
    "# 5c.\n",
    "\n",
    "You know what to do: for the next function, fill in the body to match the English description in the docstring."
   ]
  },
  {
   "cell_type": "code",
   "execution_count": 17,
   "id": "8853cac3",
   "metadata": {
    "execution": {
     "iopub.execute_input": "2022-09-25T13:56:15.566269Z",
     "iopub.status.busy": "2022-09-25T13:56:15.565801Z",
     "iopub.status.idle": "2022-09-25T13:56:15.576952Z",
     "shell.execute_reply": "2022-09-25T13:56:15.575804Z"
    },
    "papermill": {
     "duration": 0.027154,
     "end_time": "2022-09-25T13:56:15.579653",
     "exception": false,
     "start_time": "2022-09-25T13:56:15.552499",
     "status": "completed"
    },
    "tags": []
   },
   "outputs": [
    {
     "data": {
      "application/javascript": [
       "parent.postMessage({\"jupyterEvent\": \"custom.exercise_interaction\", \"data\": {\"outcomeType\": 1, \"valueTowardsCompletion\": 0.2, \"interactionType\": 1, \"questionType\": 2, \"questionId\": \"5.3_OneSauce\", \"learnToolsVersion\": \"0.3.4\", \"failureMessage\": \"\", \"exceptionClass\": \"\", \"trace\": \"\"}}, \"*\")"
      ],
      "text/plain": [
       "<IPython.core.display.Javascript object>"
      ]
     },
     "metadata": {},
     "output_type": "display_data"
    },
    {
     "data": {
      "text/markdown": [
       "<span style=\"color:#33cc33\">Correct</span>"
      ],
      "text/plain": [
       "Correct"
      ]
     },
     "metadata": {},
     "output_type": "display_data"
    }
   ],
   "source": [
    "def exactly_one_sauce(ketchup, mustard, onion):\n",
    "    \"\"\"Return whether the customer wants either ketchup or mustard, but not both.\n",
    "    (You may be familiar with this operation under the name \"exclusive or\")\n",
    "    \"\"\"\n",
    "    return ketchup ^ mustard\n",
    "\n",
    "# Check your answer\n",
    "q5.c.check()"
   ]
  },
  {
   "cell_type": "code",
   "execution_count": 18,
   "id": "72ddef05",
   "metadata": {
    "execution": {
     "iopub.execute_input": "2022-09-25T13:56:15.608144Z",
     "iopub.status.busy": "2022-09-25T13:56:15.607126Z",
     "iopub.status.idle": "2022-09-25T13:56:15.617424Z",
     "shell.execute_reply": "2022-09-25T13:56:15.616137Z"
    },
    "papermill": {
     "duration": 0.027581,
     "end_time": "2022-09-25T13:56:15.620060",
     "exception": false,
     "start_time": "2022-09-25T13:56:15.592479",
     "status": "completed"
    },
    "tags": []
   },
   "outputs": [
    {
     "data": {
      "application/javascript": [
       "parent.postMessage({\"jupyterEvent\": \"custom.exercise_interaction\", \"data\": {\"interactionType\": 3, \"questionType\": 2, \"questionId\": \"5.3_OneSauce\", \"learnToolsVersion\": \"0.3.4\", \"valueTowardsCompletion\": 0.0, \"failureMessage\": \"\", \"exceptionClass\": \"\", \"trace\": \"\", \"outcomeType\": 4}}, \"*\")"
      ],
      "text/plain": [
       "<IPython.core.display.Javascript object>"
      ]
     },
     "metadata": {},
     "output_type": "display_data"
    },
    {
     "data": {
      "text/markdown": [
       "<span style=\"color:#33cc99\">Solution:</span> \n",
       "```python\n",
       "return (ketchup and not mustard) or (mustard and not ketchup)\n",
       "```"
      ],
      "text/plain": [
       "Solution: \n",
       "```python\n",
       "return (ketchup and not mustard) or (mustard and not ketchup)\n",
       "```"
      ]
     },
     "metadata": {},
     "output_type": "display_data"
    }
   ],
   "source": [
    "#q5.c.hint()\n",
    "q5.c.solution()"
   ]
  },
  {
   "cell_type": "markdown",
   "id": "7f9b210d",
   "metadata": {
    "papermill": {
     "duration": 0.012434,
     "end_time": "2022-09-25T13:56:15.645389",
     "exception": false,
     "start_time": "2022-09-25T13:56:15.632955",
     "status": "completed"
    },
    "tags": []
   },
   "source": [
    "# 6. <span title=\"A bit spicy\" style=\"color: darkgreen \">🌶️</span>\n",
    "\n",
    "We’ve seen that calling `bool()` on an integer returns `False` if it’s equal to 0 and `True` otherwise. What happens if we call `int()` on a bool? Try it out in the notebook cell below.\n",
    "\n",
    "Can you take advantage of this to write a succinct function that corresponds to the English sentence \"does the customer want exactly one topping?\"?"
   ]
  },
  {
   "cell_type": "code",
   "execution_count": 19,
   "id": "a4a71988",
   "metadata": {
    "execution": {
     "iopub.execute_input": "2022-09-25T13:56:15.673012Z",
     "iopub.status.busy": "2022-09-25T13:56:15.672586Z",
     "iopub.status.idle": "2022-09-25T13:56:15.682759Z",
     "shell.execute_reply": "2022-09-25T13:56:15.681368Z"
    },
    "papermill": {
     "duration": 0.027717,
     "end_time": "2022-09-25T13:56:15.686040",
     "exception": false,
     "start_time": "2022-09-25T13:56:15.658323",
     "status": "completed"
    },
    "tags": []
   },
   "outputs": [
    {
     "data": {
      "application/javascript": [
       "parent.postMessage({\"jupyterEvent\": \"custom.exercise_interaction\", \"data\": {\"outcomeType\": 1, \"valueTowardsCompletion\": 0.2, \"interactionType\": 1, \"questionType\": 2, \"questionId\": \"6_OneTopping\", \"learnToolsVersion\": \"0.3.4\", \"failureMessage\": \"\", \"exceptionClass\": \"\", \"trace\": \"\"}}, \"*\")"
      ],
      "text/plain": [
       "<IPython.core.display.Javascript object>"
      ]
     },
     "metadata": {},
     "output_type": "display_data"
    },
    {
     "data": {
      "text/markdown": [
       "<span style=\"color:#33cc33\">Correct:</span> \n",
       "\n",
       "This condition would be pretty complicated to express using just `and`, `or` and `not`, but using boolean-to-integer conversion gives us this short solution:\n",
       "```python\n",
       "return (int(ketchup) + int(mustard) + int(onion)) == 1\n",
       "```\n",
       "\n",
       "Fun fact: we don't technically need to call `int` on the arguments. Just by doing addition with booleans, Python implicitly does the integer conversion. So we could also write...\n",
       "\n",
       "```python\n",
       "return (ketchup + mustard + onion) == 1\n",
       "```"
      ],
      "text/plain": [
       "Correct: \n",
       "\n",
       "This condition would be pretty complicated to express using just `and`, `or` and `not`, but using boolean-to-integer conversion gives us this short solution:\n",
       "```python\n",
       "return (int(ketchup) + int(mustard) + int(onion)) == 1\n",
       "```\n",
       "\n",
       "Fun fact: we don't technically need to call `int` on the arguments. Just by doing addition with booleans, Python implicitly does the integer conversion. So we could also write...\n",
       "\n",
       "```python\n",
       "return (ketchup + mustard + onion) == 1\n",
       "```"
      ]
     },
     "metadata": {},
     "output_type": "display_data"
    }
   ],
   "source": [
    "def exactly_one_topping(ketchup, mustard, onion):\n",
    "    \"\"\"Return whether the customer wants exactly one of the three available toppings\n",
    "    on their hot dog.\n",
    "    \"\"\"\n",
    "    if int(ketchup) + int(mustard) + int(onion) == 1:\n",
    "        return True\n",
    "    else:\n",
    "        return False\n",
    "\n",
    "# Check your answer\n",
    "q6.check()"
   ]
  },
  {
   "cell_type": "code",
   "execution_count": 20,
   "id": "2fea3d94",
   "metadata": {
    "execution": {
     "iopub.execute_input": "2022-09-25T13:56:15.714977Z",
     "iopub.status.busy": "2022-09-25T13:56:15.714508Z",
     "iopub.status.idle": "2022-09-25T13:56:15.725118Z",
     "shell.execute_reply": "2022-09-25T13:56:15.723698Z"
    },
    "papermill": {
     "duration": 0.028261,
     "end_time": "2022-09-25T13:56:15.727805",
     "exception": false,
     "start_time": "2022-09-25T13:56:15.699544",
     "status": "completed"
    },
    "tags": []
   },
   "outputs": [
    {
     "data": {
      "application/javascript": [
       "parent.postMessage({\"jupyterEvent\": \"custom.exercise_interaction\", \"data\": {\"interactionType\": 3, \"questionType\": 2, \"questionId\": \"6_OneTopping\", \"learnToolsVersion\": \"0.3.4\", \"valueTowardsCompletion\": 0.0, \"failureMessage\": \"\", \"exceptionClass\": \"\", \"trace\": \"\", \"outcomeType\": 4}}, \"*\")"
      ],
      "text/plain": [
       "<IPython.core.display.Javascript object>"
      ]
     },
     "metadata": {},
     "output_type": "display_data"
    },
    {
     "data": {
      "text/markdown": [
       "<span style=\"color:#33cc99\">Solution:</span> This condition would be pretty complicated to express using just `and`, `or` and `not`, but using boolean-to-integer conversion gives us this short solution:\n",
       "```python\n",
       "return (int(ketchup) + int(mustard) + int(onion)) == 1\n",
       "```\n",
       "\n",
       "Fun fact: we don't technically need to call `int` on the arguments. Just by doing addition with booleans, Python implicitly does the integer conversion. So we could also write...\n",
       "\n",
       "```python\n",
       "return (ketchup + mustard + onion) == 1\n",
       "```"
      ],
      "text/plain": [
       "Solution: This condition would be pretty complicated to express using just `and`, `or` and `not`, but using boolean-to-integer conversion gives us this short solution:\n",
       "```python\n",
       "return (int(ketchup) + int(mustard) + int(onion)) == 1\n",
       "```\n",
       "\n",
       "Fun fact: we don't technically need to call `int` on the arguments. Just by doing addition with booleans, Python implicitly does the integer conversion. So we could also write...\n",
       "\n",
       "```python\n",
       "return (ketchup + mustard + onion) == 1\n",
       "```"
      ]
     },
     "metadata": {},
     "output_type": "display_data"
    }
   ],
   "source": [
    "#q6.hint()\n",
    "q6.solution()"
   ]
  },
  {
   "cell_type": "markdown",
   "id": "6d47414f",
   "metadata": {
    "papermill": {
     "duration": 0.013122,
     "end_time": "2022-09-25T13:56:15.754011",
     "exception": false,
     "start_time": "2022-09-25T13:56:15.740889",
     "status": "completed"
    },
    "tags": []
   },
   "source": [
    "# 7. <span title=\"A bit spicy\" style=\"color: darkgreen \">🌶️</span> (Optional)\n",
    "\n",
    "In this problem we'll be working with a simplified version of [blackjack](https://en.wikipedia.org/wiki/Blackjack) (aka twenty-one). In this version there is one player (who you'll control) and a dealer. Play proceeds as follows:\n",
    "\n",
    "- The player is dealt two face-up cards. The dealer is dealt one face-up card.\n",
    "- The player may ask to be dealt another card ('hit') as many times as they wish. If the sum of their cards exceeds 21, they lose the round immediately.\n",
    "- The dealer then deals additional cards to himself until either:\n",
    "    - the sum of the dealer's cards exceeds 21, in which case the player wins the round\n",
    "    - the sum of the dealer's cards is greater than or equal to 17. If the player's total is greater than the dealer's, the player wins. Otherwise, the dealer wins (even in case of a tie).\n",
    "    \n",
    "When calculating the sum of cards, Jack, Queen, and King count for 10. Aces can count as 1 or 11 (when referring to a player's \"total\" above, we mean the largest total that can be made without exceeding 21. So e.g. A+8 = 19, A+8+8 = 17)\n",
    "\n",
    "For this problem, you'll write a function representing the player's decision-making strategy in this game. We've provided a very unintelligent implementation below:"
   ]
  },
  {
   "cell_type": "code",
   "execution_count": 21,
   "id": "a06f20e8",
   "metadata": {
    "execution": {
     "iopub.execute_input": "2022-09-25T13:56:15.782682Z",
     "iopub.status.busy": "2022-09-25T13:56:15.782208Z",
     "iopub.status.idle": "2022-09-25T13:56:15.789191Z",
     "shell.execute_reply": "2022-09-25T13:56:15.787790Z"
    },
    "papermill": {
     "duration": 0.024553,
     "end_time": "2022-09-25T13:56:15.791898",
     "exception": false,
     "start_time": "2022-09-25T13:56:15.767345",
     "status": "completed"
    },
    "tags": []
   },
   "outputs": [],
   "source": [
    "def should_hit(dealer_total, player_total, player_low_aces, player_high_aces):\n",
    "    \"\"\"Return True if the player should hit (request another card) given the current game\n",
    "    state, or False if the player should stay.\n",
    "    When calculating a hand's total value, we count aces as \"high\" (with value 11) if doing so\n",
    "    doesn't bring the total above 21, otherwise we count them as low (with value 1). \n",
    "    For example, if the player's hand is {A, A, A, 7}, we will count it as 11 + 1 + 1 + 7,\n",
    "    and therefore set player_total=20, player_low_aces=2, player_high_aces=1.\n",
    "    \"\"\"\n",
    "    if player_total > 21:\n",
    "        return False\n",
    "    else:\n",
    "        return True"
   ]
  },
  {
   "cell_type": "markdown",
   "id": "0446ae63",
   "metadata": {
    "papermill": {
     "duration": 0.013256,
     "end_time": "2022-09-25T13:56:15.818689",
     "exception": false,
     "start_time": "2022-09-25T13:56:15.805433",
     "status": "completed"
    },
    "tags": []
   },
   "source": [
    "This very conservative agent *always* sticks with the hand of two cards that they're dealt.\n",
    "\n",
    "We'll be simulating games between your player agent and our own dealer agent by calling your function.\n",
    "\n",
    "Try running the function below to see an example of a simulated game:"
   ]
  },
  {
   "cell_type": "code",
   "execution_count": 22,
   "id": "248fa816",
   "metadata": {
    "execution": {
     "iopub.execute_input": "2022-09-25T13:56:15.848020Z",
     "iopub.status.busy": "2022-09-25T13:56:15.847024Z",
     "iopub.status.idle": "2022-09-25T13:56:15.854334Z",
     "shell.execute_reply": "2022-09-25T13:56:15.852783Z"
    },
    "papermill": {
     "duration": 0.025405,
     "end_time": "2022-09-25T13:56:15.857320",
     "exception": false,
     "start_time": "2022-09-25T13:56:15.831915",
     "status": "completed"
    },
    "tags": []
   },
   "outputs": [
    {
     "name": "stdout",
     "output_type": "stream",
     "text": [
      "Player starts with J and 4 (total = 14)\n",
      "Dealer starts with K\n",
      "\n",
      "__Player's turn__\n",
      "Player hits and receives Q. (total = 24)\n",
      "Player busts! Dealer wins.\n"
     ]
    }
   ],
   "source": [
    "q7.simulate_one_game()"
   ]
  },
  {
   "cell_type": "markdown",
   "id": "bd4da742",
   "metadata": {
    "papermill": {
     "duration": 0.013251,
     "end_time": "2022-09-25T13:56:15.884878",
     "exception": false,
     "start_time": "2022-09-25T13:56:15.871627",
     "status": "completed"
    },
    "tags": []
   },
   "source": [
    "The real test of your agent's mettle is their average win rate over many games. Try calling the function below to simulate 50000 games of blackjack (it may take a couple seconds):"
   ]
  },
  {
   "cell_type": "code",
   "execution_count": 23,
   "id": "82dd3de3",
   "metadata": {
    "execution": {
     "iopub.execute_input": "2022-09-25T13:56:15.913087Z",
     "iopub.status.busy": "2022-09-25T13:56:15.912704Z",
     "iopub.status.idle": "2022-09-25T13:56:17.459850Z",
     "shell.execute_reply": "2022-09-25T13:56:17.458926Z"
    },
    "papermill": {
     "duration": 1.564559,
     "end_time": "2022-09-25T13:56:17.462496",
     "exception": false,
     "start_time": "2022-09-25T13:56:15.897937",
     "status": "completed"
    },
    "tags": []
   },
   "outputs": [
    {
     "name": "stdout",
     "output_type": "stream",
     "text": [
      "Player won 0 out of 50000 games (win rate = 0.0%)\n"
     ]
    }
   ],
   "source": [
    "q7.simulate(n_games=50000)"
   ]
  },
  {
   "cell_type": "markdown",
   "id": "a5795401",
   "metadata": {
    "papermill": {
     "duration": 0.013503,
     "end_time": "2022-09-25T13:56:17.489252",
     "exception": false,
     "start_time": "2022-09-25T13:56:17.475749",
     "status": "completed"
    },
    "tags": []
   },
   "source": [
    "Our dumb agent that completely ignores the game state still manages to win shockingly often!\n",
    "\n",
    "Try adding some more smarts to the `should_hit` function and see how it affects the results."
   ]
  },
  {
   "cell_type": "code",
   "execution_count": 24,
   "id": "546581c2",
   "metadata": {
    "execution": {
     "iopub.execute_input": "2022-09-25T13:56:17.519304Z",
     "iopub.status.busy": "2022-09-25T13:56:17.518259Z",
     "iopub.status.idle": "2022-09-25T13:56:19.168826Z",
     "shell.execute_reply": "2022-09-25T13:56:19.167345Z"
    },
    "papermill": {
     "duration": 1.668952,
     "end_time": "2022-09-25T13:56:19.171573",
     "exception": false,
     "start_time": "2022-09-25T13:56:17.502621",
     "status": "completed"
    },
    "tags": []
   },
   "outputs": [
    {
     "name": "stdout",
     "output_type": "stream",
     "text": [
      "Player won 19129 out of 50000 games (win rate = 38.3%)\n"
     ]
    }
   ],
   "source": [
    "def should_hit(dealer_total, player_total, player_low_aces, player_high_aces):\n",
    "    \"\"\"Return True if the player should hit (request another card) given the current game\n",
    "    state, or False if the player should stay.\n",
    "    When calculating a hand's total value, we count aces as \"high\" (with value 11) if doing so\n",
    "    doesn't bring the total above 21, otherwise we count them as low (with value 1). \n",
    "    For example, if the player's hand is {A, A, A, 7}, we will count it as 11 + 1 + 1 + 7,\n",
    "    and therefore set player_total=20, player_low_aces=2, player_high_aces=1.\n",
    "    \"\"\"\n",
    "    return False\n",
    "\n",
    "q7.simulate(n_games=50000)"
   ]
  },
  {
   "cell_type": "markdown",
   "id": "24525335",
   "metadata": {
    "papermill": {
     "duration": 0.013162,
     "end_time": "2022-09-25T13:56:19.197909",
     "exception": false,
     "start_time": "2022-09-25T13:56:19.184747",
     "status": "completed"
    },
    "tags": []
   },
   "source": [
    "# Keep Going\n",
    "\n",
    "Learn about **[lists and tuples](https://www.kaggle.com/colinmorris/lists)** to handle multiple items of data in a systematic way."
   ]
  },
  {
   "cell_type": "markdown",
   "id": "4c4ab5d6",
   "metadata": {
    "papermill": {
     "duration": 0.012735,
     "end_time": "2022-09-25T13:56:19.223785",
     "exception": false,
     "start_time": "2022-09-25T13:56:19.211050",
     "status": "completed"
    },
    "tags": []
   },
   "source": [
    "---\n",
    "\n",
    "\n",
    "\n",
    "\n",
    "*Have questions or comments? Visit the [course discussion forum](https://www.kaggle.com/learn/python/discussion) to chat with other learners.*"
   ]
  }
 ],
 "metadata": {
  "kernelspec": {
   "display_name": "Python 3",
   "language": "python",
   "name": "python3"
  },
  "language_info": {
   "codemirror_mode": {
    "name": "ipython",
    "version": 3
   },
   "file_extension": ".py",
   "mimetype": "text/x-python",
   "name": "python",
   "nbconvert_exporter": "python",
   "pygments_lexer": "ipython3",
   "version": "3.7.12"
  },
  "papermill": {
   "default_parameters": {},
   "duration": 14.663716,
   "end_time": "2022-09-25T13:56:19.961361",
   "environment_variables": {},
   "exception": null,
   "input_path": "__notebook__.ipynb",
   "output_path": "__notebook__.ipynb",
   "parameters": {},
   "start_time": "2022-09-25T13:56:05.297645",
   "version": "2.3.4"
  }
 },
 "nbformat": 4,
 "nbformat_minor": 5
}
