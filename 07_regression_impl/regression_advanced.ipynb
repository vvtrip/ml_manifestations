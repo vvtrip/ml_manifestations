{
  "nbformat": 4,
  "nbformat_minor": 0,
  "metadata": {
    "colab": {
      "provenance": [],
      "authorship_tag": "ABX9TyPVU965tpzSrnex4an8q06s"
    },
    "kernelspec": {
      "name": "python3",
      "display_name": "Python 3"
    },
    "language_info": {
      "name": "python"
    }
  },
  "cells": [
    {
      "cell_type": "markdown",
      "source": [
        "**Limitations of Linear Models**\n",
        "\n",
        "Linear Models are the most widely used models in Statistics.\n",
        "\n",
        "But they come with their own limitations.\n",
        "\n",
        "Not proficient in handling Binary Data\n",
        "\n",
        "Not Accurate When count data(number of footfalls, number of pages visited etc ..) is involved.\n",
        "\n",
        "Some variable have a constraint of being only strictly positive\n",
        "\n",
        "To fix some of these problems we go can go for Transformation.\n",
        "\n",
        "In some scenarios Transformation minimises interpretability so we have to look for other alternatives.\n",
        "\n",
        "To overcome the some limitations of Linear Models , we can go for **Generalized Linear Models(GLMs)**.\n",
        "\n",
        "In GLMs the modeling is done on the scale in which the data was recorded.\n",
        "\n",
        "GLMs honor the known assumptions of the data\n",
        "\n",
        "GLMs comprise of 3 components\n",
        "\n",
        "- Random Component that explains the data distribution that describes Randomness / Errors.\n",
        "\n",
        "- Systematic Component consists of linear predictors (the covariate and the coefficient)\n",
        "\n",
        "- Link function connects the mean of the response to Predictors\n",
        "\n",
        "Types of Generalized Models\n",
        "\n",
        "- Logistic Regression used for predicting Binary Outcomes.\n",
        "\n",
        "- Poisson Regression used for predicting count data (# of footfalls, # of hits on a website)"
      ],
      "metadata": {
        "id": "bP_ekGZCr_pH"
      }
    },
    {
      "cell_type": "markdown",
      "source": [
        "# Logistic Regression"
      ],
      "metadata": {
        "id": "jf5ZGD4Q5Cg-"
      }
    },
    {
      "cell_type": "code",
      "execution_count": 2,
      "metadata": {
        "colab": {
          "base_uri": "https://localhost:8080/"
        },
        "id": "zDO6HyGuOtF0",
        "outputId": "746b1d31-086a-40d4-dc3a-529cbf8f3790"
      },
      "outputs": [
        {
          "output_type": "stream",
          "name": "stdout",
          "text": [
            "                 Generalized Linear Model Regression Results                  \n",
            "==============================================================================\n",
            "Dep. Variable:                    Win   No. Observations:                   10\n",
            "Model:                            GLM   Df Residuals:                        9\n",
            "Model Family:                Binomial   Df Model:                            0\n",
            "Link Function:                  logit   Scale:                          1.0000\n",
            "Method:                          IRLS   Log-Likelihood:                -6.6858\n",
            "Date:                Sun, 20 Nov 2022   Deviance:                       13.372\n",
            "Time:                        07:16:46   Pearson chi2:                     9.94\n",
            "No. Iterations:                     4                                         \n",
            "Covariance Type:            nonrobust                                         \n",
            "==============================================================================\n",
            "                 coef    std err          z      P>|z|      [0.025      0.975]\n",
            "------------------------------------------------------------------------------\n",
            "Score          0.0021      0.003      0.688      0.491      -0.004       0.008\n",
            "==============================================================================\n"
          ]
        }
      ],
      "source": [
        "from __future__ import print_function\n",
        "import pandas as pd\n",
        "import statsmodels.api as sm\n",
        "import statsmodels.formula.api as smf\n",
        "\n",
        "Scores = [(200,1),(100,0),(150,1),(320,1),(270,1),(134,0),(322,1),(140,0),(210,0),(199,0)]\n",
        "Labels = ['Score','Win']\n",
        "df = pd.DataFrame.from_records(Scores, columns=Labels)\n",
        "glm_binom = sm.GLM(df.Win, df.Score, family=sm.families.Binomial())\n",
        "res = glm_binom.fit()\n",
        "print(res.summary())"
      ]
    },
    {
      "cell_type": "markdown",
      "source": [
        "The value of the score coef tells us how it is able to tell us to what extent it is able to predict the likilihood of winning a game .\n",
        "\n",
        "The rest of the values are a standard outcome of a regression equation."
      ],
      "metadata": {
        "id": "sbWrewuh5f1L"
      }
    },
    {
      "cell_type": "code",
      "source": [
        "from sklearn.datasets import make_classification\n",
        "X, y = make_classification(n_samples=100, n_features=2,\n",
        "                           n_informative=2, n_redundant=0,\n",
        "                           n_clusters_per_class=1,\n",
        "                           class_sep = 2.0, random_state=101)"
      ],
      "metadata": {
        "id": "FmgIxuRa5GXy"
      },
      "execution_count": 3,
      "outputs": []
    },
    {
      "cell_type": "code",
      "source": [
        "X"
      ],
      "metadata": {
        "colab": {
          "base_uri": "https://localhost:8080/"
        },
        "id": "ZCtmp7SN5lQj",
        "outputId": "4ca26ccb-6e4c-4e0a-bd9a-578f43f999f2"
      },
      "execution_count": 4,
      "outputs": [
        {
          "output_type": "execute_result",
          "data": {
            "text/plain": [
              "array([[-1.04910781,  2.85665467],\n",
              "       [-0.95081668, -2.92962994],\n",
              "       [-1.41723589, -2.39627051],\n",
              "       [-2.92377584, -1.5567371 ],\n",
              "       [-2.41728707,  1.4951089 ],\n",
              "       [-3.40154264, -1.14982839],\n",
              "       [-1.53659935, -2.28580115],\n",
              "       [-1.96406213,  1.8664572 ],\n",
              "       [-2.19070633,  1.65164572],\n",
              "       [-1.31680513,  2.50444458],\n",
              "       [-1.79105894,  2.26372183],\n",
              "       [-2.28561844, -1.81814172],\n",
              "       [-2.10327634, -2.04648481],\n",
              "       [-1.18806127, -2.56253522],\n",
              "       [-1.23117577, -2.43168205],\n",
              "       [-1.99030787,  2.11046883],\n",
              "       [-0.7761225 ,  3.36618615],\n",
              "       [-2.87909083,  1.30763322],\n",
              "       [-2.26359432,  1.67342039],\n",
              "       [-0.69672613, -2.88672306],\n",
              "       [-1.53984553,  2.86891725],\n",
              "       [-2.87361456, -1.27402704],\n",
              "       [-1.97189546, -1.93060566],\n",
              "       [-1.92003663,  2.31224241],\n",
              "       [-2.01864042, -1.89207083],\n",
              "       [-1.97024612, -1.95093269],\n",
              "       [-1.54635501, -2.66437846],\n",
              "       [-1.44273586, -2.48626113],\n",
              "       [-2.48450598, -1.66115829],\n",
              "       [-3.42542457,  0.89756069],\n",
              "       [-1.71220678,  2.04176535],\n",
              "       [-2.69303466,  1.37581288],\n",
              "       [-2.02626914,  2.27215712],\n",
              "       [-1.99323522, -2.35227607],\n",
              "       [-2.77531421, -1.8474369 ],\n",
              "       [-2.26934916, -1.91051477],\n",
              "       [-2.66935704, -1.32619612],\n",
              "       [-1.8131223 ,  2.15959474],\n",
              "       [-2.519842  ,  1.63326893],\n",
              "       [-2.50692983, -2.06618713],\n",
              "       [-2.89062623,  1.41770966],\n",
              "       [-1.52605035, -2.23678568],\n",
              "       [-0.12614399, -3.39344047],\n",
              "       [-1.06625817, -3.02933661],\n",
              "       [-1.9724156 , -2.02930841],\n",
              "       [-2.83407062, -1.40980446],\n",
              "       [-2.27559816, -2.22625207],\n",
              "       [-0.46231876,  3.5751343 ],\n",
              "       [-1.7197414 ,  2.55335111],\n",
              "       [-1.27864423,  2.93782396],\n",
              "       [-0.28659422, -3.07885813],\n",
              "       [-3.30719128, -1.0557704 ],\n",
              "       [-1.70024325, -2.08619712],\n",
              "       [-2.13942875, -1.59740461],\n",
              "       [-3.54794881, -0.50571585],\n",
              "       [-2.2484681 ,  1.99245569],\n",
              "       [-2.54026133,  1.21936113],\n",
              "       [-2.79631083, -1.30478333],\n",
              "       [-1.49142324, -2.52979615],\n",
              "       [ 0.16018254, -4.0584446 ],\n",
              "       [-0.39246496, -3.1078507 ],\n",
              "       [-0.5477831 ,  2.89291907],\n",
              "       [-2.27206097, -1.64694789],\n",
              "       [-1.58323084,  1.88297212],\n",
              "       [-1.53788987,  2.78186854],\n",
              "       [-2.03733521,  2.20956611],\n",
              "       [-1.64253656,  2.17568489],\n",
              "       [-1.73809183,  2.32885453],\n",
              "       [-3.42914973, -0.9224317 ],\n",
              "       [-2.43431083,  1.82774899],\n",
              "       [-2.56284693, -1.69998969],\n",
              "       [-1.89694209, -1.7429182 ],\n",
              "       [-2.35835466,  1.43876945],\n",
              "       [-0.82526859,  3.01824614],\n",
              "       [-0.57713994,  3.48910927],\n",
              "       [-1.70220574,  2.22075029],\n",
              "       [-0.58317012, -2.78848572],\n",
              "       [-3.06066714,  0.58776489],\n",
              "       [-2.30540757, -1.79505976],\n",
              "       [-2.04300472, -1.7914217 ],\n",
              "       [-2.57781485, -1.9295117 ],\n",
              "       [-1.59889534, -2.45637189],\n",
              "       [-1.53589976,  2.33683795],\n",
              "       [-1.46364552,  2.68892146],\n",
              "       [-1.11139434,  3.2150816 ],\n",
              "       [-3.33239042,  1.06976832],\n",
              "       [-1.57862185,  2.4680862 ],\n",
              "       [-2.82497521, -1.29593312],\n",
              "       [-1.10279855,  2.83056489],\n",
              "       [-2.43404718,  1.47640749],\n",
              "       [-0.75452799,  3.27846265],\n",
              "       [-3.38613156, -0.9305781 ],\n",
              "       [-1.29840446,  2.99230871],\n",
              "       [-0.60717229,  3.46890303],\n",
              "       [-2.10427368,  1.70945851],\n",
              "       [-2.07304933, -1.7848764 ],\n",
              "       [-0.71792608,  3.40696214],\n",
              "       [-2.27789291,  2.23227427],\n",
              "       [-2.57884295, -1.54422884],\n",
              "       [-2.12991391,  1.43197012]])"
            ]
          },
          "metadata": {},
          "execution_count": 4
        }
      ]
    },
    {
      "cell_type": "code",
      "source": [
        "y"
      ],
      "metadata": {
        "colab": {
          "base_uri": "https://localhost:8080/"
        },
        "id": "PFyHiKut5oLb",
        "outputId": "a6259f8b-7d7c-4a7b-d37d-dfc94bd3ef34"
      },
      "execution_count": 5,
      "outputs": [
        {
          "output_type": "execute_result",
          "data": {
            "text/plain": [
              "array([0, 1, 1, 1, 0, 1, 1, 0, 0, 0, 0, 1, 1, 1, 1, 0, 0, 0, 0, 1, 0, 1,\n",
              "       1, 0, 1, 1, 1, 1, 1, 0, 0, 0, 0, 1, 1, 1, 1, 0, 0, 1, 0, 1, 1, 1,\n",
              "       1, 1, 1, 0, 0, 0, 1, 1, 1, 1, 1, 0, 0, 1, 1, 1, 1, 0, 1, 0, 0, 0,\n",
              "       0, 0, 0, 0, 1, 1, 0, 0, 0, 0, 1, 0, 1, 1, 1, 1, 0, 0, 0, 0, 0, 1,\n",
              "       0, 0, 0, 1, 0, 0, 0, 1, 0, 0, 1, 0])"
            ]
          },
          "metadata": {},
          "execution_count": 5
        }
      ]
    },
    {
      "cell_type": "code",
      "source": [
        "%matplotlib inline\n",
        "import matplotlib.pyplot as plt\n",
        "plt.scatter(X[:, 0], X[:, 1], marker='o', c=y,\n",
        "            linewidth=0, edgecolor=None)\n",
        "plt.xlabel('Feature 1')\n",
        "plt.ylabel('Feature 2')\n",
        "plt.show()"
      ],
      "metadata": {
        "colab": {
          "base_uri": "https://localhost:8080/",
          "height": 279
        },
        "id": "Y9u59Swa5qmr",
        "outputId": "1794c59a-946e-45c2-8b22-54e741ceef62"
      },
      "execution_count": 6,
      "outputs": [
        {
          "output_type": "display_data",
          "data": {
            "text/plain": [
              "<Figure size 432x288 with 1 Axes>"
            ],
            "image/png": "[encoded data removed]"
          },
          "metadata": {
            "needs_background": "light"
          }
        }
      ]
    },
    {
      "cell_type": "code",
      "source": [
        "from sklearn.model_selection import train_test_split\n",
        "X_train, X_test, y_train, y_test = train_test_split(X, y.astype(float),test_size=0.33, random_state=101)"
      ],
      "metadata": {
        "id": "GW80rdab5uAC"
      },
      "execution_count": 7,
      "outputs": []
    },
    {
      "cell_type": "code",
      "source": [
        "from sklearn.linear_model import LogisticRegression\n",
        "from sklearn.metrics import classification_report\n",
        "clf = LogisticRegression()\n",
        "clf.fit(X_train, y_train.astype(int))\n",
        "y_clf = clf.predict(X_test)\n",
        "print(classification_report(y_test, y_clf))"
      ],
      "metadata": {
        "colab": {
          "base_uri": "https://localhost:8080/"
        },
        "id": "QOAUbsyw5xhi",
        "outputId": "523548aa-2f23-4fe6-903d-0f6c9ef16875"
      },
      "execution_count": 9,
      "outputs": [
        {
          "output_type": "stream",
          "name": "stdout",
          "text": [
            "              precision    recall  f1-score   support\n",
            "\n",
            "         0.0       1.00      0.93      0.97        15\n",
            "         1.0       0.95      1.00      0.97        18\n",
            "\n",
            "    accuracy                           0.97        33\n",
            "   macro avg       0.97      0.97      0.97        33\n",
            "weighted avg       0.97      0.97      0.97        33\n",
            "\n"
          ]
        }
      ]
    },
    {
      "cell_type": "markdown",
      "source": [
        "Precision = TP/(TP + FP)\n",
        "\n",
        "Precision is similar to accuracy but looks at only the positively predicted data.\n",
        "\n",
        "Recall = TP / (TP + FN)\n",
        "\n",
        "Recall is also similar to accuracy, it looks at only the relevant data."
      ],
      "metadata": {
        "id": "x4jyzaW76C2c"
      }
    },
    {
      "cell_type": "code",
      "source": [
        "from sklearn.metrics import roc_curve\n",
        "from sklearn.metrics import auc\n",
        "# Compute fpr, tpr, thresholds and roc auc\n",
        "fpr, tpr, thresholds = roc_curve(y_test, y_clf)\n",
        "# roc_auc = auc(y_test, y_clf)\n",
        "# Plot ROC curve\n",
        "#plt.plot(fpr, tpr, label='ROC curve (area = %0.3f)' % roc_auc)\n",
        "plt.plot([0, 1], [0, 1], 'k--')  # random predictions curve\n",
        "plt.xlim([0.0, 1.0])\n",
        "plt.ylim([0.0, 1.0])\n",
        "plt.xlabel('False Positive Rate or (1 - Specifity)')\n",
        "plt.ylabel('True Positive Rate or (Sensitivity)')\n",
        "plt.title('Receiver Operating Characteristic')\n",
        "plt.legend(loc=\"lower right\")"
      ],
      "metadata": {
        "colab": {
          "base_uri": "https://localhost:8080/",
          "height": 330
        },
        "id": "DksQAHyF50LL",
        "outputId": "b8036ba8-c177-41a7-80b2-83a7fa3ae1fe"
      },
      "execution_count": 14,
      "outputs": [
        {
          "output_type": "stream",
          "name": "stderr",
          "text": [
            "WARNING:matplotlib.legend:No handles with labels found to put in legend.\n"
          ]
        },
        {
          "output_type": "execute_result",
          "data": {
            "text/plain": [
              "<matplotlib.legend.Legend at 0x7f8a9f03e890>"
            ]
          },
          "metadata": {},
          "execution_count": 14
        },
        {
          "output_type": "display_data",
          "data": {
            "text/plain": [
              "<Figure size 432x288 with 1 Axes>"
            ],
            "image/png": "[encoded data removed]"
          },
          "metadata": {
            "needs_background": "light"
          }
        }
      ]
    },
    {
      "cell_type": "code",
      "source": [
        "from sklearn.metrics import confusion_matrix\n",
        "confusion_matrix(y_test, y_clf)\n"
      ],
      "metadata": {
        "colab": {
          "base_uri": "https://localhost:8080/"
        },
        "id": "vqccK70D6GC0",
        "outputId": "f90c9a98-7b96-4105-89e5-a186ee555d2c"
      },
      "execution_count": 15,
      "outputs": [
        {
          "output_type": "execute_result",
          "data": {
            "text/plain": [
              "array([[14,  1],\n",
              "       [ 0, 18]])"
            ]
          },
          "metadata": {},
          "execution_count": 15
        }
      ]
    },
    {
      "cell_type": "markdown",
      "source": [
        "Accuracy for this model is (14+18) / (14+1+0+18) = 0.96969"
      ],
      "metadata": {
        "id": "x162pzpu6iPe"
      }
    },
    {
      "cell_type": "markdown",
      "source": [
        "Sensitivity for the model is 100%\n",
        "\n",
        "Specificity for the model is 94%\n",
        "\n",
        "Based on the numbers we can interpret that the model is able to clearly separate the data into 2 classes.\n",
        "\n",
        "The model is also able to designate the individual numbers that do not belong to a specific class as negative."
      ],
      "metadata": {
        "id": "CUrZ8MhI6qc5"
      }
    },
    {
      "cell_type": "markdown",
      "source": [
        "# Poisson's Regression"
      ],
      "metadata": {
        "id": "Do9j-tnx-bMp"
      }
    },
    {
      "cell_type": "markdown",
      "source": [
        "One of the underlying assumptions of Linear Regression is that the error terms follow a normal distribution\n",
        "\n",
        "When the error terms do not follow normal distribution , we go for other types of Regression\n",
        "\n",
        "When we try to model count data(number of footfalls, traffic in a website), we go for Poisson Regression\n",
        "\n",
        "**Where is Poisson Regression Used ?**\n",
        "\n",
        "Poisson Regression is used to model count data\n",
        "\n",
        "Number of foot falls , number of call drops etc ...\n",
        "\n",
        "In mathematical terms , Poisson Regression is used to model the logarithm of the count data\n",
        "\n",
        "**Variables in Poisson Regression Equation**\n",
        "\n",
        "Dependent Variable Y represents count or sometimes Y/t is used signifying the rate\n",
        "\n",
        "Independent variables are categorical or continuous variables depending on the dataset\n",
        "\n",
        "Link Function : g(μ)=β0+β1x1+β2x2+…+βkxk = xTiβ\n",
        "\n",
        "Random component: Response Y has a Poisson distribution that is yi∼Poisson(μi) for i=1,...,N where the expected count of yi is E(Y)=μ.\n",
        "\n",
        "Systematic component: Any set of X = (X1, X2, … Xk) are independent variables.\n",
        "\n",
        "**Link Function**\n",
        "\n",
        "Identity link: μ=β0+β1x1\n",
        "In some ocassions the identity link function is used in Poisson regression. Here the random component is the Poisson distribution.\n",
        "\n",
        "Natural log link: log(μ)=β0+β1x1\n",
        "The Poisson regression model for counts is occassionally referred to as a “Poisson loglinear model”.\n",
        "\n",
        "For simplicity, with a single dependent variable, we can write: log(μ)=α+βx. This is equivalent to:μ=exp(α+βx)=exp(α)exp(βx)\n",
        "\n",
        "**Interpreting Parameters**\n",
        "\n",
        "Interpreting the estimated parameter.\n",
        "\n",
        "exp(α) = effect on the mean of Y, that is mean, when X = 0\n",
        "\n",
        "exp(β) = with every unit increase in X, the predictor variable has **multiplicative effect **of exp(β) on the mean of Y, that is μ\n",
        "\n",
        "If β = 0, then exp(β) = 1, and the expected count, μ = E(y) = exp(α), and Y and X are not related.\n",
        "\n",
        "If β > 0, then exp(β) > 1, and the expected count μ = E(y) is exp(β) times larger than when X = 0\n",
        "\n",
        "If β < 0, then exp(β) < 1, and the expected count μ = E(y) is exp(β) times smaller than when X = 0\n",
        "\n",
        "**Poisson Regression for Rate**\n",
        "\n",
        "The set of equations mentioned in the above cards can also be applicable for rate data. Y/t\n",
        "\n",
        "Y is the count data and t is the time"
      ],
      "metadata": {
        "id": "n-HQuJne-f46"
      }
    },
    {
      "cell_type": "code",
      "source": [
        "import numpy as np\n",
        "import pandas as pd\n",
        "import statsmodels.api as sm"
      ],
      "metadata": {
        "id": "653HHA31-eQU"
      },
      "execution_count": 17,
      "outputs": []
    },
    {
      "cell_type": "code",
      "source": [
        "dataset = pd.DataFrame({'A':np.random.rand(100)*1000, \n",
        "\n",
        "                        'B':np.random.rand(100)*100,  \n",
        "\n",
        "                        'C':np.random.rand(100)*10, \n",
        "\n",
        "                        'target':np.random.randint(0, 5, 100)})\n"
      ],
      "metadata": {
        "id": "pejlNWW0-7ZE"
      },
      "execution_count": 18,
      "outputs": []
    },
    {
      "cell_type": "markdown",
      "source": [
        "The variables are random numbers.\n",
        "\n",
        "The Dependent variable signifies count data.\n",
        "\n",
        "The Independent variables are random numbers."
      ],
      "metadata": {
        "id": "0ZlneFVo_BNP"
      }
    },
    {
      "cell_type": "code",
      "source": [
        "X = dataset[['A','B','C']]\n",
        "X['constant'] = 1\n",
        "y = dataset['target']\n",
        "size = 1e5\n",
        "nbeta = 3"
      ],
      "metadata": {
        "id": "tieoQKKY-9Qr"
      },
      "execution_count": 19,
      "outputs": []
    },
    {
      "cell_type": "code",
      "source": [
        "fam = sm.families.Poisson()\n",
        "pois_glm = sm.GLM(y,X, family=fam)\n",
        "pois_res = pois_glm.fit()\n",
        "pois_res.summary()"
      ],
      "metadata": {
        "colab": {
          "base_uri": "https://localhost:8080/",
          "height": 331
        },
        "id": "1nOn-csp_KPL",
        "outputId": "10e63aef-5ba8-4e6d-ecf3-6e1eeee13da1"
      },
      "execution_count": 20,
      "outputs": [
        {
          "output_type": "execute_result",
          "data": {
            "text/plain": [
              "<class 'statsmodels.iolib.summary.Summary'>\n",
              "\"\"\"\n",
              "                 Generalized Linear Model Regression Results                  \n",
              "==============================================================================\n",
              "Dep. Variable:                 target   No. Observations:                  100\n",
              "Model:                            GLM   Df Residuals:                       96\n",
              "Model Family:                 Poisson   Df Model:                            3\n",
              "Link Function:                    log   Scale:                          1.0000\n",
              "Method:                          IRLS   Log-Likelihood:                -172.91\n",
              "Date:                Sun, 20 Nov 2022   Deviance:                       128.89\n",
              "Time:                        07:42:18   Pearson chi2:                     98.9\n",
              "No. Iterations:                     4                                         \n",
              "Covariance Type:            nonrobust                                         \n",
              "==============================================================================\n",
              "                 coef    std err          z      P>|z|      [0.025      0.975]\n",
              "------------------------------------------------------------------------------\n",
              "A             -0.0002      0.000     -0.685      0.493      -0.001       0.000\n",
              "B             -0.0048      0.002     -2.029      0.042      -0.009      -0.000\n",
              "C              0.0413      0.025      1.662      0.097      -0.007       0.090\n",
              "constant       0.7906      0.205      3.851      0.000       0.388       1.193\n",
              "==============================================================================\n",
              "\"\"\""
            ],
            "text/html": [
              "<table class=\"simpletable\">\n",
              "<caption>Generalized Linear Model Regression Results</caption>\n",
              "<tr>\n",
              "  <th>Dep. Variable:</th>        <td>target</td>      <th>  No. Observations:  </th>  <td>   100</td> \n",
              "</tr>\n",
              "<tr>\n",
              "  <th>Model:</th>                  <td>GLM</td>       <th>  Df Residuals:      </th>  <td>    96</td> \n",
              "</tr>\n",
              "<tr>\n",
              "  <th>Model Family:</th>         <td>Poisson</td>     <th>  Df Model:          </th>  <td>     3</td> \n",
              "</tr>\n",
              "<tr>\n",
              "  <th>Link Function:</th>          <td>log</td>       <th>  Scale:             </th> <td>  1.0000</td>\n",
              "</tr>\n",
              "<tr>\n",
              "  <th>Method:</th>                <td>IRLS</td>       <th>  Log-Likelihood:    </th> <td> -172.91</td>\n",
              "</tr>\n",
              "<tr>\n",
              "  <th>Date:</th>            <td>Sun, 20 Nov 2022</td> <th>  Deviance:          </th> <td>  128.89</td>\n",
              "</tr>\n",
              "<tr>\n",
              "  <th>Time:</th>                <td>07:42:18</td>     <th>  Pearson chi2:      </th>  <td>  98.9</td> \n",
              "</tr>\n",
              "<tr>\n",
              "  <th>No. Iterations:</th>          <td>4</td>        <th>                     </th>     <td> </td>   \n",
              "</tr>\n",
              "<tr>\n",
              "  <th>Covariance Type:</th>     <td>nonrobust</td>    <th>                     </th>     <td> </td>   \n",
              "</tr>\n",
              "</table>\n",
              "<table class=\"simpletable\">\n",
              "<tr>\n",
              "      <td></td>        <th>coef</th>     <th>std err</th>      <th>z</th>      <th>P>|z|</th>  <th>[0.025</th>    <th>0.975]</th>  \n",
              "</tr>\n",
              "<tr>\n",
              "  <th>A</th>        <td>   -0.0002</td> <td>    0.000</td> <td>   -0.685</td> <td> 0.493</td> <td>   -0.001</td> <td>    0.000</td>\n",
              "</tr>\n",
              "<tr>\n",
              "  <th>B</th>        <td>   -0.0048</td> <td>    0.002</td> <td>   -2.029</td> <td> 0.042</td> <td>   -0.009</td> <td>   -0.000</td>\n",
              "</tr>\n",
              "<tr>\n",
              "  <th>C</th>        <td>    0.0413</td> <td>    0.025</td> <td>    1.662</td> <td> 0.097</td> <td>   -0.007</td> <td>    0.090</td>\n",
              "</tr>\n",
              "<tr>\n",
              "  <th>constant</th> <td>    0.7906</td> <td>    0.205</td> <td>    3.851</td> <td> 0.000</td> <td>    0.388</td> <td>    1.193</td>\n",
              "</tr>\n",
              "</table>"
            ]
          },
          "metadata": {},
          "execution_count": 20
        }
      ]
    },
    {
      "cell_type": "markdown",
      "source": [
        "On viewing the results and the coefficient values, we can say to what extent each coef is explaining the log of count data i.e the dependent variable.\n",
        "\n",
        "The rest of the values are what a Regression Output shows."
      ],
      "metadata": {
        "id": "c66LK9u4_SvL"
      }
    },
    {
      "cell_type": "markdown",
      "source": [
        "# Advanced Models"
      ],
      "metadata": {
        "id": "LX9ynf-L_XLu"
      }
    },
    {
      "cell_type": "markdown",
      "source": [
        "**Bayesian Vs Linear Regression**\n",
        "\n",
        "Bayesian Regression is similar to Linear Regression in many ways\n",
        "\n",
        "In Linear Regression the output is number / value\n",
        "\n",
        "In Bayesian the output is also a value but it also returns the entire probability distribution\n",
        "\n",
        "How is the Probability Distribution constructed?\n",
        "\n",
        "Here, the predicted value is returned and the variance value is also returned.\n",
        "\n",
        "With value as the mean and the variance value as the standard deviation the probability distribution can be constructed"
      ],
      "metadata": {
        "id": "nCQngOhy_cva"
      }
    },
    {
      "cell_type": "code",
      "source": [
        "from sklearn import linear_model\n",
        "regr = linear_model.BayesianRidge(alpha_1=1e-06, alpha_2=1e-06, compute_score=False, \n",
        "              copy_X=True, fit_intercept=True, lambda_1=1e-06, \n",
        "              lambda_2=1e-06, n_iter=300, normalize=False, \n",
        "              tol=0.001, verbose=False)\n",
        "regr.fit(X, y)"
      ],
      "metadata": {
        "colab": {
          "base_uri": "https://localhost:8080/"
        },
        "id": "OghwzQ4u_OAE",
        "outputId": "6063ffdc-9b8b-4e36-9afb-f17c3193a85d"
      },
      "execution_count": 25,
      "outputs": [
        {
          "output_type": "stream",
          "name": "stderr",
          "text": [
            "/usr/local/lib/python3.7/dist-packages/sklearn/linear_model/_base.py:155: FutureWarning: 'normalize' was deprecated in version 1.0 and will be removed in 1.2. Please leave the normalize parameter to its default value to silence this warning. The default behavior of this estimator is to not do any normalization. If normalization is needed please use sklearn.preprocessing.StandardScaler instead.\n",
            "  FutureWarning,\n"
          ]
        },
        {
          "output_type": "execute_result",
          "data": {
            "text/plain": [
              "BayesianRidge(normalize=False)"
            ]
          },
          "metadata": {},
          "execution_count": 25
        }
      ]
    },
    {
      "cell_type": "markdown",
      "source": [
        "Pro\n",
        "\n",
        "It is Robust to Gaussian Noise\n",
        "\n",
        "Works well if the number of features and observations in the dataset are comparable\n",
        "\n",
        "Cons\n",
        "\n",
        "It is really time-consuming"
      ],
      "metadata": {
        "id": "0u_nV3t4_1Em"
      }
    },
    {
      "cell_type": "markdown",
      "source": [
        "**CART Algorithm**\n",
        "\n",
        "Classification and Regression Trees are a set of non-linear learning algorithms which can be used for numerical as well as categorical features\n",
        "\n",
        "Here the tree has a set of nodes that split the branch into children\n",
        "\n",
        "In turn each of the branches can go into another node or just stay as a leaf along with the forecasted value or the predicted class\n",
        "\n",
        "**Why Trees?**\n",
        "\n",
        "Performing the prediction task is quick\n",
        "\n",
        "The principal task is traversal along the the tree from the root node to the leaf nodes and at each point check if the respective feature is above or below the threshold\n",
        "\n",
        "The concept of variance reduction is used in this algorithm\n",
        "\n",
        "In each of the given nodes a search is performed along all the features across all levels in that feature\n",
        "\n",
        "The combination that contains the best variance is marked and selected as the best"
      ],
      "metadata": {
        "id": "9cpZocSi_3Xt"
      }
    },
    {
      "cell_type": "code",
      "source": [
        "from sklearn.tree import DecisionTreeRegressor\n",
        "from sklearn.metrics import mean_absolute_error\n",
        "regr = DecisionTreeRegressor(random_state=101)\n",
        "regr.fit(X_train, y_train)\n",
        "\n",
        "mean_absolute_error(y_test, regr.predict(X_test))"
      ],
      "metadata": {
        "colab": {
          "base_uri": "https://localhost:8080/"
        },
        "id": "b4EWAsV3_hZ8",
        "outputId": "ec0cd8b0-3cdd-443f-d7f9-c9ec8c48e3f2"
      },
      "execution_count": 27,
      "outputs": [
        {
          "output_type": "execute_result",
          "data": {
            "text/plain": [
              "0.030303030303030304"
            ]
          },
          "metadata": {},
          "execution_count": 27
        }
      ]
    },
    {
      "cell_type": "markdown",
      "source": [
        "Pro ...\n",
        "\n",
        "Trees are the go to algorithms for modeling non-linear behavior\n",
        "\n",
        "They can be used for both categorical and numeric datatypes without performing any kind of normalization\n",
        "\n",
        "The training time , Prediction time are fast\n",
        "\n",
        "They leave a very small memory fingerprint\n",
        "\n",
        "Cons\n",
        "\n",
        "It belongs to a class of Greedy Algorithms , does not optimize the entire solution , it just optimizes specific choices\n",
        "\n",
        "If there are significant number of features, it does not perform well\n",
        "\n",
        "The leaf nodes can be very specific sometime leading to overfitting. In that case those nodes can be pruned."
      ],
      "metadata": {
        "id": "WJ9YrQ7iAIB5"
      }
    },
    {
      "cell_type": "markdown",
      "source": [
        "**Bagging and Boosting**\n",
        "\n",
        "Bagging and Boosting are techniques that are used for combining multiple models to improve overall accuracy.\n",
        "\n",
        "The final combination is a non linear model containing a set of linear models.\n",
        "\n",
        "Bootstrap Aggregation is abbreviated as Bagging.\n",
        "\n",
        "The main objective of this technique is to reduce the overall variance by aggregating the models.\n",
        "\n",
        "\n",
        "**How is Bagging Done ?**\n",
        "\n",
        "Each model is trained on the selected set of features with replacement\n",
        "\n",
        "At the end of training , during prediction , each of the models perform their respective prediction , the results are all taken , averaged and then the ensemble prediction is performed.\n",
        "\n",
        "Bagging Tip\n",
        "\n",
        "The training and the prediction happens at individual model level. This gives flexibility to parallelize the operation on multiple CPUs."
      ],
      "metadata": {
        "id": "umPpEQqbAKGy"
      }
    },
    {
      "cell_type": "code",
      "source": [
        "from sklearn.ensemble import BaggingRegressor\n",
        "from sklearn.linear_model import SGDRegressor\n",
        "bagging = BaggingRegressor(SGDRegressor(), n_jobs=-1,\n",
        "                           n_estimators=1000, random_state=101,\n",
        "                           max_features=0.8)\n",
        "bagging.fit(X_train, y_train)\n",
        "mean_absolute_error(y_test, bagging.predict(X_test))"
      ],
      "metadata": {
        "colab": {
          "base_uri": "https://localhost:8080/"
        },
        "id": "-uK-F64EAAGT",
        "outputId": "cc7595fa-0235-441a-abaa-a363a81020e8"
      },
      "execution_count": 28,
      "outputs": [
        {
          "output_type": "execute_result",
          "data": {
            "text/plain": [
              "0.2726262762456697"
            ]
          },
          "metadata": {},
          "execution_count": 28
        }
      ]
    },
    {
      "cell_type": "code",
      "source": [
        "from sklearn.ensemble import RandomForestRegressor\n",
        "regr = RandomForestRegressor(n_estimators=100, \n",
        "                             n_jobs=-1, random_state=101)\n",
        "regr.fit(X_train, y_train)\n",
        "mean_absolute_error(y_test, regr.predict(X_test))"
      ],
      "metadata": {
        "colab": {
          "base_uri": "https://localhost:8080/"
        },
        "id": "F9XmkI9AAgn8",
        "outputId": "14958f40-08d8-4854-eddf-46d07219dbea"
      },
      "execution_count": 29,
      "outputs": [
        {
          "output_type": "execute_result",
          "data": {
            "text/plain": [
              "0.03090909090909091"
            ]
          },
          "metadata": {},
          "execution_count": 29
        }
      ]
    },
    {
      "cell_type": "markdown",
      "source": [
        "**Boosting**\n",
        "\n",
        "Boosting is another way of combining multiple learning models\n",
        "\n",
        "The objective of boosting is to reduce the prediction bias\n",
        "\n",
        "In boosting the models are in a sequence , cascaded with each other , the output of one is the input of another\n",
        "\n",
        "**Boosting Algorithm**\n",
        "\n",
        "During training , the output of one model is predicted\n",
        "\n",
        "The error is calculated based on the actual value\n",
        "\n",
        "This error is multiplied with the learning rate\n",
        "\n",
        "New model is trained on that error set and inserted at final stage of the cascaded and trained models\n",
        "\n",
        "The output value from one stage is the value predicted combined with the learning rate times by the output prediction from the current stage"
      ],
      "metadata": {
        "id": "NEii-FrJAmy_"
      }
    },
    {
      "cell_type": "code",
      "source": [
        "from sklearn.ensemble import GradientBoostingRegressor\n",
        "\n",
        "regr = GradientBoostingRegressor(n_estimators=500, \n",
        "\n",
        "                                 learning_rate=0.01, \n",
        "\n",
        "                                 random_state=101)\n",
        "\n",
        "regr.fit(X_train, y_train)"
      ],
      "metadata": {
        "colab": {
          "base_uri": "https://localhost:8080/"
        },
        "id": "ic90MpvFAib8",
        "outputId": "24726ed4-d6a5-4216-b178-d2ce428da206"
      },
      "execution_count": 30,
      "outputs": [
        {
          "output_type": "execute_result",
          "data": {
            "text/plain": [
              "GradientBoostingRegressor(learning_rate=0.01, n_estimators=500,\n",
              "                          random_state=101)"
            ]
          },
          "metadata": {},
          "execution_count": 30
        }
      ]
    },
    {
      "cell_type": "markdown",
      "source": [
        "Pros and Cons\n",
        "Pros\n",
        "\n",
        "We can build very good and robust models combining weak models\n",
        "\n",
        "They support stochastic learning\n",
        "\n",
        "The robustness in the solution is created by the stochastic or random nature of the model\n",
        "\n",
        "Cons\n",
        "\n",
        "Time taken for training is very high . There is a high memory footprint\n",
        "\n",
        "The steps in model building can be tricky because of the stochastic nature"
      ],
      "metadata": {
        "id": "4IYIaf0TAv7m"
      }
    },
    {
      "cell_type": "markdown",
      "source": [
        "# Example"
      ],
      "metadata": {
        "id": "y1DcMjxaBseL"
      }
    },
    {
      "cell_type": "markdown",
      "source": [
        "Some of the application areas of above models include\n",
        "\n",
        "- Prediction Problems\n",
        "\n",
        "- Binary and Multi Class Classification\n",
        "\n",
        "- Time Series Analysis\n",
        "\n",
        "- Ranking Problems\n",
        "\n",
        "\n",
        "Consider a dataset from the Music Industry.\n",
        "\n",
        "The descriptors of a particular song are given and the year the song was produced is given.\n",
        "\n",
        "Can this data be modeled as a Regression Problem to predict the year given the descriptors ? yes we can predict the year of production based on the descriptors .\n",
        "\n",
        "- The features should be identified based on the relevance to the context\n",
        "\n",
        "- Once the features are extracted a model can be trained with Features as inputs and year of production as output\n",
        "\n",
        "- The model can be evaluated using Mean Absolute Error between actual and predicted values\n",
        "\n",
        "- The ultimate objective would be to minimize the error\n",
        "\n",
        "Classfiication\n",
        "\n",
        "- The previous problem can also be modeled as a Multi Class Classification problem.\n",
        "\n",
        "- The features and the descriptors still remain the same.\n",
        "\n",
        "- The output will belong to one of the classes from the range of years provided.\n",
        "\n",
        "- Mean absolute error can be used for validating the accuracy of the prediction.\n",
        "\n",
        "Ranking Problems\n",
        "\n",
        "- Consider a dataset with some features related to a car along with a price.\n",
        "\n",
        "- Insurance companies would want to assess if the car is riskier or not to sell / buy on a given scale.\n",
        "\n",
        "- How do you think you will design this problem ?\n",
        "\n",
        "- The above problem can be modeled as a regression problem where we are predicting the risk on a scale .\n",
        "\n",
        "- The methodology to asses the prediction will be different .\n",
        "\n",
        "- In this scenario , we can go for label ranking loss , a metric that indicates the strength ranking\n",
        "\n",
        "- Mean Absolute and Mean Standard Errors are not applicable in this scenario.\n",
        "\n",
        "- Another way to measure the prediction accuracy is by Label Ranking Average Precision.\n",
        "\n",
        "Time Series\n",
        "\n",
        " - So far you have seen problems where the features and the target variables are different.\n",
        "\n",
        " - In scenario where you try to analysis stock prices or currency fluctuations or Support ticket trend over a period of time the variables themselves can be the features and the targets .\n",
        "\n",
        " - These problems fall under Time Series Analysis.\n",
        "\n",
        " - In time series analysis , the data at time t+k can be the target and data at time t can be the feature. The concept of auto regression is applied in these scenarios."
      ],
      "metadata": {
        "id": "0iOOKMATBunX"
      }
    }
  ]
}