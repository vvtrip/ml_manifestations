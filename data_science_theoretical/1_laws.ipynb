{
  "nbformat": 4,
  "nbformat_minor": 0,
  "metadata": {
    "colab": {
      "provenance": [],
      "collapsed_sections": []
    },
    "kernelspec": {
      "name": "python3",
      "display_name": "Python 3"
    },
    "language_info": {
      "name": "python"
    }
  },
  "cells": [
    {
      "cell_type": "markdown",
      "source": [
        "# Law of Large Numbers (LLN)"
      ],
      "metadata": {
        "id": "_VkvhC2RmrrC"
      }
    },
    {
      "cell_type": "code",
      "execution_count": 1,
      "metadata": {
        "id": "M8dGW0DUmbgv"
      },
      "outputs": [],
      "source": [
        "# As a sample size grows, the mean of the sample values gets closer to the expected value.\n",
        "# As the number of identically distributed, randomly generated variables increase, their sample mean\n",
        "# approaches their theoretical mean\n",
        "\n",
        "# ex - expected value of average of dice rolls\n",
        "#  (1/6 * 1) + (1/6 * 2) + (1/6 * 3) + (1/6 * 4) + (1/6 * 5) + (1/6 * 6) = 3.5\n",
        "\n",
        "#  ex- if two dice rolled together, then num of possiblities => 6*6 => 36, expected value of average of rolls =>\n",
        "# (2/36 * 2) + (3/36 * 3) + (3/36 * 4).....+ (3/36 * 10) + (2/36 * 11) + (1/36 * 12) = 7\n",
        "\n",
        "# Flip of an unfair coin where it lands head 90% of the time, let Heads = 1 and tail = 0 (highly probable should be assigned 1)\n",
        "#  (1/10 * 0) + (9/10 * 1) = 0.9\n",
        "#  following flips were observed => HHT, then average of observed values => (2*1 + 1*0)/3 = 0.66\n",
        "#  in above example if the number of trials are increased then average of observed values will come close and close to 0.9 (expected value)"
      ]
    },
    {
      "cell_type": "markdown",
      "source": [
        "**EXAMPLES**"
      ],
      "metadata": {
        "id": "bDui6qzDpobl"
      }
    },
    {
      "cell_type": "markdown",
      "source": [
        "Renewable Energy"
      ],
      "metadata": {
        "id": "ECW5Jt4fp3jY"
      }
    },
    {
      "cell_type": "markdown",
      "source": [
        "\n",
        "\n",
        "*   Wind turbines and solar panels can be power generators\n",
        "*   But it's not always windy or sunny outside\n",
        "*   Which mean that the wind turbines and solar panels can be produce reliable energy\n",
        "*   Hence, companies hook tens of thousand of wind turbines or solar panels which makes it much more likely that these sources can produce a reliable amount of power\n",
        "\n"
      ],
      "metadata": {
        "id": "AIT7s5wZp9UN"
      }
    },
    {
      "cell_type": "code",
      "source": [],
      "metadata": {
        "id": "Y-fTqDbtp8yi"
      },
      "execution_count": null,
      "outputs": []
    }
  ]
}