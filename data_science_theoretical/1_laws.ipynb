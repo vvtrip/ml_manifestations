{
  "nbformat": 4,
  "nbformat_minor": 0,
  "metadata": {
    "colab": {
      "provenance": [],
      "collapsed_sections": [
        "_VkvhC2RmrrC",
        "cwSpylEqV9-3"
      ],
      "authorship_tag": "ABX9TyNBEqKzOJJMnTmm10whsj6u",
      "include_colab_link": true
    },
    "kernelspec": {
      "name": "python3",
      "display_name": "Python 3"
    },
    "language_info": {
      "name": "python"
    }
  },
  "cells": [
    {
      "cell_type": "markdown",
      "metadata": {
        "id": "view-in-github",
        "colab_type": "text"
      },
      "source": [
        "<a href=\"https://colab.research.google.com/github/vvtrip/ml_manifestations/blob/master/data_science_theoretical/1_laws.ipynb\" target=\"_parent\"><img src=\"https://colab.research.google.com/assets/colab-badge.svg\" alt=\"Open In Colab\"/></a>"
      ]
    },
    {
      "cell_type": "markdown",
      "source": [
        "# Law of Large Numbers (LLN)"
      ],
      "metadata": {
        "id": "_VkvhC2RmrrC"
      }
    },
    {
      "cell_type": "markdown",
      "source": [
        " - As a sample size grows, the mean of the sample values gets closer to the expected value.\n",
        " - As the number of identically distributed, randomly generated variables increase, their sample mean\n",
        "approaches their theoretical mean\n",
        "\n",
        "- ex - expected value of average of dice rolls\n",
        " (1/6 * 1) + (1/6 * 2) + (1/6 * 3) + (1/6 * 4) + (1/6 * 5) + (1/6 * 6) = 3.5\n",
        "\n",
        "-  ex- if two dice rolled together, then num of possiblities => 6*6 => 36, expected value of average of rolls =>\n",
        "(2/36 * 2) + (3/36 * 3) + (3/36 * 4).....+ (3/36 * 10) + (2/36 * 11) + (1/36 * 12) = 7\n",
        "\n",
        "\n",
        "\n",
        " - Flip of an unfair coin where it lands head 90% of the time, \n",
        "    - let Heads = 1 and tail = 0 (highly probable should be assigned 1)\n",
        " (1/10 * 0) + (9/10 * 1) = 0.9\n",
        "    - following flips were observed => HHT, \n",
        "    - then average of observed values => (2*1 + 1*0)/3 = 0.66\n",
        " \n",
        " \n",
        "  - in above example if the number of trials are increased then average of observed values will come close and close to 0.9 (expected value)"
      ],
      "metadata": {
        "id": "sgouxPzBt0FK"
      }
    },
    {
      "cell_type": "markdown",
      "source": [
        "EXAMPLES\n",
        "\n",
        "Insurance Companies\n",
        " - They also rely on the las of large numbers ti remain profitable.\n",
        " - Expected behavior: only a small percentage of the premium paying population will actually need to use insurance for large unexpected expenses\n",
        " - 1000 people pay INR1000 => Profit = INR 1,000,000\n",
        " - 90 people received INR 10,000 => Profit = 1INR 1,000,000 - 900,000 = INR 100,000\n",
        " - This business model works because an insurance company ensures a large number of people.\n",
        "\n",
        "Renewable Energy\n",
        "\n",
        "*   Wind turbines and solar panels can be power generators\n",
        "*   But it's not always windy or sunny outside\n",
        "*   Which mean that the wind turbines and solar panels can be produce reliable energy\n",
        "*   Hence, companies hook tens of thousand of wind turbines or solar panels which makes it much more likely that these sources can produce a reliable amount of power\n",
        "\n",
        "Gambler's Fallacy\n",
        " - An individual erroneously believes that a certain random event is less likely or  more likely to happen based on the outcome of a previous event or series of events.\n",
        " - The Monte Carlo Fallacy\n",
        "   - In 1913, roulette's wheel ball fell on Black slot 27 times before falling on Red. Million's of dollars were lost\n",
        "\n",
        " - Investor's Fallacy\n",
        "   - Investors liquidate a position after a series of successvie gains.\n",
        "   - Erroneously belief that a string of successive gains is much more likely to observe a decline \n",
        "   "
      ],
      "metadata": {
        "id": "AIT7s5wZp9UN"
      }
    },
    {
      "cell_type": "markdown",
      "source": [
        "# Pareto's Principle\n",
        "\n",
        " - 80% of the results/outcomes come from 20% of the actions/inputs that can be associated with it\n",
        " - the 90/20 rule\n",
        " - Law of the vital few\n",
        " - Principal of factor sparsity\n",
        " - It is not mathematical law \n",
        " - It may not be precisely 80/20\n",
        " - 80 may not add with 20 to be 100\n",
        "    - Most frequently used 20% of words account for 80% of word occurences.\n",
        "    - Around 80% of land in italy was owned by 20% of population\n",
        "    - The richest 20% have 80% of world's wealth\n",
        "    - In US, 20% of the pateints use 80% of the health care resources\n",
        "    - Microsoft reported that 80% of crashes in Windows are caused by 20% of bugs.\n",
        "    - In home or offices, 20% of the carpet receives 80% of the wear\n",
        "    - 80% of time is spent on 20% of the apps installed\n",
        "    - People wear around 20% of their clothes 80% of times\n",
        "    - 20% of customers leading to 80% of sales\n",
        "    - 20% of product features leading to 80% of incidents\n",
        "    - 20% of design flaws leading to 80% of crashes\n",
        "\n",
        "- It is an analytical tool to help organize thoughts and develop solutions to business and consumer problems.\n",
        "- Useful for determining which area to focus your efforts and resources on in order to achieve macimum efficiency    \n"
      ],
      "metadata": {
        "id": "ocBo3Zfez6jZ"
      }
    },
    {
      "cell_type": "markdown",
      "source": [
        "# Moore's Law\n",
        "\n",
        " - Moore postulated a theory that number of transistors on a microchip would double every 2 years, while its cost would half.\n",
        " - In other words, we can expect the speed and capability of our computers to increase every couple of years, and we will pay less for them\n",
        " - if presently it takes 120 mins to travel from ppoint A to B, then if moore's law was appliacble to transportation then in 20 years it would take 120/(2)^10 = 0.11 mins\n",
        " "
      ],
      "metadata": {
        "id": "ZMkKFmFX3yz8"
      }
    },
    {
      "cell_type": "markdown",
      "source": [
        "# Little' Law\n",
        "\n",
        "\n",
        "\n"
      ],
      "metadata": {
        "id": "cwSpylEqV9-3"
      }
    },
    {
      "cell_type": "markdown",
      "source": [
        "- Long term average number of customers in a stable system is equal to the long-term average effective arrival rate multiplied by the average time a customer spends in the system\n",
        "- L = lambda * w \n",
        "    - where L = Avg. number of customers in the system\n",
        "    - lambda = avg arrival rate\n",
        "    - w = avg time spent by a customer in the system\n",
        "- 5 customers = 10 customers/hr * 0.5 hr \n",
        "- 5 customers = 20 customers/hr * 0.25 hr\n",
        "- 10 customers = 20 customers/hr * 0.5 hr\n",
        "- can also be seen as =>work in progress = Throughput(production output) * Lead time(time an item spends in system)\n",
        "\n",
        "- Create 100 wells in 365 days. And one well takes 240 days to become operation. How many wells do i need to work on in parallel?\n",
        "- (365/100) * 240 => 66 wells\n",
        "\n",
        "\n",
        "APPLICATIONS\n",
        " - Used in manufacturing to predict lead time based on production rate and amount of work in progress.\n",
        " - Software performance testers\n",
        " - Project management\n",
        " - Staffing emergency departments in hospitals\n",
        " \n",
        " \n",
        " BENEFITS\n",
        " - Improve efficiency\n",
        " - Improve customer experience\n",
        " - Gain business insight\n",
        " - Power of this formula lies not just in the simplicity of what it does but also in what it doesn't do\n",
        " - You don't have to create complex models. You don't have to take into account factors such as\n",
        "      - Team Size\n",
        "      - If the items come from one queue or many\n",
        "      - Distribution of service and inter-arrival time\n",
        "      - Order in which the team works on items\n"
      ],
      "metadata": {
        "id": "9fFN8LLtZdJ_"
      }
    }
  ]
}