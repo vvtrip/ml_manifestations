{
  "nbformat": 4,
  "nbformat_minor": 0,
  "metadata": {
    "colab": {
      "provenance": [],
      "authorship_tag": "ABX9TyOg3FhnSKUskWYeQ8/JKe97",
      "include_colab_link": true
    },
    "kernelspec": {
      "name": "python3",
      "display_name": "Python 3"
    },
    "language_info": {
      "name": "python"
    }
  },
  "cells": [
    {
      "cell_type": "markdown",
      "metadata": {
        "id": "view-in-github",
        "colab_type": "text"
      },
      "source": [
        "<a href=\"https://colab.research.google.com/github/vvtrip/ml_manifestations/blob/master/17_DL/1_Neural_Networks_and_Deep_learning.ipynb\" target=\"_parent\"><img src=\"https://colab.research.google.com/assets/colab-badge.svg\" alt=\"Open In Colab\"/></a>"
      ]
    },
    {
      "cell_type": "markdown",
      "source": [
        "# Matrices and operations"
      ],
      "metadata": {
        "id": "VrSYncWdXlPP"
      }
    },
    {
      "cell_type": "code",
      "execution_count": 69,
      "metadata": {
        "colab": {
          "base_uri": "https://localhost:8080/"
        },
        "id": "_-qx9q4xQc89",
        "outputId": "f0bb269f-dbb7-4b30-fd12-59755363fad4"
      },
      "outputs": [
        {
          "output_type": "stream",
          "name": "stdout",
          "text": [
            "data\n",
            " [100  16 157 138 149  76  23  72 163 119  41  27  17 191 145 106 102   8\n",
            "   7  27 142 187  26 132  62  84 186 111  33  11   7  76  19   4 146  44\n",
            " 145  19  80 188  76 119 158 174   7 192  79  25 147  94]\n",
            "\n",
            " [0.5106383  0.06382979 0.81382979 0.71276596 0.7712766  0.38297872\n",
            " 0.10106383 0.36170213 0.84574468 0.61170213 0.19680851 0.12234043\n",
            " 0.06914894 0.99468085 0.75       0.54255319 0.5212766  0.0212766\n",
            " 0.01595745 0.12234043 0.73404255 0.97340426 0.11702128 0.68085106\n",
            " 0.30851064 0.42553191 0.96808511 0.56914894 0.15425532 0.03723404\n",
            " 0.01595745 0.38297872 0.07978723 0.         0.75531915 0.21276596\n",
            " 0.75       0.07978723 0.40425532 0.9787234  0.38297872 0.61170213\n",
            " 0.81914894 0.90425532 0.01595745 1.         0.39893617 0.11170213\n",
            " 0.7606383  0.4787234 ]\n",
            "\n",
            " [array([0.5106383]), array([0.06382979]), array([0.81382979]), array([0.71276596]), array([0.7712766]), array([0.38297872]), array([0.10106383]), array([0.36170213]), array([0.84574468]), array([0.61170213]), array([0.19680851]), array([0.12234043]), array([0.06914894]), array([0.99468085]), array([0.75]), array([0.54255319]), array([0.5212766]), array([0.0212766]), array([0.01595745]), array([0.12234043]), array([0.73404255]), array([0.97340426]), array([0.11702128]), array([0.68085106]), array([0.30851064]), array([0.42553191]), array([0.96808511]), array([0.56914894]), array([0.15425532]), array([0.03723404]), array([0.01595745]), array([0.38297872]), array([0.07978723]), array([0.]), array([0.75531915]), array([0.21276596]), array([0.75]), array([0.07978723]), array([0.40425532]), array([0.9787234]), array([0.38297872]), array([0.61170213]), array([0.81914894]), array([0.90425532]), array([0.01595745]), array([1.]), array([0.39893617]), array([0.11170213]), array([0.7606383]), array([0.4787234])]\n"
          ]
        }
      ],
      "source": [
        "# behind the scenes of Min max scaler\n",
        "\n",
        "import numpy as np\n",
        "from sklearn.preprocessing import MinMaxScaler\n",
        "\n",
        "#generating 50 random data points between 1 to 200\n",
        "np.random.seed(20)\n",
        "data = np.random.randint(1,200, 50)\n",
        "print('data\\n',data)\n",
        "\n",
        "def normalize(data):\n",
        "\n",
        "  max_val = np.max(data)\n",
        "\n",
        "  min_val = np.min(data)\n",
        "\n",
        "  return np.divide(data - min_val, max_val - min_val)\n",
        "\n",
        "X_norm = normalize(data)\n",
        "print('\\n',X_norm)\n",
        "\n",
        "print('\\n', list(MinMaxScaler().fit_transform(data.reshape(-1, 1))))"
      ]
    },
    {
      "cell_type": "code",
      "source": [],
      "metadata": {
        "id": "IuPs_GlyTZly"
      },
      "execution_count": null,
      "outputs": []
    }
  ]
}