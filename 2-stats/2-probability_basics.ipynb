{
  "nbformat": 4,
  "nbformat_minor": 0,
  "metadata": {
    "colab": {
      "provenance": [],
      "collapsed_sections": [],
      "authorship_tag": "ABX9TyM9c3mvyt5WB1kayjcxqSKb",
      "include_colab_link": true
    },
    "kernelspec": {
      "name": "python3",
      "display_name": "Python 3"
    },
    "language_info": {
      "name": "python"
    }
  },
  "cells": [
    {
      "cell_type": "markdown",
      "metadata": {
        "id": "view-in-github",
        "colab_type": "text"
      },
      "source": [
        "<a href=\"https://colab.research.google.com/github/vvtrip/ml_tryouts/blob/master/stats/2-probability_basics.ipynb\" target=\"_parent\"><img src=\"https://colab.research.google.com/assets/colab-badge.svg\" alt=\"Open In Colab\"/></a>"
      ]
    },
    {
      "cell_type": "markdown",
      "source": [
        "# Permutation & Combinations"
      ],
      "metadata": {
        "id": "yXIZ_I4DeTxD"
      }
    },
    {
      "cell_type": "code",
      "execution_count": 1,
      "metadata": {
        "colab": {
          "base_uri": "https://localhost:8080/"
        },
        "id": "JwrcWPL_8rbQ",
        "outputId": "314bbfa8-b0e5-4780-ad50-93c7e59cfea1"
      },
      "outputs": [
        {
          "output_type": "stream",
          "name": "stdout",
          "text": [
            "(36, 72)\n"
          ]
        }
      ],
      "source": [
        "import math\n",
        "\n",
        "# Given an array, calculate permutations and combinations possible from the array when 2 elemenst taken at a time without replacement.\n",
        "\n",
        "#sol - permutation = n!/(n-r)!\n",
        "#      combination = n!/(n - r)! * r!\n",
        "\n",
        "arr = ['a','b','f','g','h','j','e','r','t']\n",
        "length = len(arr)\n",
        "\n",
        "no_of_perm = int(math.factorial(length)/math.factorial(length - 2))\n",
        "no_of_comb = int(math.factorial(length)/(math.factorial(length - 2) * math.factorial(2)))\n",
        "\n",
        "print((no_of_comb,no_of_perm))"
      ]
    },
    {
      "cell_type": "code",
      "source": [
        "#if a group of 5 students were to be made from a group of 6 boys and 5 girls, in how many ways it can be done by selecting 3 boys and 2 girls?\n",
        "\n",
        "boys = int(math.factorial(6)/(math.factorial(3) * math.factorial(3)))\n",
        "girls = int(math.factorial(5)/(math.factorial(2) * math.factorial(3)))\n",
        "\n",
        "no_of_ways = boys * girls\n",
        "print(no_of_ways)"
      ],
      "metadata": {
        "colab": {
          "base_uri": "https://localhost:8080/"
        },
        "id": "tMHwK-Bp9XZT",
        "outputId": "94765a97-c1cb-4b68-959f-e61b6c897830"
      },
      "execution_count": 2,
      "outputs": [
        {
          "output_type": "stream",
          "name": "stdout",
          "text": [
            "200\n"
          ]
        }
      ]
    },
    {
      "cell_type": "markdown",
      "source": [
        "# Binomial Distribution"
      ],
      "metadata": {
        "id": "e618JKHjeFSx"
      }
    },
    {
      "cell_type": "code",
      "source": [
        "# In each of 4 different competitions, Jin has 60% chance of winning. Assuming that the competitions are independent of each other, \n",
        "# what is the probability that: Jin will win at least 1 race.\n",
        "\n",
        "#SOL -  The Probability that Jin will win atleast 1 race = 1 - Jin will win NO race\n",
        "#       In each of the 4 races Jin has 60 percent chance of winning. That means he has 40 percent chance of losing.\n",
        "#       If the probability of success on an individual trial is p, then the binomial probability of n repeated trials with x successes is nCx⋅p^x⋅(1−p)^n−x\n",
        "\n",
        "#stats.binom.pmf(r, n, p) can be used for fiding probability of a binomial distribution where 'r' is number of times expecting success, 'n' is total number of trials and\n",
        "# 'p' is probability of success in a single  experiment.\n",
        "\n",
        "from scipy import stats\n",
        "\n",
        "prob_of_wining_no_race = round(stats.binom.pmf(0,4,0.6),2)\n",
        "prob_of_wining_atleast_one_race = 1 - prob_of_wining_no_race\n",
        "print(prob_of_wining_atleast_one_race)"
      ],
      "metadata": {
        "colab": {
          "base_uri": "https://localhost:8080/"
        },
        "id": "_iSfYgHT-bbn",
        "outputId": "92422fac-291f-498e-e6dd-f162bf1a67af"
      },
      "execution_count": 3,
      "outputs": [
        {
          "output_type": "stream",
          "name": "stdout",
          "text": [
            "0.97\n"
          ]
        }
      ]
    },
    {
      "cell_type": "markdown",
      "source": [
        "# Poisson Distribution"
      ],
      "metadata": {
        "id": "MVcqKmExeN4A"
      }
    },
    {
      "cell_type": "code",
      "source": [
        "#Average number of flowers sold in a day is 10. What is the probability that on a given day 15 flowers will be sold?\n",
        "#SOL- use scipy.stats.poison.pmf(k, mu) fpr poisson distribution\n",
        "\n",
        "from scipy.stats import poisson\n",
        "\n",
        "print(poisson.pmf(15, 10))"
      ],
      "metadata": {
        "id": "b_hQ90KFDIeM",
        "colab": {
          "base_uri": "https://localhost:8080/"
        },
        "outputId": "0611deec-4a67-4d81-cca6-66ac31c9a3b5"
      },
      "execution_count": 4,
      "outputs": [
        {
          "output_type": "stream",
          "name": "stdout",
          "text": [
            "0.034718069630684245\n"
          ]
        }
      ]
    },
    {
      "cell_type": "markdown",
      "source": [
        "# Events and Probability"
      ],
      "metadata": {
        "id": "Hkwm81JJghxY"
      }
    },
    {
      "cell_type": "code",
      "source": [
        "# SIMPLE EVENT\n",
        "# Any event containing a single element of a sample space.\n",
        "\n",
        "# COMPOUND EVENT\n",
        "# Any event containing two or more elements of a sample space.\n",
        "\n",
        "# DEPENDENT EVENT\n",
        "# If the occurrence of an event is influenced by another event, it is called a 'Dependent Event'.\n",
        "\n",
        "# INDEPENDENT EVENT\n",
        "# If the occurrence of an event is not influenced by another event, it is called an 'Independent Event'.\n",
        "\n",
        "# EXHAUSTIVE EVENTS\n",
        "# A set of events devouring the entire sample space.\n",
        "\n",
        "# MUTUALLY EXCLUSIVE\n",
        "# Two events are said to be mutually exclusive events when both cannot occur at the same time.\n",
        "# i.e. P(A∩B) = 0\n",
        "\n",
        "# JOINT PROBABILITY is a measure of two events happening at the same time, \n",
        "# and can only be applied to situations where more than one observation can occur at the same time.\n",
        "# P(A∩B)"
      ],
      "metadata": {
        "id": "8YVb20uEdm_M"
      },
      "execution_count": 5,
      "outputs": []
    },
    {
      "cell_type": "markdown",
      "source": [
        "# Conditional Probability"
      ],
      "metadata": {
        "id": "uMAO71vI3J7C"
      }
    },
    {
      "cell_type": "code",
      "source": [
        "# P(A|B) = P(A∩B) / P(B). Probability of A given thast B has taken place.\n",
        "# Independent events can be identified by following 2 condtions:\n",
        "# 1) if P(A|B) = P(A)        then A is an independent event otherwise A is dependent on B\n",
        "# 2) if P(A∩B) = P(A) * P(B) then A is an independent event otherwise A is dependent on B\n",
        "\n",
        "#-----ADDITION RULE----------\n",
        "# Mutually Exclusive Events\n",
        "# If A and B are mutually exclusive events,\n",
        "# P(A∪B) = P(A) + P(B)\n",
        "\n",
        "# Non-mutually Exclusive Events\n",
        "# If A and B are non-mutually exclusive events,\n",
        "# P(A∪B) = P(A) + P(B) − P(A∩B)\n",
        "\n",
        "#-----MULTIPLICATION RULE----------\n",
        "# Independent Events\n",
        "# If A and B are two Independent Events,\n",
        "# P(A∩B) = P(A) * P(B)\n",
        "\n",
        "# Dependent Events\n",
        "# If A and B are two Dependent Events,\n",
        "# P(A∩B) = P(A) * P(B|A)"
      ],
      "metadata": {
        "id": "yyXk0qXp3AaJ"
      },
      "execution_count": 6,
      "outputs": []
    },
    {
      "cell_type": "markdown",
      "source": [
        "# Bayes Theorem"
      ],
      "metadata": {
        "id": "i913C4zWluAF"
      }
    },
    {
      "cell_type": "code",
      "source": [
        "# From the multiplication and addition probability rules, Bayes theorem can be formed.\n",
        "# From Product rule\n",
        "#  1.P(X∩Y) = P(X∣Y) * P(Y)\n",
        "#  2.P(X∩Y) = P(Y∣X) * P(X)\n",
        "# then\n",
        "\n",
        "# P(Y|X) = (​P(X∣Y)∗P(Y)) / P(X)\n",
        "# where\n",
        "# P(X) = P(X∩Y) + P(X∩Y) (Addition Rule) (intersection of x and y + intersection of x, and all except y)"
      ],
      "metadata": {
        "id": "iJBPPw02ltJz"
      },
      "execution_count": 7,
      "outputs": []
    },
    {
      "cell_type": "markdown",
      "source": [
        "# Random Variable and Probability distributions"
      ],
      "metadata": {
        "id": "vaDRnE3WNecc"
      }
    },
    {
      "cell_type": "code",
      "source": [
        "# A RANDOM VARIABLE represents the outcome of statistical experiments on NUMERICAL VALUES (only).\n",
        "# Consider the experiment of tossing a coin, where the result could either be heads or tails.\n",
        "# Assume that the values are:\n",
        "# Heads = 0\n",
        "# Tails = 1\n",
        "# X will be the random variable denoting the outcome of tossing the coin.\n",
        "# X={0,1}\n",
        "\n",
        "# TYPES-\n",
        "# DISCRETE RANDOM VARIABLE\n",
        "# A variable that can take only countable number of values.\n",
        "\n",
        "# CONTINUOUS RANDOM VARIABLE\n",
        "# Continuous Random value can take any value within an interval {0,∞}.\n",
        "# It can take infinite number of values.\n",
        "# EXAMPLE - Let X be the random variable denoting the weight of the employees.\n",
        "# X = {150,150.1,150.2,..........,250}\n",
        "# X can be any value in the interval [150,250]\n",
        "\n",
        "# PROBABILITY DISTRIBUTION\n",
        "# List of all the possible outcomes of a random variable, along with their corresponding probability values.\n",
        "# Types:\n",
        "# Probability Mass Function\n",
        "# Cumulative Distribution Function\n",
        "# Probability Distribution Function"
      ],
      "metadata": {
        "id": "vOF7T2YonWwL"
      },
      "execution_count": 8,
      "outputs": []
    },
    {
      "cell_type": "markdown",
      "source": [
        "# Probability Mass Function (PMF)"
      ],
      "metadata": {
        "id": "JOuqYDRV2mgu"
      }
    },
    {
      "cell_type": "code",
      "source": [
        "# PROBABILITY MASS FUNCTION (PMF) (only for discrete)\n",
        "# When a probability function is used to describe a DISCRETE probability distribution, it is called Probability Mass Function (PMF).\n",
        "# For PMF, the sum of probabilities of each value in Random Variable of an Event must be equal to 1.\n",
        "# ex-\n",
        "# on a flip of coin 2 times ({HH, HT, TH, TT}), the occurence of getting head is 0 time, 1 time and 2 times:\n",
        "# random variable X = {0, 1, 2}\n",
        "# 0 time - 1/4, 1 time - 2/4, 2 times - 1/ 4\n",
        "# sum(P(X=x1) + P(X=x2) + P(X=x3) .....+ P(X=xn)) = 1, for n values in random variable\n",
        "# also 0 < p(X=xi) < 1, for each i\n",
        "# and F(x) = P(X = x)"
      ],
      "metadata": {
        "id": "QMhunUZu2kNx"
      },
      "execution_count": 9,
      "outputs": []
    },
    {
      "cell_type": "markdown",
      "source": [
        "# Cumulative Distribution Function (CDF)"
      ],
      "metadata": {
        "id": "DQlkFsX12Smr"
      }
    },
    {
      "cell_type": "code",
      "source": [
        "# CUMULATIVE DISTRIBUTION FUNCTION (CDF) (less than a certain number, accumulates all the numbes before a cetain number)\n",
        "# For Discrete Random Variable\n",
        "# The Cumulative Distribution Function (CDF) of a Discrete random variable X, is the function given by\n",
        "# F(x) = P(X ≤ x)\n",
        "\n",
        "# For Continuous Random Variable\n",
        "# The CDF of a continuous random variable X can be expressed as the integral of its probability density function \n",
        "# F​_X​(x) = ∫fx(t)dt (from(​−∞) to b)\n",
        "# b is any positive integer greater than 0"
      ],
      "metadata": {
        "id": "DkMY0IFI2QFU"
      },
      "execution_count": 10,
      "outputs": []
    },
    {
      "cell_type": "markdown",
      "source": [
        "# Probability Distribution Function (PDF)"
      ],
      "metadata": {
        "id": "OucqGPDD2EsM"
      }
    },
    {
      "cell_type": "code",
      "source": [
        "# PROBABILITY DISTRIBUTION FUNCTION (PDF) (between a certain boundary (a,b))\n",
        "# When a probability function is used to describe a discrete probability distribution, it is called PMF.\n",
        "# A continuous form of PMF is PDF.\n",
        "# If X is the continuous random variable,\n",
        "# The PDF of X is denoted by:\n",
        "# P(a ≤ X ≤b) = ∫f(x)dx (from a to b)\n",
        "# where,\n",
        "# [a,b] : interval in which X lies\n",
        "# P(a ≤ X ≤b) : probability that some value x lies within this interval\n",
        "# dx​​ = b−a\n",
        "# PDF value is always positive\n",
        "# The area covered by the density curve is equal to 1.\n",
        "# ∫f(x)dx (​from −∞ to ∞) = 1"
      ],
      "metadata": {
        "id": "2W38xgXu1_4d"
      },
      "execution_count": 11,
      "outputs": []
    },
    {
      "cell_type": "markdown",
      "source": [
        "# Central Limit Theorem (CLT)"
      ],
      "metadata": {
        "id": "89F9IdTn1g-m"
      }
    },
    {
      "cell_type": "code",
      "source": [
        "# NORMAL DISTRIBUTION\n",
        "# Normal distribution, also known as the Gaussian distribution, is a probability distribution \n",
        "# that is symmetric about the mean, showing that data near the mean are more frequent in occurrence than data far from the mean.\n",
        "\n",
        "# CENTRAL LIMIT THEOREM\n",
        "# The Central Limit Theorem (CLT) states that the sampling distribution of a sample mean \n",
        "# approaches a NORMAL DISTRIBUTION, as the sample size gets larger.\n",
        "# Consider a population with\n",
        "# Mean \n",
        "# Standard Deviation \n",
        "# take sufficiently large random samples from the population with replacement, then the distribution \n",
        "# of the sample mean will be approximately normally distributed.\n",
        "# This will hold true regardless of whether the source population is normal or skewed, provided the \n",
        "# sample size is sufficiently large (usually n > 30)."
      ],
      "metadata": {
        "id": "arTwxBgFUju6"
      },
      "execution_count": 12,
      "outputs": []
    }
  ]
}