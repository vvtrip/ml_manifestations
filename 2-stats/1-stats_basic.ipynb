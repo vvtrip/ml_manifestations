{
  "nbformat": 4,
  "nbformat_minor": 0,
  "metadata": {
    "colab": {
      "provenance": [],
      "collapsed_sections": []
    },
    "kernelspec": {
      "name": "python3",
      "display_name": "Python 3"
    },
    "language_info": {
      "name": "python"
    }
  },
  "cells": [
    {
      "cell_type": "code",
      "execution_count": 3,
      "metadata": {
        "id": "04C0A-UUeqCS"
      },
      "outputs": [],
      "source": [
        "import numpy as np\n",
        "import statistics\n",
        "from scipy import stats"
      ]
    },
    {
      "cell_type": "code",
      "source": [
        "arr=[4,3,2,1,5]\n",
        "\n",
        "print(f\"mean = {np.mean(arr)}\")\n",
        "\n",
        "print(f\"median = {np.median(arr)}\")\n",
        "\n",
        "print(f\"std_deviation = {np.std(arr)}\")\n",
        "\n",
        "print(f\"variance = {np.var(arr)}\")\n",
        "\n",
        "try:\n",
        "  print(f\"mode = {statistics.mode(arr)}\")\n",
        "except:\n",
        "  print(\"Found equally common values,  no mode present\")  \n",
        "\n",
        "print(f\"iqr through scipy module = {stats.iqr(arr)}\")\n",
        "\n",
        "q3, q1 = np.percentile(arr, [75 ,25])\n",
        "print(f\"iqr through numpy module = {q3 - q1}\")\n",
        "    "
      ],
      "metadata": {
        "colab": {
          "base_uri": "https://localhost:8080/"
        },
        "id": "hWSX9qxGfrsc",
        "outputId": "9eb59d5c-7913-43df-b6b2-72b9725004e1"
      },
      "execution_count": 15,
      "outputs": [
        {
          "output_type": "stream",
          "name": "stdout",
          "text": [
            "mean = 3.0\n",
            "median = 3.0\n",
            "std_deviation = 1.4142135623730951\n",
            "variance = 2.0\n",
            "Found equally common values,  no mode present\n",
            "iqr through scipy module = 2.0\n",
            "iqr through numpy module = 2.0\n"
          ]
        }
      ]
    },
    {
      "cell_type": "code",
      "source": [],
      "metadata": {
        "id": "UCx2mH-OgWA7"
      },
      "execution_count": null,
      "outputs": []
    }
  ]
}
