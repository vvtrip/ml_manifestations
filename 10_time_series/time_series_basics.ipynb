{
  "nbformat": 4,
  "nbformat_minor": 0,
  "metadata": {
    "colab": {
      "provenance": []
    },
    "kernelspec": {
      "name": "python3",
      "display_name": "Python 3"
    },
    "language_info": {
      "name": "python"
    }
  },
  "cells": [
    {
      "cell_type": "markdown",
      "source": [
        "# Intro"
      ],
      "metadata": {
        "id": "ASdfSyMYcy4N"
      }
    },
    {
      "cell_type": "markdown",
      "source": [
        " - Univariate Data\n",
        "\n",
        "- Values are indexed by time\n",
        "\n",
        "- Observations captured in constant time intervals\n",
        "\n",
        "- To understand the properties of the complex system that sends data.\n",
        "\n",
        "- Perform Analysis to check if the past values are in any way affecting the future values.\n",
        "\n",
        "- How accurately can the future values be predicted?\n",
        "\n",
        "- To describe the basic properties of a given system.\n",
        "\n",
        "- The same data is captured over a series of time intervals and the models are also a bit unique to the data.\n",
        "\n",
        "- Ideally, when you collect observations, you capture multiple data attributes, so we apply multivariate models in those situations."
      ],
      "metadata": {
        "id": "tgGj4iXYc061"
      }
    },
    {
      "cell_type": "markdown",
      "source": [
        "# Date and Time"
      ],
      "metadata": {
        "id": "4JGXF6pgdLQG"
      }
    },
    {
      "cell_type": "markdown",
      "source": [
        "Indexing is the process of sequencing a given set of data points for easy searching and retrieval.\n",
        "\n",
        "Ideally indexing is just numbering or sequencing the data based on a numeric.\n",
        "\n",
        "For time series data, the date-time attribute is the index.\n",
        "\n",
        "Here the data points are studied at different time steps.\n",
        "\n",
        "Date as Index has several advantages. \n",
        "\n",
        "It gives you flexibility to aggregate and disintegrate your data based on any time step."
      ],
      "metadata": {
        "id": "6ZT6NhZqdNUB"
      }
    },
    {
      "cell_type": "code",
      "execution_count": 1,
      "metadata": {
        "colab": {
          "base_uri": "https://localhost:8080/"
        },
        "id": "wQqnzM_ncGqs",
        "outputId": "51b80f50-281e-4d28-ec2e-2bd345183dbb"
      },
      "outputs": [
        {
          "output_type": "stream",
          "name": "stdout",
          "text": [
            "DatetimeIndex(['2017-01-01', '2017-01-02', '2017-01-03'], dtype='datetime64[ns]', freq=None)\n"
          ]
        }
      ],
      "source": [
        "import pandas as pd\n",
        "import numpy as np \n",
        "date = [pd.Timestamp(\"2017-01-01\"),\n",
        "        pd.Timestamp(\"2017-01-02\"),\n",
        "        pd.Timestamp(\"2017-01-03\")]\n",
        "timeSeries = pd.Series(np.random.randn(len(date)), index=date)\n",
        "print(timeSeries.index)"
      ]
    },
    {
      "cell_type": "code",
      "source": [
        "timeSeries"
      ],
      "metadata": {
        "colab": {
          "base_uri": "https://localhost:8080/"
        },
        "id": "S5CmU8qUdrD5",
        "outputId": "25541413-e5fe-48a3-cf14-954be6ddcd81"
      },
      "execution_count": 2,
      "outputs": [
        {
          "output_type": "execute_result",
          "data": {
            "text/plain": [
              "2017-01-01   -0.301548\n",
              "2017-01-02    0.292935\n",
              "2017-01-03    0.243829\n",
              "dtype: float64"
            ]
          },
          "metadata": {},
          "execution_count": 2
        }
      ]
    },
    {
      "cell_type": "code",
      "source": [
        "timeSeries['2017-01-01']"
      ],
      "metadata": {
        "colab": {
          "base_uri": "https://localhost:8080/"
        },
        "id": "hvEO9ItSd6YN",
        "outputId": "c6f2b4aa-7dfb-40c4-9498-8a46b82882d3"
      },
      "execution_count": 3,
      "outputs": [
        {
          "output_type": "execute_result",
          "data": {
            "text/plain": [
              "-0.30154780413094323"
            ]
          },
          "metadata": {},
          "execution_count": 3
        }
      ]
    },
    {
      "cell_type": "code",
      "source": [
        "timeSeries['2017-01-01':'2017-01-03']"
      ],
      "metadata": {
        "colab": {
          "base_uri": "https://localhost:8080/"
        },
        "id": "8sLMBKXMd-nG",
        "outputId": "18634183-0491-4273-a326-d7061d71a17f"
      },
      "execution_count": 4,
      "outputs": [
        {
          "output_type": "execute_result",
          "data": {
            "text/plain": [
              "2017-01-01   -0.301548\n",
              "2017-01-02    0.292935\n",
              "2017-01-03    0.243829\n",
              "dtype: float64"
            ]
          },
          "metadata": {},
          "execution_count": 4
        }
      ]
    },
    {
      "cell_type": "markdown",
      "source": [
        "In time series, sometimes the date values are not provided explicitly. So how will you generate the date time values and index in that scenario?\n",
        "\n",
        "date_range() Function in Python helps in creating a set of sequential date time values in a given range.\n",
        "\n",
        "There are many ways to create a sequence of dates based on the parameters passed to the function.\n",
        "\n",
        "The date_range() function in Python has multiple features and parameters. You have the flexibility to generate date values in many ways.\n",
        "\n",
        "Say you know the start date and the end date, and you would want to generate a set of dates in that range. Can be done follwing way:"
      ],
      "metadata": {
        "id": "ylZwmu07eGqY"
      }
    },
    {
      "cell_type": "code",
      "source": [
        "pd.date_range(start='2017-01-01',end='2017-01-19',freq='B')"
      ],
      "metadata": {
        "colab": {
          "base_uri": "https://localhost:8080/"
        },
        "id": "b2A2d7CzeBhG",
        "outputId": "718d2fa7-4237-429a-ed94-2a6266d2325e"
      },
      "execution_count": 5,
      "outputs": [
        {
          "output_type": "execute_result",
          "data": {
            "text/plain": [
              "DatetimeIndex(['2017-01-02', '2017-01-03', '2017-01-04', '2017-01-05',\n",
              "               '2017-01-06', '2017-01-09', '2017-01-10', '2017-01-11',\n",
              "               '2017-01-12', '2017-01-13', '2017-01-16', '2017-01-17',\n",
              "               '2017-01-18', '2017-01-19'],\n",
              "              dtype='datetime64[ns]', freq='B')"
            ]
          },
          "metadata": {},
          "execution_count": 5
        }
      ]
    },
    {
      "cell_type": "markdown",
      "source": [
        "Here the Start Date was Jan 1 , 2017 and the end date is Jan 19 , 2017. The freq = 'B' signifies business day. Hence you will not find any date that is a saturday or sunday.\n",
        "\n",
        "freq='H' is for hourly generation\n",
        "freq='T' is for minute generation\n",
        "freq='S' is for seconds generation\n",
        "\n",
        "reer more at https://pandas.pydata.org/pandas-docs/stable/user_guide/timeseries.html"
      ],
      "metadata": {
        "id": "v7ULvaj2ednc"
      }
    },
    {
      "cell_type": "code",
      "source": [
        "# want to generate date-time values that are 1 day, 1 hour, 1 minute and 10 seconds apart.\n",
        "\n",
        "pd.date_range(start=\"2017-01-01\", periods=5, freq='1D1h1min10s')"
      ],
      "metadata": {
        "colab": {
          "base_uri": "https://localhost:8080/"
        },
        "id": "q6FPgNHzeX_e",
        "outputId": "ed66874b-8a80-45b9-d417-a2213d2d7bd3"
      },
      "execution_count": 6,
      "outputs": [
        {
          "output_type": "execute_result",
          "data": {
            "text/plain": [
              "DatetimeIndex(['2017-01-01 00:00:00', '2017-01-02 01:01:10',\n",
              "               '2017-01-03 02:02:20', '2017-01-04 03:03:30',\n",
              "               '2017-01-05 04:04:40'],\n",
              "              dtype='datetime64[ns]', freq='90070S')"
            ]
          },
          "metadata": {},
          "execution_count": 6
        }
      ]
    },
    {
      "cell_type": "code",
      "source": [
        "# you want to generate date time stamp every Friday for five instances from a given start date.\n",
        "pd.date_range(start=\"2017-01-01\", periods=5, freq='W-FRI')"
      ],
      "metadata": {
        "colab": {
          "base_uri": "https://localhost:8080/"
        },
        "id": "75mUTBOHfGRA",
        "outputId": "eb37769f-96a8-418c-ced4-a402180b42a0"
      },
      "execution_count": 7,
      "outputs": [
        {
          "output_type": "execute_result",
          "data": {
            "text/plain": [
              "DatetimeIndex(['2017-01-06', '2017-01-13', '2017-01-20', '2017-01-27',\n",
              "               '2017-02-03'],\n",
              "              dtype='datetime64[ns]', freq='W-FRI')"
            ]
          },
          "metadata": {},
          "execution_count": 7
        }
      ]
    },
    {
      "cell_type": "code",
      "source": [
        "#  generated separate indices with different dates and would want to combine them\n",
        "\n",
        "a = pd.date_range(start=\"2017-01-01\", periods=10, freq='BAS-JAN')\n",
        "b = pd.date_range(start=\"2017-01-01\", periods=10, freq='A-FEB')\n",
        "a.union(b)"
      ],
      "metadata": {
        "colab": {
          "base_uri": "https://localhost:8080/"
        },
        "id": "SUIQ-lNlfNRm",
        "outputId": "95897e80-8096-4912-8b81-bc3831a27df2"
      },
      "execution_count": 8,
      "outputs": [
        {
          "output_type": "execute_result",
          "data": {
            "text/plain": [
              "DatetimeIndex(['2017-01-02', '2017-02-28', '2018-01-01', '2018-02-28',\n",
              "               '2019-01-01', '2019-02-28', '2020-01-01', '2020-02-29',\n",
              "               '2021-01-01', '2021-02-28', '2022-01-03', '2022-02-28',\n",
              "               '2023-01-02', '2023-02-28', '2024-01-01', '2024-02-29',\n",
              "               '2025-01-01', '2025-02-28', '2026-01-01', '2026-02-28'],\n",
              "              dtype='datetime64[ns]', freq=None)"
            ]
          },
          "metadata": {},
          "execution_count": 8
        }
      ]
    },
    {
      "cell_type": "markdown",
      "source": [
        "# Resampling"
      ],
      "metadata": {
        "id": "WmNqFRmDfZ8J"
      }
    },
    {
      "cell_type": "markdown",
      "source": [
        "You have your time series data captured in a specific time interval (frequency). This could be Hourly, Daily, and Weekly but you are interested in aggregating this date at a different frequency, i.e., Monthly, Yearly, etc. How do you think you can achieve that?\n",
        "\n",
        " Resampling will help you.\n",
        "\n",
        "   - Resampling is the process of converting your time series data from a given frequency to the desired frequency.\n",
        "\n",
        "    -   Upsampling is converting the data from a low frequency to a high frequency.\n",
        "\n",
        "    - Downsampling is converting the data from a high frequency to a low frequency.\n",
        "\n",
        "\n",
        "The collected Time Series Data might not always be at uniform intervals. To study them, they have to be confined to regular time intervals.\n",
        "\n",
        "Resampling helps in these situations."
      ],
      "metadata": {
        "id": "uZyDdS5hfckk"
      }
    },
    {
      "cell_type": "markdown",
      "source": [
        "**DOWNSAMPLING**"
      ],
      "metadata": {
        "id": "XEml7k04gmL2"
      }
    },
    {
      "cell_type": "code",
      "source": [
        "import numpy as np\n",
        "import pandas as pd\n",
        "customerArrival = pd.date_range('18/09/2017 8:00', periods=600, freq='T')\n",
        "custArrivalTs = pd.Series(np.random.randint(0, 100, len(customerArrival)), index=customerArrival)\n",
        "custArrivalTs.head(10)"
      ],
      "metadata": {
        "colab": {
          "base_uri": "https://localhost:8080/"
        },
        "id": "_xEEFFmPfUbO",
        "outputId": "8323098e-12ea-4a3e-90bb-0793ac5b3479"
      },
      "execution_count": 9,
      "outputs": [
        {
          "output_type": "execute_result",
          "data": {
            "text/plain": [
              "2017-09-18 08:00:00    96\n",
              "2017-09-18 08:01:00    59\n",
              "2017-09-18 08:02:00    14\n",
              "2017-09-18 08:03:00    26\n",
              "2017-09-18 08:04:00    90\n",
              "2017-09-18 08:05:00    99\n",
              "2017-09-18 08:06:00    60\n",
              "2017-09-18 08:07:00    92\n",
              "2017-09-18 08:08:00    82\n",
              "2017-09-18 08:09:00    93\n",
              "Freq: T, dtype: int64"
            ]
          },
          "metadata": {},
          "execution_count": 9
        }
      ]
    },
    {
      "cell_type": "markdown",
      "source": [
        "You are not interested in customer incidence every minute but you would want to get the mean customer incidence every 10 mins.\n",
        "\n",
        "You will resample (downsample) your time series in the following way."
      ],
      "metadata": {
        "id": "GPySptvlgHIt"
      }
    },
    {
      "cell_type": "code",
      "source": [
        "custArrivalTs.resample('10min').mean().head()"
      ],
      "metadata": {
        "colab": {
          "base_uri": "https://localhost:8080/"
        },
        "id": "yaX6vAdpft1u",
        "outputId": "6fcfa48c-0db8-451b-b1ad-21f8a5f10ab6"
      },
      "execution_count": 10,
      "outputs": [
        {
          "output_type": "execute_result",
          "data": {
            "text/plain": [
              "2017-09-18 08:00:00    71.1\n",
              "2017-09-18 08:10:00    50.2\n",
              "2017-09-18 08:20:00    35.1\n",
              "2017-09-18 08:30:00    63.1\n",
              "2017-09-18 08:40:00    36.7\n",
              "Freq: 10T, dtype: float64"
            ]
          },
          "metadata": {},
          "execution_count": 10
        }
      ]
    },
    {
      "cell_type": "code",
      "source": [
        "# If you do not want the aggregation using the mean, you can specify your custom function.\n",
        "\n",
        "custArrivalTs.resample('10min').sum().head()"
      ],
      "metadata": {
        "colab": {
          "base_uri": "https://localhost:8080/"
        },
        "id": "W0b6bbCHgKR3",
        "outputId": "a5dcc93b-1beb-41e2-f4ed-48cafa702e17"
      },
      "execution_count": 11,
      "outputs": [
        {
          "output_type": "execute_result",
          "data": {
            "text/plain": [
              "2017-09-18 08:00:00    711\n",
              "2017-09-18 08:10:00    502\n",
              "2017-09-18 08:20:00    351\n",
              "2017-09-18 08:30:00    631\n",
              "2017-09-18 08:40:00    367\n",
              "Freq: 10T, dtype: int64"
            ]
          },
          "metadata": {},
          "execution_count": 11
        }
      ]
    },
    {
      "cell_type": "code",
      "source": [
        "custArrivalTs.resample('1h').max().head()"
      ],
      "metadata": {
        "colab": {
          "base_uri": "https://localhost:8080/"
        },
        "id": "UOQZNLtegPI3",
        "outputId": "9610fff7-1a0a-4c94-a72f-e01175fcbe58"
      },
      "execution_count": 12,
      "outputs": [
        {
          "output_type": "execute_result",
          "data": {
            "text/plain": [
              "2017-09-18 08:00:00    99\n",
              "2017-09-18 09:00:00    91\n",
              "2017-09-18 10:00:00    99\n",
              "2017-09-18 11:00:00    98\n",
              "2017-09-18 12:00:00    99\n",
              "Freq: H, dtype: int64"
            ]
          },
          "metadata": {},
          "execution_count": 12
        }
      ]
    },
    {
      "cell_type": "code",
      "source": [
        "# When you perform down sampling and you want to write your own custom function, you can accomplish that in the following manner.\n",
        "\n",
        "import random\n",
        "custArrivalTs.resample('1h').apply(lambda m: random.choice(m)).head()"
      ],
      "metadata": {
        "colab": {
          "base_uri": "https://localhost:8080/"
        },
        "id": "wG0_VhKagVDm",
        "outputId": "5f0de1a2-6a55-4a16-fff2-855cfaf99326"
      },
      "execution_count": 13,
      "outputs": [
        {
          "output_type": "execute_result",
          "data": {
            "text/plain": [
              "2017-09-18 08:00:00    95\n",
              "2017-09-18 09:00:00    45\n",
              "2017-09-18 10:00:00    67\n",
              "2017-09-18 11:00:00    26\n",
              "2017-09-18 12:00:00    29\n",
              "Freq: H, dtype: int64"
            ]
          },
          "metadata": {},
          "execution_count": 13
        }
      ]
    },
    {
      "cell_type": "code",
      "source": [
        "# Let's say you are analyzing customer incidence data. You would wish to see the \n",
        "# opening, closing, high and low incidence values in a given interval of time.\n",
        "\n",
        "custArrivalTs.resample('1h').apply('ohlc').head()"
      ],
      "metadata": {
        "colab": {
          "base_uri": "https://localhost:8080/",
          "height": 206
        },
        "id": "xA_Pb5a-gab-",
        "outputId": "46495364-400f-4d2c-bfba-a5f61993791b"
      },
      "execution_count": 14,
      "outputs": [
        {
          "output_type": "execute_result",
          "data": {
            "text/plain": [
              "                     open  high  low  close\n",
              "2017-09-18 08:00:00    96    99    1     25\n",
              "2017-09-18 09:00:00    15    91    0      2\n",
              "2017-09-18 10:00:00    92    99    0     76\n",
              "2017-09-18 11:00:00    11    98    2     28\n",
              "2017-09-18 12:00:00    26    99    3     99"
            ],
            "text/html": [
              "\n",
              "  <div id=\"df-cb73d4bd-e0e9-44b3-97fa-84add2f1e6e8\">\n",
              "    <div class=\"colab-df-container\">\n",
              "      <div>\n",
              "<style scoped>\n",
              "    .dataframe tbody tr th:only-of-type {\n",
              "        vertical-align: middle;\n",
              "    }\n",
              "\n",
              "    .dataframe tbody tr th {\n",
              "        vertical-align: top;\n",
              "    }\n",
              "\n",
              "    .dataframe thead th {\n",
              "        text-align: right;\n",
              "    }\n",
              "</style>\n",
              "<table border=\"1\" class=\"dataframe\">\n",
              "  <thead>\n",
              "    <tr style=\"text-align: right;\">\n",
              "      <th></th>\n",
              "      <th>open</th>\n",
              "      <th>high</th>\n",
              "      <th>low</th>\n",
              "      <th>close</th>\n",
              "    </tr>\n",
              "  </thead>\n",
              "  <tbody>\n",
              "    <tr>\n",
              "      <th>2017-09-18 08:00:00</th>\n",
              "      <td>96</td>\n",
              "      <td>99</td>\n",
              "      <td>1</td>\n",
              "      <td>25</td>\n",
              "    </tr>\n",
              "    <tr>\n",
              "      <th>2017-09-18 09:00:00</th>\n",
              "      <td>15</td>\n",
              "      <td>91</td>\n",
              "      <td>0</td>\n",
              "      <td>2</td>\n",
              "    </tr>\n",
              "    <tr>\n",
              "      <th>2017-09-18 10:00:00</th>\n",
              "      <td>92</td>\n",
              "      <td>99</td>\n",
              "      <td>0</td>\n",
              "      <td>76</td>\n",
              "    </tr>\n",
              "    <tr>\n",
              "      <th>2017-09-18 11:00:00</th>\n",
              "      <td>11</td>\n",
              "      <td>98</td>\n",
              "      <td>2</td>\n",
              "      <td>28</td>\n",
              "    </tr>\n",
              "    <tr>\n",
              "      <th>2017-09-18 12:00:00</th>\n",
              "      <td>26</td>\n",
              "      <td>99</td>\n",
              "      <td>3</td>\n",
              "      <td>99</td>\n",
              "    </tr>\n",
              "  </tbody>\n",
              "</table>\n",
              "</div>\n",
              "      <button class=\"colab-df-convert\" onclick=\"convertToInteractive('df-cb73d4bd-e0e9-44b3-97fa-84add2f1e6e8')\"\n",
              "              title=\"Convert this dataframe to an interactive table.\"\n",
              "              style=\"display:none;\">\n",
              "        \n",
              "  <svg xmlns=\"http://www.w3.org/2000/svg\" height=\"24px\"viewBox=\"0 0 24 24\"\n",
              "       width=\"24px\">\n",
              "    <path d=\"M0 0h24v24H0V0z\" fill=\"none\"/>\n",
              "    <path d=\"M18.56 5.44l.94 2.06.94-2.06 2.06-.94-2.06-.94-.94-2.06-.94 2.06-2.06.94zm-11 1L8.5 8.5l.94-2.06 2.06-.94-2.06-.94L8.5 2.5l-.94 2.06-2.06.94zm10 10l.94 2.06.94-2.06 2.06-.94-2.06-.94-.94-2.06-.94 2.06-2.06.94z\"/><path d=\"M17.41 7.96l-1.37-1.37c-.4-.4-.92-.59-1.43-.59-.52 0-1.04.2-1.43.59L10.3 9.45l-7.72 7.72c-.78.78-.78 2.05 0 2.83L4 21.41c.39.39.9.59 1.41.59.51 0 1.02-.2 1.41-.59l7.78-7.78 2.81-2.81c.8-.78.8-2.07 0-2.86zM5.41 20L4 18.59l7.72-7.72 1.47 1.35L5.41 20z\"/>\n",
              "  </svg>\n",
              "      </button>\n",
              "      \n",
              "  <style>\n",
              "    .colab-df-container {\n",
              "      display:flex;\n",
              "      flex-wrap:wrap;\n",
              "      gap: 12px;\n",
              "    }\n",
              "\n",
              "    .colab-df-convert {\n",
              "      background-color: #E8F0FE;\n",
              "      border: none;\n",
              "      border-radius: 50%;\n",
              "      cursor: pointer;\n",
              "      display: none;\n",
              "      fill: #1967D2;\n",
              "      height: 32px;\n",
              "      padding: 0 0 0 0;\n",
              "      width: 32px;\n",
              "    }\n",
              "\n",
              "    .colab-df-convert:hover {\n",
              "      background-color: #E2EBFA;\n",
              "      box-shadow: 0px 1px 2px rgba(60, 64, 67, 0.3), 0px 1px 3px 1px rgba(60, 64, 67, 0.15);\n",
              "      fill: #174EA6;\n",
              "    }\n",
              "\n",
              "    [theme=dark] .colab-df-convert {\n",
              "      background-color: #3B4455;\n",
              "      fill: #D2E3FC;\n",
              "    }\n",
              "\n",
              "    [theme=dark] .colab-df-convert:hover {\n",
              "      background-color: #434B5C;\n",
              "      box-shadow: 0px 1px 3px 1px rgba(0, 0, 0, 0.15);\n",
              "      filter: drop-shadow(0px 1px 2px rgba(0, 0, 0, 0.3));\n",
              "      fill: #FFFFFF;\n",
              "    }\n",
              "  </style>\n",
              "\n",
              "      <script>\n",
              "        const buttonEl =\n",
              "          document.querySelector('#df-cb73d4bd-e0e9-44b3-97fa-84add2f1e6e8 button.colab-df-convert');\n",
              "        buttonEl.style.display =\n",
              "          google.colab.kernel.accessAllowed ? 'block' : 'none';\n",
              "\n",
              "        async function convertToInteractive(key) {\n",
              "          const element = document.querySelector('#df-cb73d4bd-e0e9-44b3-97fa-84add2f1e6e8');\n",
              "          const dataTable =\n",
              "            await google.colab.kernel.invokeFunction('convertToInteractive',\n",
              "                                                     [key], {});\n",
              "          if (!dataTable) return;\n",
              "\n",
              "          const docLinkHtml = 'Like what you see? Visit the ' +\n",
              "            '<a target=\"_blank\" href=https://colab.research.google.com/notebooks/data_table.ipynb>data table notebook</a>'\n",
              "            + ' to learn more about interactive tables.';\n",
              "          element.innerHTML = '';\n",
              "          dataTable['output_type'] = 'display_data';\n",
              "          await google.colab.output.renderOutput(dataTable, element);\n",
              "          const docLink = document.createElement('div');\n",
              "          docLink.innerHTML = docLinkHtml;\n",
              "          element.appendChild(docLink);\n",
              "        }\n",
              "      </script>\n",
              "    </div>\n",
              "  </div>\n",
              "  "
            ]
          },
          "metadata": {},
          "execution_count": 14
        }
      ]
    },
    {
      "cell_type": "markdown",
      "source": [
        "**UPSAMPLING**"
      ],
      "metadata": {
        "id": "cYDqVb0xgtya"
      }
    },
    {
      "cell_type": "markdown",
      "source": [
        "In upsampling, the frequency of the data points is more than that of the original data captured."
      ],
      "metadata": {
        "id": "jxqFDhfKgyc0"
      }
    },
    {
      "cell_type": "code",
      "source": [
        "sampleRng = pd.date_range('9/18/2017 8:00', periods=10, freq='H')\n",
        "sampleTs = pd.Series(np.random.randint(0, 100, len(sampleRng)), index=sampleRng)\n",
        "smpl1 = sampleTs.copy()\n",
        "smpl2 = sampleTs.copy()\n",
        "sampleTs"
      ],
      "metadata": {
        "colab": {
          "base_uri": "https://localhost:8080/"
        },
        "id": "938y1Oh_ggwf",
        "outputId": "eb492077-32ad-409a-b4c0-8d95daccf940"
      },
      "execution_count": 15,
      "outputs": [
        {
          "output_type": "execute_result",
          "data": {
            "text/plain": [
              "2017-09-18 08:00:00    87\n",
              "2017-09-18 09:00:00    97\n",
              "2017-09-18 10:00:00    32\n",
              "2017-09-18 11:00:00     6\n",
              "2017-09-18 12:00:00     4\n",
              "2017-09-18 13:00:00    40\n",
              "2017-09-18 14:00:00    83\n",
              "2017-09-18 15:00:00    88\n",
              "2017-09-18 16:00:00     0\n",
              "2017-09-18 17:00:00    66\n",
              "Freq: H, dtype: int64"
            ]
          },
          "metadata": {},
          "execution_count": 15
        }
      ]
    },
    {
      "cell_type": "code",
      "source": [
        "#  upsampled at 15 mins\n",
        "\n",
        "sampleTs.resample('15min').mean().head(10)"
      ],
      "metadata": {
        "colab": {
          "base_uri": "https://localhost:8080/"
        },
        "id": "IznBi-5og1S_",
        "outputId": "c96f92d4-5f87-49d0-868e-4ac74c86c930"
      },
      "execution_count": 16,
      "outputs": [
        {
          "output_type": "execute_result",
          "data": {
            "text/plain": [
              "2017-09-18 08:00:00    87.0\n",
              "2017-09-18 08:15:00     NaN\n",
              "2017-09-18 08:30:00     NaN\n",
              "2017-09-18 08:45:00     NaN\n",
              "2017-09-18 09:00:00    97.0\n",
              "2017-09-18 09:15:00     NaN\n",
              "2017-09-18 09:30:00     NaN\n",
              "2017-09-18 09:45:00     NaN\n",
              "2017-09-18 10:00:00    32.0\n",
              "2017-09-18 10:15:00     NaN\n",
              "Freq: 15T, dtype: float64"
            ]
          },
          "metadata": {},
          "execution_count": 16
        }
      ]
    },
    {
      "cell_type": "code",
      "source": [
        "# The Forward and Backward filling can be used to fill missing values.\n",
        "\n",
        "# In forward filling, you have to fill the missing values based on the forward values. (ffill)\n",
        "# In backward filling, the missing values are filled from backwards. (bfill)\n",
        "sampleTs = sampleTs.resample('15min')\n",
        "sampleTs.ffill().head()"
      ],
      "metadata": {
        "colab": {
          "base_uri": "https://localhost:8080/"
        },
        "id": "jmXd6F43g7fn",
        "outputId": "9ced4a76-e253-4bd3-e70f-eacfa66ea6e7"
      },
      "execution_count": 17,
      "outputs": [
        {
          "output_type": "execute_result",
          "data": {
            "text/plain": [
              "2017-09-18 08:00:00    87\n",
              "2017-09-18 08:15:00    87\n",
              "2017-09-18 08:30:00    87\n",
              "2017-09-18 08:45:00    87\n",
              "2017-09-18 09:00:00    97\n",
              "Freq: 15T, dtype: int64"
            ]
          },
          "metadata": {},
          "execution_count": 17
        }
      ]
    },
    {
      "cell_type": "code",
      "source": [
        "# When you fill the missing values, you can also limit the number of fills.\n",
        "# smpl1.resample('15min', fill_method='ffill', limit=2).head()"
      ],
      "metadata": {
        "id": "6xk6-imjhESP"
      },
      "execution_count": 18,
      "outputs": []
    },
    {
      "cell_type": "markdown",
      "source": [
        "**Interpolation**\n",
        "\n",
        "\n",
        "Forward or Backward filling is a work around to fill the missing values.\n",
        "\n",
        "It might not be accurate.\n",
        "\n",
        "Some algorithms can fill the missing values based on the data patterns.\n",
        "\n",
        "This approach works better to get more accurate insights from Time Series Data.\n",
        "\n",
        "This method is called interpolation."
      ],
      "metadata": {
        "id": "mzHcd7-Zhq4Q"
      }
    },
    {
      "cell_type": "code",
      "source": [
        "interEx = smpl2.resample('15min')\n",
        "list(interEx)"
      ],
      "metadata": {
        "colab": {
          "base_uri": "https://localhost:8080/"
        },
        "id": "HhkNIx6NhiVP",
        "outputId": "5cab47f6-1a81-4f28-aaf3-3f07f0c4c9ff"
      },
      "execution_count": 24,
      "outputs": [
        {
          "output_type": "execute_result",
          "data": {
            "text/plain": [
              "[(Timestamp('2017-09-18 08:00:00', freq='15T'), 2017-09-18 08:00:00    87\n",
              "  Freq: H, dtype: int64),\n",
              " (Timestamp('2017-09-18 08:15:00', freq='15T'),\n",
              "  Series([], Freq: H, dtype: int64)),\n",
              " (Timestamp('2017-09-18 08:30:00', freq='15T'),\n",
              "  Series([], Freq: H, dtype: int64)),\n",
              " (Timestamp('2017-09-18 08:45:00', freq='15T'),\n",
              "  Series([], Freq: H, dtype: int64)),\n",
              " (Timestamp('2017-09-18 09:00:00', freq='15T'), 2017-09-18 09:00:00    97\n",
              "  Freq: H, dtype: int64),\n",
              " (Timestamp('2017-09-18 09:15:00', freq='15T'),\n",
              "  Series([], Freq: H, dtype: int64)),\n",
              " (Timestamp('2017-09-18 09:30:00', freq='15T'),\n",
              "  Series([], Freq: H, dtype: int64)),\n",
              " (Timestamp('2017-09-18 09:45:00', freq='15T'),\n",
              "  Series([], Freq: H, dtype: int64)),\n",
              " (Timestamp('2017-09-18 10:00:00', freq='15T'), 2017-09-18 10:00:00    32\n",
              "  Freq: H, dtype: int64),\n",
              " (Timestamp('2017-09-18 10:15:00', freq='15T'),\n",
              "  Series([], Freq: H, dtype: int64)),\n",
              " (Timestamp('2017-09-18 10:30:00', freq='15T'),\n",
              "  Series([], Freq: H, dtype: int64)),\n",
              " (Timestamp('2017-09-18 10:45:00', freq='15T'),\n",
              "  Series([], Freq: H, dtype: int64)),\n",
              " (Timestamp('2017-09-18 11:00:00', freq='15T'), 2017-09-18 11:00:00    6\n",
              "  Freq: H, dtype: int64),\n",
              " (Timestamp('2017-09-18 11:15:00', freq='15T'),\n",
              "  Series([], Freq: H, dtype: int64)),\n",
              " (Timestamp('2017-09-18 11:30:00', freq='15T'),\n",
              "  Series([], Freq: H, dtype: int64)),\n",
              " (Timestamp('2017-09-18 11:45:00', freq='15T'),\n",
              "  Series([], Freq: H, dtype: int64)),\n",
              " (Timestamp('2017-09-18 12:00:00', freq='15T'), 2017-09-18 12:00:00    4\n",
              "  Freq: H, dtype: int64),\n",
              " (Timestamp('2017-09-18 12:15:00', freq='15T'),\n",
              "  Series([], Freq: H, dtype: int64)),\n",
              " (Timestamp('2017-09-18 12:30:00', freq='15T'),\n",
              "  Series([], Freq: H, dtype: int64)),\n",
              " (Timestamp('2017-09-18 12:45:00', freq='15T'),\n",
              "  Series([], Freq: H, dtype: int64)),\n",
              " (Timestamp('2017-09-18 13:00:00', freq='15T'), 2017-09-18 13:00:00    40\n",
              "  Freq: H, dtype: int64),\n",
              " (Timestamp('2017-09-18 13:15:00', freq='15T'),\n",
              "  Series([], Freq: H, dtype: int64)),\n",
              " (Timestamp('2017-09-18 13:30:00', freq='15T'),\n",
              "  Series([], Freq: H, dtype: int64)),\n",
              " (Timestamp('2017-09-18 13:45:00', freq='15T'),\n",
              "  Series([], Freq: H, dtype: int64)),\n",
              " (Timestamp('2017-09-18 14:00:00', freq='15T'), 2017-09-18 14:00:00    83\n",
              "  Freq: H, dtype: int64),\n",
              " (Timestamp('2017-09-18 14:15:00', freq='15T'),\n",
              "  Series([], Freq: H, dtype: int64)),\n",
              " (Timestamp('2017-09-18 14:30:00', freq='15T'),\n",
              "  Series([], Freq: H, dtype: int64)),\n",
              " (Timestamp('2017-09-18 14:45:00', freq='15T'),\n",
              "  Series([], Freq: H, dtype: int64)),\n",
              " (Timestamp('2017-09-18 15:00:00', freq='15T'), 2017-09-18 15:00:00    88\n",
              "  Freq: H, dtype: int64),\n",
              " (Timestamp('2017-09-18 15:15:00', freq='15T'),\n",
              "  Series([], Freq: H, dtype: int64)),\n",
              " (Timestamp('2017-09-18 15:30:00', freq='15T'),\n",
              "  Series([], Freq: H, dtype: int64)),\n",
              " (Timestamp('2017-09-18 15:45:00', freq='15T'),\n",
              "  Series([], Freq: H, dtype: int64)),\n",
              " (Timestamp('2017-09-18 16:00:00', freq='15T'), 2017-09-18 16:00:00    0\n",
              "  Freq: H, dtype: int64),\n",
              " (Timestamp('2017-09-18 16:15:00', freq='15T'),\n",
              "  Series([], Freq: H, dtype: int64)),\n",
              " (Timestamp('2017-09-18 16:30:00', freq='15T'),\n",
              "  Series([], Freq: H, dtype: int64)),\n",
              " (Timestamp('2017-09-18 16:45:00', freq='15T'),\n",
              "  Series([], Freq: H, dtype: int64)),\n",
              " (Timestamp('2017-09-18 17:00:00', freq='15T'), 2017-09-18 17:00:00    66\n",
              "  Freq: H, dtype: int64)]"
            ]
          },
          "metadata": {},
          "execution_count": 24
        }
      ]
    },
    {
      "cell_type": "code",
      "source": [
        "interEx.interpolate()"
      ],
      "metadata": {
        "colab": {
          "base_uri": "https://localhost:8080/"
        },
        "id": "A3eiWxeIhwUv",
        "outputId": "ca1a9c59-0f76-4981-9293-aff10d281279"
      },
      "execution_count": 25,
      "outputs": [
        {
          "output_type": "execute_result",
          "data": {
            "text/plain": [
              "2017-09-18 08:00:00    87.00\n",
              "2017-09-18 08:15:00    89.50\n",
              "2017-09-18 08:30:00    92.00\n",
              "2017-09-18 08:45:00    94.50\n",
              "2017-09-18 09:00:00    97.00\n",
              "2017-09-18 09:15:00    80.75\n",
              "2017-09-18 09:30:00    64.50\n",
              "2017-09-18 09:45:00    48.25\n",
              "2017-09-18 10:00:00    32.00\n",
              "2017-09-18 10:15:00    25.50\n",
              "2017-09-18 10:30:00    19.00\n",
              "2017-09-18 10:45:00    12.50\n",
              "2017-09-18 11:00:00     6.00\n",
              "2017-09-18 11:15:00     5.50\n",
              "2017-09-18 11:30:00     5.00\n",
              "2017-09-18 11:45:00     4.50\n",
              "2017-09-18 12:00:00     4.00\n",
              "2017-09-18 12:15:00    13.00\n",
              "2017-09-18 12:30:00    22.00\n",
              "2017-09-18 12:45:00    31.00\n",
              "2017-09-18 13:00:00    40.00\n",
              "2017-09-18 13:15:00    50.75\n",
              "2017-09-18 13:30:00    61.50\n",
              "2017-09-18 13:45:00    72.25\n",
              "2017-09-18 14:00:00    83.00\n",
              "2017-09-18 14:15:00    84.25\n",
              "2017-09-18 14:30:00    85.50\n",
              "2017-09-18 14:45:00    86.75\n",
              "2017-09-18 15:00:00    88.00\n",
              "2017-09-18 15:15:00    66.00\n",
              "2017-09-18 15:30:00    44.00\n",
              "2017-09-18 15:45:00    22.00\n",
              "2017-09-18 16:00:00     0.00\n",
              "2017-09-18 16:15:00    16.50\n",
              "2017-09-18 16:30:00    33.00\n",
              "2017-09-18 16:45:00    49.50\n",
              "2017-09-18 17:00:00    66.00\n",
              "Freq: 15T, dtype: float64"
            ]
          },
          "metadata": {},
          "execution_count": 25
        }
      ]
    },
    {
      "cell_type": "markdown",
      "source": [
        "# TimeZones"
      ],
      "metadata": {
        "id": "CF3g3X81DWny"
      }
    },
    {
      "cell_type": "markdown",
      "source": [
        " - Working with timezones is an essential aspect of Time Series Analysis.\n",
        "\n",
        " - Data can be captured across time zones.\n",
        "\n",
        " - Bringing them to a standard time zone is necessary.\n",
        "\n",
        " There are many time zones in this world.\n",
        "\n",
        "One of the most used standard time zone is (coordinated universal time) UTC.\n",
        "\n",
        "All other time zones are expressed as offset of UTC. For example: US Eastern Time Zone is 4 hours behind UTC during Daylight saving and 5 hours behind rest of the year."
      ],
      "metadata": {
        "id": "tBSkTlv2DY_h"
      }
    },
    {
      "cell_type": "code",
      "source": [
        "import pytz \n",
        "tz = pytz.common_timezones[-5:]\n",
        "tz"
      ],
      "metadata": {
        "colab": {
          "base_uri": "https://localhost:8080/"
        },
        "id": "QXrjyLABicNX",
        "outputId": "cd1bb026-1bd0-40ba-e5f7-b0ee757e2d13"
      },
      "execution_count": 2,
      "outputs": [
        {
          "output_type": "execute_result",
          "data": {
            "text/plain": [
              "['US/Eastern', 'US/Hawaii', 'US/Mountain', 'US/Pacific', 'UTC']"
            ]
          },
          "metadata": {},
          "execution_count": 2
        }
      ]
    },
    {
      "cell_type": "code",
      "source": [
        "usEastTz = pytz.timezone('US/Eastern')\n",
        "usEastTz"
      ],
      "metadata": {
        "colab": {
          "base_uri": "https://localhost:8080/"
        },
        "id": "O0FvDIEIDm_p",
        "outputId": "c0f661be-0cb9-49c3-ffaa-32e8fe60ab88"
      },
      "execution_count": 3,
      "outputs": [
        {
          "output_type": "execute_result",
          "data": {
            "text/plain": [
              "<DstTzInfo 'US/Eastern' LMT-1 day, 19:04:00 STD>"
            ]
          },
          "metadata": {},
          "execution_count": 3
        }
      ]
    },
    {
      "cell_type": "code",
      "source": [
        "# Localization is the first step towards standardizing the time zone. Any specific time stamp is first localized to a given time zone.\n",
        "import pandas as pd\n",
        "import numpy as np \n",
        "import random \n",
        "timeZoneRng = pd.date_range('9/18/2017 9:30', periods=6, freq='D',tz='UTC')\n",
        "timeZoneTs = pd.Series(np.random.randn(len(timeZoneRng)), index=timeZoneRng)\n",
        "timeZoneTs.index.tz\n",
        "\n",
        "# In the example above, the given timezone is localized to UTC using the tz= parameter.\n",
        "# You can also localize using the tz_localize() function.\n"
      ],
      "metadata": {
        "colab": {
          "base_uri": "https://localhost:8080/"
        },
        "id": "_DSNXHgPDt6Y",
        "outputId": "6411669c-0711-4452-b1be-51b38a7bac4e"
      },
      "execution_count": 5,
      "outputs": [
        {
          "output_type": "execute_result",
          "data": {
            "text/plain": [
              "<UTC>"
            ]
          },
          "metadata": {},
          "execution_count": 5
        }
      ]
    },
    {
      "cell_type": "code",
      "source": [
        "# If you want to convert your date-time value to another time zone you can use the tz_convert function.\n",
        "timeZoneTs"
      ],
      "metadata": {
        "colab": {
          "base_uri": "https://localhost:8080/"
        },
        "id": "0Ewluvv5D05v",
        "outputId": "202b004c-5d1a-4181-f4cb-16b6ff57a38f"
      },
      "execution_count": 6,
      "outputs": [
        {
          "output_type": "execute_result",
          "data": {
            "text/plain": [
              "2017-09-18 09:30:00+00:00    0.862807\n",
              "2017-09-19 09:30:00+00:00    0.485985\n",
              "2017-09-20 09:30:00+00:00   -1.301347\n",
              "2017-09-21 09:30:00+00:00   -0.074249\n",
              "2017-09-22 09:30:00+00:00    0.908451\n",
              "2017-09-23 09:30:00+00:00   -0.140775\n",
              "Freq: D, dtype: float64"
            ]
          },
          "metadata": {},
          "execution_count": 6
        }
      ]
    },
    {
      "cell_type": "code",
      "source": [
        "timeZoneTs.tz_convert('US/Eastern')"
      ],
      "metadata": {
        "colab": {
          "base_uri": "https://localhost:8080/"
        },
        "id": "G1RkNZnrEMXY",
        "outputId": "cfc341fd-e745-406e-fe06-25b9636e6cc6"
      },
      "execution_count": 7,
      "outputs": [
        {
          "output_type": "execute_result",
          "data": {
            "text/plain": [
              "2017-09-18 05:30:00-04:00    0.862807\n",
              "2017-09-19 05:30:00-04:00    0.485985\n",
              "2017-09-20 05:30:00-04:00   -1.301347\n",
              "2017-09-21 05:30:00-04:00   -0.074249\n",
              "2017-09-22 05:30:00-04:00    0.908451\n",
              "2017-09-23 05:30:00-04:00   -0.140775\n",
              "Freq: D, dtype: float64"
            ]
          },
          "metadata": {},
          "execution_count": 7
        }
      ]
    },
    {
      "cell_type": "code",
      "source": [
        "# You can create date values and convert them to different time zones and also perform similar operations with time stamp values.\n",
        "\n",
        "sampleTimeStamp =  pd.Timestamp('2011-09-19 04:00')\n",
        "timeStamp_utc = sampleTimeStamp.tz_localize('UTC')\n",
        "timeStamp_utc"
      ],
      "metadata": {
        "colab": {
          "base_uri": "https://localhost:8080/"
        },
        "id": "YimMNaXMEN0v",
        "outputId": "6881824a-db77-4978-94f8-fdbe6a1baf17"
      },
      "execution_count": 8,
      "outputs": [
        {
          "output_type": "execute_result",
          "data": {
            "text/plain": [
              "Timestamp('2011-09-19 04:00:00+0000', tz='UTC')"
            ]
          },
          "metadata": {},
          "execution_count": 8
        }
      ]
    },
    {
      "cell_type": "code",
      "source": [
        "timeStamp_utc.tz_convert('US/Eastern')"
      ],
      "metadata": {
        "colab": {
          "base_uri": "https://localhost:8080/"
        },
        "id": "OG_HrwWoEULv",
        "outputId": "145f4312-ba65-4604-b835-7e5ca61beb79"
      },
      "execution_count": 9,
      "outputs": [
        {
          "output_type": "execute_result",
          "data": {
            "text/plain": [
              "Timestamp('2011-09-19 00:00:00-0400', tz='US/Eastern')"
            ]
          },
          "metadata": {},
          "execution_count": 9
        }
      ]
    },
    {
      "cell_type": "markdown",
      "source": [
        "The above example explains how to create a sample timestamp using TimeStamp function, Localize and Convert the timestamp to the desired value."
      ],
      "metadata": {
        "id": "wkgpKO93EaRo"
      }
    },
    {
      "cell_type": "code",
      "source": [
        "# ome timezones follow the daylight savings concept whereas some don't.\n",
        "\n",
        "# To offset the time based on Daylight Savings, you can use the DateOffset() function.\n",
        "\n",
        "from pandas.tseries.offsets import Hour\n",
        "stamp = pd.Timestamp('2012-03-12 01:30', tz='US/Eastern')\n",
        "stamp"
      ],
      "metadata": {
        "colab": {
          "base_uri": "https://localhost:8080/"
        },
        "id": "h6oxdp5AEWQQ",
        "outputId": "64b53d0c-27d1-4f61-dc9a-42c63c7fa4cf"
      },
      "execution_count": 10,
      "outputs": [
        {
          "output_type": "execute_result",
          "data": {
            "text/plain": [
              "Timestamp('2012-03-12 01:30:00-0400', tz='US/Eastern')"
            ]
          },
          "metadata": {},
          "execution_count": 10
        }
      ]
    },
    {
      "cell_type": "code",
      "source": [
        "stamp + Hour()"
      ],
      "metadata": {
        "colab": {
          "base_uri": "https://localhost:8080/"
        },
        "id": "9W_hItbgEmm_",
        "outputId": "ad154544-d07d-4b0b-fe45-1c3c76766f83"
      },
      "execution_count": 11,
      "outputs": [
        {
          "output_type": "execute_result",
          "data": {
            "text/plain": [
              "Timestamp('2012-03-12 02:30:00-0400', tz='US/Eastern')"
            ]
          },
          "metadata": {},
          "execution_count": 11
        }
      ]
    },
    {
      "cell_type": "code",
      "source": [
        "stamp = pd.Timestamp('2012-11-04 00:30', tz='US/Eastern')\n",
        "stamp"
      ],
      "metadata": {
        "colab": {
          "base_uri": "https://localhost:8080/"
        },
        "id": "cqA9oMm_EpWH",
        "outputId": "df7ac9f5-79be-44e4-c32b-ae7efdbc1499"
      },
      "execution_count": 13,
      "outputs": [
        {
          "output_type": "execute_result",
          "data": {
            "text/plain": [
              "Timestamp('2012-11-04 00:30:00-0400', tz='US/Eastern')"
            ]
          },
          "metadata": {},
          "execution_count": 13
        }
      ]
    },
    {
      "cell_type": "code",
      "source": [
        "stamp + 2 * Hour()"
      ],
      "metadata": {
        "colab": {
          "base_uri": "https://localhost:8080/"
        },
        "id": "21xPFIP7ErYW",
        "outputId": "20894299-9063-41ca-ff19-8354a90a6916"
      },
      "execution_count": 14,
      "outputs": [
        {
          "output_type": "execute_result",
          "data": {
            "text/plain": [
              "Timestamp('2012-11-04 01:30:00-0500', tz='US/Eastern')"
            ]
          },
          "metadata": {},
          "execution_count": 14
        }
      ]
    },
    {
      "cell_type": "code",
      "source": [
        "# When you work in a Multi National Company, you can get data from different time zone. \n",
        "# But you have to bring them to one standard for working.\n",
        "\n",
        "dateRng = pd.date_range('9/19/2017 9:30', periods=10, freq='B')\n",
        "timeSeries =  pd.Series(np.random.randn(len(dateRng)), index=dateRng)\n",
        "tz1 = timeSeries[:7].tz_localize('Asia/Singapore')\n",
        "tz2 = tz1[2:].tz_convert('Asia/Seoul')\n",
        "combine = tz1 + tz2\n",
        "combine.index"
      ],
      "metadata": {
        "colab": {
          "base_uri": "https://localhost:8080/"
        },
        "id": "B9Um-jh7EvY-",
        "outputId": "4729f6e3-3325-4d39-d4a2-96935cb1c49d"
      },
      "execution_count": 15,
      "outputs": [
        {
          "output_type": "execute_result",
          "data": {
            "text/plain": [
              "DatetimeIndex(['2017-09-19 01:30:00+00:00', '2017-09-20 01:30:00+00:00',\n",
              "               '2017-09-21 01:30:00+00:00', '2017-09-22 01:30:00+00:00',\n",
              "               '2017-09-25 01:30:00+00:00', '2017-09-26 01:30:00+00:00',\n",
              "               '2017-09-27 01:30:00+00:00'],\n",
              "              dtype='datetime64[ns, UTC]', freq=None)"
            ]
          },
          "metadata": {},
          "execution_count": 15
        }
      ]
    },
    {
      "cell_type": "markdown",
      "source": [
        "# Plotting"
      ],
      "metadata": {
        "id": "R54030JJE6gU"
      }
    },
    {
      "cell_type": "code",
      "source": [
        "%matplotlib inline \n",
        "import pandas as pd\n",
        "import numpy as np \n",
        "sampleRng = pd.date_range(start='2017', periods=120, freq='MS')\n",
        "sampleTs = pd.Series(np.random.randint(-10, 10, size=len(sampleRng)), sampleRng).cumsum()\n",
        "sampleTs.head()"
      ],
      "metadata": {
        "colab": {
          "base_uri": "https://localhost:8080/"
        },
        "id": "0xrOF82KE3Bw",
        "outputId": "77abc4ff-1eb0-4482-ad60-49bf7d941c92"
      },
      "execution_count": 16,
      "outputs": [
        {
          "output_type": "execute_result",
          "data": {
            "text/plain": [
              "2017-01-01     7\n",
              "2017-02-01    11\n",
              "2017-03-01    13\n",
              "2017-04-01     3\n",
              "2017-05-01     9\n",
              "Freq: MS, dtype: int64"
            ]
          },
          "metadata": {},
          "execution_count": 16
        }
      ]
    },
    {
      "cell_type": "code",
      "source": [
        "sampleTs.plot(c='r', title='Sample time series')"
      ],
      "metadata": {
        "colab": {
          "base_uri": "https://localhost:8080/",
          "height": 298
        },
        "id": "5_lL4bvhFA2X",
        "outputId": "59855bf1-ece0-4b51-f5ca-6bc86ebf5831"
      },
      "execution_count": 17,
      "outputs": [
        {
          "output_type": "execute_result",
          "data": {
            "text/plain": [
              "<matplotlib.axes._subplots.AxesSubplot at 0x7f8cb26e0e10>"
            ]
          },
          "metadata": {},
          "execution_count": 17
        },
        {
          "output_type": "display_data",
          "data": {
            "text/plain": [
              "<Figure size 432x288 with 1 Axes>"
            ],
            "image/png": "[encoded data removed]"
          },
          "metadata": {
            "needs_background": "light"
          }
        }
      ]
    },
    {
      "cell_type": "code",
      "source": [
        "sampleTs.resample('2A').plot(c='b', ls='--')"
      ],
      "metadata": {
        "colab": {
          "base_uri": "https://localhost:8080/",
          "height": 386
        },
        "id": "2tgY1MpWFDyP",
        "outputId": "66ed8bf0-9a25-4a48-c3b7-9834a0693441"
      },
      "execution_count": 18,
      "outputs": [
        {
          "output_type": "execute_result",
          "data": {
            "text/plain": [
              "2017-12-31    AxesSubplot(0.125,0.125;0.775x0.755)\n",
              "2019-12-31    AxesSubplot(0.125,0.125;0.775x0.755)\n",
              "2021-12-31    AxesSubplot(0.125,0.125;0.775x0.755)\n",
              "2023-12-31    AxesSubplot(0.125,0.125;0.775x0.755)\n",
              "2025-12-31    AxesSubplot(0.125,0.125;0.775x0.755)\n",
              "2027-12-31    AxesSubplot(0.125,0.125;0.775x0.755)\n",
              "Freq: 2A-DEC, dtype: object"
            ]
          },
          "metadata": {},
          "execution_count": 18
        },
        {
          "output_type": "display_data",
          "data": {
            "text/plain": [
              "<Figure size 432x288 with 1 Axes>"
            ],
            "image/png": "[encoded data removed]"
          },
          "metadata": {
            "needs_background": "light"
          }
        }
      ]
    },
    {
      "cell_type": "code",
      "source": [
        "sampleTs.resample('5A').plot(c='g', ls='-.')"
      ],
      "metadata": {
        "colab": {
          "base_uri": "https://localhost:8080/",
          "height": 334
        },
        "id": "CzaaHPmpFG_f",
        "outputId": "a1785044-f6d8-4bef-8604-3f14a0c0e7b1"
      },
      "execution_count": 19,
      "outputs": [
        {
          "output_type": "execute_result",
          "data": {
            "text/plain": [
              "2017-12-31    AxesSubplot(0.125,0.125;0.775x0.755)\n",
              "2022-12-31    AxesSubplot(0.125,0.125;0.775x0.755)\n",
              "2027-12-31    AxesSubplot(0.125,0.125;0.775x0.755)\n",
              "Freq: 5A-DEC, dtype: object"
            ]
          },
          "metadata": {},
          "execution_count": 19
        },
        {
          "output_type": "display_data",
          "data": {
            "text/plain": [
              "<Figure size 432x288 with 1 Axes>"
            ],
            "image/png": "[encoded data removed]"
          },
          "metadata": {
            "needs_background": "light"
          }
        }
      ]
    },
    {
      "cell_type": "markdown",
      "source": [
        "**Lag Plot**\n",
        "\n",
        "The Lag Plot is a very important and useful visualization for Time Series Data.\n",
        "\n",
        "Time Series is a Univariate Data.\n",
        "\n",
        "In the lag plot, you plotted the actual data against the data with a time lag. This helps in determining how the current data is predicting the future data."
      ],
      "metadata": {
        "id": "iQ1IdrDRFORW"
      }
    },
    {
      "cell_type": "code",
      "source": [
        "from pandas.plotting import lag_plot\n",
        "lag_plot(sampleTs)"
      ],
      "metadata": {
        "colab": {
          "base_uri": "https://localhost:8080/",
          "height": 296
        },
        "id": "neXGMeQDFKY3",
        "outputId": "12cb1ba0-4c94-48db-b766-dc156e4312bb"
      },
      "execution_count": 20,
      "outputs": [
        {
          "output_type": "execute_result",
          "data": {
            "text/plain": [
              "<matplotlib.axes._subplots.AxesSubplot at 0x7f8cb1fa2450>"
            ]
          },
          "metadata": {},
          "execution_count": 20
        },
        {
          "output_type": "display_data",
          "data": {
            "text/plain": [
              "<Figure size 432x288 with 1 Axes>"
            ],
            "image/png": "[encoded data removed]"
          },
          "metadata": {
            "needs_background": "light"
          }
        }
      ]
    },
    {
      "cell_type": "markdown",
      "source": [
        "**Auto Correction Plot**\n",
        "\n",
        "Autocorrelation plot goes one step further.\n",
        "\n",
        "Auto Correlation refers to correlating the data with itself. Here we are correlating the data with a one-time lag.\n",
        "\n",
        "The plot gives a more accurate picture of how the data point is correlated among themselves."
      ],
      "metadata": {
        "id": "6rIN2_g8FXsw"
      }
    },
    {
      "cell_type": "code",
      "source": [
        "from pandas.plotting import autocorrelation_plot\n",
        "autocorrelation_plot(sampleTs)\n",
        "\n",
        "# When the autocorrelation plot shows an exponential behavior, the time series is stationary."
      ],
      "metadata": {
        "colab": {
          "base_uri": "https://localhost:8080/",
          "height": 300
        },
        "id": "3-TwH9HxFUCI",
        "outputId": "628082ad-22a6-49ef-f21e-11e54e0b921d"
      },
      "execution_count": 21,
      "outputs": [
        {
          "output_type": "execute_result",
          "data": {
            "text/plain": [
              "<matplotlib.axes._subplots.AxesSubplot at 0x7f8cb1ee5510>"
            ]
          },
          "metadata": {},
          "execution_count": 21
        },
        {
          "output_type": "display_data",
          "data": {
            "text/plain": [
              "<Figure size 432x288 with 1 Axes>"
            ],
            "image/png": "[encoded data removed]"
          },
          "metadata": {
            "needs_background": "light"
          }
        }
      ]
    },
    {
      "cell_type": "markdown",
      "source": [
        "# Stationarity"
      ],
      "metadata": {
        "id": "uzH-A1dHFj4H"
      }
    },
    {
      "cell_type": "markdown",
      "source": [
        "Stationarity is a very significant property in Time Series Analysis. In Time series, data is collected at different time intervals. The data might behave in a deterministic or stochastic nature.\n",
        "\n",
        "Models can be applied only when your data is deterministic. If the nature of the data is stochastic then the model results will not be interpretable. Hence we have to check this property before applying the model.\n",
        "\n",
        "- In statistical terms, the mean, variance and the temporal correlation remain constant over time.\n",
        "\n",
        "- A simpler definition is that there are no seasonal or trend components in the time series.\n",
        "\n",
        " - Data Visualization: You can look at your data and see if there are any trends or patterns. This is a very crude approach.\n",
        "\n",
        " - Summary Statistics: You can take some summary statistics at different time intervals and see how the data behaves.\n",
        "\n",
        " - Statistical Tests: You can apply certain specific statistical tests and check if your time series supports stationarity property.\n",
        "\n",
        "\n",
        " **Augmented Dickey - Fuller test**\n",
        "\n",
        "ADF test is the best way to determine if the time series data is stationary or not.\n",
        "\n",
        "This kind of test is known as Unit Root Test.\n",
        "\n",
        "The main objective of this test is that it identifies how the trend component determines the time series.\n",
        "\n",
        "ADF test makes use of an autoregressive model and optimizes its criteria across multiple lag values.\n",
        "\n",
        "The Null Hypothesis supposes that the time series is non-stationary.\n",
        "\n",
        "The alternate hypothesis is that the time series is stationary.\n",
        "\n",
        "**Interpreting the Results**\n",
        "\n",
        "Null Hypothesis: H0 - If accepted then the time series data is non-stationary, and it has a unit root.\n",
        "\n",
        "Alternate Hypothesis: H1 - The null hypothesis is rejected. The time series data is stationary and does not have any unit root.\n",
        "\n",
        "Results\n",
        "\n",
        "p-value > 0.05: Accept the (H0), the data is non-stationary and has a unit root.\n",
        "\n",
        "p-value <= 0.05: Reject the H0, the data is stationary and does not have a unit root.\n",
        "\n",
        "**Auto Correlation Function**\n",
        "\n",
        "Another way of determining stationarity is Autocorrelation Function. Here, you find the correlation between two data points that are one time step away.\n",
        "\n",
        "When you visualize this correlation, you can get insights on the stationarity of the time series.\n",
        "\n",
        "If the ACF plot is having an exponential decay, it means the time series is stationary."
      ],
      "metadata": {
        "id": "fqHS_VjzFmO7"
      }
    },
    {
      "cell_type": "code",
      "source": [
        "# In Python, the statsmodels package has a method named adffuller that can be used for stationarity check.\n",
        "# Once you pass your time series to this method, you will be able to get the results.\n",
        "\n",
        "# ADF Statistic: \n",
        "# p-value: \n",
        "# \t1%: \n",
        "# \t5%: \n",
        "# \t10%:\n",
        "\n",
        "\n",
        "\n",
        "# The more negative the ADF statistic value is the more likely the data is stationary.\n",
        "\n",
        "# The ADF Statistic should be compared to critical p-values that are at 1, 5, and 10%.\n",
        "\n",
        "# If the ADF statistic value is less than the critical value at 5% and the p-value is less than 0.05, \n",
        "# then we can reject the null hypothesis that the data is non-stationary with 95% confidence level.\n",
        "\n",
        "\n",
        "from statsmodels.tsa.stattools import adfuller\n",
        "adfuller(sampleTs)"
      ],
      "metadata": {
        "colab": {
          "base_uri": "https://localhost:8080/"
        },
        "id": "Ha9Qr0nKFf5I",
        "outputId": "05031dec-d949-44df-8526-2c79b76e1da4"
      },
      "execution_count": 22,
      "outputs": [
        {
          "output_type": "execute_result",
          "data": {
            "text/plain": [
              "(-1.832587341641146,\n",
              " 0.3644071636023165,\n",
              " 0,\n",
              " 119,\n",
              " {'1%': -3.4865346059036564,\n",
              "  '5%': -2.8861509858476264,\n",
              "  '10%': -2.579896092790057},\n",
              " 673.7035064206195)"
            ]
          },
          "metadata": {},
          "execution_count": 22
        }
      ]
    },
    {
      "cell_type": "markdown",
      "source": [
        "**Example**"
      ],
      "metadata": {
        "id": "mOC_aZwQGsPh"
      }
    },
    {
      "cell_type": "code",
      "source": [
        "import random \n",
        "import pandas as pd\n",
        "import numpy as np\n",
        "from statsmodels.tsa.stattools import adfuller\n",
        "sampleRng = pd.date_range(start='2017', periods=120, freq='MS')\n",
        "sampleTs = pd.Series(np.random.randint(-10, 10, size=len(sampleRng)), sampleRng).cumsum()\n",
        "\n",
        "tsResult = adfuller(sampleTs)\n",
        "print('ADF Statistic: %f' % tsResult[0])\n",
        "print('p-value: %f' % tsResult[1])\n",
        "for key, value in tsResult[4].items():\n",
        "    print('\\t%s: %.3f' % (key, value))"
      ],
      "metadata": {
        "colab": {
          "base_uri": "https://localhost:8080/"
        },
        "id": "lEuF8wooGbBp",
        "outputId": "a34c7f8f-ff6e-4b37-d8a2-35be688ce918"
      },
      "execution_count": 23,
      "outputs": [
        {
          "output_type": "stream",
          "name": "stdout",
          "text": [
            "ADF Statistic: -0.869292\n",
            "p-value: 0.797917\n",
            "\t1%: -3.487\n",
            "\t5%: -2.886\n",
            "\t10%: -2.580\n"
          ]
        }
      ]
    },
    {
      "cell_type": "markdown",
      "source": [
        "The ADF Statistic value is -1.328310. It is negative.\n",
        "\n",
        "The p-value: 0.616123 and is greater than 0.05 so we accept the null hypothesis, which means the data is non-stationary."
      ],
      "metadata": {
        "id": "LYx0bkSdG4A3"
      }
    },
    {
      "cell_type": "markdown",
      "source": [
        "# Trends and Patterns"
      ],
      "metadata": {
        "id": "NGwcLewrIl9U"
      }
    },
    {
      "cell_type": "markdown",
      "source": [
        "- Trend: This component shows the overall series behavior - the slow change of values over time.\n",
        "\n",
        "- Season: This shows the changes that happen in cycles that are less than one year.\n",
        "\n",
        "- Cycles: Changes that happen for more than a year.\n",
        "\n",
        "- Random: Anything that is not included in the above three components.\n",
        "\n",
        "The underlying assumption has to be that the time series data is stationary."
      ],
      "metadata": {
        "id": "75Iz9Zl0IrIH"
      }
    },
    {
      "cell_type": "markdown",
      "source": [
        "**Steps**\n",
        "\n",
        "Check for Stationarity.\n",
        "\n",
        "Decompose the model into its various components.\n",
        "\n",
        "Analyse the components.\n",
        "\n",
        "Fit the time series forecasting model and predict future values.\n",
        "\n",
        "**Time Series Difference**\n",
        "\n",
        "Apart from the decomposing the Time Series, there is another method, you can follow while analysis is the difference.\n",
        "\n",
        "You take the difference between two time periods. The difference can have a shift of one time period or more.\n",
        "\n",
        "This process also helps in understanding the data better.\n",
        "\n",
        "\n",
        "**Decomposing**\n",
        "\n",
        "Python used statsmodels package seasonal_decompose method for time series decomposing.\n",
        "\n",
        "You can just pass the time series and call the respective decomposing function to get the results."
      ],
      "metadata": {
        "id": "DLLHt1h1IwbG"
      }
    },
    {
      "cell_type": "code",
      "source": [
        "from statsmodels.tsa.seasonal import seasonal_decompose\n",
        "sampleTs_decomp = seasonal_decompose(sampleTs) \n",
        "sampleTs_trend = sampleTs_decomp.trend \n",
        "sampleTs_seasonal = sampleTs_decomp.seasonal \n",
        "sampleTs_residual = sampleTs_decomp.resid\n",
        "\n",
        "# Here you can get the trend, seasonal, and residuals separately for the time series."
      ],
      "metadata": {
        "id": "5uXJjArHG05w"
      },
      "execution_count": 24,
      "outputs": []
    },
    {
      "cell_type": "code",
      "source": [
        "sampleTs.plot()"
      ],
      "metadata": {
        "colab": {
          "base_uri": "https://localhost:8080/",
          "height": 282
        },
        "id": "5xAVQ6HFJP4o",
        "outputId": "f4a25815-8362-4d66-c590-3d204608246d"
      },
      "execution_count": 26,
      "outputs": [
        {
          "output_type": "execute_result",
          "data": {
            "text/plain": [
              "<matplotlib.axes._subplots.AxesSubplot at 0x7f8ca226b1d0>"
            ]
          },
          "metadata": {},
          "execution_count": 26
        },
        {
          "output_type": "display_data",
          "data": {
            "text/plain": [
              "<Figure size 432x288 with 1 Axes>"
            ],
            "image/png": "[encoded data removed]"
          },
          "metadata": {
            "needs_background": "light"
          }
        }
      ]
    },
    {
      "cell_type": "code",
      "source": [
        "sampleTs_trend.plot()"
      ],
      "metadata": {
        "colab": {
          "base_uri": "https://localhost:8080/",
          "height": 282
        },
        "id": "X2MsW6w2JEDx",
        "outputId": "d951a61f-e6aa-4e1e-c62d-573530eeeb97"
      },
      "execution_count": 25,
      "outputs": [
        {
          "output_type": "execute_result",
          "data": {
            "text/plain": [
              "<matplotlib.axes._subplots.AxesSubplot at 0x7f8ca2264210>"
            ]
          },
          "metadata": {},
          "execution_count": 25
        },
        {
          "output_type": "display_data",
          "data": {
            "text/plain": [
              "<Figure size 432x288 with 1 Axes>"
            ],
            "image/png": "[encoded data removed]"
          },
          "metadata": {
            "needs_background": "light"
          }
        }
      ]
    },
    {
      "cell_type": "code",
      "source": [
        "sampleTs_seasonal.plot()"
      ],
      "metadata": {
        "colab": {
          "base_uri": "https://localhost:8080/",
          "height": 282
        },
        "id": "JJdMN3JsJKCJ",
        "outputId": "3dcec1a5-fe5b-43b6-d515-77c1e6517a0d"
      },
      "execution_count": 27,
      "outputs": [
        {
          "output_type": "execute_result",
          "data": {
            "text/plain": [
              "<matplotlib.axes._subplots.AxesSubplot at 0x7f8ca197b190>"
            ]
          },
          "metadata": {},
          "execution_count": 27
        },
        {
          "output_type": "display_data",
          "data": {
            "text/plain": [
              "<Figure size 432x288 with 1 Axes>"
            ],
            "image/png": "[encoded data removed]"
          },
          "metadata": {
            "needs_background": "light"
          }
        }
      ]
    },
    {
      "cell_type": "code",
      "source": [
        "sampleTs_residual.plot()"
      ],
      "metadata": {
        "colab": {
          "base_uri": "https://localhost:8080/",
          "height": 282
        },
        "id": "0xA9gidaJU-o",
        "outputId": "e3dd5a8f-dafa-46a6-f7ab-f99e0e884073"
      },
      "execution_count": 28,
      "outputs": [
        {
          "output_type": "execute_result",
          "data": {
            "text/plain": [
              "<matplotlib.axes._subplots.AxesSubplot at 0x7f8ca17fcb50>"
            ]
          },
          "metadata": {},
          "execution_count": 28
        },
        {
          "output_type": "display_data",
          "data": {
            "text/plain": [
              "<Figure size 432x288 with 1 Axes>"
            ],
            "image/png": "[encoded data removed]"
          },
          "metadata": {
            "needs_background": "light"
          }
        }
      ]
    },
    {
      "cell_type": "markdown",
      "source": [
        "# Forecasting"
      ],
      "metadata": {
        "id": "yA3M2oQZJZ9v"
      }
    },
    {
      "cell_type": "markdown",
      "source": [
        "Forecasting in time series can be done in several ways.\n",
        "\n",
        "Autoregressive\n",
        "\n",
        "Moving Average\n",
        "\n",
        "Autoregressive Moving Average\n",
        "\n",
        "Autoregressive Integrated Moving Average"
      ],
      "metadata": {
        "id": "SB2tNZOjJdru"
      }
    },
    {
      "cell_type": "markdown",
      "source": [
        "**Autoregression**\n",
        "\n",
        "In Autoregression, you use the current value of the variable to predict its future values.\n",
        "\n",
        "Here, the current and past time stamp values of the time series are used to predict the future values."
      ],
      "metadata": {
        "id": "joFOOOy4Johq"
      }
    },
    {
      "cell_type": "code",
      "source": [
        "from statsmodels.tsa.arima_model import ARIMA \n",
        "model = ARIMA(sampleTs, order=(1, 1, 0)) \n",
        "predValues = model.fit()\n",
        "# The parameter order = is very important in calling the right function for forecasting."
      ],
      "metadata": {
        "id": "rPpk0PRRJXjw"
      },
      "execution_count": 38,
      "outputs": []
    },
    {
      "cell_type": "markdown",
      "source": [
        "**Moving average**\n",
        "\n",
        "Moving average is another way to predict the time series data.\n",
        "\n",
        "Here the dependent variable is expressed as a function of the previous values along with an average component.\n",
        "\n",
        "Average component keeps moving along the time series."
      ],
      "metadata": {
        "id": "VwCBvjnlKJ-3"
      }
    },
    {
      "cell_type": "code",
      "source": [
        "model = ARIMA(sampleTs, order=(0, 1, 1)) \n",
        "\n",
        "movingAvgRes = model.fit() "
      ],
      "metadata": {
        "id": "gxDDpoWtJua4"
      },
      "execution_count": 40,
      "outputs": []
    },
    {
      "cell_type": "markdown",
      "source": [
        "**Selecting p and q**\n",
        "\n",
        "\n",
        "The p and q parameters of the Autoregressive and Moving Average models. These parameters have to be selected by how they fit the historical data.\n",
        "\n",
        "The AIC or BIC have to be validated among the results and the model which has the lowest value should be chosen.\n",
        "\n",
        "AIC stands for Akaike Information Criterion.\n",
        "\n",
        "BIC stands for Bayesian Information Criterion."
      ],
      "metadata": {
        "id": "Lmg47oCJKVR9"
      }
    },
    {
      "cell_type": "markdown",
      "source": [
        "**ARIMA**\n",
        "\n",
        "ARIMA is the combination of Autoregressive and Moving Average.\n",
        "\n",
        "ARIMA stands for Autoregressive Integrated Moving Average.\n",
        "\n",
        "It is another model used for forecasting in Time Series Analysis."
      ],
      "metadata": {
        "id": "bxXYWjrrKZDS"
      }
    },
    {
      "cell_type": "code",
      "source": [
        "model = ARIMA(sampleTs, order=(1, 0, 1)) \n",
        "\n",
        "arimares = model.fit() \n"
      ],
      "metadata": {
        "id": "RszbbXJEKQ-R"
      },
      "execution_count": 42,
      "outputs": []
    },
    {
      "cell_type": "markdown",
      "source": [
        "**Steps in Time Series**\n",
        "\n",
        "\n",
        "The first step is to visualize the time series.\n",
        "\n",
        "The second step is to make the data stationary.\n",
        "\n",
        " - This can be accomplished by \n",
        "\n",
        " - Detrending \n",
        "\n",
        " - Differencing\n",
        "\n",
        " - Seasonality \n",
        "Getting the optimal parameters through Auto Correlation and Partial Auto Correlation\n",
        "\n",
        "Build Model (AR , MA , ARMA , ARIMA) using the parameters\n",
        "\n",
        "Make Prediction"
      ],
      "metadata": {
        "id": "3gH8HUndKkgi"
      }
    },
    {
      "cell_type": "code",
      "source": [],
      "metadata": {
        "id": "mb4IHQzgKerZ"
      },
      "execution_count": null,
      "outputs": []
    }
  ]
}