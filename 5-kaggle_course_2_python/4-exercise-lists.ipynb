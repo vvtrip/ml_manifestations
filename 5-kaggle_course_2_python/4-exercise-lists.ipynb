{
 "cells": [
  {
   "cell_type": "markdown",
   "id": "5dac65d8",
   "metadata": {
    "papermill": {
     "duration": 0.006583,
     "end_time": "2022-09-25T14:27:42.765879",
     "exception": false,
     "start_time": "2022-09-25T14:27:42.759296",
     "status": "completed"
    },
    "tags": []
   },
   "source": [
    "**This notebook is an exercise in the [Python](https://www.kaggle.com/learn/python) course.  You can reference the tutorial at [this link](https://www.kaggle.com/colinmorris/lists).**\n",
    "\n",
    "---\n"
   ]
  },
  {
   "cell_type": "markdown",
   "id": "297757e3",
   "metadata": {
    "papermill": {
     "duration": 0.005206,
     "end_time": "2022-09-25T14:27:42.776551",
     "exception": false,
     "start_time": "2022-09-25T14:27:42.771345",
     "status": "completed"
    },
    "tags": []
   },
   "source": [
    "Things get more interesting with lists. You'll apply your new knowledge to solve the questions below. Remember to run the following cell first."
   ]
  },
  {
   "cell_type": "code",
   "execution_count": 1,
   "id": "e4a2b1d4",
   "metadata": {
    "execution": {
     "iopub.execute_input": "2022-09-25T14:27:42.788661Z",
     "iopub.status.busy": "2022-09-25T14:27:42.788006Z",
     "iopub.status.idle": "2022-09-25T14:27:42.847795Z",
     "shell.execute_reply": "2022-09-25T14:27:42.846833Z"
    },
    "papermill": {
     "duration": 0.07059,
     "end_time": "2022-09-25T14:27:42.852082",
     "exception": false,
     "start_time": "2022-09-25T14:27:42.781492",
     "status": "completed"
    },
    "tags": []
   },
   "outputs": [
    {
     "name": "stdout",
     "output_type": "stream",
     "text": [
      "Setup complete.\n"
     ]
    }
   ],
   "source": [
    "from learntools.core import binder; binder.bind(globals())\n",
    "from learntools.python.ex4 import *\n",
    "print('Setup complete.')"
   ]
  },
  {
   "cell_type": "markdown",
   "id": "3390ba13",
   "metadata": {
    "papermill": {
     "duration": 0.006864,
     "end_time": "2022-09-25T14:27:42.866439",
     "exception": false,
     "start_time": "2022-09-25T14:27:42.859575",
     "status": "completed"
    },
    "tags": []
   },
   "source": [
    "# 1.\n",
    "\n",
    "Complete the function below according to its docstring."
   ]
  },
  {
   "cell_type": "code",
   "execution_count": 2,
   "id": "cd71c918",
   "metadata": {
    "execution": {
     "iopub.execute_input": "2022-09-25T14:27:42.878100Z",
     "iopub.status.busy": "2022-09-25T14:27:42.877691Z",
     "iopub.status.idle": "2022-09-25T14:27:42.890106Z",
     "shell.execute_reply": "2022-09-25T14:27:42.889211Z"
    },
    "papermill": {
     "duration": 0.020761,
     "end_time": "2022-09-25T14:27:42.892222",
     "exception": false,
     "start_time": "2022-09-25T14:27:42.871461",
     "status": "completed"
    },
    "tags": []
   },
   "outputs": [
    {
     "data": {
      "application/javascript": [
       "parent.postMessage({\"jupyterEvent\": \"custom.exercise_interaction\", \"data\": {\"outcomeType\": 1, \"valueTowardsCompletion\": 0.2, \"interactionType\": 1, \"questionType\": 2, \"questionId\": \"1_SelectSecondItem\", \"learnToolsVersion\": \"0.3.4\", \"failureMessage\": \"\", \"exceptionClass\": \"\", \"trace\": \"\"}}, \"*\")"
      ],
      "text/plain": [
       "<IPython.core.display.Javascript object>"
      ]
     },
     "metadata": {},
     "output_type": "display_data"
    },
    {
     "data": {
      "text/markdown": [
       "<span style=\"color:#33cc33\">Correct</span>"
      ],
      "text/plain": [
       "Correct"
      ]
     },
     "metadata": {},
     "output_type": "display_data"
    }
   ],
   "source": [
    "def select_second(L):\n",
    "    \"\"\"Return the second element of the given list. If the list has no second\n",
    "    element, return None.\n",
    "    \"\"\"\n",
    "    try:\n",
    "        return L[1]\n",
    "    except:\n",
    "        None\n",
    "\n",
    "# Check your answer\n",
    "q1.check()"
   ]
  },
  {
   "cell_type": "code",
   "execution_count": 3,
   "id": "4f145425",
   "metadata": {
    "execution": {
     "iopub.execute_input": "2022-09-25T14:27:42.904895Z",
     "iopub.status.busy": "2022-09-25T14:27:42.904164Z",
     "iopub.status.idle": "2022-09-25T14:27:42.912940Z",
     "shell.execute_reply": "2022-09-25T14:27:42.912066Z"
    },
    "papermill": {
     "duration": 0.017532,
     "end_time": "2022-09-25T14:27:42.915051",
     "exception": false,
     "start_time": "2022-09-25T14:27:42.897519",
     "status": "completed"
    },
    "tags": []
   },
   "outputs": [
    {
     "data": {
      "application/javascript": [
       "parent.postMessage({\"jupyterEvent\": \"custom.exercise_interaction\", \"data\": {\"interactionType\": 3, \"questionType\": 2, \"questionId\": \"1_SelectSecondItem\", \"learnToolsVersion\": \"0.3.4\", \"valueTowardsCompletion\": 0.0, \"failureMessage\": \"\", \"exceptionClass\": \"\", \"trace\": \"\", \"outcomeType\": 4}}, \"*\")"
      ],
      "text/plain": [
       "<IPython.core.display.Javascript object>"
      ]
     },
     "metadata": {},
     "output_type": "display_data"
    },
    {
     "data": {
      "text/markdown": [
       "<span style=\"color:#33cc99\">Solution:</span> \n",
       "```python\n",
       "def select_second(L):\n",
       "    if len(L) < 2:\n",
       "        return None\n",
       "    return L[1]\n",
       "```"
      ],
      "text/plain": [
       "Solution: \n",
       "```python\n",
       "def select_second(L):\n",
       "    if len(L) < 2:\n",
       "        return None\n",
       "    return L[1]\n",
       "```"
      ]
     },
     "metadata": {},
     "output_type": "display_data"
    }
   ],
   "source": [
    "#q1.hint()\n",
    "q1.solution()"
   ]
  },
  {
   "cell_type": "markdown",
   "id": "c6b9ff4e",
   "metadata": {
    "papermill": {
     "duration": 0.005325,
     "end_time": "2022-09-25T14:27:42.925906",
     "exception": false,
     "start_time": "2022-09-25T14:27:42.920581",
     "status": "completed"
    },
    "tags": []
   },
   "source": [
    "# 2.\n",
    "\n",
    "You are analyzing sports teams.  Members of each team are stored in a list. The Coach is the first name in the list, the captain is the second name in the list, and other players are listed after that. \n",
    "These lists are stored in another list, which starts with the best team and proceeds through the list to the worst team last.  Complete the function below to select the **captain** of the worst team."
   ]
  },
  {
   "cell_type": "code",
   "execution_count": 4,
   "id": "fcb3c3da",
   "metadata": {
    "execution": {
     "iopub.execute_input": "2022-09-25T14:27:42.939385Z",
     "iopub.status.busy": "2022-09-25T14:27:42.938683Z",
     "iopub.status.idle": "2022-09-25T14:27:42.948094Z",
     "shell.execute_reply": "2022-09-25T14:27:42.947181Z"
    },
    "papermill": {
     "duration": 0.018886,
     "end_time": "2022-09-25T14:27:42.950434",
     "exception": false,
     "start_time": "2022-09-25T14:27:42.931548",
     "status": "completed"
    },
    "tags": []
   },
   "outputs": [
    {
     "data": {
      "application/javascript": [
       "parent.postMessage({\"jupyterEvent\": \"custom.exercise_interaction\", \"data\": {\"outcomeType\": 1, \"valueTowardsCompletion\": 0.2, \"interactionType\": 1, \"questionType\": 2, \"questionId\": \"2_LosingTeamCaptain\", \"learnToolsVersion\": \"0.3.4\", \"failureMessage\": \"\", \"exceptionClass\": \"\", \"trace\": \"\"}}, \"*\")"
      ],
      "text/plain": [
       "<IPython.core.display.Javascript object>"
      ]
     },
     "metadata": {},
     "output_type": "display_data"
    },
    {
     "data": {
      "text/markdown": [
       "<span style=\"color:#33cc33\">Correct</span>"
      ],
      "text/plain": [
       "Correct"
      ]
     },
     "metadata": {},
     "output_type": "display_data"
    }
   ],
   "source": [
    "def losing_team_captain(teams):\n",
    "    \"\"\"Given a list of teams, where each team is a list of names, return the 2nd player (captain)\n",
    "    from the last listed team\n",
    "    \"\"\"\n",
    "    return teams[-1][1]\n",
    "\n",
    "# Check your answer\n",
    "q2.check()"
   ]
  },
  {
   "cell_type": "code",
   "execution_count": 5,
   "id": "ee87c168",
   "metadata": {
    "collapsed": true,
    "execution": {
     "iopub.execute_input": "2022-09-25T14:27:42.964774Z",
     "iopub.status.busy": "2022-09-25T14:27:42.964085Z",
     "iopub.status.idle": "2022-09-25T14:27:42.968560Z",
     "shell.execute_reply": "2022-09-25T14:27:42.967656Z"
    },
    "jupyter": {
     "outputs_hidden": true
    },
    "papermill": {
     "duration": 0.013797,
     "end_time": "2022-09-25T14:27:42.970721",
     "exception": false,
     "start_time": "2022-09-25T14:27:42.956924",
     "status": "completed"
    },
    "tags": []
   },
   "outputs": [],
   "source": [
    "#q2.hint()\n",
    "#q2.solution()"
   ]
  },
  {
   "cell_type": "markdown",
   "id": "e6f397e9",
   "metadata": {
    "papermill": {
     "duration": 0.005598,
     "end_time": "2022-09-25T14:27:42.982209",
     "exception": false,
     "start_time": "2022-09-25T14:27:42.976611",
     "status": "completed"
    },
    "tags": []
   },
   "source": [
    "# 3.\n",
    "\n",
    "The next iteration of Mario Kart will feature an extra-infuriating new item, the *Purple Shell*. When used, it warps the last place racer into first place and the first place racer into last place. Complete the function below to implement the Purple Shell's effect."
   ]
  },
  {
   "cell_type": "code",
   "execution_count": 6,
   "id": "58b821a7",
   "metadata": {
    "execution": {
     "iopub.execute_input": "2022-09-25T14:27:42.996071Z",
     "iopub.status.busy": "2022-09-25T14:27:42.995330Z",
     "iopub.status.idle": "2022-09-25T14:27:43.005267Z",
     "shell.execute_reply": "2022-09-25T14:27:43.004364Z"
    },
    "papermill": {
     "duration": 0.019476,
     "end_time": "2022-09-25T14:27:43.007473",
     "exception": false,
     "start_time": "2022-09-25T14:27:42.987997",
     "status": "completed"
    },
    "tags": []
   },
   "outputs": [
    {
     "data": {
      "application/javascript": [
       "parent.postMessage({\"jupyterEvent\": \"custom.exercise_interaction\", \"data\": {\"outcomeType\": 1, \"valueTowardsCompletion\": 0.2, \"interactionType\": 1, \"questionType\": 2, \"questionId\": \"3_PurpleShell\", \"learnToolsVersion\": \"0.3.4\", \"failureMessage\": \"\", \"exceptionClass\": \"\", \"trace\": \"\"}}, \"*\")"
      ],
      "text/plain": [
       "<IPython.core.display.Javascript object>"
      ]
     },
     "metadata": {},
     "output_type": "display_data"
    },
    {
     "data": {
      "text/markdown": [
       "<span style=\"color:#33cc33\">Correct</span>"
      ],
      "text/plain": [
       "Correct"
      ]
     },
     "metadata": {},
     "output_type": "display_data"
    }
   ],
   "source": [
    "def purple_shell(racers):\n",
    "    \"\"\"Given a list of racers, set the first place racer (at the front of the list) to last\n",
    "    place and vice versa.\n",
    "    \n",
    "    >>> r = [\"Mario\", \"Bowser\", \"Luigi\"]\n",
    "    >>> purple_shell(r)\n",
    "    >>> r\n",
    "    [\"Luigi\", \"Bowser\", \"Mario\"]\n",
    "    \"\"\"\n",
    "    tmp = racers[-1]\n",
    "    racers[-1] = racers[0]\n",
    "    racers[0] = tmp\n",
    "\n",
    "# Check your answer\n",
    "q3.check()"
   ]
  },
  {
   "cell_type": "code",
   "execution_count": 7,
   "id": "4648a345",
   "metadata": {
    "execution": {
     "iopub.execute_input": "2022-09-25T14:27:43.022168Z",
     "iopub.status.busy": "2022-09-25T14:27:43.021739Z",
     "iopub.status.idle": "2022-09-25T14:27:43.026092Z",
     "shell.execute_reply": "2022-09-25T14:27:43.024962Z"
    },
    "papermill": {
     "duration": 0.014765,
     "end_time": "2022-09-25T14:27:43.028184",
     "exception": false,
     "start_time": "2022-09-25T14:27:43.013419",
     "status": "completed"
    },
    "tags": []
   },
   "outputs": [],
   "source": [
    "#q3.hint()\n",
    "# q3.solution()"
   ]
  },
  {
   "cell_type": "markdown",
   "id": "34d2362d",
   "metadata": {
    "papermill": {
     "duration": 0.005679,
     "end_time": "2022-09-25T14:27:43.039753",
     "exception": false,
     "start_time": "2022-09-25T14:27:43.034074",
     "status": "completed"
    },
    "tags": []
   },
   "source": [
    "# 4.\n",
    "\n",
    "What are the lengths of the following lists? Fill in the variable `lengths` with your predictions. (Try to make a prediction for each list *without* just calling `len()` on it.)"
   ]
  },
  {
   "cell_type": "code",
   "execution_count": 8,
   "id": "688a77dc",
   "metadata": {
    "execution": {
     "iopub.execute_input": "2022-09-25T14:27:43.053673Z",
     "iopub.status.busy": "2022-09-25T14:27:43.052976Z",
     "iopub.status.idle": "2022-09-25T14:27:43.062636Z",
     "shell.execute_reply": "2022-09-25T14:27:43.061559Z"
    },
    "papermill": {
     "duration": 0.019203,
     "end_time": "2022-09-25T14:27:43.064902",
     "exception": false,
     "start_time": "2022-09-25T14:27:43.045699",
     "status": "completed"
    },
    "tags": []
   },
   "outputs": [
    {
     "data": {
      "application/javascript": [
       "parent.postMessage({\"jupyterEvent\": \"custom.exercise_interaction\", \"data\": {\"outcomeType\": 1, \"valueTowardsCompletion\": 0.2, \"interactionType\": 1, \"questionType\": 1, \"questionId\": \"4_UnderstandLen\", \"learnToolsVersion\": \"0.3.4\", \"failureMessage\": \"\", \"exceptionClass\": \"\", \"trace\": \"\"}}, \"*\")"
      ],
      "text/plain": [
       "<IPython.core.display.Javascript object>"
      ]
     },
     "metadata": {},
     "output_type": "display_data"
    },
    {
     "data": {
      "text/markdown": [
       "<span style=\"color:#33cc33\">Correct:</span> \n",
       "\n",
       "\n",
       "- a: There are three items in this list. Nothing tricky yet.\n",
       "- b: The list `[2, 3]` counts as a single item. It has one item before it. So we have 2 items in the list\n",
       "- c: The empty list has 0 items\n",
       "- d: The expression is the same as the list `[2, 3]`, which has length 2."
      ],
      "text/plain": [
       "Correct: \n",
       "\n",
       "\n",
       "- a: There are three items in this list. Nothing tricky yet.\n",
       "- b: The list `[2, 3]` counts as a single item. It has one item before it. So we have 2 items in the list\n",
       "- c: The empty list has 0 items\n",
       "- d: The expression is the same as the list `[2, 3]`, which has length 2."
      ]
     },
     "metadata": {},
     "output_type": "display_data"
    }
   ],
   "source": [
    "a = [1, 2, 3]\n",
    "b = [1, [2, 3]]\n",
    "c = []\n",
    "d = [1, 2, 3][1:]\n",
    "\n",
    "# Put your predictions in the list below. Lengths should contain 4 numbers, the\n",
    "# first being the length of a, the second being the length of b and so on.\n",
    "lengths = [3, 2, 0, 2]\n",
    "\n",
    "# Check your answer\n",
    "q4.check()"
   ]
  },
  {
   "cell_type": "code",
   "execution_count": 9,
   "id": "f84a61f8",
   "metadata": {
    "collapsed": true,
    "execution": {
     "iopub.execute_input": "2022-09-25T14:27:43.079495Z",
     "iopub.status.busy": "2022-09-25T14:27:43.079068Z",
     "iopub.status.idle": "2022-09-25T14:27:43.083510Z",
     "shell.execute_reply": "2022-09-25T14:27:43.082464Z"
    },
    "jupyter": {
     "outputs_hidden": true
    },
    "papermill": {
     "duration": 0.014514,
     "end_time": "2022-09-25T14:27:43.085839",
     "exception": false,
     "start_time": "2022-09-25T14:27:43.071325",
     "status": "completed"
    },
    "tags": []
   },
   "outputs": [],
   "source": [
    "# line below provides some explanation\n",
    "#q4.solution()"
   ]
  },
  {
   "cell_type": "markdown",
   "id": "af453b70",
   "metadata": {
    "papermill": {
     "duration": 0.005969,
     "end_time": "2022-09-25T14:27:43.098334",
     "exception": false,
     "start_time": "2022-09-25T14:27:43.092365",
     "status": "completed"
    },
    "tags": []
   },
   "source": [
    "# 5. <span title=\"A bit spicy\" style=\"color: darkgreen \">🌶️</span>\n",
    "\n",
    "We're using lists to record people who attended our party and what order they arrived in. For example, the following list represents a party with 7 guests, in which Adela showed up first and Ford was the last to arrive:\n",
    "\n",
    "    party_attendees = ['Adela', 'Fleda', 'Owen', 'May', 'Mona', 'Gilbert', 'Ford']\n",
    "\n",
    "A guest is considered 'fashionably late' if they arrived after at least half of the party's guests. However, they must not be the very last guest (that's taking it too far). In the above example, Mona and Gilbert are the only guests who were fashionably late.\n",
    "\n",
    "Complete the function below which takes a list of party attendees as well as a person, and tells us whether that person is fashionably late."
   ]
  },
  {
   "cell_type": "code",
   "execution_count": 10,
   "id": "df7fcc47",
   "metadata": {
    "execution": {
     "iopub.execute_input": "2022-09-25T14:27:43.115302Z",
     "iopub.status.busy": "2022-09-25T14:27:43.113776Z",
     "iopub.status.idle": "2022-09-25T14:27:43.127094Z",
     "shell.execute_reply": "2022-09-25T14:27:43.126051Z"
    },
    "papermill": {
     "duration": 0.024741,
     "end_time": "2022-09-25T14:27:43.129213",
     "exception": false,
     "start_time": "2022-09-25T14:27:43.104472",
     "status": "completed"
    },
    "tags": []
   },
   "outputs": [
    {
     "data": {
      "application/javascript": [
       "parent.postMessage({\"jupyterEvent\": \"custom.exercise_interaction\", \"data\": {\"outcomeType\": 1, \"valueTowardsCompletion\": 0.2, \"interactionType\": 1, \"questionType\": 2, \"questionId\": \"5_FashionablyLate\", \"learnToolsVersion\": \"0.3.4\", \"failureMessage\": \"\", \"exceptionClass\": \"\", \"trace\": \"\"}}, \"*\")"
      ],
      "text/plain": [
       "<IPython.core.display.Javascript object>"
      ]
     },
     "metadata": {},
     "output_type": "display_data"
    },
    {
     "data": {
      "text/markdown": [
       "<span style=\"color:#33cc33\">Correct</span>"
      ],
      "text/plain": [
       "Correct"
      ]
     },
     "metadata": {},
     "output_type": "display_data"
    }
   ],
   "source": [
    "def fashionably_late(arrivals, name):\n",
    "    \"\"\"Given an ordered list of arrivals to the party and a name, return whether the guest with that\n",
    "    name was fashionably late.\n",
    "    \"\"\"\n",
    "    length = len(arrivals)\n",
    "    if length % 2 != 0:\n",
    "        mid = length//2\n",
    "    else:\n",
    "        mid = length//2  - 1\n",
    "      \n",
    "    if arrivals.index(name) > mid and arrivals[-1] != name:\n",
    "        return True\n",
    "    else:\n",
    "        return False\n",
    "\n",
    "# Check your answer\n",
    "q5.check()"
   ]
  },
  {
   "cell_type": "code",
   "execution_count": 11,
   "id": "cf0360a6",
   "metadata": {
    "execution": {
     "iopub.execute_input": "2022-09-25T14:27:43.147061Z",
     "iopub.status.busy": "2022-09-25T14:27:43.146081Z",
     "iopub.status.idle": "2022-09-25T14:27:43.156145Z",
     "shell.execute_reply": "2022-09-25T14:27:43.155219Z"
    },
    "papermill": {
     "duration": 0.022742,
     "end_time": "2022-09-25T14:27:43.158675",
     "exception": false,
     "start_time": "2022-09-25T14:27:43.135933",
     "status": "completed"
    },
    "tags": []
   },
   "outputs": [
    {
     "data": {
      "application/javascript": [
       "parent.postMessage({\"jupyterEvent\": \"custom.exercise_interaction\", \"data\": {\"interactionType\": 3, \"questionType\": 2, \"questionId\": \"5_FashionablyLate\", \"learnToolsVersion\": \"0.3.4\", \"valueTowardsCompletion\": 0.0, \"failureMessage\": \"\", \"exceptionClass\": \"\", \"trace\": \"\", \"outcomeType\": 4}}, \"*\")"
      ],
      "text/plain": [
       "<IPython.core.display.Javascript object>"
      ]
     },
     "metadata": {},
     "output_type": "display_data"
    },
    {
     "data": {
      "text/markdown": [
       "<span style=\"color:#33cc99\">Solution:</span> \n",
       "```python\n",
       "def fashionably_late(arrivals, name):\n",
       "    order = arrivals.index(name)\n",
       "    return order >= len(arrivals) / 2 and order != len(arrivals) - 1\n",
       "```"
      ],
      "text/plain": [
       "Solution: \n",
       "```python\n",
       "def fashionably_late(arrivals, name):\n",
       "    order = arrivals.index(name)\n",
       "    return order >= len(arrivals) / 2 and order != len(arrivals) - 1\n",
       "```"
      ]
     },
     "metadata": {},
     "output_type": "display_data"
    }
   ],
   "source": [
    "#q5.hint()\n",
    "q5.solution()"
   ]
  },
  {
   "cell_type": "markdown",
   "id": "530ad25c",
   "metadata": {
    "papermill": {
     "duration": 0.009239,
     "end_time": "2022-09-25T14:27:43.175213",
     "exception": false,
     "start_time": "2022-09-25T14:27:43.165974",
     "status": "completed"
    },
    "tags": []
   },
   "source": [
    "# Keep Going\n",
    "\n",
    "That's it for lists and tuples! Now you have the baseline knowledge to **[learn about loops](https://www.kaggle.com/colinmorris/loops-and-list-comprehensions)**, which is where lists and tuples get really interesting. "
   ]
  },
  {
   "cell_type": "markdown",
   "id": "e23877a7",
   "metadata": {
    "papermill": {
     "duration": 0.00714,
     "end_time": "2022-09-25T14:27:43.190939",
     "exception": false,
     "start_time": "2022-09-25T14:27:43.183799",
     "status": "completed"
    },
    "tags": []
   },
   "source": [
    "---\n",
    "\n",
    "\n",
    "\n",
    "\n",
    "*Have questions or comments? Visit the [course discussion forum](https://www.kaggle.com/learn/python/discussion) to chat with other learners.*"
   ]
  }
 ],
 "metadata": {
  "kernelspec": {
   "display_name": "Python 3",
   "language": "python",
   "name": "python3"
  },
  "language_info": {
   "codemirror_mode": {
    "name": "ipython",
    "version": 3
   },
   "file_extension": ".py",
   "mimetype": "text/x-python",
   "name": "python",
   "nbconvert_exporter": "python",
   "pygments_lexer": "ipython3",
   "version": "3.7.12"
  },
  "papermill": {
   "default_parameters": {},
   "duration": 10.26794,
   "end_time": "2022-09-25T14:27:43.819673",
   "environment_variables": {},
   "exception": null,
   "input_path": "__notebook__.ipynb",
   "output_path": "__notebook__.ipynb",
   "parameters": {},
   "start_time": "2022-09-25T14:27:33.551733",
   "version": "2.3.4"
  }
 },
 "nbformat": 4,
 "nbformat_minor": 5
}
